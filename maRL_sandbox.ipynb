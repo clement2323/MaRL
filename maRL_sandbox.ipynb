{
 "cells": [
  {
   "cell_type": "code",
   "execution_count": 5,
   "metadata": {
    "id": "Ge3pFEexRsNn"
   },
   "outputs": [],
   "source": [
    "import importlib\n",
    "\n",
    "import marl_env\n",
    "import marl_agents\n",
    "import marl_models\n",
    "import marl_evaluations\n",
    "importlib.reload(marl_env)\n",
    "importlib.reload(marl_agents)\n",
    "importlib.reload(marl_models)\n",
    "importlib.reload(marl_evaluations)\n",
    "\n",
    "from marl_env import MarelleBoard, MarelleGymEnv, MarelleGame\n",
    "from marl_models import FCModel, ConvModel\n",
    "from marl_agents import RandomAgent, BetterRandomAgent, SingleModelReinforce, ReinforceAgent, MarelleAgent\n",
    "from marl_train import train_agent, adversarial_training\n",
    "from marl_evaluations import evaluate\n",
    "\n",
    "import progressbar as pb\n",
    "import numpy as np \n",
    "import os\n",
    "import cProfile\n",
    "\n",
    "import matplotlib.pyplot as plt\n",
    "import seaborn as sns\n",
    "import pandas as pd\n",
    "import wandb\n",
    "\n",
    "import torch\n",
    "import torch.nn as nn\n",
    "\n",
    "def load_model_wandb(model_name, run_id, model):\n",
    "    wandb.restore(model_name, run_path=f'clement-guillo/marl/{run_id}',root= \"models/temp/\")\n",
    "    model.load_state_dict(torch.load(f'models/temp/{model_name}'))\n",
    "    os.remove(f'models/temp/{model_name}')\n",
    "    return(model)\n",
    "\n",
    "def load_model_local(model_name, model):\n",
    "    model.load_state_dict(torch.load(f'models/{model_name}'))\n",
    "    return(model)\n",
    "\n",
    "env = MarelleGymEnv(end_after_place_phase=False)\n",
    "\n",
    "# Initiate Models\n",
    "einstein_conv_model_1 = ConvModel(env.N_TOTAL_ACTIONS)\n",
    "einstein_conv_model_2 = ConvModel(env.N_TOTAL_ACTIONS)\n",
    "\n",
    "# Restore models from previous trainings\n",
    "# einstein_conv_model=load_model_local(\"3w3zmj5x_SingleModel_Conv_500epochs_1000trajectories_20201116_55%win.pt\",ConvModel(env.N_TOTAL_ACTIONS))\n",
    "\n",
    "# Agents\n",
    "einstein_conv_1 = SingleModelReinforce(env=env, model=einstein_conv_model_1, lr=0.0001, win_reward=1, defeat_reward=-1, capture_reward=0, captured_reward=0, epsilon=0.1, gamma=1)\n",
    "einstein_conv_2 = SingleModelReinforce(env=env, model=einstein_conv_model_2, lr=0.0001, win_reward=1, defeat_reward=-1, capture_reward=0, captured_reward=0, epsilon=0.1, gamma=1)\n",
    "\n",
    "# Opponents\n",
    "evaluate_agent=BetterRandomAgent(env)\n",
    "\n",
    "adversarial_training(env,\n",
    "    n_trajectories = 10,\n",
    "    first_agent= einstein_conv_1,\n",
    "    second_agent= einstein_conv_2,      \n",
    "    evaluate_agent = evaluate_agent,\n",
    "    log_training = False,\n",
    "    save_model_freq = 999999,\n",
    "    n_par_alternance = 10,\n",
    "    n_dizaine_epochs = 5\n",
    ")"
   ]
  }
 ],
 "metadata": {
  "colab": {
   "collapsed_sections": [],
   "name": "maRL_environment",
   "provenance": []
  },
  "kernelspec": {
   "display_name": "Python 3",
   "language": "python",
   "name": "python3"
  },
  "varInspector": {
   "cols": {
    "lenName": 16,
    "lenType": 16,
    "lenVar": 40
   },
   "kernels_config": {
    "python": {
     "delete_cmd_postfix": "",
     "delete_cmd_prefix": "del ",
     "library": "var_list.py",
     "varRefreshCmd": "print(var_dic_list())"
    },
    "r": {
     "delete_cmd_postfix": ") ",
     "delete_cmd_prefix": "rm(",
     "library": "var_list.r",
     "varRefreshCmd": "cat(var_dic_list()) "
    }
   },
   "types_to_exclude": [
    "module",
    "function",
    "builtin_function_or_method",
    "instance",
    "_Feature"
   ],
   "window_display": true
  }
 },
 "nbformat": 4,
 "nbformat_minor": 1
}