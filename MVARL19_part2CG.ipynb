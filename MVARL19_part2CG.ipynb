{
 "cells": [
  {
   "cell_type": "markdown",
   "metadata": {
    "colab_type": "text",
    "id": "XJ_s4_nhhiyo"
   },
   "source": [
    "# Reinforcement Learning with Function Approximation"
   ]
  },
  {
   "cell_type": "code",
   "execution_count": 3,
   "metadata": {
    "colab": {},
    "colab_type": "code",
    "id": "WTOWkpoCiLmL"
   },
   "outputs": [],
   "source": [
    "#!pip install torch==1.2.0 torchvision pyvirtualdisplay matplotlib seaborn pandas numpy pathlib gym\n",
    "#!sudo apt-get install xvfb\n",
    "!git clone https://github.com/rlgammazero/mvarl_hands_on.git > /dev/null 2>&1\n",
    "!cd mvarl_hands_on && git pull origin master > /dev/null 2>&1\n"
   ]
  },
  {
   "cell_type": "code",
   "execution_count": 4,
   "metadata": {
    "colab": {},
    "colab_type": "code",
    "id": "gCsyvh4NhjUc"
   },
   "outputs": [],
   "source": [
    "from pathlib import Path\n",
    "import base64\n",
    "import torch\n",
    "import torch.nn as nn\n",
    "import torch.nn.functional as F \n",
    "from torch import optim\n",
    "\n",
    "import numpy as np\n",
    "import pandas as pd\n",
    "import itertools\n",
    "import seaborn as sns\n",
    "import math\n",
    "\n",
    "import gym\n",
    "from gym.wrappers import Monitor\n",
    "from pprint import pprint\n",
    "from pyvirtualdisplay import Display\n",
    "from IPython import display as ipythondisplay\n",
    "from IPython.display import clear_output\n",
    "\n",
    "\n",
    "# The following code is will be used to visualize the environments.\n",
    "\n",
    "def show_video(directory):\n",
    "    html = []\n",
    "    for mp4 in Path(directory).glob(\"*.mp4\"):\n",
    "        video_b64 = base64.b64encode(mp4.read_bytes())\n",
    "        html.append('''<video alt=\"{}\" autoplay \n",
    "                      loop controls style=\"height: 400px;\">\n",
    "                      <source src=\"data:video/mp4;base64,{}\" type=\"video/mp4\" />\n",
    "                 </video>'''.format(mp4, video_b64.decode('ascii')))\n",
    "    ipythondisplay.display(ipythondisplay.HTML(data=\"<br>\".join(html)))\n",
    "    \n",
    "\n",
    "def make_seed(seed):\n",
    "    np.random.seed(seed=seed)\n",
    "    torch.manual_seed(seed=seed)\n",
    "\n",
    "# It does not seem to work well   \n",
    "#display = Display(visible=0, size=(1400, 900))\n",
    "#display.start();\n",
    "\n"
   ]
  },
  {
   "cell_type": "markdown",
   "metadata": {
    "colab_type": "text",
    "id": "ThnSNaSMhnXa"
   },
   "source": [
    "PyTorch is a Python package that provides two high-level features:\n",
    "- Tensor computation (like NumPy) with strong GPU acceleration\n",
    "- Deep neural networks built on a tape-based autograd system\n",
    "\n",
    "At a granular level, PyTorch is a library that consists of the following components:\n",
    "\n",
    "| Component | Description |\n",
    "| ---- | --- |\n",
    "| [**torch**](https://pytorch.org/docs/stable/torch.html) | a Tensor library like NumPy, with strong GPU support |\n",
    "| [**torch.autograd**](https://pytorch.org/docs/stable/autograd.html) | a tape-based automatic differentiation library that supports all differentiable Tensor operations in torch |\n",
    "| [**torch.jit**](https://pytorch.org/docs/stable/jit.html) | a compilation stack (TorchScript) to create serializable and optimizable models from PyTorch code  |\n",
    "| [**torch.nn**](https://pytorch.org/docs/stable/nn.html) | a neural networks library deeply integrated with autograd designed for maximum flexibility |\n",
    "| [**torch.multiprocessing**](https://pytorch.org/docs/stable/multiprocessing.html) | Python multiprocessing, but with magical memory sharing of torch Tensors across processes. Useful for data loading and Hogwild training |\n",
    "| [**torch.utils**](https://pytorch.org/docs/stable/data.html) | DataLoader and other utility functions for convenience |\n",
    "\n",
    "\n",
    "**Tutorials on PyTorch:** https://pytorch.org/tutorials/\n"
   ]
  },
  {
   "cell_type": "markdown",
   "metadata": {
    "colab_type": "text",
    "id": "WlZQl9TjhuWY"
   },
   "source": [
    "## OpenAI gym\n",
    "We will consider environments provided by OpenAI gym\n",
    "This library provides a large number of environments to test RL algorithm.\n",
    "\n",
    "We will focus on the **CartPole-v1** environment in this lab but we encourage you to also test your code on:\n",
    "* **Acrobot-v1**\n",
    "* **MountainCar-v0**\n",
    "\n",
    "| Env Info          \t| CartPole-v1 \t| Acrobot-v1                \t| MountainCar-v0 \t|\n",
    "|-------------------\t|-------------\t|---------------------------\t|----------------\t|\n",
    "| **Observation Space** \t| Box(4)      \t| Box(6)                    \t| Box(2)         \t|\n",
    "| **Action Space**      \t| Discrete(2) \t| Discrete(3)               \t| Discrete(3)    \t|\n",
    "| **Rewards**           \t| 1 per step  \t| -1 if not terminal else 0 \t| -1 per step    \t|\n",
    "\n",
    "A gym environment is loaded with the command `env = gym.make(env_id)`. Once the environment is created, you need to reset it with `observation = env.reset()` and then you can interact with it using the method step: `observation, reward, done, info = env.step(action)`."
   ]
  },
  {
   "cell_type": "code",
   "execution_count": 5,
   "metadata": {
    "colab": {},
    "colab_type": "code",
    "id": "3wfHvW9Hh4H3"
   },
   "outputs": [],
   "source": [
    "# We load CartPole-v1\n",
    "env = gym.make('CartPole-v1')\n",
    "#env = gym.make('MountainCar-v0')\n",
    "#env = gym.make('Acrobot-v1')\n",
    "# We wrap it in order to save our experiment on a file.\n",
    "env = Monitor(env, \"./gym-results\", force=True)"
   ]
  },
  {
   "cell_type": "code",
   "execution_count": 6,
   "metadata": {},
   "outputs": [
    {
     "data": {
      "text/html": [
       "<video alt=\"gym-results/openaigym.video.0.4144.video000000.mp4\" autoplay \n",
       "                      loop controls style=\"height: 400px;\">\n",
       "                      <source src=\"data:video/mp4;base64,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\" type=\"video/mp4\" />\n",
       "                 </video>"
      ],
      "text/plain": [
       "<IPython.core.display.HTML object>"
      ]
     },
     "metadata": {},
     "output_type": "display_data"
    }
   ],
   "source": [
    "done = False\n",
    "state = env.reset()\n",
    "while not done:\n",
    "    action = env.action_space.sample()\n",
    "    state, reward, done, info = env.step(action) #reward 0 or 1\n",
    "env.close()\n",
    "show_video(\"./gym-results\")"
   ]
  },
  {
   "cell_type": "markdown",
   "metadata": {
    "colab_type": "text",
    "id": "sd2xLlapilZE"
   },
   "source": [
    "## REINFORCE\n",
    "\n",
    "**Q1: Implement the REINFORCE algorithm**\n",
    "\n",
    "The code is splitted in two parts:\n",
    "* The Model class defines the architecture of our neural network which takes as input the current state and returns the policy,\n",
    "* The Agent class is responsible for the training and evaluation procedure. You will need to code the method `optimize_model`."
   ]
  },
  {
   "cell_type": "code",
   "execution_count": 7,
   "metadata": {
    "colab": {},
    "colab_type": "code",
    "id": "iwsQ8NSPiCz7"
   },
   "outputs": [],
   "source": [
    "class Model(nn.Module):\n",
    "    def __init__(self, dim_observation, n_actions):\n",
    "        super(Model, self).__init__()\n",
    "        \n",
    "        self.n_actions = n_actions\n",
    "        self.dim_observation = dim_observation\n",
    "        \n",
    "        self.net = nn.Sequential(\n",
    "            nn.Linear(in_features=self.dim_observation, out_features=16),\n",
    "            nn.ReLU(),\n",
    "            nn.Linear(in_features=16, out_features=8),\n",
    "            nn.ReLU(),\n",
    "            nn.Linear(in_features=8, out_features=self.n_actions),\n",
    "            nn.Softmax(dim=0)\n",
    "        )\n",
    "        \n",
    "    def forward(self, state):\n",
    "        return self.net(state)\n",
    "    \n",
    "    def select_action(self, state):\n",
    "        action = torch.multinomial(self.forward(state), 1)\n",
    "        return action"
   ]
  },
  {
   "cell_type": "markdown",
   "metadata": {
    "colab_type": "text",
    "id": "xrgtQMYbiwX7"
   },
   "source": [
    "Create the model based on the properties of the MDP you want to solve"
   ]
  },
  {
   "cell_type": "code",
   "execution_count": 8,
   "metadata": {
    "colab": {},
    "colab_type": "code",
    "id": "S6ieL_KJirq9"
   },
   "outputs": [
    {
     "name": "stdout",
     "output_type": "stream",
     "text": [
      "The model we created correspond to:\n",
      "Model(\n",
      "  (net): Sequential(\n",
      "    (0): Linear(in_features=2, out_features=16, bias=True)\n",
      "    (1): ReLU()\n",
      "    (2): Linear(in_features=16, out_features=8, bias=True)\n",
      "    (3): ReLU()\n",
      "    (4): Linear(in_features=8, out_features=3, bias=True)\n",
      "    (5): Softmax(dim=0)\n",
      "  )\n",
      ")\n"
     ]
    }
   ],
   "source": [
    "#env_id = 'CartPole-v1'\n",
    "env_id ='MountainCar-v0'\n",
    "env = gym.make(env_id)\n",
    "model = Model(env.observation_space.shape[0], env.action_space.n)\n",
    "print(f'The model we created correspond to:\\n{model}')"
   ]
  },
  {
   "cell_type": "markdown",
   "metadata": {
    "colab_type": "text",
    "id": "WwrVF9kti1e-"
   },
   "source": [
    "We provide a base agent that you will need to extend in the next cell with your implementation of `optimize_model`."
   ]
  },
  {
   "cell_type": "code",
   "execution_count": 9,
   "metadata": {
    "colab": {},
    "colab_type": "code",
    "id": "DWvKO66ii1zh"
   },
   "outputs": [],
   "source": [
    "class BaseAgent:\n",
    "    \n",
    "    def __init__(self, config):\n",
    "        self.config = config\n",
    "        self.env = gym.make(config['env_id'])\n",
    "        make_seed(config['seed'])\n",
    "        self.env.seed(config['seed'])\n",
    "        self.model = Model(self.env.observation_space.shape[0], self.env.action_space.n)\n",
    "        self.gamma = config['gamma']\n",
    "        self.monitor=config['monitor']\n",
    "        \n",
    "        # the optimizer used by PyTorch (Stochastic Gradient, Adagrad, Adam, etc.)\n",
    "        self.optimizer = torch.optim.Adam(self.model.net.parameters(), lr=config['learning_rate'])\n",
    "        self.monitor_env = Monitor(env, \"./gym-results\", force=True, video_callable=lambda episode: True)\n",
    "    \n",
    "    # Method to implement\n",
    "    def _compute_returns(self, rewards):\n",
    "        \"\"\"Returns the cumulative discounted rewards at each time step\n",
    "        \n",
    "        Parameters\n",
    "        ----------\n",
    "        rewards : array\n",
    "            The array of rewards of one episode\n",
    "\n",
    "        Returns\n",
    "        -------\n",
    "        array\n",
    "            The cumulative discounted rewards at each time step\n",
    "            \n",
    "        Example\n",
    "        -------\n",
    "        for rewards=[1, 2, 3] this method outputs [1 + 2 * gamma + 3 * gamma**2, 2 + 3 * gamma, 3] \n",
    "        \"\"\"\n",
    "\n",
    "      \n",
    "        raise NotImplementedError\n",
    "    # Method to implement\n",
    "    def optimize_model(self, n_trajectories):\n",
    "        \"\"\"Perform a gradient update using n_trajectories\n",
    "\n",
    "        Parameters\n",
    "        ----------\n",
    "        n_trajectories : int\n",
    "            The number of trajectories used to approximate the expectation card(D) in the formula above\n",
    "\n",
    "        \n",
    "        \n",
    "        Returns\n",
    "        -------\n",
    "        array\n",
    "            The cumulative discounted rewards of each trajectory\n",
    "        \"\"\"\n",
    "        \n",
    "        raise NotImplementedError\n",
    "    \n",
    "    def train(self, n_trajectories, n_update):\n",
    "        \"\"\"Training method\n",
    "\n",
    "        Parameters\n",
    "        ----------\n",
    "        n_trajectories : int\n",
    "            The number of trajectories used to approximate the expected gradient\n",
    "        n_update : int\n",
    "            The number of gradient updates\n",
    "            \n",
    "        \"\"\"\n",
    "        rewards = []\n",
    "        for episode in range(n_update):\n",
    "            rewards.append(self.optimize_model(n_trajectories))\n",
    "            \n",
    "            if (episode+1)%5 == 0:\n",
    "                print(f'Episode {episode + 1}/{n_update}: rewards {round(np.mean(rewards[-1]), 2)} +/- {round(np.std(rewards[-1]), 2)}')\n",
    "        \n",
    "        # Plotting\n",
    "        r = pd.DataFrame((itertools.chain(*(itertools.product([i], rewards[i]) for i in range(len(rewards))))), columns=['Epoch', 'Reward'])\n",
    "        sns.lineplot(x=\"Epoch\", y=\"Reward\", data=r, ci='sd');\n",
    "        \n",
    "    def evaluate(self, render=False):\n",
    "        \"\"\"Evaluate the agent on a single trajectory            \n",
    "        \"\"\"\n",
    "        torch.no_grad()\n",
    "        \n",
    "        if self.monitor:\n",
    "            observation = self.monitor_env.reset()\n",
    "        else:\n",
    "            observation = self.env.reset()\n",
    "        \n",
    "        observation = torch.tensor(observation, dtype=torch.float)\n",
    "        reward_episode = 0\n",
    "        done = False\n",
    "        \n",
    "        while not done:\n",
    "            action = self.model.select_action(observation)\n",
    "            \n",
    "            if self.monitor:\n",
    "                observation, reward, done, info = self.monitor_env.step(int(action))\n",
    "            else:\n",
    "                observation, reward, done, info = self.env.step(int(action))\n",
    "          \n",
    "            observation = torch.tensor(observation, dtype=torch.float)\n",
    "            reward_episode += reward\n",
    "        \n",
    "        self.monitor_env.close()\n",
    "        if render:\n",
    "            show_video(\"./gym-results\")\n",
    "            print(f'Reward: {reward_episode}')\n",
    "        print(f'Reward: {reward_episode}')"
   ]
  },
  {
   "cell_type": "markdown",
   "metadata": {
    "colab_type": "text",
    "id": "Y6mhw_A3i_8R"
   },
   "source": [
    "Finally you can implement your agent"
   ]
  },
  {
   "cell_type": "code",
   "execution_count": 10,
   "metadata": {
    "colab": {},
    "colab_type": "code",
    "id": "lbjP-7WHi9oc"
   },
   "outputs": [],
   "source": [
    "class REINFORCE(BaseAgent):\n",
    "    \n",
    "    def _compute_returns(self, rewards):\n",
    "        \n",
    "        returns=0\n",
    "        for i in range(len(rewards)):\n",
    "            returns=self.gamma*returns+rewards[-(i+1)]\n",
    "        return(returns)\n",
    "               \n",
    "    def optimize_model(self, n_trajectories):\n",
    "      \n",
    "        reward_trajectories=[]\n",
    "        list_sum_proba=[]\n",
    "        \n",
    "        #Here I compute n_trajectories trajectories in order to calculate the MonteCarlo estimate of the J function\n",
    "        for i in range(n_trajectories):\n",
    "            done = False\n",
    "            rewards=[]\n",
    "            \n",
    "            if self.monitor:\n",
    "                state=self.monitor_env.reset()\n",
    "            else:\n",
    "                state=self.env.reset()\n",
    "            \n",
    "            \n",
    "            state=torch.tensor(state, dtype=torch.float)\n",
    "            \n",
    "            sum_lprob=0\n",
    "            while not done:\n",
    "                \n",
    "                proba=self.model.forward(state)\n",
    "                action=self.model.select_action(state)\n",
    "                sum_lprob+= proba[action].log()\n",
    "                \n",
    "                if self.monitor:\n",
    "                    state, reward, done, info =self.monitor_env.step(int(action))\n",
    "                else:\n",
    "                    state, reward, done, info =self.env.step(int(action))\n",
    "               \n",
    "                rewards.append(reward)\n",
    "                \n",
    "                state=torch.tensor(state, dtype=torch.float)\n",
    "            \n",
    "            list_sum_proba.append(sum_lprob)\n",
    "            reward_trajectories.append(self._compute_returns(rewards))\n",
    "        \n",
    "        \n",
    "        loss=0\n",
    "        for i in range(len(list_sum_proba)):\n",
    "            loss+=-list_sum_proba[i]*reward_trajectories[i]\n",
    "        \n",
    "        loss=loss/len(list_sum_proba)\n",
    "       \n",
    "        # The following lines take care of the gradient descent step for the variable loss\n",
    "        # that you need to compute.\n",
    "        \n",
    "        # Discard previous gradients\n",
    "        self.optimizer.zero_grad()\n",
    "        # Compute the gradient \n",
    "        loss.backward()\n",
    "        # Do the gradient descent step\n",
    "        self.optimizer.step()\n",
    "        \n",
    "        return reward_trajectories\n",
    "    "
   ]
  },
  {
   "cell_type": "code",
   "execution_count": 11,
   "metadata": {
    "colab": {},
    "colab_type": "code",
    "id": "vZAo0K8VjCYj"
   },
   "outputs": [
    {
     "name": "stdout",
     "output_type": "stream",
     "text": [
      "Current config is:\n",
      "{'env_id': 'CartPole-v1',\n",
      " 'gamma': 1.0,\n",
      " 'learning_rate': 0.01,\n",
      " 'monitor': False,\n",
      " 'seed': 42}\n"
     ]
    }
   ],
   "source": [
    "env_id = 'CartPole-v1'\n",
    "#env_id = 'MountainCar-v0'\n",
    "#env_id = 'Acrobot-v1'\n",
    "learning_rate = 0.01\n",
    "gamma = 1.0\n",
    "seed = 42\n",
    "monitor=False\n",
    "\n",
    "config = {\n",
    "    'env_id': env_id,\n",
    "    'learning_rate': learning_rate,\n",
    "    'seed': seed,\n",
    "    'gamma': gamma,\n",
    "    'monitor': monitor\n",
    "}\n",
    "\n",
    "print(\"Current config is:\")\n",
    "pprint(config)\n"
   ]
  },
  {
   "cell_type": "code",
   "execution_count": 12,
   "metadata": {
    "colab": {},
    "colab_type": "code",
    "id": "D4Ag7E3qjJas"
   },
   "outputs": [
    {
     "name": "stdout",
     "output_type": "stream",
     "text": [
      "Episode 5/70: rewards 25.18 +/- 12.09\n",
      "Episode 10/70: rewards 22.68 +/- 9.96\n",
      "Episode 15/70: rewards 28.02 +/- 14.81\n",
      "Episode 20/70: rewards 30.58 +/- 22.13\n",
      "Episode 25/70: rewards 38.22 +/- 20.97\n",
      "Episode 30/70: rewards 46.32 +/- 33.35\n",
      "Episode 35/70: rewards 52.38 +/- 26.61\n",
      "Episode 40/70: rewards 106.92 +/- 58.62\n",
      "Episode 45/70: rewards 167.25 +/- 74.06\n",
      "Episode 50/70: rewards 294.68 +/- 114.9\n",
      "Episode 55/70: rewards 344.05 +/- 117.55\n",
      "Episode 60/70: rewards 301.65 +/- 97.71\n",
      "Episode 65/70: rewards 339.18 +/- 88.96\n",
      "Episode 70/70: rewards 485.6 +/- 36.33\n"
     ]
    },
    {
     "data": {
      "image/png": "[encoded data removed]",
      "text/plain": [
       "<Figure size 432x288 with 1 Axes>"
      ]
     },
     "metadata": {
      "needs_background": "light"
     },
     "output_type": "display_data"
    }
   ],
   "source": [
    "agent = REINFORCE(config)\n",
    "agent.train(n_trajectories=40, n_update=70)"
   ]
  },
  {
   "cell_type": "markdown",
   "metadata": {
    "colab_type": "text",
    "id": "q3_dvBl8jUc3"
   },
   "source": [
    "Evaluate the agent over multiple episodes"
   ]
  },
  {
   "cell_type": "code",
   "execution_count": 13,
   "metadata": {
    "colab": {},
    "colab_type": "code",
    "id": "aPyqbIiCjO_-"
   },
   "outputs": [
    {
     "name": "stdout",
     "output_type": "stream",
     "text": [
      "Reward: 462.0\n"
     ]
    }
   ],
   "source": [
    "agent.evaluate(render=False)\n"
   ]
  },
  {
   "cell_type": "markdown",
   "metadata": {
    "colab_type": "text",
    "id": "LHM2_CRFkNoA"
   },
   "source": [
    "## Policy Evaluation as Supervised Learning\n",
    "\n",
    "**Q2: Implement batched gradient algorithm**\n",
    "\n",
    "Define network for Q-function (ValueNetwork) and policy (ActorNetwork)\n"
   ]
  },
  {
   "cell_type": "code",
   "execution_count": 14,
   "metadata": {
    "colab": {},
    "colab_type": "code",
    "id": "W9sxcz_eKF1M"
   },
   "outputs": [],
   "source": [
    "class ValueNetwork(nn.Module):\n",
    "\n",
    "    def __init__(self, input_size, hidden_size, output_size):\n",
    "        super(ValueNetwork, self).__init__()\n",
    "        self.fc1 = nn.Linear(input_size, hidden_size)\n",
    "        self.fc2 = nn.Linear(hidden_size, hidden_size)\n",
    "        self.fc3 = nn.Linear(hidden_size, output_size)\n",
    "\n",
    "    def forward(self, x):\n",
    "        out = F.relu(self.fc1(x))\n",
    "        out = F.relu(self.fc2(out))\n",
    "        out = self.fc3(out)\n",
    "        return out\n",
    "    \n",
    "    def predict(self, x):\n",
    "        return self(x).detach().numpy()[0]"
   ]
  },
  {
   "cell_type": "code",
   "execution_count": 15,
   "metadata": {
    "colab": {},
    "colab_type": "code",
    "id": "1GKxKzs5khxM"
   },
   "outputs": [],
   "source": [
    "class ActorNetwork(nn.Module):\n",
    "\n",
    "    def __init__(self, input_size, hidden_size, action_size):\n",
    "        super(ActorNetwork, self).__init__()\n",
    "        self.fc1 = nn.Linear(input_size, hidden_size)\n",
    "        self.fc2 = nn.Linear(hidden_size, hidden_size)\n",
    "        self.fc3 = nn.Linear(hidden_size, action_size)\n",
    "\n",
    "    def forward(self, x):\n",
    "        out = F.relu(self.fc1(x))\n",
    "        out = F.relu(self.fc2(out))\n",
    "        out = F.softmax(self.fc3(out), dim=-1)\n",
    "        return out\n",
    "    \n",
    "    def select_action(self, x):\n",
    "        return torch.multinomial(self(x), 1).detach().numpy()"
   ]
  },
  {
   "cell_type": "markdown",
   "metadata": {
    "colab_type": "text",
    "id": "aBpNVkaAKLQz"
   },
   "source": [
    "Implement your (batched) gradient algorithm\n",
    "\n"
   ]
  },
  {
   "cell_type": "code",
   "execution_count": 17,
   "metadata": {
    "colab": {},
    "colab_type": "code",
    "id": "QQ4Wu5B5KIIO"
   },
   "outputs": [],
   "source": [
    "class EvalAgent:\n",
    "\n",
    "    def __init__(self, config, policy):\n",
    "        self.config = config\n",
    "        self.env = gym.make(config['env_id'])\n",
    "        make_seed(config['seed'])\n",
    "        self.env.seed(config['seed'])\n",
    "        self.monitor_env = Monitor(self.env, \"./gym-results\", force=True, video_callable=lambda episode: True)\n",
    "        self.gamma = config['gamma']\n",
    "        self.policy = policy\n",
    "\n",
    "        # Our network\n",
    "        self.value_network = ValueNetwork(self.env.observation_space.shape[0], 16, 1)\n",
    "\n",
    "        # optimizers\n",
    "        self.value_network_optimizer = optim.RMSprop(self.value_network.parameters(), \n",
    "                                                   lr=config['value_network']['learning_rate'])\n",
    "    \n",
    "    def _returns_advantages(self, rewards, dones, next_value):\n",
    "        \"\"\"Returns the cumulative discounted rewards at each time step\n",
    "\n",
    "        Parameters\n",
    "        ----------\n",
    "        rewards : array\n",
    "            An array of shape (batch_size,) containing the rewards given by the env\n",
    "        dones : array\n",
    "            An array of shape (batch_size,) containing the done bool indicator given by the env\n",
    "        next_value : float\n",
    "            The value of the next state given by the value network\n",
    "\n",
    "        Returns\n",
    "        -------\n",
    "        \n",
    "        \n",
    "        \n",
    "        returns : array\n",
    "            The cumulative discounted rewards\n",
    "        \"\"\"\n",
    "        #Backward calculation of the sum of rewards\n",
    "        sum_rewards=np.ones(len(rewards))\n",
    "        cum_reward=next_value\n",
    "        for i in range(len(rewards)):\n",
    "            cum_reward=self.gamma*cum_reward+rewards[-(i+1)]\n",
    "            sum_rewards[-(i+1)]=cum_reward\n",
    "            \n",
    "            #If the environment fails then we start from 0\n",
    "            if dones[-(i+1)]: \n",
    "                cum_reward=0\n",
    "        \n",
    "        return(sum_rewards)\n",
    "           \n",
    "        \n",
    "        \n",
    "        \n",
    "    def optimize_model(self, states, actions, returns): #, advantages):\n",
    "        \"\"\"Perform a gradient update using provided transitions\n",
    "\n",
    "        Parameters\n",
    "        ----------\n",
    "        observations : array\n",
    "            The observations\n",
    "        actions : array\n",
    "            The actions\n",
    "        returns : array\n",
    "            The returns from each state\n",
    "\n",
    "        Returns\n",
    "        -------\n",
    "        loss_value: int\n",
    "            The loss value\n",
    "        \"\"\"\n",
    "        actions = F.one_hot(torch.tensor(actions), self.env.action_space.n)\n",
    "        returns = torch.tensor(returns, dtype=torch.float)\n",
    "        states  = torch.tensor(states, dtype=torch.float)\n",
    "                \n",
    "        network_pred=[self.value_network(state) for state in states]\n",
    "         \n",
    "        self.value_network_optimizer.zero_grad()\n",
    "        \n",
    "        #The loss will contain the RMSE between the value from the network and the value computed as the discounted sum of rewards\n",
    "        loss=0 \n",
    "        \n",
    "        for i in range(len(network_pred)):\n",
    "            loss+=(network_pred[i]-returns[i])**2\n",
    "            loss=loss/len(network_pred)\n",
    "            \n",
    "        loss.backward()\n",
    "        \n",
    "        self.value_network_optimizer.step()\n",
    "        \n",
    "        return loss\n",
    "    \n",
    "    def training_batch(self, epochs, batch_size):\n",
    "        \"\"\"Perform a training by batch\n",
    "\n",
    "        Parameters\n",
    "        ----------\n",
    "        epochs : int\n",
    "            Number of epochs\n",
    "        batch_size : int\n",
    "            The size of a batch\n",
    "        \"\"\"\n",
    "        episode_count = 0\n",
    "        actions = np.empty((batch_size,), dtype=np.int)\n",
    "        dones = np.empty((batch_size,), dtype=np.bool)\n",
    "        rewards, values = np.empty((2, batch_size), dtype=np.float)\n",
    "        observations = np.empty((batch_size,) + self.env.observation_space.shape, dtype=np.float)\n",
    "        observation = torch.tensor(self.env.reset(),dtype=torch.float)\n",
    "        mse_test = []\n",
    "\n",
    "        for epoch in range(epochs):\n",
    "            # Lets collect one batch\n",
    "            \n",
    "            #intialization :\n",
    "            observation=torch.tensor(self.env.reset(),dtype=torch.float)\n",
    "            \n",
    "            for i in range(batch_size):\n",
    "                \n",
    "                values[i] =  self.value_network.predict(observation)\n",
    "                actions[i] = self.policy.select_action(observation)\n",
    "                observations[i] = observation \n",
    "                \n",
    "                observation, reward, done, b=self.env.step(int(actions[i]))\n",
    "                observation=torch.tensor(observation,dtype=torch.float)\n",
    "                \n",
    "                # step\n",
    "                \n",
    "                dones[i]=done\n",
    "                rewards[i]=reward\n",
    "\n",
    "                if dones[i]:\n",
    "                    observation = torch.tensor(self.env.reset(),dtype=torch.float)\n",
    "\n",
    "            # If our episode didn't end on the last step we need to compute the value for the last state\n",
    "            if dones[-1]:\n",
    "                next_value = 0\n",
    "            else:\n",
    "                next_value = self.value_network.predict(observation) \n",
    "                \n",
    "\n",
    "            # Update episode_count\n",
    "            episode_count += sum(dones)\n",
    "\n",
    "            # Compute returns\n",
    "            returns = self._returns_advantages(rewards, dones, next_value)\n",
    "\n",
    "            # Learning step !\n",
    "            self.optimize_model(observations, actions, returns)\n",
    "\n",
    "            # Test it every 50 epochs\n",
    "            if epoch % 25 == 0 or epoch == epochs - 1:\n",
    "                L = []\n",
    "                for _ in range(10):\n",
    "                    obs_states, y_mc = self.evaluate()\n",
    "                    y_hat = [self.value_network.predict(torch.tensor(obs,dtype=torch.float)) for obs in obs_states]# compute prediction\n",
    "                    err = y_mc - y_hat\n",
    "                    mse = np.mean(err**2)\n",
    "                    L.append(mse.item())\n",
    "                mse_test.append(L)\n",
    "                print(f'Epoch {epoch}/{epochs}: MSE: {np.mean(mse)}')\n",
    "\n",
    "                observation = self.env.reset()\n",
    "\n",
    "        # Plotting\n",
    "        r = pd.DataFrame((itertools.chain(*(itertools.product([i], mse_test[i]) for i in range(len(mse_test))))), columns=['Epoch', 'MSE'])\n",
    "        sns.lineplot(x=\"Epoch\", y=\"MSE\", data=r, ci='sd');\n",
    "\n",
    "        print(f'The trainnig was done over a total of {episode_count} episodes')\n",
    "\n",
    "    def evaluate(self, render=False):\n",
    "        \"\"\"Returns the observations and the estimated V-function (using first visit Monte-Carlo)\n",
    "\n",
    "        Parameters\n",
    "        ----------\n",
    "        rewards : array\n",
    "            An array of shape (batch_size,) containing the rewards given by the env\n",
    "        dones : array\n",
    "            An array of shape (batch_size,) containing the done bool indicator given by the env\n",
    "        values : array\n",
    "            An array of shape (batch_size,) containing the values given by the value network\n",
    "        next_value : float\n",
    "            The value of the next state given by the value network\n",
    "\n",
    "        Returns\n",
    "        -------\n",
    "        states : array\n",
    "            Observations\n",
    "        returns : array\n",
    "            The estimate value function of each state\n",
    "        \"\"\"\n",
    "        env = self.monitor_env if render else self.env\n",
    "        observation = env.reset()\n",
    "        states = [observation.copy()]\n",
    "        rewards= []\n",
    "        observation = torch.tensor(observation, dtype=torch.float)\n",
    "        done = False\n",
    "        steps = 0\n",
    "\n",
    "        while not done:\n",
    "            action = self.policy.select_action(observation)\n",
    "            observation, reward, done, info = env.step(int(action))\n",
    "            for i in range(steps):\n",
    "                rewards[i] = rewards[i] + math.pow(self.gamma, steps-i)*reward\n",
    "            rewards.append(reward)\n",
    "            if not done:\n",
    "                states.append(observation.copy())\n",
    "            observation = torch.tensor(observation, dtype=torch.float)\n",
    "            steps += 1\n",
    "\n",
    "        env.close()\n",
    "        if render:\n",
    "            show_video(\"./gym-results\")\n",
    "            print(f'Reward: {reward_episode}')\n",
    "        states = np.array(states).reshape(-1, self.env.observation_space.shape[0])\n",
    "        returns = np.array(rewards).reshape(-1,1)\n",
    "        return states, returns"
   ]
  },
  {
   "cell_type": "markdown",
   "metadata": {
    "colab_type": "text",
    "id": "IY1VIUHLNKn3"
   },
   "source": [
    "Define configuration"
   ]
  },
  {
   "cell_type": "code",
   "execution_count": 18,
   "metadata": {
    "colab": {},
    "colab_type": "code",
    "id": "Fvc-7jXDNNkG"
   },
   "outputs": [
    {
     "name": "stdout",
     "output_type": "stream",
     "text": [
      "Current config_td is:\n",
      "{'env_id': 'CartPole-v1',\n",
      " 'gamma': 0.99,\n",
      " 'seed': 1,\n",
      " 'value_network': {'learning_rate': 0.001, 'reference': './CartPole_value.pt'}}\n"
     ]
    }
   ],
   "source": [
    "env_id = 'CartPole-v1'\n",
    "\n",
    "value_learning_rate = 0.001\n",
    "gamma = 0.99\n",
    "seed = 1\n",
    "\n",
    "config_td = {\n",
    "    'env_id': env_id,\n",
    "    'gamma': gamma,\n",
    "    'seed': seed,\n",
    "    'value_network': {'learning_rate': value_learning_rate, 'reference': './CartPole_value.pt'}\n",
    "}\n",
    "\n",
    "print(\"Current config_td is:\")\n",
    "pprint(config_td)\n"
   ]
  },
  {
   "cell_type": "markdown",
   "metadata": {
    "colab_type": "text",
    "id": "d2lRnaF3NPyy"
   },
   "source": [
    "Create policy"
   ]
  },
  {
   "cell_type": "code",
   "execution_count": 19,
   "metadata": {
    "colab": {},
    "colab_type": "code",
    "id": "NkbHK_lXNShg"
   },
   "outputs": [
    {
     "name": "stdout",
     "output_type": "stream",
     "text": [
      "pi(state) =  [0]\n"
     ]
    }
   ],
   "source": [
    "env = gym.make(config_td['env_id'])\n",
    "policy = ActorNetwork(env.observation_space.shape[0], 16, env.action_space.n)\n",
    "policy.load_state_dict(torch.load('./mvarl_hands_on/data/CartPole_actor.pt')) \n",
    "state = torch.tensor(np.array(env.reset(), dtype=np.float32))\n",
    "print(\"pi(state) = \", policy.select_action(state))\n",
    "del env"
   ]
  },
  {
   "cell_type": "markdown",
   "metadata": {
    "colab_type": "text",
    "id": "Y51M4EgtNU7Z"
   },
   "source": [
    "Run agent"
   ]
  },
  {
   "cell_type": "code",
   "execution_count": 20,
   "metadata": {
    "colab": {},
    "colab_type": "code",
    "id": "4PFvnYLnNGvX"
   },
   "outputs": [
    {
     "name": "stdout",
     "output_type": "stream",
     "text": [
      "Epoch 0/1000: MSE: 7038.722308171475\n",
      "Epoch 25/1000: MSE: 6988.897180425787\n",
      "Epoch 50/1000: MSE: 6930.282807147791\n",
      "Epoch 75/1000: MSE: 6842.953394354863\n",
      "Epoch 100/1000: MSE: 6723.910899671744\n",
      "Epoch 125/1000: MSE: 6572.673712953795\n",
      "Epoch 150/1000: MSE: 5232.65591801315\n",
      "Epoch 175/1000: MSE: 6145.106755734037\n",
      "Epoch 200/1000: MSE: 5901.694815647452\n",
      "Epoch 225/1000: MSE: 5682.06360680968\n",
      "Epoch 250/1000: MSE: 5386.213794994471\n",
      "Epoch 275/1000: MSE: 5056.513748786542\n",
      "Epoch 300/1000: MSE: 4705.727186002372\n",
      "Epoch 325/1000: MSE: 4070.287320308077\n",
      "Epoch 350/1000: MSE: 4120.981948772945\n",
      "Epoch 375/1000: MSE: 3770.026220167783\n",
      "Epoch 400/1000: MSE: 3418.7495578205076\n",
      "Epoch 425/1000: MSE: 3142.0657634483823\n",
      "Epoch 450/1000: MSE: 2784.952402193586\n",
      "Epoch 475/1000: MSE: 1896.877770147054\n",
      "Epoch 500/1000: MSE: 2246.236565371308\n",
      "Epoch 525/1000: MSE: 2133.982827386099\n",
      "Epoch 550/1000: MSE: 1840.222400012482\n",
      "Epoch 575/1000: MSE: 1477.9466576834752\n",
      "Epoch 600/1000: MSE: 1357.6955984396827\n",
      "Epoch 625/1000: MSE: 1144.5407320498218\n",
      "Epoch 650/1000: MSE: 949.1827611211754\n",
      "Epoch 675/1000: MSE: 826.8608202541064\n",
      "Epoch 700/1000: MSE: 694.8500358545973\n",
      "Epoch 725/1000: MSE: 659.000065599572\n",
      "Epoch 750/1000: MSE: 603.7440008794789\n",
      "Epoch 775/1000: MSE: 608.2563717610936\n",
      "Epoch 800/1000: MSE: 663.7698885057686\n",
      "Epoch 825/1000: MSE: 653.5660004760113\n",
      "Epoch 850/1000: MSE: 689.9663695318185\n",
      "Epoch 875/1000: MSE: 691.661676753869\n",
      "Epoch 900/1000: MSE: 737.9355821570136\n",
      "Epoch 925/1000: MSE: 781.0513553946694\n",
      "Epoch 950/1000: MSE: 742.4694588509078\n",
      "Epoch 975/1000: MSE: 791.9467711686749\n",
      "Epoch 999/1000: MSE: 697.7399807282662\n",
      "The trainnig was done over a total of 42 episodes\n"
     ]
    },
    {
     "data": {
      "image/png": "[encoded data removed]",
      "text/plain": [
       "<Figure size 432x288 with 1 Axes>"
      ]
     },
     "metadata": {
      "needs_background": "light"
     },
     "output_type": "display_data"
    }
   ],
   "source": [
    "agent = EvalAgent(config=config_td, policy=policy)\n",
    "agent.training_batch(epochs=1000, batch_size=256)\n"
   ]
  },
  {
   "cell_type": "markdown",
   "metadata": {
    "colab_type": "text",
    "id": "03as0wkuja2A"
   },
   "source": [
    "## Advantage Actor Critic (A2C)\n",
    "**Q3: Implement the A2C method**\n",
    "\n",
    "As usual we provide a structure you can use as starting point.\n",
    "\n",
    "\n",
    "\n",
    "**Note:** try to reuse previous parts of previous code.\n",
    "\n"
   ]
  },
  {
   "cell_type": "code",
   "execution_count": 25,
   "metadata": {
    "colab": {},
    "colab_type": "code",
    "id": "G4EmYpAsjhKh"
   },
   "outputs": [],
   "source": [
    "class A2CAgent:\n",
    "\n",
    "    def __init__(self, config):\n",
    "        self.config = config\n",
    "        self.env = gym.make(config['env_id'])\n",
    "        make_seed(config['seed'])\n",
    "        self.env.seed(config['seed'])\n",
    "        self.monitor_env = Monitor(self.env, \"./gym-results\", force=True, video_callable=lambda episode: True)\n",
    "        self.gamma = config['gamma']\n",
    "        \n",
    "        # Our two networks\n",
    "        self.value_network = ValueNetwork(self.env.observation_space.shape[0], 16, 1)\n",
    "        self.actor_network = ActorNetwork(self.env.observation_space.shape[0], 16, self.env.action_space.n)\n",
    "        \n",
    "        # Their optimizers\n",
    "        self.value_network_optimizer = optim.RMSprop(self.value_network.parameters(), lr=config['value_network']['learning_rate'])\n",
    "        self.actor_network_optimizer = optim.RMSprop(self.actor_network.parameters(), lr=config['actor_network']['learning_rate'])\n",
    "        \n",
    "    # Hint: use it during training_batch\n",
    "    def _returns_advantages(self, rewards, dones, values, next_value):\n",
    "        \"\"\"Returns the cumulative discounted rewards at each time step\n",
    "\n",
    "        Parameters\n",
    "        ----------\n",
    "        rewards : array\n",
    "            An array of shape (batch_size,) containing the rewards given by the env\n",
    "        dones : array\n",
    "            An array of shape (batch_size,) containing the done bool indicator given by the env\n",
    "        values : array\n",
    "            An array of shape (batch_size,) containing the values given by the value network\n",
    "        next_value : float\n",
    "            The value of the next state given by the value network\n",
    "        \n",
    "        Returns\n",
    "        -------\n",
    "        returns : array\n",
    "            The cumulative discounted rewards\n",
    "        advantages : array\n",
    "            The advantages\n",
    "        \"\"\"\n",
    "  \n",
    "        sum_rewards=torch.tensor(np.ones(len(rewards)),dtype=torch.float)\n",
    "        cum_reward=next_value\n",
    "        for i in range(len(rewards)):\n",
    "            cum_reward=self.gamma*cum_reward+rewards[-(i+1)]\n",
    "            sum_rewards[-(i+1)]=cum_reward\n",
    "            \n",
    "            if dones[-(i+1)]:\n",
    "                cum_reward=0\n",
    "        \n",
    "        advantages=[sum_rewards[i]-values[i] for i in range(len(sum_rewards))]\n",
    "        \n",
    "        return(sum_rewards,advantages)\n",
    "           \n",
    "        \n",
    "\n",
    "    def training_batch(self, epochs, batch_size):\n",
    "        \"\"\"Perform a training by batch\n",
    "\n",
    "        Parameters\n",
    "        ----------\n",
    "        epochs : int\n",
    "            Number of epochs\n",
    "        batch_size : int\n",
    "            The size of a batch\n",
    "        \"\"\"\n",
    "        episode_count = 0\n",
    "        actions = np.empty((batch_size,), dtype=np.int)\n",
    "        dones = np.empty((batch_size,), dtype=np.bool)\n",
    "        rewards,values = np.empty((2, batch_size), dtype=np.float)\n",
    "        observations = np.empty((batch_size,) + self.env.observation_space.shape, dtype=np.float)\n",
    "        rewards_test = []\n",
    "       \n",
    "        for epoch in range(epochs):\n",
    "            \n",
    "            observation = torch.tensor(self.env.reset(),dtype=torch.float)\n",
    "            \n",
    "            for i in range(batch_size):\n",
    "            # Lets collect one batch\n",
    "                \n",
    "                actions[i] = self.actor_network.select_action(observation)\n",
    "                observations[i] = observation \n",
    "                \n",
    "                # step\n",
    "                observation, reward, done, b=self.env.step(int(actions[i]))\n",
    "                observation=torch.tensor(observation,dtype=torch.float)\n",
    "                \n",
    "                dones[i]=done\n",
    "                rewards[i]=reward\n",
    "\n",
    "                if dones[i]:\n",
    "                    observation = torch.tensor(self.env.reset(),dtype=torch.float)\n",
    "\n",
    "            # If our episode didn't end on the last step we need to compute the value for the last state\n",
    "            if dones[-1]:\n",
    "                    next_value = 0\n",
    "            else:\n",
    "                    next_value = self.value_network.predict(observation) \n",
    "\n",
    "            values=[self.value_network(torch.tensor(observation,dtype=torch.float)) for observation in observations]\n",
    "            probs=[self.actor_network(torch.tensor(observation,dtype=torch.float)) for observation in observations]\n",
    "\n",
    "            # Update episode_count\n",
    "            episode_count += sum(dones)\n",
    "\n",
    "            # Compute returns and advantages\n",
    "            returns, advantages = self._returns_advantages(rewards, dones, values, next_value)\n",
    "           \n",
    "            # Learning step !\n",
    "            self.optimize_model(observations, actions, returns, advantages, probs)\n",
    "            \n",
    "            \n",
    "            \n",
    "        # Test it every 50 epochs\n",
    "            if epoch % 50 == 0 or epoch == epochs - 1:\n",
    "                rewards_test.append(np.array([self.evaluate() for _ in range(50)]))\n",
    "                print(f'Epoch {epoch}/{epochs}: Mean rewards: {round(rewards_test[-1].mean(), 2)}, Std: {round(rewards_test[-1].std(), 2)}')\n",
    "\n",
    "                # Early stopping\n",
    "                if rewards_test[-1].mean() > 490 and epoch != epochs -1:\n",
    "                    print('Early stopping !')\n",
    "                    break\n",
    "                observation = self.env.reset()\n",
    "                    \n",
    "        # Plotting\n",
    "        r = pd.DataFrame((itertools.chain(*(itertools.product([i], rewards_test[i]) for i in range(len(rewards_test))))), columns=['Epoch', 'Reward'])\n",
    "        sns.lineplot(x=\"Epoch\", y=\"Reward\", data=r, ci='sd');\n",
    "        \n",
    "        print(f'The trainnig was done over a total of {episode_count} episodes')\n",
    "\n",
    "    def optimize_model(self, observations, actions, returns, advantages, probs):\n",
    "        \n",
    "        probs=[probs[i][int(actions[i])] for i in range(len(actions))]\n",
    "        advantages=[float(advantages[i].detach()) for i in range(len(advantages))]\n",
    "        \n",
    "        # MSE for the values\n",
    "        # Actor & Entropy loss\n",
    "        #value network\n",
    "        loss_value=0\n",
    "        \n",
    "        for i in range(len(advantages)):\n",
    "            loss_value+=advantages[i]**2\n",
    "        \n",
    "        #prob network\n",
    "        loss_prob=0\n",
    "        \n",
    "        for i in range(len(probs)):\n",
    "            loss_prob-=probs[i].log()*advantages[i]                      \n",
    "        \n",
    "        #entropy \n",
    "        loss_entropy=0\n",
    "        \n",
    "        for i in range(len(probs)):\n",
    "            loss_entropy += -probs[i]*probs[i].log()\n",
    "        \n",
    "        loss_tot=loss_value+loss_prob+0.0001*loss_entropy\n",
    "        \n",
    "        self.value_network_optimizer.zero_grad()\n",
    "        self.actor_network_optimizer.zero_grad()\n",
    "        \n",
    "        loss_tot.backward()\n",
    "        \n",
    "        self.value_network_optimizer.step()\n",
    "        self.actor_network_optimizer.step()\n",
    "        \n",
    "     \n",
    "        \n",
    "        return(loss_tot)\n",
    "\n",
    "    def evaluate(self, render=False):\n",
    "        env = self.monitor_env if render else self.env\n",
    "        observation = env.reset()\n",
    "        observation = torch.tensor(observation, dtype=torch.float)\n",
    "        reward_episode = 0\n",
    "        done = False\n",
    "\n",
    "        while not done:\n",
    "            policy = self.actor_network(observation)\n",
    "            action = torch.multinomial(policy, 1)\n",
    "            observation, reward, done, info = env.step(int(action))\n",
    "            observation = torch.tensor(observation, dtype=torch.float)\n",
    "            reward_episode += reward\n",
    "            \n",
    "        env.close()\n",
    "        if render:\n",
    "            show_video(\"./gym-results\")\n",
    "            print(f'Reward: {reward_episode}')\n",
    "        return reward_episode"
   ]
  },
  {
   "cell_type": "markdown",
   "metadata": {
    "colab_type": "text",
    "id": "8sEwrInsjkDH"
   },
   "source": [
    "Create configuration for A2C"
   ]
  },
  {
   "cell_type": "code",
   "execution_count": 26,
   "metadata": {
    "colab": {},
    "colab_type": "code",
    "id": "OwDDx78wjmG5"
   },
   "outputs": [
    {
     "name": "stdout",
     "output_type": "stream",
     "text": [
      "Current config_a2c is:\n",
      "{'actor_network': {'learning_rate': 0.001},\n",
      " 'entropy': 1,\n",
      " 'env_id': 'CartPole-v1',\n",
      " 'gamma': 0.99,\n",
      " 'seed': 1,\n",
      " 'value_network': {'learning_rate': 0.001}}\n"
     ]
    }
   ],
   "source": [
    "env_id = 'CartPole-v1'\n",
    "#env_id = 'MountainCar-v0'\n",
    "value_learning_rate = 0.001\n",
    "actor_learning_rate = 0.001\n",
    "gamma = 0.99\n",
    "entropy = 1\n",
    "seed = 1\n",
    "\n",
    "config_a2c = {\n",
    "    'env_id': env_id,\n",
    "    'gamma': gamma,\n",
    "    'seed': seed,\n",
    "    'value_network': {'learning_rate': value_learning_rate},\n",
    "    'actor_network': {'learning_rate': actor_learning_rate},\n",
    "    'entropy': entropy\n",
    "}\n",
    "\n",
    "print(\"Current config_a2c is:\")\n",
    "pprint(config_a2c)"
   ]
  },
  {
   "cell_type": "markdown",
   "metadata": {
    "colab_type": "text",
    "id": "6xW7fe-8jvzY"
   },
   "source": [
    "Run the learning agent"
   ]
  },
  {
   "cell_type": "code",
   "execution_count": 27,
   "metadata": {
    "colab": {},
    "colab_type": "code",
    "id": "UrZRJ7-yjryp"
   },
   "outputs": [
    {
     "name": "stdout",
     "output_type": "stream",
     "text": [
      "Epoch 0/1000: Mean rewards: 19.86, Std: 9.84\n",
      "Epoch 50/1000: Mean rewards: 32.24, Std: 13.49\n",
      "Epoch 100/1000: Mean rewards: 44.42, Std: 21.69\n",
      "Epoch 150/1000: Mean rewards: 57.9, Std: 30.99\n",
      "Epoch 200/1000: Mean rewards: 70.74, Std: 35.48\n",
      "Epoch 250/1000: Mean rewards: 132.38, Std: 55.31\n",
      "Epoch 300/1000: Mean rewards: 158.36, Std: 62.91\n",
      "Epoch 350/1000: Mean rewards: 144.8, Std: 53.6\n",
      "Epoch 400/1000: Mean rewards: 187.28, Std: 67.3\n",
      "Epoch 450/1000: Mean rewards: 241.8, Std: 95.17\n",
      "Epoch 500/1000: Mean rewards: 212.38, Std: 68.64\n",
      "Epoch 550/1000: Mean rewards: 217.32, Std: 90.85\n",
      "Epoch 600/1000: Mean rewards: 230.1, Std: 82.74\n",
      "Epoch 650/1000: Mean rewards: 281.22, Std: 108.06\n",
      "Epoch 700/1000: Mean rewards: 358.5, Std: 113.79\n",
      "Epoch 750/1000: Mean rewards: 349.38, Std: 107.9\n",
      "Epoch 800/1000: Mean rewards: 392.8, Std: 112.03\n",
      "Epoch 850/1000: Mean rewards: 349.68, Std: 137.48\n",
      "Epoch 900/1000: Mean rewards: 248.9, Std: 85.82\n",
      "Epoch 950/1000: Mean rewards: 342.98, Std: 135.05\n",
      "Epoch 999/1000: Mean rewards: 329.0, Std: 93.08\n",
      "The trainnig was done over a total of 1804 episodes\n"
     ]
    },
    {
     "data": {
      "image/png": "[encoded data removed]",
      "text/plain": [
       "<Figure size 432x288 with 1 Axes>"
      ]
     },
     "metadata": {
      "needs_background": "light"
     },
     "output_type": "display_data"
    }
   ],
   "source": [
    "agent = A2CAgent(config_a2c)\n",
    "rewards = agent.training_batch(1000, 256)"
   ]
  },
  {
   "cell_type": "markdown",
   "metadata": {
    "colab_type": "text",
    "id": "NzuNtPqTju64"
   },
   "source": [
    "Evaluate the agent over multiple episodes"
   ]
  },
  {
   "cell_type": "code",
   "execution_count": 0,
   "metadata": {
    "colab": {},
    "colab_type": "code",
    "id": "bw279M4Jj1y-"
   },
   "outputs": [],
   "source": [
    "agent.evaluate()"
   ]
  },
  {
   "cell_type": "markdown",
   "metadata": {},
   "source": [
    "It doesn't seem to learn anything \n",
    ",with the other environments"
   ]
  }
 ],
 "metadata": {
  "colab": {
   "collapsed_sections": [],
   "name": "MVARL19_part2.ipynb",
   "private_outputs": true,
   "provenance": [],
   "toc_visible": true
  },
  "kernelspec": {
   "display_name": "Python 3",
   "language": "python",
   "name": "python3"
  },
  "language_info": {
   "codemirror_mode": {
    "name": "ipython",
    "version": 3
   },
   "file_extension": ".py",
   "mimetype": "text/x-python",
   "name": "python",
   "nbconvert_exporter": "python",
   "pygments_lexer": "ipython3",
   "version": "3.7.4"
  },
  "varInspector": {
   "cols": {
    "lenName": 16,
    "lenType": 16,
    "lenVar": 40
   },
   "kernels_config": {
    "python": {
     "delete_cmd_postfix": "",
     "delete_cmd_prefix": "del ",
     "library": "var_list.py",
     "varRefreshCmd": "print(var_dic_list())"
    },
    "r": {
     "delete_cmd_postfix": ") ",
     "delete_cmd_prefix": "rm(",
     "library": "var_list.r",
     "varRefreshCmd": "cat(var_dic_list()) "
    }
   },
   "position": {
    "height": "144px",
    "left": "1047px",
    "right": "20px",
    "top": "120px",
    "width": "350px"
   },
   "types_to_exclude": [
    "module",
    "function",
    "builtin_function_or_method",
    "instance",
    "_Feature"
   ],
   "window_display": false
  }
 },
 "nbformat": 4,
 "nbformat_minor": 1
}
