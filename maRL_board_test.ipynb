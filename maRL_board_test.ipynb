{
  "nbformat": 4,
  "nbformat_minor": 0,
  "metadata": {
    "colab": {
      "name": "maRL_environment",
      "provenance": [],
      "collapsed_sections": []
    },
    "kernelspec": {
      "name": "python3",
      "display_name": "Python 3"
    }
  },
  "cells": [
    {
      "cell_type": "code",
      "metadata": {
        "id": "Ge3pFEexRsNn"
      },
      "source": [
        "from maRL_board import MarelleBoard"
      ],
      "execution_count": 4,
      "outputs": []
    },
    {
      "cell_type": "code",
      "metadata": {
        "id": "s8rUV1158OEV",
        "outputId": "6127dc45-27db-4c57-8809-a617b223269b",
        "colab": {
          "base_uri": "https://localhost:8080/"
        }
      },
      "source": [
        "board = MarelleBoard()\n",
        "board.print_board()\n",
        "board.play_action(action_id=0, player=1)\n",
        "board.print_board()\n",
        "board.play_action(action_id=24, player=-1)\n",
        "board.print_board()\n",
        "board.play_action(action_id=48, player=1)\n",
        "board.print_board()"
      ],
      "execution_count": 5,
      "outputs": [
        {
          "output_type": "stream",
          "text": [
            "\n",
            "    Phase : place\n",
            "    Placed tokens : P1 : 0 / P2 : 0 \n",
            "    Tokens on board : P1 : 0 / P2 : 0 \n",
            "    0--------------0--------------0\n",
            "    |              |              |\n",
            "    |    0---------0---------0    |\n",
            "    |    |         |         |    |\n",
            "    |    |    0----0----0    |    |\n",
            "    |    |    |         |    |    |\n",
            "    0----0----0         0----0----0                 \n",
            "    |    |    |         |    |    |\n",
            "    |    |    0----0----0    |    |\n",
            "    |    |         |         |    |\n",
            "    |    0---------0---------0    |\n",
            "    |              |              |\n",
            "    0--------------0--------------0\n",
            "    \n",
            "\n",
            "    Phase : place\n",
            "    Placed tokens : P1 : 1 / P2 : 0 \n",
            "    Tokens on board : P1 : 1 / P2 : 0 \n",
            "    0--------------0--------------0\n",
            "    |              |              |\n",
            "    |    0---------0---------0    |\n",
            "    |    |         |         |    |\n",
            "    |    |    0----0----0    |    |\n",
            "    |    |    |         |    |    |\n",
            "    0----0----0         1----0----0                 \n",
            "    |    |    |         |    |    |\n",
            "    |    |    0----0----0    |    |\n",
            "    |    |         |         |    |\n",
            "    |    0---------0---------0    |\n",
            "    |              |              |\n",
            "    0--------------0--------------0\n",
            "    \n",
            "\n",
            "    Phase : place\n",
            "    Placed tokens : P1 : 1 / P2 : 1 \n",
            "    Tokens on board : P1 : 1 / P2 : 1 \n",
            "    0--------------0--------------0\n",
            "    |              |              |\n",
            "    |    0---------0---------0    |\n",
            "    |    |         |         |    |\n",
            "    |    |    0----0----2    |    |\n",
            "    |    |    |         |    |    |\n",
            "    0----0----0         1----0----0                 \n",
            "    |    |    |         |    |    |\n",
            "    |    |    0----0----0    |    |\n",
            "    |    |         |         |    |\n",
            "    |    0---------0---------0    |\n",
            "    |              |              |\n",
            "    0--------------0--------------0\n",
            "    \n",
            "\n",
            "    Phase : place\n",
            "    Placed tokens : P1 : 2 / P2 : 1 \n",
            "    Tokens on board : P1 : 2 / P2 : 1 \n",
            "    0--------------0--------------0\n",
            "    |              |              |\n",
            "    |    0---------0---------0    |\n",
            "    |    |         |         |    |\n",
            "    |    |    0----1----2    |    |\n",
            "    |    |    |         |    |    |\n",
            "    0----0----0         1----0----0                 \n",
            "    |    |    |         |    |    |\n",
            "    |    |    0----0----0    |    |\n",
            "    |    |         |         |    |\n",
            "    |    0---------0---------0    |\n",
            "    |              |              |\n",
            "    0--------------0--------------0\n",
            "    \n"
          ],
          "name": "stdout"
        }
      ]
    },
    {
      "cell_type": "code",
      "metadata": {
        "id": "pEfKFe_H9l5X",
        "outputId": "8e54668b-6f73-4f59-b714-f0abd82c84aa",
        "colab": {
          "base_uri": "https://localhost:8080/"
        }
      },
      "source": [
        "print(board.full_action_list[384])"
      ],
      "execution_count": 73,
      "outputs": [
        {
          "output_type": "stream",
          "text": [
            "((2, 0), None)\n"
          ],
          "name": "stdout"
        }
      ]
    },
    {
      "cell_type": "code",
      "metadata": {
        "id": "BPaStlS9wBMd",
        "outputId": "81b2326c-1dd0-41e7-9e92-2a45e4f48374",
        "colab": {
          "base_uri": "https://localhost:8080/"
        }
      },
      "source": [
        "# Initialize board\n",
        "board = MarelleBoard()\n",
        "print(str(len(board.place_token_action_list)) + \" possible placement actions\")\n",
        "print(str(len(board.move_token_action_list)) + \" possible movement actions\")\n",
        "print(str(len(board.full_action_list)) + \" total actions\")\n",
        "\n",
        "# Players place tokens\n",
        "board.place_token_action(action=((0, 0), None), player=1)\n",
        "board.place_token_action(action=((1, 0), None), player=-1)\n",
        "board.print_board()\n",
        "board.place_token_action(action=((0, 1), None), player=1)\n",
        "board.place_token_action(action=((2, 7), None), player=-1)\n",
        "board.print_board()\n",
        "board.place_token_action(action=((0, 6), None), player=1)\n",
        "board.place_token_action(action=((2, 6), None), player=-1)\n",
        "board.print_board()\n",
        "board.move_token_action(action=(((0, 6), (0, 7)), (2, 6)), player=1)\n",
        "board.print_board()\n",
        "# board.print_board()"
      ],
      "execution_count": 60,
      "outputs": [
        {
          "output_type": "stream",
          "text": [
            "576 possible placement actions\n",
            "800 possible movement actions\n",
            "1376 total actions\n",
            "32\n",
            "Phase : place\n",
            "\n",
            "    0--------------0--------------0\n",
            "\n",
            "    |              |              |\n",
            "\n",
            "    |    0---------0---------0    |\n",
            "\n",
            "    |    |         |         |    |\n",
            "\n",
            "    |    |    0----0----0    |    |\n",
            "\n",
            "    |    |    |         |    |    |\n",
            "\n",
            "    0----0----0         1----2----0\n",
            "                 \n",
            "    |    |    |         |    |    |\n",
            "\n",
            "    |    |    0----0----0    |    |\n",
            "\n",
            "    |    |         |         |    |\n",
            "\n",
            "    |    0---------0---------0    |\n",
            "\n",
            "    |              |              |\n",
            "\n",
            "    0--------------0--------------0\n",
            "    \n",
            "Phase : place\n",
            "\n",
            "    0--------------0--------------0\n",
            "\n",
            "    |              |              |\n",
            "\n",
            "    |    0---------0---------0    |\n",
            "\n",
            "    |    |         |         |    |\n",
            "\n",
            "    |    |    0----0----1    |    |\n",
            "\n",
            "    |    |    |         |    |    |\n",
            "\n",
            "    0----0----0         1----2----0\n",
            "                 \n",
            "    |    |    |         |    |    |\n",
            "\n",
            "    |    |    0----0----0    |    |\n",
            "\n",
            "    |    |         |         |    |\n",
            "\n",
            "    |    0---------0---------0    |\n",
            "\n",
            "    |              |              |\n",
            "\n",
            "    0--------------0--------------2\n",
            "    \n",
            "Phase : place\n",
            "\n",
            "    0--------------0--------------0\n",
            "\n",
            "    |              |              |\n",
            "\n",
            "    |    0---------0---------0    |\n",
            "\n",
            "    |    |         |         |    |\n",
            "\n",
            "    |    |    0----0----1    |    |\n",
            "\n",
            "    |    |    |         |    |    |\n",
            "\n",
            "    0----0----0         1----2----0\n",
            "                 \n",
            "    |    |    |         |    |    |\n",
            "\n",
            "    |    |    0----1----0    |    |\n",
            "\n",
            "    |    |         |         |    |\n",
            "\n",
            "    |    0---------0---------0    |\n",
            "\n",
            "    |              |              |\n",
            "\n",
            "    0--------------2--------------2\n",
            "    \n",
            "Phase : place\n",
            "\n",
            "    0--------------0--------------0\n",
            "\n",
            "    |              |              |\n",
            "\n",
            "    |    0---------0---------0    |\n",
            "\n",
            "    |    |         |         |    |\n",
            "\n",
            "    |    |    0----0----1    |    |\n",
            "\n",
            "    |    |    |         |    |    |\n",
            "\n",
            "    0----0----0         1----2----0\n",
            "                 \n",
            "    |    |    |         |    |    |\n",
            "\n",
            "    |    |    0----0----1    |    |\n",
            "\n",
            "    |    |         |         |    |\n",
            "\n",
            "    |    0---------0---------0    |\n",
            "\n",
            "    |              |              |\n",
            "\n",
            "    0--------------0--------------2\n",
            "    \n"
          ],
          "name": "stdout"
        }
      ]
    },
    {
      "cell_type": "code",
      "metadata": {
        "id": "JchI7QaUkJg3"
      },
      "source": [
        ""
      ],
      "execution_count": null,
      "outputs": []
    },
    {
      "cell_type": "code",
      "metadata": {
        "id": "80mMWDyGk1CD",
        "outputId": "9107ce21-6a2a-4c76-c4d7-9ad203f20b55",
        "colab": {
          "base_uri": "https://localhost:8080/"
        }
      },
      "source": [
        "# All token placement actions\n",
        "print(board.place_token_action_list)\n",
        "print(f\"{len(board.place_token_action_list)} possible placement actions\")\n",
        "\n",
        "# All token movement actions\n",
        "print(board.move_token_action_list)\n",
        "print(f\"{len(board.move_token_action_list)} possible movement actions\")\n",
        "\n",
        "# All player 1 legal token place actions\n",
        "print(board.place_token_legal_actions(player=1))\n",
        "print(f\"{len(board.place_token_legal_actions(player=1))} legal placement actions\")\n",
        "\n",
        "\n",
        "# All player 1 legal token move actions\n",
        "print(board.move_token_legal_actions(player=1))\n",
        "print(f\"{len(board.move_token_legal_actions(player=1))} legal movement actions\")\n"
      ],
      "execution_count": null,
      "outputs": [
        {
          "output_type": "stream",
          "text": [
            "[(0, 0), (0, 1), (0, 2), (0, 3), (0, 4), (0, 5), (0, 6), (0, 7), (1, 0), (1, 1), (1, 2), (1, 3), (1, 4), (1, 5), (1, 6), (1, 7), (2, 0), (2, 1), (2, 2), (2, 3), (2, 4), (2, 5), (2, 6), (2, 7)]\n",
            "24 possible placement actions\n",
            "[((0, 0), (0, 1)), ((0, 1), (0, 0)), ((0, 0), (1, 0)), ((1, 0), (0, 0)), ((0, 0), (0, 7)), ((0, 7), (0, 0)), ((0, 1), (0, 2)), ((0, 2), (0, 1)), ((0, 2), (0, 3)), ((0, 3), (0, 2)), ((0, 2), (1, 2)), ((1, 2), (0, 2)), ((0, 3), (0, 4)), ((0, 4), (0, 3)), ((0, 4), (0, 5)), ((0, 5), (0, 4)), ((0, 4), (1, 4)), ((1, 4), (0, 4)), ((0, 5), (0, 6)), ((0, 6), (0, 5)), ((0, 6), (0, 7)), ((0, 7), (0, 6)), ((0, 6), (1, 6)), ((1, 6), (0, 6)), ((1, 0), (1, 1)), ((1, 1), (1, 0)), ((1, 0), (2, 0)), ((2, 0), (1, 0)), ((1, 0), (1, 7)), ((1, 7), (1, 0)), ((1, 1), (1, 2)), ((1, 2), (1, 1)), ((1, 2), (1, 3)), ((1, 3), (1, 2)), ((1, 2), (2, 2)), ((2, 2), (1, 2)), ((1, 3), (1, 4)), ((1, 4), (1, 3)), ((1, 4), (1, 5)), ((1, 5), (1, 4)), ((1, 4), (2, 4)), ((2, 4), (1, 4)), ((1, 5), (1, 6)), ((1, 6), (1, 5)), ((1, 6), (1, 7)), ((1, 7), (1, 6)), ((1, 6), (2, 6)), ((2, 6), (1, 6)), ((2, 0), (2, 1)), ((2, 1), (2, 0)), ((2, 0), (2, 7)), ((2, 7), (2, 0)), ((2, 1), (2, 2)), ((2, 2), (2, 1)), ((2, 2), (2, 3)), ((2, 3), (2, 2)), ((2, 3), (2, 4)), ((2, 4), (2, 3)), ((2, 4), (2, 5)), ((2, 5), (2, 4)), ((2, 5), (2, 6)), ((2, 6), (2, 5)), ((2, 6), (2, 7)), ((2, 7), (2, 6))]\n",
            "64 possible movement actions\n",
            "[(0, 0), (0, 1), (0, 2), (0, 3), (0, 4), (0, 5), (0, 6), (1, 1), (1, 2), (1, 3), (1, 4), (1, 5), (1, 6), (1, 7), (2, 0), (2, 1), (2, 2), (2, 3), (2, 4), (2, 6), (2, 7)]\n",
            "21 legal placement actions\n",
            "[((0, 7), (0, 6)), ((0, 7), (0, 0)), ((2, 5), (2, 4)), ((2, 5), (2, 6))]\n",
            "4 legal movement actions\n"
          ],
          "name": "stdout"
        }
      ]
    },
    {
      "cell_type": "code",
      "metadata": {
        "id": "w_dR83RzsOrc",
        "outputId": "cae599b2-ddc4-4ef9-ee33-7ac688b92f6c",
        "colab": {
          "base_uri": "https://localhost:8080/"
        }
      },
      "source": [
        "import gym\n",
        "from gym import spaces\n",
        "\n",
        "\n",
        "class MarelleGymEnv(gym.Env):\n",
        "  \"\"\"Custom Environment that follows gym interface\"\"\"\n",
        "  metadata = {'render.modes': ['human']}\n",
        "\n",
        "  def __init__(self):\n",
        "    super(CustomEnv, self).__init__()    \n",
        "    \n",
        "    self.board = MarelleBoard()\n",
        "    self.player = 1\n",
        "    \n",
        "    # Define action and observation space\n",
        "    # They must be gym.spaces objects\n",
        "    n_actions = len(self.board.place_token_action_list) + len(self.board.move_token_action_list)\n",
        "    self.action_space = spaces.Discrete(n_actions)    # Example for using image as input:\n",
        "    \n",
        "    # the observation_space is the board \n",
        "    self.observation_space = spaces.Box(low=-1, high=1, shape=(3, 8), dtype=np.uint8)\n",
        "\n",
        "  \n",
        "  def step(self, action):\n",
        "    # Execute one time step within the environment\n",
        "  \n",
        "  def reset(self):\n",
        "    self.board = MarelleBoard()\n",
        "  \n",
        "  def render(self, mode='human', close=False):\n",
        "    self.board.print_board()\n"
      ],
      "execution_count": null,
      "outputs": [
        {
          "output_type": "stream",
          "text": [
            "Requirement already satisfied: gym in /usr/local/lib/python3.6/dist-packages (0.17.3)\n",
            "Requirement already satisfied: pyglet<=1.5.0,>=1.4.0 in /usr/local/lib/python3.6/dist-packages (from gym) (1.5.0)\n",
            "Requirement already satisfied: numpy>=1.10.4 in /usr/local/lib/python3.6/dist-packages (from gym) (1.18.5)\n",
            "Requirement already satisfied: scipy in /usr/local/lib/python3.6/dist-packages (from gym) (1.4.1)\n",
            "Requirement already satisfied: cloudpickle<1.7.0,>=1.2.0 in /usr/local/lib/python3.6/dist-packages (from gym) (1.3.0)\n",
            "Requirement already satisfied: future in /usr/local/lib/python3.6/dist-packages (from pyglet<=1.5.0,>=1.4.0->gym) (0.16.0)\n"
          ],
          "name": "stdout"
        }
      ]
    },
    {
      "cell_type": "code",
      "metadata": {
        "id": "jGeB0vFNsuS0"
      },
      "source": [
        ""
      ],
      "execution_count": null,
      "outputs": []
    }
  ]
}