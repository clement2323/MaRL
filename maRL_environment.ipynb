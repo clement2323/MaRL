{
  "nbformat": 4,
  "nbformat_minor": 0,
  "metadata": {
    "colab": {
      "name": "maRL_environment",
      "provenance": [],
      "collapsed_sections": []
    },
    "kernelspec": {
      "name": "python3",
      "display_name": "Python 3"
    }
  },
  "cells": [
    {
      "source": [
        "# Marelle Board import\n",
        "* Getting players info dict => `MarelleBoard.players`\n",
        "* 3 phases : place, move and end => `MarelleBoard.phase`\n",
        "* Reset the board => `MarelleBoard.initialize_game()`\n",
        "* Printing the board => `MarelleBoard.print_board()`\n",
        "* Id:Action dict => `MarelleBoard.action_list_by_id`\n",
        "* Action:Id dict => `MarelleBoard.action_id_by_action`\n",
        "* Get the board state => `MarelleBoard.get_state()`\n",
        "* Play an action => `MarelleBoard.play_action(action_id, player)`\n",
        "* Get legal action ids => `MarelleBoard.get_legal_action_ids(player)`\n",
        "* Check if game ended (returns 0 if not ended or winning player id) : `MarelleBoard.check_if_end()`"
      ],
      "cell_type": "markdown",
      "metadata": {}
    },
    {
      "cell_type": "code",
      "metadata": {
        "id": "Ge3pFEexRsNn"
      },
      "source": [
        "from maRL_board import MarelleBoard"
      ],
      "execution_count": 5,
      "outputs": []
    },
    {
      "cell_type": "code",
      "metadata": {
        "id": "w_dR83RzsOrc",
        "outputId": "cae599b2-ddc4-4ef9-ee33-7ac688b92f6c",
        "colab": {
          "base_uri": "https://localhost:8080/"
        }
      },
      "source": [
        "import gym\n",
        "from gym import spaces\n",
        "\n",
        "\n",
        "class MarelleGymEnv(gym.Env):\n",
        "  \"\"\"Custom Environment that follows gym interface\"\"\"\n",
        "  metadata = {'render.modes': ['human']}\n",
        "\n",
        "  def __init__(self):\n",
        "    super(CustomEnv, self).__init__()    \n",
        "    \n",
        "    # Define action and observation space\n",
        "    # They must be gym.spaces objects\n",
        "    self.action_space = spaces.Discrete(N_ACTIONS)    # Example for using image as input:\n",
        "    self.observation_space = spaces.Box(low=-1, high=1, shape=(3, 8), dtype=np.uint8)\n",
        "\n",
        "  \n",
        "  def step(self, action):\n",
        "    return\n",
        "    # Execute one time step within the environment\n",
        "  \n",
        "  def reset(self):\n",
        "    return\n",
        "    # Reset\n",
        "  \n",
        "  def render(self, mode='human', close=False):\n",
        "    return\n",
        "    # print the board\n"
      ],
      "execution_count": 7,
      "outputs": [
        {
          "output_type": "error",
          "ename": "ModuleNotFoundError",
          "evalue": "No module named 'gym'",
          "traceback": [
            "\u001b[1;31m---------------------------------------------------------------------------\u001b[0m",
            "\u001b[1;31mModuleNotFoundError\u001b[0m                       Traceback (most recent call last)",
            "\u001b[1;32m<ipython-input-7-24337fdacae2>\u001b[0m in \u001b[0;36m<module>\u001b[1;34m\u001b[0m\n\u001b[1;32m----> 1\u001b[1;33m \u001b[1;32mimport\u001b[0m \u001b[0mgym\u001b[0m\u001b[1;33m\u001b[0m\u001b[1;33m\u001b[0m\u001b[0m\n\u001b[0m\u001b[0;32m      2\u001b[0m \u001b[1;32mfrom\u001b[0m \u001b[0mgym\u001b[0m \u001b[1;32mimport\u001b[0m \u001b[0mspaces\u001b[0m\u001b[1;33m\u001b[0m\u001b[1;33m\u001b[0m\u001b[0m\n\u001b[0;32m      3\u001b[0m \u001b[1;33m\u001b[0m\u001b[0m\n\u001b[0;32m      4\u001b[0m \u001b[1;33m\u001b[0m\u001b[0m\n\u001b[0;32m      5\u001b[0m \u001b[1;32mclass\u001b[0m \u001b[0mMarelleGymEnv\u001b[0m\u001b[1;33m(\u001b[0m\u001b[0mgym\u001b[0m\u001b[1;33m.\u001b[0m\u001b[0mEnv\u001b[0m\u001b[1;33m)\u001b[0m\u001b[1;33m:\u001b[0m\u001b[1;33m\u001b[0m\u001b[1;33m\u001b[0m\u001b[0m\n",
            "\u001b[1;31mModuleNotFoundError\u001b[0m: No module named 'gym'"
          ]
        }
      ]
    },
    {
      "cell_type": "code",
      "metadata": {
        "id": "jGeB0vFNsuS0"
      },
      "source": [
        ""
      ],
      "execution_count": null,
      "outputs": []
    }
  ]
}