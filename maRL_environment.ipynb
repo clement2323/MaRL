{
 "cells": [
  {
   "cell_type": "markdown",
   "metadata": {},
   "source": [
    "# Marelle Board import\n",
    "* Getting players info dict => `MarelleBoard.players`\n",
    "* 3 phases : place, move and end => `MarelleBoard.phase`\n",
    "* Reset the board => `MarelleBoard.initialize_game()`\n",
    "* Printing the board => `MarelleBoard.print_board()`\n",
    "* Id:Action dict => `MarelleBoard.action_list_by_id`\n",
    "* Action:Id dict => `MarelleBoard.action_id_by_action`\n",
    "* Get the board state => `MarelleBoard.get_state()`\n",
    "* Play an action => `MarelleBoard.play_action(action_id, player)`\n",
    "* Get legal action ids => `MarelleBoard.get_legal_action_ids(player)`\n",
    "* Check if game ended (returns 0 if not ended or winning player id) : `MarelleBoard.check_if_end()`"
   ]
  },
  {
   "cell_type": "code",
   "execution_count": 2,
   "metadata": {
    "id": "Ge3pFEexRsNn"
   },
   "outputs": [],
   "source": [
    "from maRL_board import MarelleBoard"
   ]
  },
  {
   "cell_type": "code",
   "execution_count": 3,
   "metadata": {},
   "outputs": [
    {
     "data": {
      "text/plain": [
       "[0, 0, 0, 0, 0, 0, 0, 0, 0, 0, 0, 0, 0, 0, 0, 0, 0, 0, 0, 0, 0, 0, 0, 0]"
      ]
     },
     "execution_count": 3,
     "metadata": {},
     "output_type": "execute_result"
    }
   ],
   "source": [
    "board = MarelleBoard()\n",
    "board.initialize_game()#initialize game, reset board, when creat new board reset is automatic\n",
    "board.phase\n",
    "\n",
    "board.get_state()"
   ]
  },
  {
   "cell_type": "code",
   "execution_count": 4,
   "metadata": {},
   "outputs": [
    {
     "name": "stdout",
     "output_type": "stream",
     "text": [
      "\n",
      "        Phase : place\n",
      "        Placed tokens : P1 : 0 / P2 : 0 \n",
      "        Tokens on board : P1 : 0 / P2 : 0 \n",
      "        0--------------0--------------0\n",
      "        |              |              |\n",
      "        |    0---------0---------0    |\n",
      "        |    |         |         |    |\n",
      "        |    |    0----0----0    |    |\n",
      "        |    |    |         |    |    |\n",
      "        0----0----0         0----0----0                 \n",
      "        |    |    |         |    |    |\n",
      "        |    |    0----0----0    |    |\n",
      "        |    |         |         |    |\n",
      "        |    0---------0---------0    |\n",
      "        |              |              |\n",
      "        0--------------0--------------0\n",
      "        \n",
      "\n",
      "        Phase : place\n",
      "        Placed tokens : P1 : 1 / P2 : 0 \n",
      "        Tokens on board : P1 : 1 / P2 : 0 \n",
      "        0--------------0--------------0\n",
      "        |              |              |\n",
      "        |    0---------0---------0    |\n",
      "        |    |         |         |    |\n",
      "        |    |    0----0----0    |    |\n",
      "        |    |    |         |    |    |\n",
      "        0----0----0         1----0----0                 \n",
      "        |    |    |         |    |    |\n",
      "        |    |    0----0----0    |    |\n",
      "        |    |         |         |    |\n",
      "        |    0---------0---------0    |\n",
      "        |              |              |\n",
      "        0--------------0--------------0\n",
      "        \n",
      "((0, 3), None)\n",
      "\n",
      "        Phase : place\n",
      "        Placed tokens : P1 : 1 / P2 : 1 \n",
      "        Tokens on board : P1 : 1 / P2 : 1 \n",
      "        0--------------0--------------0\n",
      "        |              |              |\n",
      "        |    0---------0---------0    |\n",
      "        |    |         |         |    |\n",
      "        |    |    2----0----0    |    |\n",
      "        |    |    |         |    |    |\n",
      "        0----0----0         1----0----0                 \n",
      "        |    |    |         |    |    |\n",
      "        |    |    0----0----0    |    |\n",
      "        |    |         |         |    |\n",
      "        |    0---------0---------0    |\n",
      "        |              |              |\n",
      "        0--------------0--------------0\n",
      "        \n"
     ]
    }
   ],
   "source": [
    "board=MarelleBoard()\n",
    "board.print_board()\n",
    "a=board.get_legal_action_ids(1)[0]\n",
    "board.play_action(a,1)\n",
    "board.print_board()\n",
    "b=board.get_legal_action_ids(-1)[2]\n",
    "print(board.action_list_by_id[b])\n",
    "board.play_action(b,-1)\n",
    "board.print_board()"
   ]
  },
  {
   "cell_type": "code",
   "execution_count": 5,
   "metadata": {},
   "outputs": [
    {
     "name": "stdout",
     "output_type": "stream",
     "text": [
      "\n",
      "        Phase : end\n",
      "        Placed tokens : P1 : 4 / P2 : 1 \n",
      "        Tokens on board : P1 : 4 / P2 : 0 \n",
      "        0--------------0--------------0\n",
      "        |              |              |\n",
      "        |    1---------1---------1    |\n",
      "        |    |         |         |    |\n",
      "        |    |    1----0----0    |    |\n",
      "        |    |    |         |    |    |\n",
      "        0----0----0         0----0----0                 \n",
      "        |    |    |         |    |    |\n",
      "        |    |    0----0----0    |    |\n",
      "        |    |         |         |    |\n",
      "        |    0---------0---------0    |\n",
      "        |              |              |\n",
      "        0--------------0--------------0\n",
      "        \n"
     ]
    }
   ],
   "source": [
    "board=MarelleBoard()\n",
    "board.play_action(board.action_id_by_action[((0,3),None)],1)\n",
    "board.play_action(board.action_id_by_action[((0,4),None)],-1)\n",
    "board.play_action(board.action_id_by_action[((1,2),None)],1)\n",
    "board.play_action(board.action_id_by_action[((1,3),None)],1)\n",
    "board.play_action(board.action_id_by_action[((1,0),None)],1)\n",
    "\n",
    "board.phase=\"move\"\n",
    "board.play_action(board.action_id_by_action[(((1,0),(1,1)),(0,4))],1)\n",
    "\n",
    "#board.play_action(board.action_id_by_action[((1,1),(0,4))],1)\n",
    "board.print_board()\n"
   ]
  },
  {
   "cell_type": "code",
   "execution_count": 6,
   "metadata": {
    "colab": {
     "base_uri": "https://localhost:8080/"
    },
    "id": "w_dR83RzsOrc",
    "outputId": "cae599b2-ddc4-4ef9-ee33-7ac688b92f6c"
   },
   "outputs": [],
   "source": [
    "import gym\n",
    "from gym import spaces\n",
    "\n",
    "\n",
    "class MarelleGymEnv(gym.Env):\n",
    "    \"\"\"Custom Environment that follows gym interface\"\"\"\n",
    "    metadata = {'render.modes': ['human']}\n",
    "    def __init__(self):\n",
    "        super(MarelleGymEnv, self).__init__()    \n",
    "    \n",
    "    # Define action and observation space\n",
    "    # They must be gym.spaces objects\n",
    "        self.board = MarelleBoard()\n",
    "        self.action_space = spaces.Discrete(len(self.board.action_list_by_id))    # Example for using image as input:\n",
    "        self.observation_space = spaces.Discrete(len(self.board.get_state()))\n",
    "        self.list_move = []\n",
    "        self.current_player = 1\n",
    "        \n",
    "    def step(self, action): \n",
    "   \n",
    "        self.board.play_action(action,self.current_player)\n",
    "\n",
    "        observation=self.board.get_state()\n",
    "        done = self.board.check_if_end() != 0\n",
    "        reward = self.board.check_if_end() \n",
    "        self.list_move.append(action)\n",
    "        info = \"\"\n",
    "        self.current_player = self.board.get_opponent(self.current_player)\n",
    "\n",
    "        return observation, reward, done, info\n",
    "    \n",
    "    # Execute one time step within the environment\n",
    "  \n",
    "    def reset(self):\n",
    "        self.current_player = 1\n",
    "        self.list_move = []\n",
    "        self.board.initialize_game()\n",
    "\n",
    "        return self.board.get_state()\n",
    "    # Reset\n",
    "\n",
    "    def render(self, mode='human', close=False):\n",
    "        self.board.print_board()\n",
    "\n"
   ]
  },
  {
   "cell_type": "code",
   "execution_count": 7,
   "metadata": {},
   "outputs": [],
   "source": [
    "\n",
    "class MarelleGymEnv(gym.Env):\n",
    "    \"\"\"Custom Environment that follows gym interface\"\"\"\n",
    "    metadata = {'render.modes': ['human']}\n",
    "    def __init__(self):\n",
    "        super(MarelleGymEnv, self).__init__()    \n",
    "    \n",
    "    # Define action and observation space\n",
    "    # They must be gym.spaces objects\n",
    "        self.board = MarelleBoard()\n",
    "        self.action_space = spaces.Discrete(len(self.board.action_list_by_id))    # Example for using image as input:\n",
    "        self.observation_space = spaces.Discrete(len(self.board.get_state()))\n",
    "        self.list_move = []\n",
    "        self.current_player = 1\n",
    "        \n",
    "    def step(self, action): \n",
    "   \n",
    "        self.board.play_action(action,self.current_player)\n",
    "\n",
    "        observation=self.board.get_state()\n",
    "        done = self.board.check_if_end() != 0\n",
    "        reward = self.board.check_if_end() \n",
    "        self.list_move.append(action)\n",
    "        info = \"\"\n",
    "        self.current_player = self.board.get_opponent(self.current_player)\n",
    "\n",
    "        return observation, reward, done, info\n",
    "    \n",
    "    # Execute one time step within the environment\n",
    "  \n",
    "    def reset(self):\n",
    "        self.current_player = 1\n",
    "        self.list_move = []\n",
    "        self.board.initialize_game()\n",
    "\n",
    "        return self.board.get_state()\n",
    "    # Reset\n",
    "\n",
    "    def render(self, mode='human', close=False):\n",
    "        self.board.print_board()\n",
    "\n"
   ]
  },
  {
   "cell_type": "markdown",
   "metadata": {},
   "source": [
    "### Création d'une classse générale agent dont nos agents seront hérités"
   ]
  },
  {
   "cell_type": "code",
   "execution_count": 13,
   "metadata": {},
   "outputs": [],
   "source": [
    "class Agent(object):\n",
    "    def __init__(self, board, player_id, epsilon=0):\n",
    "        self.epsilon = epsilon\n",
    "        self.board = board\n",
    "        self.n_action = len(self.board.action_list_by_id)\n",
    "        self.player_id = player_id\n",
    "    \n",
    "    def set_epsilon(self,e):\n",
    "        self.epsilon = e\n",
    "\n",
    "    def act(self,s,train=True):\n",
    "        \"\"\" This function should return the next action to do:\n",
    "        an integer between 0 and 4 (not included) with a random exploration of epsilon\"\"\"\n",
    "        if train:\n",
    "            if np.random.rand() <= self.epsilon:\n",
    "                a = np.random.randint(0, self.n_action, size=1)[0]\n",
    "            else:\n",
    "                a = self.learned_act(s)\n",
    "        else: # in some cases, this can improve the performance.. remove it if poor performances\n",
    "            a = self.learned_act(s)\n",
    "\n",
    "        return a\n",
    "\n",
    "    def learned_act(self,s):\n",
    "        \"\"\" Act via the policy of the agent, from a given state s\n",
    "        it proposes an action a\"\"\"\n",
    "        pass\n",
    "\n",
    "    def reinforce(self, s, n_s, a, r, game_over_):\n",
    "        \"\"\" This function is the core of the learning algorithm. \n",
    "        It takes as an input the current state s_, the next state n_s_\n",
    "        the action a_ used to move from s_ to n_s_ and the reward r_.\n",
    "        \n",
    "        Its goal is to learn a policy.\n",
    "        \"\"\"\n",
    "        pass\n",
    "\n",
    "    def save(self):\n",
    "        \"\"\" This function returns basic stats if applicable: the\n",
    "        loss and/or the model\"\"\"\n",
    "        pass\n",
    "\n",
    "    def load(self):\n",
    "        \"\"\" This function allows to restore a model\"\"\"\n",
    "        pass"
   ]
  },
  {
   "cell_type": "markdown",
   "metadata": {},
   "source": [
    "### Notre premier enfant"
   ]
  },
  {
   "cell_type": "code",
   "execution_count": 14,
   "metadata": {},
   "outputs": [],
   "source": [
    "class RandomAgent(Agent):\n",
    "    def __init__(self,board, player_id):\n",
    "        super(RandomAgent, self).__init__(board, player_id)\n",
    "        pass\n",
    "\n",
    "    def learned_act(self, s):\n",
    "        return(np.random.choice(self.board.get_legal_action_ids(self.player_id)))\n"
   ]
  },
  {
   "cell_type": "markdown",
   "metadata": {},
   "source": [
    "### Jouons"
   ]
  },
  {
   "cell_type": "markdown",
   "metadata": {},
   "source": [
    "* Getting players info dict => `MarelleBoard.players`\n",
    "* 3 phases : place, move and end => `MarelleBoard.phase`\n",
    "* Reset the board => `MarelleBoard.initialize_game()`\n",
    "* Printing the board => `MarelleBoard.print_board()`\n",
    "* Id:Action dict => `MarelleBoard.action_list_by_id`\n",
    "* Action:Id dict => `MarelleBoard.action_id_by_action`\n",
    "* Get the board state => `MarelleBoard.get_state()`\n",
    "* Play an action => `MarelleBoard.play_action(action_id, player)`\n",
    "* Get legal action ids => `MarelleBoard.get_legal_action_ids(player)`\n",
    "* Check if game ended (returns 0 if not ended or winning player id) : `MarelleBoard.check_if_end()`"
   ]
  },
  {
   "cell_type": "code",
   "execution_count": 17,
   "metadata": {
    "collapsed": true
   },
   "outputs": [
    {
     "name": "stderr",
     "output_type": "stream",
     "text": [
      "  8% (8 of 100) |#                       | Elapsed Time: 0:00:09 ETA:   0:03:09"
     ]
    },
    {
     "ename": "KeyboardInterrupt",
     "evalue": "",
     "output_type": "error",
     "traceback": [
      "\u001b[0;31m---------------------------------------------------------------------------\u001b[0m",
      "\u001b[0;31mKeyboardInterrupt\u001b[0m                         Traceback (most recent call last)",
      "\u001b[0;32m<ipython-input-17-5d37bed8ea9a>\u001b[0m in \u001b[0;36m<module>\u001b[0;34m\u001b[0m\n\u001b[1;32m     22\u001b[0m         \u001b[0ms\u001b[0m\u001b[0;34m=\u001b[0m\u001b[0mmarelle_env\u001b[0m\u001b[0;34m.\u001b[0m\u001b[0mboard\u001b[0m\u001b[0;34m.\u001b[0m\u001b[0mget_state\u001b[0m\u001b[0;34m(\u001b[0m\u001b[0;34m)\u001b[0m\u001b[0;34m\u001b[0m\u001b[0;34m\u001b[0m\u001b[0m\n\u001b[1;32m     23\u001b[0m         \u001b[0ma_p1\u001b[0m \u001b[0;34m=\u001b[0m \u001b[0mpiccolo\u001b[0m\u001b[0;34m.\u001b[0m\u001b[0mact\u001b[0m\u001b[0;34m(\u001b[0m\u001b[0ms\u001b[0m\u001b[0;34m,\u001b[0m\u001b[0mtrain\u001b[0m \u001b[0;34m=\u001b[0m \u001b[0;32mFalse\u001b[0m\u001b[0;34m)\u001b[0m\u001b[0;34m\u001b[0m\u001b[0;34m\u001b[0m\u001b[0m\n\u001b[0;32m---> 24\u001b[0;31m         \u001b[0ms\u001b[0m\u001b[0;34m,\u001b[0m \u001b[0mreward\u001b[0m\u001b[0;34m,\u001b[0m \u001b[0mdone\u001b[0m\u001b[0;34m,\u001b[0m \u001b[0minfo\u001b[0m \u001b[0;34m=\u001b[0m \u001b[0mmarelle_env\u001b[0m\u001b[0;34m.\u001b[0m\u001b[0mstep\u001b[0m\u001b[0;34m(\u001b[0m\u001b[0ma_p1\u001b[0m\u001b[0;34m)\u001b[0m\u001b[0;34m\u001b[0m\u001b[0;34m\u001b[0m\u001b[0m\n\u001b[0m\u001b[1;32m     25\u001b[0m         \u001b[0mpion_p1\u001b[0m\u001b[0;34m[\u001b[0m\u001b[0mi\u001b[0m\u001b[0;34m]\u001b[0m\u001b[0;34m=\u001b[0m\u001b[0mmarelle_env\u001b[0m\u001b[0;34m.\u001b[0m\u001b[0mboard\u001b[0m\u001b[0;34m.\u001b[0m\u001b[0mplayers\u001b[0m\u001b[0;34m[\u001b[0m\u001b[0;36m1\u001b[0m\u001b[0;34m]\u001b[0m\u001b[0;34m[\u001b[0m\u001b[0;34m\"tokens_on_board\"\u001b[0m\u001b[0;34m]\u001b[0m\u001b[0;34m\u001b[0m\u001b[0;34m\u001b[0m\u001b[0m\n\u001b[1;32m     26\u001b[0m         \u001b[0mpion_p2\u001b[0m\u001b[0;34m[\u001b[0m\u001b[0mi\u001b[0m\u001b[0;34m]\u001b[0m \u001b[0;34m=\u001b[0m \u001b[0mmarelle_env\u001b[0m\u001b[0;34m.\u001b[0m\u001b[0mboard\u001b[0m\u001b[0;34m.\u001b[0m\u001b[0mplayers\u001b[0m\u001b[0;34m[\u001b[0m\u001b[0;34m-\u001b[0m\u001b[0;36m1\u001b[0m\u001b[0;34m]\u001b[0m\u001b[0;34m[\u001b[0m\u001b[0;34m\"tokens_on_board\"\u001b[0m\u001b[0;34m]\u001b[0m\u001b[0;34m\u001b[0m\u001b[0;34m\u001b[0m\u001b[0m\n",
      "\u001b[0;32m<ipython-input-7-abcc0e7cf1ff>\u001b[0m in \u001b[0;36mstep\u001b[0;34m(self, action)\u001b[0m\n\u001b[1;32m     15\u001b[0m     \u001b[0;32mdef\u001b[0m \u001b[0mstep\u001b[0m\u001b[0;34m(\u001b[0m\u001b[0mself\u001b[0m\u001b[0;34m,\u001b[0m \u001b[0maction\u001b[0m\u001b[0;34m)\u001b[0m\u001b[0;34m:\u001b[0m\u001b[0;34m\u001b[0m\u001b[0;34m\u001b[0m\u001b[0m\n\u001b[1;32m     16\u001b[0m \u001b[0;34m\u001b[0m\u001b[0m\n\u001b[0;32m---> 17\u001b[0;31m         \u001b[0mself\u001b[0m\u001b[0;34m.\u001b[0m\u001b[0mboard\u001b[0m\u001b[0;34m.\u001b[0m\u001b[0mplay_action\u001b[0m\u001b[0;34m(\u001b[0m\u001b[0maction\u001b[0m\u001b[0;34m,\u001b[0m\u001b[0mself\u001b[0m\u001b[0;34m.\u001b[0m\u001b[0mcurrent_player\u001b[0m\u001b[0;34m)\u001b[0m\u001b[0;34m\u001b[0m\u001b[0;34m\u001b[0m\u001b[0m\n\u001b[0m\u001b[1;32m     18\u001b[0m \u001b[0;34m\u001b[0m\u001b[0m\n\u001b[1;32m     19\u001b[0m         \u001b[0mobservation\u001b[0m\u001b[0;34m=\u001b[0m\u001b[0mself\u001b[0m\u001b[0;34m.\u001b[0m\u001b[0mboard\u001b[0m\u001b[0;34m.\u001b[0m\u001b[0mget_state\u001b[0m\u001b[0;34m(\u001b[0m\u001b[0;34m)\u001b[0m\u001b[0;34m\u001b[0m\u001b[0;34m\u001b[0m\u001b[0m\n",
      "\u001b[0;32m~/Desktop/MARL/maRL_board.py\u001b[0m in \u001b[0;36mplay_action\u001b[0;34m(self, action_id, player)\u001b[0m\n\u001b[1;32m    114\u001b[0m \u001b[0;34m\u001b[0m\u001b[0m\n\u001b[1;32m    115\u001b[0m         \u001b[0;32melse\u001b[0m\u001b[0;34m:\u001b[0m\u001b[0;34m\u001b[0m\u001b[0;34m\u001b[0m\u001b[0m\n\u001b[0;32m--> 116\u001b[0;31m             \u001b[0mself\u001b[0m\u001b[0;34m.\u001b[0m\u001b[0mmove_token_action\u001b[0m\u001b[0;34m(\u001b[0m\u001b[0mself\u001b[0m\u001b[0;34m.\u001b[0m\u001b[0maction_list_by_id\u001b[0m\u001b[0;34m[\u001b[0m\u001b[0maction_id\u001b[0m\u001b[0;34m]\u001b[0m\u001b[0;34m,\u001b[0m \u001b[0mplayer\u001b[0m\u001b[0;34m)\u001b[0m\u001b[0;34m\u001b[0m\u001b[0;34m\u001b[0m\u001b[0m\n\u001b[0m\u001b[1;32m    117\u001b[0m         \u001b[0mself\u001b[0m\u001b[0;34m.\u001b[0m\u001b[0mchange_phase_if_needed\u001b[0m\u001b[0;34m(\u001b[0m\u001b[0;34m)\u001b[0m\u001b[0;34m\u001b[0m\u001b[0;34m\u001b[0m\u001b[0m\n\u001b[1;32m    118\u001b[0m         \u001b[0mself\u001b[0m\u001b[0;34m.\u001b[0m\u001b[0mcheck_if_end\u001b[0m\u001b[0;34m(\u001b[0m\u001b[0;34m)\u001b[0m\u001b[0;34m\u001b[0m\u001b[0;34m\u001b[0m\u001b[0m\n",
      "\u001b[0;32m~/Desktop/MARL/maRL_board.py\u001b[0m in \u001b[0;36mmove_token_action\u001b[0;34m(self, action, player)\u001b[0m\n\u001b[1;32m    176\u001b[0m     \u001b[0;32mdef\u001b[0m \u001b[0mmove_token_action\u001b[0m\u001b[0;34m(\u001b[0m\u001b[0mself\u001b[0m\u001b[0;34m,\u001b[0m \u001b[0maction\u001b[0m\u001b[0;34m,\u001b[0m \u001b[0mplayer\u001b[0m\u001b[0;34m)\u001b[0m\u001b[0;34m:\u001b[0m\u001b[0;34m\u001b[0m\u001b[0;34m\u001b[0m\u001b[0m\n\u001b[1;32m    177\u001b[0m         \u001b[0medge\u001b[0m\u001b[0;34m,\u001b[0m \u001b[0mopponent_token\u001b[0m \u001b[0;34m=\u001b[0m \u001b[0maction\u001b[0m\u001b[0;34m\u001b[0m\u001b[0;34m\u001b[0m\u001b[0m\n\u001b[0;32m--> 178\u001b[0;31m         \u001b[0mlegal_moves\u001b[0m \u001b[0;34m=\u001b[0m \u001b[0mself\u001b[0m\u001b[0;34m.\u001b[0m\u001b[0mmove_token_legal_actions\u001b[0m\u001b[0;34m(\u001b[0m\u001b[0mplayer\u001b[0m\u001b[0;34m)\u001b[0m\u001b[0;34m\u001b[0m\u001b[0;34m\u001b[0m\u001b[0m\n\u001b[0m\u001b[1;32m    179\u001b[0m         \u001b[0;32mif\u001b[0m \u001b[0maction\u001b[0m \u001b[0;32mnot\u001b[0m \u001b[0;32min\u001b[0m \u001b[0mlegal_moves\u001b[0m\u001b[0;34m:\u001b[0m\u001b[0;34m\u001b[0m\u001b[0;34m\u001b[0m\u001b[0m\n\u001b[1;32m    180\u001b[0m             \u001b[0;32mraise\u001b[0m \u001b[0mException\u001b[0m\u001b[0;34m(\u001b[0m\u001b[0;34m'Illegal token move action'\u001b[0m\u001b[0;34m)\u001b[0m\u001b[0;34m\u001b[0m\u001b[0;34m\u001b[0m\u001b[0m\n",
      "\u001b[0;32m~/Desktop/MARL/maRL_board.py\u001b[0m in \u001b[0;36mmove_token_legal_actions\u001b[0;34m(self, player)\u001b[0m\n\u001b[1;32m    215\u001b[0m             \u001b[0;32melse\u001b[0m\u001b[0;34m:\u001b[0m\u001b[0;34m\u001b[0m\u001b[0;34m\u001b[0m\u001b[0m\n\u001b[1;32m    216\u001b[0m                 \u001b[0;32mcontinue\u001b[0m\u001b[0;34m\u001b[0m\u001b[0;34m\u001b[0m\u001b[0m\n\u001b[0;32m--> 217\u001b[0;31m             \u001b[0mtemp_graph\u001b[0m \u001b[0;34m=\u001b[0m \u001b[0mcopy\u001b[0m\u001b[0;34m.\u001b[0m\u001b[0mdeepcopy\u001b[0m\u001b[0;34m(\u001b[0m\u001b[0mself\u001b[0m\u001b[0;34m.\u001b[0m\u001b[0mgraph\u001b[0m\u001b[0;34m)\u001b[0m\u001b[0;34m\u001b[0m\u001b[0;34m\u001b[0m\u001b[0m\n\u001b[0m\u001b[1;32m    218\u001b[0m             \u001b[0mtemp_graph\u001b[0m\u001b[0;34m.\u001b[0m\u001b[0mnodes\u001b[0m\u001b[0;34m[\u001b[0m\u001b[0mnew_node\u001b[0m\u001b[0;34m]\u001b[0m\u001b[0;34m[\u001b[0m\u001b[0;34m\"state\"\u001b[0m\u001b[0;34m]\u001b[0m \u001b[0;34m=\u001b[0m \u001b[0mplayer\u001b[0m\u001b[0;34m\u001b[0m\u001b[0;34m\u001b[0m\u001b[0m\n\u001b[1;32m    219\u001b[0m             \u001b[0mtemp_graph\u001b[0m\u001b[0;34m.\u001b[0m\u001b[0mnodes\u001b[0m\u001b[0;34m[\u001b[0m\u001b[0mcur_node\u001b[0m\u001b[0;34m]\u001b[0m\u001b[0;34m[\u001b[0m\u001b[0;34m\"state\"\u001b[0m\u001b[0;34m]\u001b[0m \u001b[0;34m=\u001b[0m \u001b[0;36m0\u001b[0m\u001b[0;34m\u001b[0m\u001b[0;34m\u001b[0m\u001b[0m\n",
      "\u001b[0;32m~/opt/anaconda3/lib/python3.7/copy.py\u001b[0m in \u001b[0;36mdeepcopy\u001b[0;34m(x, memo, _nil)\u001b[0m\n\u001b[1;32m    178\u001b[0m                     \u001b[0my\u001b[0m \u001b[0;34m=\u001b[0m \u001b[0mx\u001b[0m\u001b[0;34m\u001b[0m\u001b[0;34m\u001b[0m\u001b[0m\n\u001b[1;32m    179\u001b[0m                 \u001b[0;32melse\u001b[0m\u001b[0;34m:\u001b[0m\u001b[0;34m\u001b[0m\u001b[0;34m\u001b[0m\u001b[0m\n\u001b[0;32m--> 180\u001b[0;31m                     \u001b[0my\u001b[0m \u001b[0;34m=\u001b[0m \u001b[0m_reconstruct\u001b[0m\u001b[0;34m(\u001b[0m\u001b[0mx\u001b[0m\u001b[0;34m,\u001b[0m \u001b[0mmemo\u001b[0m\u001b[0;34m,\u001b[0m \u001b[0;34m*\u001b[0m\u001b[0mrv\u001b[0m\u001b[0;34m)\u001b[0m\u001b[0;34m\u001b[0m\u001b[0;34m\u001b[0m\u001b[0m\n\u001b[0m\u001b[1;32m    181\u001b[0m \u001b[0;34m\u001b[0m\u001b[0m\n\u001b[1;32m    182\u001b[0m     \u001b[0;31m# If is its own copy, don't memoize.\u001b[0m\u001b[0;34m\u001b[0m\u001b[0;34m\u001b[0m\u001b[0;34m\u001b[0m\u001b[0m\n",
      "\u001b[0;32m~/opt/anaconda3/lib/python3.7/copy.py\u001b[0m in \u001b[0;36m_reconstruct\u001b[0;34m(x, memo, func, args, state, listiter, dictiter, deepcopy)\u001b[0m\n\u001b[1;32m    278\u001b[0m     \u001b[0;32mif\u001b[0m \u001b[0mstate\u001b[0m \u001b[0;32mis\u001b[0m \u001b[0;32mnot\u001b[0m \u001b[0;32mNone\u001b[0m\u001b[0;34m:\u001b[0m\u001b[0;34m\u001b[0m\u001b[0;34m\u001b[0m\u001b[0m\n\u001b[1;32m    279\u001b[0m         \u001b[0;32mif\u001b[0m \u001b[0mdeep\u001b[0m\u001b[0;34m:\u001b[0m\u001b[0;34m\u001b[0m\u001b[0;34m\u001b[0m\u001b[0m\n\u001b[0;32m--> 280\u001b[0;31m             \u001b[0mstate\u001b[0m \u001b[0;34m=\u001b[0m \u001b[0mdeepcopy\u001b[0m\u001b[0;34m(\u001b[0m\u001b[0mstate\u001b[0m\u001b[0;34m,\u001b[0m \u001b[0mmemo\u001b[0m\u001b[0;34m)\u001b[0m\u001b[0;34m\u001b[0m\u001b[0;34m\u001b[0m\u001b[0m\n\u001b[0m\u001b[1;32m    281\u001b[0m         \u001b[0;32mif\u001b[0m \u001b[0mhasattr\u001b[0m\u001b[0;34m(\u001b[0m\u001b[0my\u001b[0m\u001b[0;34m,\u001b[0m \u001b[0;34m'__setstate__'\u001b[0m\u001b[0;34m)\u001b[0m\u001b[0;34m:\u001b[0m\u001b[0;34m\u001b[0m\u001b[0;34m\u001b[0m\u001b[0m\n\u001b[1;32m    282\u001b[0m             \u001b[0my\u001b[0m\u001b[0;34m.\u001b[0m\u001b[0m__setstate__\u001b[0m\u001b[0;34m(\u001b[0m\u001b[0mstate\u001b[0m\u001b[0;34m)\u001b[0m\u001b[0;34m\u001b[0m\u001b[0;34m\u001b[0m\u001b[0m\n",
      "\u001b[0;32m~/opt/anaconda3/lib/python3.7/copy.py\u001b[0m in \u001b[0;36mdeepcopy\u001b[0;34m(x, memo, _nil)\u001b[0m\n\u001b[1;32m    148\u001b[0m     \u001b[0mcopier\u001b[0m \u001b[0;34m=\u001b[0m \u001b[0m_deepcopy_dispatch\u001b[0m\u001b[0;34m.\u001b[0m\u001b[0mget\u001b[0m\u001b[0;34m(\u001b[0m\u001b[0mcls\u001b[0m\u001b[0;34m)\u001b[0m\u001b[0;34m\u001b[0m\u001b[0;34m\u001b[0m\u001b[0m\n\u001b[1;32m    149\u001b[0m     \u001b[0;32mif\u001b[0m \u001b[0mcopier\u001b[0m\u001b[0;34m:\u001b[0m\u001b[0;34m\u001b[0m\u001b[0;34m\u001b[0m\u001b[0m\n\u001b[0;32m--> 150\u001b[0;31m         \u001b[0my\u001b[0m \u001b[0;34m=\u001b[0m \u001b[0mcopier\u001b[0m\u001b[0;34m(\u001b[0m\u001b[0mx\u001b[0m\u001b[0;34m,\u001b[0m \u001b[0mmemo\u001b[0m\u001b[0;34m)\u001b[0m\u001b[0;34m\u001b[0m\u001b[0;34m\u001b[0m\u001b[0m\n\u001b[0m\u001b[1;32m    151\u001b[0m     \u001b[0;32melse\u001b[0m\u001b[0;34m:\u001b[0m\u001b[0;34m\u001b[0m\u001b[0;34m\u001b[0m\u001b[0m\n\u001b[1;32m    152\u001b[0m         \u001b[0;32mtry\u001b[0m\u001b[0;34m:\u001b[0m\u001b[0;34m\u001b[0m\u001b[0;34m\u001b[0m\u001b[0m\n",
      "\u001b[0;32m~/opt/anaconda3/lib/python3.7/copy.py\u001b[0m in \u001b[0;36m_deepcopy_dict\u001b[0;34m(x, memo, deepcopy)\u001b[0m\n\u001b[1;32m    238\u001b[0m     \u001b[0mmemo\u001b[0m\u001b[0;34m[\u001b[0m\u001b[0mid\u001b[0m\u001b[0;34m(\u001b[0m\u001b[0mx\u001b[0m\u001b[0;34m)\u001b[0m\u001b[0;34m]\u001b[0m \u001b[0;34m=\u001b[0m \u001b[0my\u001b[0m\u001b[0;34m\u001b[0m\u001b[0;34m\u001b[0m\u001b[0m\n\u001b[1;32m    239\u001b[0m     \u001b[0;32mfor\u001b[0m \u001b[0mkey\u001b[0m\u001b[0;34m,\u001b[0m \u001b[0mvalue\u001b[0m \u001b[0;32min\u001b[0m \u001b[0mx\u001b[0m\u001b[0;34m.\u001b[0m\u001b[0mitems\u001b[0m\u001b[0;34m(\u001b[0m\u001b[0;34m)\u001b[0m\u001b[0;34m:\u001b[0m\u001b[0;34m\u001b[0m\u001b[0;34m\u001b[0m\u001b[0m\n\u001b[0;32m--> 240\u001b[0;31m         \u001b[0my\u001b[0m\u001b[0;34m[\u001b[0m\u001b[0mdeepcopy\u001b[0m\u001b[0;34m(\u001b[0m\u001b[0mkey\u001b[0m\u001b[0;34m,\u001b[0m \u001b[0mmemo\u001b[0m\u001b[0;34m)\u001b[0m\u001b[0;34m]\u001b[0m \u001b[0;34m=\u001b[0m \u001b[0mdeepcopy\u001b[0m\u001b[0;34m(\u001b[0m\u001b[0mvalue\u001b[0m\u001b[0;34m,\u001b[0m \u001b[0mmemo\u001b[0m\u001b[0;34m)\u001b[0m\u001b[0;34m\u001b[0m\u001b[0;34m\u001b[0m\u001b[0m\n\u001b[0m\u001b[1;32m    241\u001b[0m     \u001b[0;32mreturn\u001b[0m \u001b[0my\u001b[0m\u001b[0;34m\u001b[0m\u001b[0;34m\u001b[0m\u001b[0m\n\u001b[1;32m    242\u001b[0m \u001b[0md\u001b[0m\u001b[0;34m[\u001b[0m\u001b[0mdict\u001b[0m\u001b[0;34m]\u001b[0m \u001b[0;34m=\u001b[0m \u001b[0m_deepcopy_dict\u001b[0m\u001b[0;34m\u001b[0m\u001b[0;34m\u001b[0m\u001b[0m\n",
      "\u001b[0;32m~/opt/anaconda3/lib/python3.7/copy.py\u001b[0m in \u001b[0;36mdeepcopy\u001b[0;34m(x, memo, _nil)\u001b[0m\n\u001b[1;32m    148\u001b[0m     \u001b[0mcopier\u001b[0m \u001b[0;34m=\u001b[0m \u001b[0m_deepcopy_dispatch\u001b[0m\u001b[0;34m.\u001b[0m\u001b[0mget\u001b[0m\u001b[0;34m(\u001b[0m\u001b[0mcls\u001b[0m\u001b[0;34m)\u001b[0m\u001b[0;34m\u001b[0m\u001b[0;34m\u001b[0m\u001b[0m\n\u001b[1;32m    149\u001b[0m     \u001b[0;32mif\u001b[0m \u001b[0mcopier\u001b[0m\u001b[0;34m:\u001b[0m\u001b[0;34m\u001b[0m\u001b[0;34m\u001b[0m\u001b[0m\n\u001b[0;32m--> 150\u001b[0;31m         \u001b[0my\u001b[0m \u001b[0;34m=\u001b[0m \u001b[0mcopier\u001b[0m\u001b[0;34m(\u001b[0m\u001b[0mx\u001b[0m\u001b[0;34m,\u001b[0m \u001b[0mmemo\u001b[0m\u001b[0;34m)\u001b[0m\u001b[0;34m\u001b[0m\u001b[0;34m\u001b[0m\u001b[0m\n\u001b[0m\u001b[1;32m    151\u001b[0m     \u001b[0;32melse\u001b[0m\u001b[0;34m:\u001b[0m\u001b[0;34m\u001b[0m\u001b[0;34m\u001b[0m\u001b[0m\n\u001b[1;32m    152\u001b[0m         \u001b[0;32mtry\u001b[0m\u001b[0;34m:\u001b[0m\u001b[0;34m\u001b[0m\u001b[0;34m\u001b[0m\u001b[0m\n",
      "\u001b[0;32m~/opt/anaconda3/lib/python3.7/copy.py\u001b[0m in \u001b[0;36m_deepcopy_dict\u001b[0;34m(x, memo, deepcopy)\u001b[0m\n\u001b[1;32m    238\u001b[0m     \u001b[0mmemo\u001b[0m\u001b[0;34m[\u001b[0m\u001b[0mid\u001b[0m\u001b[0;34m(\u001b[0m\u001b[0mx\u001b[0m\u001b[0;34m)\u001b[0m\u001b[0;34m]\u001b[0m \u001b[0;34m=\u001b[0m \u001b[0my\u001b[0m\u001b[0;34m\u001b[0m\u001b[0;34m\u001b[0m\u001b[0m\n\u001b[1;32m    239\u001b[0m     \u001b[0;32mfor\u001b[0m \u001b[0mkey\u001b[0m\u001b[0;34m,\u001b[0m \u001b[0mvalue\u001b[0m \u001b[0;32min\u001b[0m \u001b[0mx\u001b[0m\u001b[0;34m.\u001b[0m\u001b[0mitems\u001b[0m\u001b[0;34m(\u001b[0m\u001b[0;34m)\u001b[0m\u001b[0;34m:\u001b[0m\u001b[0;34m\u001b[0m\u001b[0;34m\u001b[0m\u001b[0m\n\u001b[0;32m--> 240\u001b[0;31m         \u001b[0my\u001b[0m\u001b[0;34m[\u001b[0m\u001b[0mdeepcopy\u001b[0m\u001b[0;34m(\u001b[0m\u001b[0mkey\u001b[0m\u001b[0;34m,\u001b[0m \u001b[0mmemo\u001b[0m\u001b[0;34m)\u001b[0m\u001b[0;34m]\u001b[0m \u001b[0;34m=\u001b[0m \u001b[0mdeepcopy\u001b[0m\u001b[0;34m(\u001b[0m\u001b[0mvalue\u001b[0m\u001b[0;34m,\u001b[0m \u001b[0mmemo\u001b[0m\u001b[0;34m)\u001b[0m\u001b[0;34m\u001b[0m\u001b[0;34m\u001b[0m\u001b[0m\n\u001b[0m\u001b[1;32m    241\u001b[0m     \u001b[0;32mreturn\u001b[0m \u001b[0my\u001b[0m\u001b[0;34m\u001b[0m\u001b[0;34m\u001b[0m\u001b[0m\n\u001b[1;32m    242\u001b[0m \u001b[0md\u001b[0m\u001b[0;34m[\u001b[0m\u001b[0mdict\u001b[0m\u001b[0;34m]\u001b[0m \u001b[0;34m=\u001b[0m \u001b[0m_deepcopy_dict\u001b[0m\u001b[0;34m\u001b[0m\u001b[0;34m\u001b[0m\u001b[0m\n",
      "\u001b[0;32m~/opt/anaconda3/lib/python3.7/copy.py\u001b[0m in \u001b[0;36mdeepcopy\u001b[0;34m(x, memo, _nil)\u001b[0m\n\u001b[1;32m    148\u001b[0m     \u001b[0mcopier\u001b[0m \u001b[0;34m=\u001b[0m \u001b[0m_deepcopy_dispatch\u001b[0m\u001b[0;34m.\u001b[0m\u001b[0mget\u001b[0m\u001b[0;34m(\u001b[0m\u001b[0mcls\u001b[0m\u001b[0;34m)\u001b[0m\u001b[0;34m\u001b[0m\u001b[0;34m\u001b[0m\u001b[0m\n\u001b[1;32m    149\u001b[0m     \u001b[0;32mif\u001b[0m \u001b[0mcopier\u001b[0m\u001b[0;34m:\u001b[0m\u001b[0;34m\u001b[0m\u001b[0;34m\u001b[0m\u001b[0m\n\u001b[0;32m--> 150\u001b[0;31m         \u001b[0my\u001b[0m \u001b[0;34m=\u001b[0m \u001b[0mcopier\u001b[0m\u001b[0;34m(\u001b[0m\u001b[0mx\u001b[0m\u001b[0;34m,\u001b[0m \u001b[0mmemo\u001b[0m\u001b[0;34m)\u001b[0m\u001b[0;34m\u001b[0m\u001b[0;34m\u001b[0m\u001b[0m\n\u001b[0m\u001b[1;32m    151\u001b[0m     \u001b[0;32melse\u001b[0m\u001b[0;34m:\u001b[0m\u001b[0;34m\u001b[0m\u001b[0;34m\u001b[0m\u001b[0m\n\u001b[1;32m    152\u001b[0m         \u001b[0;32mtry\u001b[0m\u001b[0;34m:\u001b[0m\u001b[0;34m\u001b[0m\u001b[0;34m\u001b[0m\u001b[0m\n",
      "\u001b[0;32m~/opt/anaconda3/lib/python3.7/copy.py\u001b[0m in \u001b[0;36m_deepcopy_dict\u001b[0;34m(x, memo, deepcopy)\u001b[0m\n\u001b[1;32m    238\u001b[0m     \u001b[0mmemo\u001b[0m\u001b[0;34m[\u001b[0m\u001b[0mid\u001b[0m\u001b[0;34m(\u001b[0m\u001b[0mx\u001b[0m\u001b[0;34m)\u001b[0m\u001b[0;34m]\u001b[0m \u001b[0;34m=\u001b[0m \u001b[0my\u001b[0m\u001b[0;34m\u001b[0m\u001b[0;34m\u001b[0m\u001b[0m\n\u001b[1;32m    239\u001b[0m     \u001b[0;32mfor\u001b[0m \u001b[0mkey\u001b[0m\u001b[0;34m,\u001b[0m \u001b[0mvalue\u001b[0m \u001b[0;32min\u001b[0m \u001b[0mx\u001b[0m\u001b[0;34m.\u001b[0m\u001b[0mitems\u001b[0m\u001b[0;34m(\u001b[0m\u001b[0;34m)\u001b[0m\u001b[0;34m:\u001b[0m\u001b[0;34m\u001b[0m\u001b[0;34m\u001b[0m\u001b[0m\n\u001b[0;32m--> 240\u001b[0;31m         \u001b[0my\u001b[0m\u001b[0;34m[\u001b[0m\u001b[0mdeepcopy\u001b[0m\u001b[0;34m(\u001b[0m\u001b[0mkey\u001b[0m\u001b[0;34m,\u001b[0m \u001b[0mmemo\u001b[0m\u001b[0;34m)\u001b[0m\u001b[0;34m]\u001b[0m \u001b[0;34m=\u001b[0m \u001b[0mdeepcopy\u001b[0m\u001b[0;34m(\u001b[0m\u001b[0mvalue\u001b[0m\u001b[0;34m,\u001b[0m \u001b[0mmemo\u001b[0m\u001b[0;34m)\u001b[0m\u001b[0;34m\u001b[0m\u001b[0;34m\u001b[0m\u001b[0m\n\u001b[0m\u001b[1;32m    241\u001b[0m     \u001b[0;32mreturn\u001b[0m \u001b[0my\u001b[0m\u001b[0;34m\u001b[0m\u001b[0;34m\u001b[0m\u001b[0m\n\u001b[1;32m    242\u001b[0m \u001b[0md\u001b[0m\u001b[0;34m[\u001b[0m\u001b[0mdict\u001b[0m\u001b[0;34m]\u001b[0m \u001b[0;34m=\u001b[0m \u001b[0m_deepcopy_dict\u001b[0m\u001b[0;34m\u001b[0m\u001b[0;34m\u001b[0m\u001b[0m\n",
      "\u001b[0;32m~/opt/anaconda3/lib/python3.7/copy.py\u001b[0m in \u001b[0;36mdeepcopy\u001b[0;34m(x, memo, _nil)\u001b[0m\n\u001b[1;32m    148\u001b[0m     \u001b[0mcopier\u001b[0m \u001b[0;34m=\u001b[0m \u001b[0m_deepcopy_dispatch\u001b[0m\u001b[0;34m.\u001b[0m\u001b[0mget\u001b[0m\u001b[0;34m(\u001b[0m\u001b[0mcls\u001b[0m\u001b[0;34m)\u001b[0m\u001b[0;34m\u001b[0m\u001b[0;34m\u001b[0m\u001b[0m\n\u001b[1;32m    149\u001b[0m     \u001b[0;32mif\u001b[0m \u001b[0mcopier\u001b[0m\u001b[0;34m:\u001b[0m\u001b[0;34m\u001b[0m\u001b[0;34m\u001b[0m\u001b[0m\n\u001b[0;32m--> 150\u001b[0;31m         \u001b[0my\u001b[0m \u001b[0;34m=\u001b[0m \u001b[0mcopier\u001b[0m\u001b[0;34m(\u001b[0m\u001b[0mx\u001b[0m\u001b[0;34m,\u001b[0m \u001b[0mmemo\u001b[0m\u001b[0;34m)\u001b[0m\u001b[0;34m\u001b[0m\u001b[0;34m\u001b[0m\u001b[0m\n\u001b[0m\u001b[1;32m    151\u001b[0m     \u001b[0;32melse\u001b[0m\u001b[0;34m:\u001b[0m\u001b[0;34m\u001b[0m\u001b[0;34m\u001b[0m\u001b[0m\n\u001b[1;32m    152\u001b[0m         \u001b[0;32mtry\u001b[0m\u001b[0;34m:\u001b[0m\u001b[0;34m\u001b[0m\u001b[0;34m\u001b[0m\u001b[0m\n",
      "\u001b[0;32m~/opt/anaconda3/lib/python3.7/copy.py\u001b[0m in \u001b[0;36m_deepcopy_tuple\u001b[0;34m(x, memo, deepcopy)\u001b[0m\n\u001b[1;32m    218\u001b[0m \u001b[0;34m\u001b[0m\u001b[0m\n\u001b[1;32m    219\u001b[0m \u001b[0;32mdef\u001b[0m \u001b[0m_deepcopy_tuple\u001b[0m\u001b[0;34m(\u001b[0m\u001b[0mx\u001b[0m\u001b[0;34m,\u001b[0m \u001b[0mmemo\u001b[0m\u001b[0;34m,\u001b[0m \u001b[0mdeepcopy\u001b[0m\u001b[0;34m=\u001b[0m\u001b[0mdeepcopy\u001b[0m\u001b[0;34m)\u001b[0m\u001b[0;34m:\u001b[0m\u001b[0;34m\u001b[0m\u001b[0;34m\u001b[0m\u001b[0m\n\u001b[0;32m--> 220\u001b[0;31m     \u001b[0my\u001b[0m \u001b[0;34m=\u001b[0m \u001b[0;34m[\u001b[0m\u001b[0mdeepcopy\u001b[0m\u001b[0;34m(\u001b[0m\u001b[0ma\u001b[0m\u001b[0;34m,\u001b[0m \u001b[0mmemo\u001b[0m\u001b[0;34m)\u001b[0m \u001b[0;32mfor\u001b[0m \u001b[0ma\u001b[0m \u001b[0;32min\u001b[0m \u001b[0mx\u001b[0m\u001b[0;34m]\u001b[0m\u001b[0;34m\u001b[0m\u001b[0;34m\u001b[0m\u001b[0m\n\u001b[0m\u001b[1;32m    221\u001b[0m     \u001b[0;31m# We're not going to put the tuple in the memo, but it's still important we\u001b[0m\u001b[0;34m\u001b[0m\u001b[0;34m\u001b[0m\u001b[0;34m\u001b[0m\u001b[0m\n\u001b[1;32m    222\u001b[0m     \u001b[0;31m# check for it, in case the tuple contains recursive mutable structures.\u001b[0m\u001b[0;34m\u001b[0m\u001b[0;34m\u001b[0m\u001b[0;34m\u001b[0m\u001b[0m\n",
      "\u001b[0;32m~/opt/anaconda3/lib/python3.7/copy.py\u001b[0m in \u001b[0;36m<listcomp>\u001b[0;34m(.0)\u001b[0m\n\u001b[1;32m    218\u001b[0m \u001b[0;34m\u001b[0m\u001b[0m\n\u001b[1;32m    219\u001b[0m \u001b[0;32mdef\u001b[0m \u001b[0m_deepcopy_tuple\u001b[0m\u001b[0;34m(\u001b[0m\u001b[0mx\u001b[0m\u001b[0;34m,\u001b[0m \u001b[0mmemo\u001b[0m\u001b[0;34m,\u001b[0m \u001b[0mdeepcopy\u001b[0m\u001b[0;34m=\u001b[0m\u001b[0mdeepcopy\u001b[0m\u001b[0;34m)\u001b[0m\u001b[0;34m:\u001b[0m\u001b[0;34m\u001b[0m\u001b[0;34m\u001b[0m\u001b[0m\n\u001b[0;32m--> 220\u001b[0;31m     \u001b[0my\u001b[0m \u001b[0;34m=\u001b[0m \u001b[0;34m[\u001b[0m\u001b[0mdeepcopy\u001b[0m\u001b[0;34m(\u001b[0m\u001b[0ma\u001b[0m\u001b[0;34m,\u001b[0m \u001b[0mmemo\u001b[0m\u001b[0;34m)\u001b[0m \u001b[0;32mfor\u001b[0m \u001b[0ma\u001b[0m \u001b[0;32min\u001b[0m \u001b[0mx\u001b[0m\u001b[0;34m]\u001b[0m\u001b[0;34m\u001b[0m\u001b[0;34m\u001b[0m\u001b[0m\n\u001b[0m\u001b[1;32m    221\u001b[0m     \u001b[0;31m# We're not going to put the tuple in the memo, but it's still important we\u001b[0m\u001b[0;34m\u001b[0m\u001b[0;34m\u001b[0m\u001b[0;34m\u001b[0m\u001b[0m\n\u001b[1;32m    222\u001b[0m     \u001b[0;31m# check for it, in case the tuple contains recursive mutable structures.\u001b[0m\u001b[0;34m\u001b[0m\u001b[0;34m\u001b[0m\u001b[0;34m\u001b[0m\u001b[0m\n",
      "\u001b[0;32m~/opt/anaconda3/lib/python3.7/copy.py\u001b[0m in \u001b[0;36mdeepcopy\u001b[0;34m(x, memo, _nil)\u001b[0m\n\u001b[1;32m    140\u001b[0m \u001b[0;34m\u001b[0m\u001b[0m\n\u001b[1;32m    141\u001b[0m     \u001b[0md\u001b[0m \u001b[0;34m=\u001b[0m \u001b[0mid\u001b[0m\u001b[0;34m(\u001b[0m\u001b[0mx\u001b[0m\u001b[0;34m)\u001b[0m\u001b[0;34m\u001b[0m\u001b[0;34m\u001b[0m\u001b[0m\n\u001b[0;32m--> 142\u001b[0;31m     \u001b[0my\u001b[0m \u001b[0;34m=\u001b[0m \u001b[0mmemo\u001b[0m\u001b[0;34m.\u001b[0m\u001b[0mget\u001b[0m\u001b[0;34m(\u001b[0m\u001b[0md\u001b[0m\u001b[0;34m,\u001b[0m \u001b[0m_nil\u001b[0m\u001b[0;34m)\u001b[0m\u001b[0;34m\u001b[0m\u001b[0;34m\u001b[0m\u001b[0m\n\u001b[0m\u001b[1;32m    143\u001b[0m     \u001b[0;32mif\u001b[0m \u001b[0my\u001b[0m \u001b[0;32mis\u001b[0m \u001b[0;32mnot\u001b[0m \u001b[0m_nil\u001b[0m\u001b[0;34m:\u001b[0m\u001b[0;34m\u001b[0m\u001b[0;34m\u001b[0m\u001b[0m\n\u001b[1;32m    144\u001b[0m         \u001b[0;32mreturn\u001b[0m \u001b[0my\u001b[0m\u001b[0;34m\u001b[0m\u001b[0;34m\u001b[0m\u001b[0m\n",
      "\u001b[0;31mKeyboardInterrupt\u001b[0m: "
     ]
    }
   ],
   "source": [
    "import progressbar\n",
    "compteur_partie=0\n",
    "compteur_piccolo=0\n",
    "compteur_gabrielle=0\n",
    "\n",
    "n_partie = 100\n",
    "n_tour = 500\n",
    "n_pion_p1 = np.zeros((n_partie,2*n_tour))\n",
    "n_pion_p2 = np.zeros((n_partie,2*n_tour))\n",
    "list_n_coup_joue=[]\n",
    "\n",
    "for j in progressbar.progressbar(range(n_partie)): #(n parties)\n",
    "    marelle_env = MarelleGymEnv()\n",
    "    piccolo= RandomAgent(marelle_env.board,1)\n",
    "    gabrielle = RandomAgent(marelle_env.board,-1)\n",
    "\n",
    "    compteur_partie+=1\n",
    "    pion_p1 = np.zeros(2*n_tour)\n",
    "    pion_p2 = np.zeros(2*n_tour)\n",
    "    n_coup_joue=0\n",
    "    for i in range (n_tour):\n",
    "\n",
    "        s=marelle_env.board.get_state()\n",
    "        a_p1 = piccolo.act(s,train = False)\n",
    "        s, reward, done, info = marelle_env.step(a_p1)\n",
    "        pion_p1[i]=marelle_env.board.players[1][\"tokens_on_board\"]\n",
    "        pion_p2[i] = marelle_env.board.players[-1][\"tokens_on_board\"]\n",
    "        n_coup_joue+=1\n",
    "        if done:\n",
    "            #print('Piccolo win fatality')\n",
    "            compteur_piccolo+=1\n",
    "            list_n_coup_joue.append(n_coup_joue)\n",
    "            break\n",
    "\n",
    "        #marelle_env.render()\n",
    "\n",
    "        a_p2 = gabrielle.act(s,train = False)\n",
    "        s, reward, done, info = marelle_env.step(a_p2)\n",
    "        pion_p1[i] = marelle_env.board.players[1][\"tokens_on_board\"]\n",
    "        pion_p2[i] = marelle_env.board.players[-1][\"tokens_on_board\"]\n",
    "        n_coup_joue+=1\n",
    "        if done :\n",
    "            #print('gabrielle win encore..')\n",
    "            compteur_gabrielle+=1\n",
    "            list_n_coup_joue.append(n_coup_joue)\n",
    "            break\n",
    "    \n",
    "    n_pion_p1[j]= pion_p1\n",
    "    n_pion_p2[j]= pion_p2    \n",
    "        #marelle_env.render()\n",
    " "
   ]
  },
  {
   "cell_type": "code",
   "execution_count": 54,
   "metadata": {},
   "outputs": [
    {
     "data": {
      "text/plain": [
       "[<matplotlib.lines.Line2D at 0x7fdcb93f2a50>]"
      ]
     },
     "execution_count": 54,
     "metadata": {},
     "output_type": "execute_result"
    },
    {
     "data": {
      "image/png": "[encoded data removed]",
      "text/plain": [
       "<Figure size 432x288 with 1 Axes>"
      ]
     },
     "metadata": {
      "needs_background": "light"
     },
     "output_type": "display_data"
    }
   ],
   "source": [
    "import matplotlib.pyplot as plt\n",
    "print(compteur_partie, compteur_piccolo, compteur_gabrielle)\n",
    "plt.plot(np.mean(n_pion_p1,axis = 0)[:100])\n",
    "plt.plot(np.mean(n_pion_p2,axis = 0)[:100])"
   ]
  },
  {
   "cell_type": "code",
   "execution_count": 18,
   "metadata": {},
   "outputs": [],
   "source": [
    "import cProfile\n",
    "def boucles(n_partie,n_tour):\n",
    "    for j in range(n_partie): #(n parties)\n",
    "        marelle_env = MarelleGymEnv()\n",
    "        piccolo= RandomAgent(marelle_env.board,1)\n",
    "        gabrielle = RandomAgent(marelle_env.board,-1)\n",
    "\n",
    "        for i in range (n_tour):\n",
    "\n",
    "            s=marelle_env.board.get_state()\n",
    "            a_p1 = piccolo.act(s,train = False)\n",
    "            s, reward, done, info = marelle_env.step(a_p1)\n",
    "            if done:\n",
    "                #print('Piccolo win fatality')\n",
    "                break\n",
    "\n",
    "            a_p2 = gabrielle.act(s,train = False)\n",
    "            s, reward, done, info = marelle_env.step(a_p2)\n",
    "            if done :\n",
    "                #print('gabrielle win encore..')\n",
    "                break \n",
    "        "
   ]
  },
  {
   "cell_type": "code",
   "execution_count": 19,
   "metadata": {},
   "outputs": [
    {
     "name": "stdout",
     "output_type": "stream",
     "text": [
      "         471080012 function calls (384196460 primitive calls) in 132.630 seconds\n",
      "\n",
      "   Ordered by: standard name\n",
      "\n",
      "   ncalls  tottime  percall  cumtime  percall filename:lineno(function)\n",
      "      200    0.000    0.000    0.001    0.000 <__array_function__ internals>:2(concatenate)\n",
      "     7255    0.005    0.000   66.159    0.009 <ipython-input-13-c9cd4e13515a>:11(act)\n",
      "      200    0.000    0.000    0.000    0.000 <ipython-input-13-c9cd4e13515a>:2(__init__)\n",
      "      200    0.000    0.000    0.000    0.000 <ipython-input-14-18967b4e80bd>:2(__init__)\n",
      "     7255    0.020    0.000   66.154    0.009 <ipython-input-14-18967b4e80bd>:6(learned_act)\n",
      "        1    0.024    0.024  132.630  132.630 <ipython-input-18-230384b5c51d>:2(boucles)\n",
      "     7255    0.028    0.000   66.194    0.009 <ipython-input-7-abcc0e7cf1ff>:15(step)\n",
      "      100    0.001    0.000    0.140    0.001 <ipython-input-7-abcc0e7cf1ff>:4(__init__)\n",
      "        1    0.000    0.000  132.630  132.630 <string>:1(<module>)\n",
      "      200    0.000    0.000    0.001    0.000 _asarray.py:16(asarray)\n",
      "     7255    0.026    0.000    0.058    0.000 _dtype.py:319(_name_get)\n",
      "      200    0.000    0.000    0.002    0.000 _methods.py:44(_any)\n",
      "      400    0.001    0.000    0.001    0.000 _ufunc_config.py:139(geterr)\n",
      "      400    0.001    0.000    0.002    0.000 _ufunc_config.py:39(seterr)\n",
      "      200    0.000    0.000    0.002    0.000 _ufunc_config.py:441(__enter__)\n",
      "      200    0.000    0.000    0.001    0.000 _ufunc_config.py:446(__exit__)\n",
      "      200    0.000    0.000    0.000    0.000 abc.py:137(__instancecheck__)\n",
      "      200    0.000    0.000    0.000    0.000 contextlib.py:58(_recreate_cm)\n",
      "      200    0.016    0.000    0.019    0.000 contextlib.py:71(inner)\n",
      "74860128/143136   55.657    0.000  127.703    0.001 copy.py:132(deepcopy)\n",
      " 41652576    3.190    0.000    3.190    0.000 copy.py:190(_deepcopy_atomic)\n",
      " 16031232   15.861    0.000   55.438    0.000 copy.py:219(_deepcopy_tuple)\n",
      " 16031232    7.347    0.000   38.523    0.000 copy.py:220(<listcomp>)\n",
      "12166560/143136   16.172    0.000  125.568    0.001 copy.py:236(_deepcopy_dict)\n",
      " 12452832    5.142    0.000    7.050    0.000 copy.py:252(_keep_alive)\n",
      "286272/143136    0.857    0.000  126.831    0.001 copy.py:268(_reconstruct)\n",
      "   572544    0.158    0.000    0.597    0.000 copy.py:273(<genexpr>)\n",
      "   286272    0.185    0.000    0.243    0.000 copyreg.py:87(__newobj__)\n",
      "      200    0.001    0.000    0.060    0.000 discrete.py:13(__init__)\n",
      "    11010    0.009    0.000    0.026    0.000 graph.py:1242(edges)\n",
      "      100    0.000    0.000    0.000    0.000 graph.py:290(__init__)\n",
      "     2400    0.002    0.000    0.002    0.000 graph.py:467(add_node)\n",
      "  2057656    0.875    0.000    1.187    0.000 graph.py:656(nodes)\n",
      "     3200    0.003    0.000    0.004    0.000 graph.py:820(add_edge)\n",
      "     7255    0.029    0.000   65.921    0.009 maRL_board.py:111(play_action)\n",
      "     7255    0.080    0.000   65.880    0.009 maRL_board.py:120(get_legal_action_ids)\n",
      "    11007    0.150    0.000    0.354    0.000 maRL_board.py:134(get_state)\n",
      "     1800    0.013    0.000   26.285    0.015 maRL_board.py:141(place_token_action)\n",
      "     3600    0.495    0.000   52.521    0.015 maRL_board.py:157(place_token_legal_actions)\n",
      "      100    0.048    0.000    0.075    0.001 maRL_board.py:16(__init__)\n",
      "     5455    0.042    0.000   39.596    0.007 maRL_board.py:176(move_token_action)\n",
      "    10910    1.271    0.000   79.078    0.007 maRL_board.py:199(move_token_legal_actions)\n",
      "   143136    0.381    0.000    0.461    0.000 maRL_board.py:228(check_if_capture)\n",
      "     7255    0.007    0.000    0.007    0.000 maRL_board.py:261(change_phase_if_needed)\n",
      "    21765    0.009    0.000    0.009    0.000 maRL_board.py:265(check_if_end)\n",
      "   356438    0.039    0.000    0.039    0.000 maRL_board.py:282(get_opponent)\n",
      "      100    0.004    0.000    0.012    0.000 maRL_board.py:55(initialize_game)\n",
      "      200    0.000    0.000    0.000    0.000 multiarray.py:145(concatenate)\n",
      "    14510    0.012    0.000    0.019    0.000 numerictypes.py:293(issubclass_)\n",
      "     7255    0.012    0.000    0.032    0.000 numerictypes.py:365(issubdtype)\n",
      "      200    0.001    0.000    0.002    0.000 random.py:681(getrandbits)\n",
      "   363330    0.281    0.000    0.283    0.000 reportviews.py:1116(__iter__)\n",
      "   143136    0.073    0.000    0.073    0.000 reportviews.py:170(__getstate__)\n",
      "   143136    0.042    0.000    0.042    0.000 reportviews.py:173(__setstate__)\n",
      "  2057656    0.312    0.000    0.312    0.000 reportviews.py:176(__init__)\n",
      "    34817    0.013    0.000    0.021    0.000 reportviews.py:183(__iter__)\n",
      "  2308275    0.382    0.000    0.382    0.000 reportviews.py:186(__getitem__)\n",
      "    11010    0.013    0.000    0.017    0.000 reportviews.py:992(__init__)\n",
      "      200    0.019    0.000    0.059    0.000 seeding.py:11(np_random)\n",
      "      200    0.001    0.000    0.003    0.000 seeding.py:21(hash_seed)\n",
      "      200    0.000    0.000    0.005    0.000 seeding.py:45(create_seed)\n",
      "      400    0.003    0.000    0.004    0.000 seeding.py:69(_bigint_from_bytes)\n",
      "      200    0.000    0.000    0.000    0.000 seeding.py:80(_int_list_from_bigint)\n",
      "      200    0.000    0.000    0.059    0.000 space.py:21(seed)\n",
      "      200    0.001    0.000    0.060    0.000 space.py:9(__init__)\n",
      "   286272    0.059    0.000    0.059    0.000 {built-in method __new__ of type object at 0x109e2a568}\n",
      "      200    0.000    0.000    0.000    0.000 {built-in method _abc._abc_instancecheck}\n",
      "      200    0.001    0.000    0.001    0.000 {built-in method _hashlib.openssl_sha512}\n",
      "      400    0.000    0.000    0.000    0.000 {built-in method _struct.unpack}\n",
      "      400    0.000    0.000    0.000    0.000 {built-in method builtins.divmod}\n",
      "        1    0.000    0.000  132.630  132.630 {built-in method builtins.exec}\n",
      "   572544    0.186    0.000    0.186    0.000 {built-in method builtins.getattr}\n",
      "   297282    0.061    0.000    0.061    0.000 {built-in method builtins.hasattr}\n",
      "115940160    7.678    0.000    7.678    0.000 {built-in method builtins.id}\n",
      "   429408    0.089    0.000    0.089    0.000 {built-in method builtins.isinstance}\n",
      "   451173    0.079    0.000    0.079    0.000 {built-in method builtins.issubclass}\n",
      "    34817    0.007    0.000    0.007    0.000 {built-in method builtins.iter}\n",
      "     1200    0.000    0.000    0.000    0.000 {built-in method builtins.len}\n",
      "      200    0.000    0.000    0.000    0.000 {built-in method from_bytes}\n",
      "      200    0.001    0.000    0.001    0.000 {built-in method numpy.array}\n",
      "      200    0.001    0.000    0.001    0.000 {built-in method numpy.core._multiarray_umath.implement_array_function}\n",
      "      800    0.000    0.000    0.000    0.000 {built-in method numpy.geterrobj}\n",
      "      400    0.000    0.000    0.000    0.000 {built-in method numpy.seterrobj}\n",
      "      400    0.003    0.000    0.003    0.000 {built-in method posix.urandom}\n",
      "   286272    0.365    0.000    0.438    0.000 {method '__reduce_ex__' of 'object' objects}\n",
      " 13049044    1.137    0.000    1.137    0.000 {method 'append' of 'list' objects}\n",
      "     7255    0.196    0.000    0.254    0.000 {method 'choice' of 'numpy.random.mtrand.RandomState' objects}\n",
      "      200    0.001    0.000    0.001    0.000 {method 'digest' of '_hashlib.HASH' objects}\n",
      "        1    0.000    0.000    0.000    0.000 {method 'disable' of '_lsprof.Profiler' objects}\n",
      "      200    0.000    0.000    0.000    0.000 {method 'encode' of 'str' objects}\n",
      "      400    0.000    0.000    0.000    0.000 {method 'format' of 'str' objects}\n",
      "145286240   12.246    0.000   12.246    0.000 {method 'get' of 'dict' objects}\n",
      " 12177570    1.106    0.000    1.106    0.000 {method 'items' of 'dict' objects}\n",
      "      200    0.001    0.000    0.001    0.000 {method 'reduce' of 'numpy.ufunc' objects}\n",
      "      200    0.006    0.000    0.008    0.000 {method 'seed' of 'numpy.random.mtrand.RandomState' objects}\n",
      "   148836    0.090    0.000    0.090    0.000 {method 'update' of 'dict' objects}\n",
      "\n",
      "\n"
     ]
    }
   ],
   "source": [
    "cProfile.run(\"boucles(100,130)\")"
   ]
  }
 ],
 "metadata": {
  "colab": {
   "collapsed_sections": [],
   "name": "maRL_environment",
   "provenance": []
  },
  "kernelspec": {
   "display_name": "Python 3",
   "language": "python",
   "name": "python3"
  },
  "language_info": {
   "codemirror_mode": {
    "name": "ipython",
    "version": 3
   },
   "file_extension": ".py",
   "mimetype": "text/x-python",
   "name": "python",
   "nbconvert_exporter": "python",
   "pygments_lexer": "ipython3",
   "version": "3.7.4"
  },
  "varInspector": {
   "cols": {
    "lenName": 16,
    "lenType": 16,
    "lenVar": 40
   },
   "kernels_config": {
    "python": {
     "delete_cmd_postfix": "",
     "delete_cmd_prefix": "del ",
     "library": "var_list.py",
     "varRefreshCmd": "print(var_dic_list())"
    },
    "r": {
     "delete_cmd_postfix": ") ",
     "delete_cmd_prefix": "rm(",
     "library": "var_list.r",
     "varRefreshCmd": "cat(var_dic_list()) "
    }
   },
   "types_to_exclude": [
    "module",
    "function",
    "builtin_function_or_method",
    "instance",
    "_Feature"
   ],
   "window_display": true
  }
 },
 "nbformat": 4,
 "nbformat_minor": 1
}
