{
 "cells": [
  {
   "cell_type": "markdown",
   "metadata": {},
   "source": [
    "# Marelle Board import\n",
    "* Getting players info dict => `MarelleBoard.players`\n",
    "* 3 phases : place, move and end => `MarelleBoard.phase`\n",
    "* Reset the board => `MarelleBoard.initialize_game()`\n",
    "* Printing the board => `MarelleBoard.print_board()`\n",
    "* Id:Action dict => `MarelleBoard.id_to_action`\n",
    "* Action:Id dict => `MarelleBoard.action_to_id`\n",
    "* Get the board state => `MarelleBoard.get_state()`\n",
    "* Play an action => `MarelleBoard.play_action(action_id, player)`\n",
    "* Get legal action ids => `MarelleBoard.get_legal_action_ids(player)`\n",
    "* Check if game ended (returns 0 if not ended or winning player id) : `MarelleBoard.check_if_end(player)`"
   ]
  },
  {
   "cell_type": "code",
   "execution_count": 5,
   "metadata": {
    "id": "Ge3pFEexRsNn"
   },
   "outputs": [],
   "source": [
    "import importlib\n",
    "\n",
    "import marl_env\n",
    "import marl_agents\n",
    "import marl_models\n",
    "import marl_evaluations\n",
    "importlib.reload(marl_env)\n",
    "importlib.reload(marl_agents)\n",
    "importlib.reload(marl_models)\n",
    "importlib.reload(marl_evaluations)\n",
    "\n",
    "from marl_env import MarelleBoard, MarelleGymEnv, MarelleGame\n",
    "from marl_models import FCModel, ConvModel\n",
    "from marl_agents import RandomAgent, BetterRandomAgent, SingleModelReinforce, ReinforceAgent, MarelleAgent\n",
    "from marl_train import train_agent, adversarial_training\n",
    "from marl_evaluations import evaluate\n",
    "\n",
    "import progressbar as pb\n",
    "import numpy as np \n",
    "import os\n",
    "import cProfile\n",
    "\n",
    "import matplotlib.pyplot as plt\n",
    "import seaborn as sns\n",
    "import pandas as pd\n",
    "import wandb\n",
    "\n",
    "import torch\n",
    "import torch.nn as nn"
   ]
  },
  {
   "cell_type": "markdown",
   "metadata": {},
   "source": [
    "# Training\n"
   ]
  },
  {
   "cell_type": "code",
   "execution_count": 9,
   "metadata": {},
   "outputs": [
    {
     "data": {
      "text/plain": [
       "array([1., 1., 1., 1., 1., 1., 1., 1., 1., 1., 1., 1., 1., 1., 1., 1., 1.,\n",
       "       1., 1., 1., 1., 1., 1., 1., 1., 1., 1., 1., 1., 1.])"
      ]
     },
     "execution_count": 9,
     "metadata": {},
     "output_type": "execute_result"
    }
   ],
   "source": [
    "# ACTOR CRITIC !!\n",
    "# TRIPLE ACTION NETWORK !!\n",
    "# DeepL style network\n",
    "# Q learning"
   ]
  },
  {
   "cell_type": "markdown",
   "metadata": {},
   "source": [
    "## Restoring Models"
   ]
  },
  {
   "cell_type": "code",
   "execution_count": 3,
   "metadata": {},
   "outputs": [],
   "source": [
    "def load_model_wandb(model_name, run_id, model):\n",
    "    wandb.restore(model_name, run_path=f'clement-guillo/marl/{run_id}',root= \"models/temp/\")\n",
    "    model.load_state_dict(torch.load(f'models/temp/{model_name}'))\n",
    "    os.remove(f'models/temp/{model_name}')\n",
    "    return(model)\n",
    "\n",
    "def load_model_local(model_name, model):\n",
    "    model.load_state_dict(torch.load(f'models/{model_name}'))\n",
    "    return(model)"
   ]
  },
  {
   "cell_type": "markdown",
   "metadata": {},
   "source": [
    "## Full game training"
   ]
  },
  {
   "cell_type": "code",
   "execution_count": 6,
   "metadata": {
    "collapsed": true
   },
   "outputs": [
    {
     "data": {
      "text/html": [
       "<br/>Waiting for W&B process to finish, PID 28360<br/>Program ended successfully."
      ],
      "text/plain": [
       "<IPython.core.display.HTML object>"
      ]
     },
     "metadata": {},
     "output_type": "display_data"
    },
    {
     "data": {
      "application/vnd.jupyter.widget-view+json": {
       "model_id": "",
       "version_major": 2,
       "version_minor": 0
      },
      "text/plain": [
       "VBox(children=(Label(value=' 0.00MB of 0.00MB uploaded (0.00MB deduped)\\r'), FloatProgress(value=1.0, max=1.0)…"
      ]
     },
     "metadata": {},
     "output_type": "display_data"
    },
    {
     "data": {
      "text/html": [
       "Find user logs for this run at: <code>wandb/run-20201119_192806-2hxncuzg/logs/debug.log</code>"
      ],
      "text/plain": [
       "<IPython.core.display.HTML object>"
      ]
     },
     "metadata": {},
     "output_type": "display_data"
    },
    {
     "data": {
      "text/html": [
       "Find internal logs for this run at: <code>wandb/run-20201119_192806-2hxncuzg/logs/debug-internal.log</code>"
      ],
      "text/plain": [
       "<IPython.core.display.HTML object>"
      ]
     },
     "metadata": {},
     "output_type": "display_data"
    },
    {
     "data": {
      "text/html": [
       "<h3>Run summary:</h3><br/><style>\n",
       "    table.wandb td:nth-child(1) { padding: 0 10px; text-align: right }\n",
       "    </style><table class=\"wandb\">\n",
       "<tr><td>episode</td><td>59</td></tr><tr><td>rewards</td><td>-0.95</td></tr><tr><td>+/-</td><td>0.31</td></tr><tr><td>loss</td><td>-41.28786</td></tr><tr><td>_step</td><td>59</td></tr><tr><td>_runtime</td><td>736</td></tr><tr><td>_timestamp</td><td>1605811222</td></tr><tr><td>n_actions</td><td>47.883</td></tr><tr><td>n_captures_place</td><td>0.065</td></tr><tr><td>n_captured_place</td><td>1.982</td></tr><tr><td>n_captures_move</td><td>0.667</td></tr><tr><td>n_captured_move</td><td>4.83</td></tr><tr><td>draws_%</td><td>0.007</td></tr><tr><td>victories_capture_%</td><td>0.03</td></tr><tr><td>victories_block_%</td><td>0.0</td></tr><tr><td>defeats_capture_%</td><td>0.955</td></tr><tr><td>defeats_block_%</td><td>0.007</td></tr></table>"
      ],
      "text/plain": [
       "<IPython.core.display.HTML object>"
      ]
     },
     "metadata": {},
     "output_type": "display_data"
    },
    {
     "data": {
      "text/html": [
       "<h3>Run history:</h3><br/><style>\n",
       "    table.wandb td:nth-child(1) { padding: 0 10px; text-align: right }\n",
       "    </style><table class=\"wandb\">\n",
       "<tr><td>episode</td><td>▁▁▁▁▂▂▂▂▂▃▃▃▃▃▃▄▄▄▄▄▅▅▅▅▅▅▆▆▆▆▆▇▇▇▇▇▇███</td></tr><tr><td>rewards</td><td>▆▃▃▃▄▄▄▆▃▆▅▃█▃▅▄▅▄▃▄▃▅▆▃▆▃▅▅▁▄▂▄▄▃▃▄▃▆▂▅</td></tr><tr><td>+/-</td><td>▇▅▄▅▆▆▆▇▅▇▆▄█▄▆▆▆▆▄▆▅▆▇▄▇▅▆▆▁▆▃▆▆▅▅▆▅▇▃▆</td></tr><tr><td>loss</td><td>▇▅▃▂▅▄▅▅▄▅▅▃█▂▃▄▄▆▁▆▅▆▃▄▇▃▇█▃▅▁▄▃▃▄▄▅▆▂▇</td></tr><tr><td>_step</td><td>▁▁▁▁▂▂▂▂▂▃▃▃▃▃▃▄▄▄▄▄▅▅▅▅▅▅▆▆▆▆▆▆▇▇▇▇▇███</td></tr><tr><td>_runtime</td><td>▁▁▁▂▂▂▂▂▂▂▃▃▃▃▄▄▄▄▄▄▅▅▅▅▅▅▆▆▆▆▆▇▇▇▇▇████</td></tr><tr><td>_timestamp</td><td>▁▁▁▂▂▂▂▂▂▂▃▃▃▃▄▄▄▄▄▄▅▅▅▅▅▅▆▆▆▆▆▇▇▇▇▇████</td></tr><tr><td>n_actions</td><td>▁▁▃▄▄▆▆▁▄█▄</td></tr><tr><td>n_captures_place</td><td>▅▃▅█▇▄▇▁▁▇▁</td></tr><tr><td>n_captured_place</td><td>▆█▆▁▅▁▁▆▆▄▇</td></tr><tr><td>n_captures_move</td><td>▁▂▃▅▆▆█▂▅█▆</td></tr><tr><td>n_captured_move</td><td>▅▄▅█▄▇▆▃▅▄▁</td></tr><tr><td>draws_%</td><td>▄▁▄▆▄▆▄▄▆▆█</td></tr><tr><td>victories_capture_%</td><td>▁▃▃▃▅▄▆▄▃█▆</td></tr><tr><td>victories_block_%</td><td>▁▁▁▁▁▁█▁▁█▁</td></tr><tr><td>defeats_capture_%</td><td>▄█▆▇▅▅▅▇▇▁▂</td></tr><tr><td>defeats_block_%</td><td>█▁▃▂▂▃▁▂▁▂▃</td></tr></table><br/>"
      ],
      "text/plain": [
       "<IPython.core.display.HTML object>"
      ]
     },
     "metadata": {},
     "output_type": "display_data"
    },
    {
     "data": {
      "text/html": [
       "Synced 5 W&B file(s), 1 media file(s), 0 artifact file(s) and 1 other file(s)"
      ],
      "text/plain": [
       "<IPython.core.display.HTML object>"
      ]
     },
     "metadata": {},
     "output_type": "display_data"
    },
    {
     "data": {
      "text/html": [
       "\n",
       "                    <br/>Synced <strong style=\"color:#cdcd00\">fragrant-brook-98</strong>: <a href=\"https://wandb.ai/clement-guillo/marl/runs/2hxncuzg\" target=\"_blank\">https://wandb.ai/clement-guillo/marl/runs/2hxncuzg</a><br/>\n",
       "                "
      ],
      "text/plain": [
       "<IPython.core.display.HTML object>"
      ]
     },
     "metadata": {},
     "output_type": "display_data"
    },
    {
     "name": "stderr",
     "output_type": "stream",
     "text": [
      "\u001b[34m\u001b[1mwandb\u001b[0m: wandb version 0.10.11 is available!  To upgrade, please run:\n",
      "\u001b[34m\u001b[1mwandb\u001b[0m:  $ pip install wandb --upgrade\n"
     ]
    },
    {
     "data": {
      "text/html": [
       "\n",
       "                Tracking run with wandb version 0.10.9<br/>\n",
       "                Syncing run <strong style=\"color:#cdcd00\">neat-water-99</strong> to <a href=\"https://wandb.ai\" target=\"_blank\">Weights & Biases</a> <a href=\"https://docs.wandb.com/integrations/jupyter.html\" target=\"_blank\">(Documentation)</a>.<br/>\n",
       "                Project page: <a href=\"https://wandb.ai/clement-guillo/marl\" target=\"_blank\">https://wandb.ai/clement-guillo/marl</a><br/>\n",
       "                Run page: <a href=\"https://wandb.ai/clement-guillo/marl/runs/12sc0cdb\" target=\"_blank\">https://wandb.ai/clement-guillo/marl/runs/12sc0cdb</a><br/>\n",
       "                Run data is saved locally in <code>wandb/run-20201119_194022-12sc0cdb</code><br/><br/>\n",
       "            "
      ],
      "text/plain": [
       "<IPython.core.display.HTML object>"
      ]
     },
     "metadata": {},
     "output_type": "display_data"
    },
    {
     "data": {
      "application/vnd.jupyter.widget-view+json": {
       "model_id": "be54663e04ec4e75a7e9463d5ba6f785",
       "version_major": 2,
       "version_minor": 0
      },
      "text/plain": [
       "HBox(children=(HTML(value='Epochs'), FloatProgress(value=0.0, max=1000.0), HTML(value='')))"
      ]
     },
     "metadata": {},
     "output_type": "display_data"
    },
    {
     "data": {
      "application/vnd.jupyter.widget-view+json": {
       "model_id": "",
       "version_major": 2,
       "version_minor": 0
      },
      "text/plain": [
       "HBox(children=(HTML(value='Trajectories'), FloatProgress(value=0.0, max=1000.0), HTML(value='')))"
      ]
     },
     "metadata": {},
     "output_type": "display_data"
    },
    {
     "name": "stdout",
     "output_type": "stream",
     "text": [
      "Episode 1/1000: rewards -0.95 +/- 0.31 - Loss : -42.691627502441406\n"
     ]
    },
    {
     "data": {
      "application/vnd.jupyter.widget-view+json": {
       "model_id": "",
       "version_major": 2,
       "version_minor": 0
      },
      "text/plain": [
       "HBox(children=(HTML(value='Trajectories'), FloatProgress(value=0.0, max=1000.0), HTML(value='')))"
      ]
     },
     "metadata": {},
     "output_type": "display_data"
    },
    {
     "name": "stdout",
     "output_type": "stream",
     "text": [
      "Episode 2/1000: rewards -0.96 +/- 0.27 - Loss : -44.428314208984375\n"
     ]
    },
    {
     "data": {
      "application/vnd.jupyter.widget-view+json": {
       "model_id": "",
       "version_major": 2,
       "version_minor": 0
      },
      "text/plain": [
       "HBox(children=(HTML(value='Trajectories'), FloatProgress(value=0.0, max=1000.0), HTML(value='')))"
      ]
     },
     "metadata": {},
     "output_type": "display_data"
    },
    {
     "name": "stdout",
     "output_type": "stream",
     "text": [
      "Episode 3/1000: rewards -0.96 +/- 0.28 - Loss : -43.63343811035156\n"
     ]
    },
    {
     "data": {
      "application/vnd.jupyter.widget-view+json": {
       "model_id": "",
       "version_major": 2,
       "version_minor": 0
      },
      "text/plain": [
       "HBox(children=(HTML(value='Trajectories'), FloatProgress(value=0.0, max=1000.0), HTML(value='')))"
      ]
     },
     "metadata": {},
     "output_type": "display_data"
    },
    {
     "name": "stdout",
     "output_type": "stream",
     "text": [
      "Episode 4/1000: rewards -0.96 +/- 0.27 - Loss : -44.43998336791992\n"
     ]
    },
    {
     "data": {
      "application/vnd.jupyter.widget-view+json": {
       "model_id": "",
       "version_major": 2,
       "version_minor": 0
      },
      "text/plain": [
       "HBox(children=(HTML(value='Trajectories'), FloatProgress(value=0.0, max=1000.0), HTML(value='')))"
      ]
     },
     "metadata": {},
     "output_type": "display_data"
    },
    {
     "name": "stdout",
     "output_type": "stream",
     "text": [
      "Episode 5/1000: rewards -0.96 +/- 0.27 - Loss : -43.60102462768555\n"
     ]
    },
    {
     "data": {
      "application/vnd.jupyter.widget-view+json": {
       "model_id": "",
       "version_major": 2,
       "version_minor": 0
      },
      "text/plain": [
       "HBox(children=(HTML(value='Evaluation as player 1'), FloatProgress(value=0.0, max=200.0), HTML(value='')))"
      ]
     },
     "metadata": {},
     "output_type": "display_data"
    },
    {
     "data": {
      "application/vnd.jupyter.widget-view+json": {
       "model_id": "",
       "version_major": 2,
       "version_minor": 0
      },
      "text/plain": [
       "HBox(children=(HTML(value='Evaluation as player -1'), FloatProgress(value=0.0, max=200.0), HTML(value='')))"
      ]
     },
     "metadata": {},
     "output_type": "display_data"
    },
    {
     "name": "stdout",
     "output_type": "stream",
     "text": [
      "{'n_actions': 44.138, 'n_captures_place': 0.18, 'n_captured_place': 1.965, 'n_captures_move': 0.65, 'n_captured_move': 4.98, 'draws_%': 0.0, 'victories_capture_%': 0.018, 'victories_block_%': 0.0, 'defeats_capture_%': 0.97, 'defeats_block_%': 0.013}\n"
     ]
    },
    {
     "data": {
      "application/vnd.jupyter.widget-view+json": {
       "model_id": "",
       "version_major": 2,
       "version_minor": 0
      },
      "text/plain": [
       "HBox(children=(HTML(value='Trajectories'), FloatProgress(value=0.0, max=1000.0), HTML(value='')))"
      ]
     },
     "metadata": {},
     "output_type": "display_data"
    },
    {
     "name": "stdout",
     "output_type": "stream",
     "text": [
      "Episode 6/1000: rewards -0.96 +/- 0.26 - Loss : -43.95747375488281\n"
     ]
    },
    {
     "data": {
      "application/vnd.jupyter.widget-view+json": {
       "model_id": "",
       "version_major": 2,
       "version_minor": 0
      },
      "text/plain": [
       "HBox(children=(HTML(value='Trajectories'), FloatProgress(value=0.0, max=1000.0), HTML(value='')))"
      ]
     },
     "metadata": {},
     "output_type": "display_data"
    },
    {
     "name": "stdout",
     "output_type": "stream",
     "text": [
      "Episode 7/1000: rewards -0.94 +/- 0.34 - Loss : -42.682979583740234\n"
     ]
    },
    {
     "data": {
      "application/vnd.jupyter.widget-view+json": {
       "model_id": "",
       "version_major": 2,
       "version_minor": 0
      },
      "text/plain": [
       "HBox(children=(HTML(value='Trajectories'), FloatProgress(value=0.0, max=1000.0), HTML(value='')))"
      ]
     },
     "metadata": {},
     "output_type": "display_data"
    },
    {
     "name": "stdout",
     "output_type": "stream",
     "text": [
      "Episode 8/1000: rewards -0.96 +/- 0.28 - Loss : -43.96598815917969\n"
     ]
    },
    {
     "data": {
      "application/vnd.jupyter.widget-view+json": {
       "model_id": "",
       "version_major": 2,
       "version_minor": 0
      },
      "text/plain": [
       "HBox(children=(HTML(value='Trajectories'), FloatProgress(value=0.0, max=1000.0), HTML(value='')))"
      ]
     },
     "metadata": {},
     "output_type": "display_data"
    },
    {
     "name": "stdout",
     "output_type": "stream",
     "text": [
      "Episode 9/1000: rewards -0.97 +/- 0.23 - Loss : -44.42848587036133\n"
     ]
    },
    {
     "data": {
      "application/vnd.jupyter.widget-view+json": {
       "model_id": "",
       "version_major": 2,
       "version_minor": 0
      },
      "text/plain": [
       "HBox(children=(HTML(value='Trajectories'), FloatProgress(value=0.0, max=1000.0), HTML(value='')))"
      ]
     },
     "metadata": {},
     "output_type": "display_data"
    },
    {
     "name": "stdout",
     "output_type": "stream",
     "text": [
      "Episode 10/1000: rewards -0.96 +/- 0.27 - Loss : -43.8811149597168\n"
     ]
    },
    {
     "data": {
      "application/vnd.jupyter.widget-view+json": {
       "model_id": "",
       "version_major": 2,
       "version_minor": 0
      },
      "text/plain": [
       "HBox(children=(HTML(value='Evaluation as player 1'), FloatProgress(value=0.0, max=200.0), HTML(value='')))"
      ]
     },
     "metadata": {},
     "output_type": "display_data"
    },
    {
     "data": {
      "application/vnd.jupyter.widget-view+json": {
       "model_id": "",
       "version_major": 2,
       "version_minor": 0
      },
      "text/plain": [
       "HBox(children=(HTML(value='Evaluation as player -1'), FloatProgress(value=0.0, max=200.0), HTML(value='')))"
      ]
     },
     "metadata": {},
     "output_type": "display_data"
    },
    {
     "name": "stdout",
     "output_type": "stream",
     "text": [
      "{'n_actions': 45.398, 'n_captures_place': 0.217, 'n_captured_place': 1.868, 'n_captures_move': 0.83, 'n_captured_move': 4.975, 'draws_%': 0.0, 'victories_capture_%': 0.033, 'victories_block_%': 0.0, 'defeats_capture_%': 0.96, 'defeats_block_%': 0.007}\n"
     ]
    },
    {
     "data": {
      "application/vnd.jupyter.widget-view+json": {
       "model_id": "",
       "version_major": 2,
       "version_minor": 0
      },
      "text/plain": [
       "HBox(children=(HTML(value='Trajectories'), FloatProgress(value=0.0, max=1000.0), HTML(value='')))"
      ]
     },
     "metadata": {},
     "output_type": "display_data"
    },
    {
     "name": "stdout",
     "output_type": "stream",
     "text": [
      "Episode 11/1000: rewards -0.96 +/- 0.28 - Loss : -43.295169830322266\n"
     ]
    },
    {
     "data": {
      "application/vnd.jupyter.widget-view+json": {
       "model_id": "",
       "version_major": 2,
       "version_minor": 0
      },
      "text/plain": [
       "HBox(children=(HTML(value='Trajectories'), FloatProgress(value=0.0, max=1000.0), HTML(value='')))"
      ]
     },
     "metadata": {},
     "output_type": "display_data"
    },
    {
     "name": "stdout",
     "output_type": "stream",
     "text": [
      "Episode 12/1000: rewards -0.97 +/- 0.24 - Loss : -44.39902114868164\n"
     ]
    },
    {
     "data": {
      "application/vnd.jupyter.widget-view+json": {
       "model_id": "",
       "version_major": 2,
       "version_minor": 0
      },
      "text/plain": [
       "HBox(children=(HTML(value='Trajectories'), FloatProgress(value=0.0, max=1000.0), HTML(value='')))"
      ]
     },
     "metadata": {},
     "output_type": "display_data"
    },
    {
     "name": "stdout",
     "output_type": "stream",
     "text": [
      "Episode 13/1000: rewards -0.98 +/- 0.21 - Loss : -44.39535903930664\n"
     ]
    },
    {
     "data": {
      "application/vnd.jupyter.widget-view+json": {
       "model_id": "",
       "version_major": 2,
       "version_minor": 0
      },
      "text/plain": [
       "HBox(children=(HTML(value='Trajectories'), FloatProgress(value=0.0, max=1000.0), HTML(value='')))"
      ]
     },
     "metadata": {},
     "output_type": "display_data"
    },
    {
     "name": "stdout",
     "output_type": "stream",
     "text": [
      "Episode 14/1000: rewards -0.96 +/- 0.27 - Loss : -43.01937484741211\n"
     ]
    },
    {
     "data": {
      "application/vnd.jupyter.widget-view+json": {
       "model_id": "",
       "version_major": 2,
       "version_minor": 0
      },
      "text/plain": [
       "HBox(children=(HTML(value='Trajectories'), FloatProgress(value=0.0, max=1000.0), HTML(value='')))"
      ]
     },
     "metadata": {},
     "output_type": "display_data"
    },
    {
     "name": "stdout",
     "output_type": "stream",
     "text": [
      "Episode 15/1000: rewards -0.97 +/- 0.26 - Loss : -44.52060317993164\n"
     ]
    },
    {
     "data": {
      "application/vnd.jupyter.widget-view+json": {
       "model_id": "",
       "version_major": 2,
       "version_minor": 0
      },
      "text/plain": [
       "HBox(children=(HTML(value='Evaluation as player 1'), FloatProgress(value=0.0, max=200.0), HTML(value='')))"
      ]
     },
     "metadata": {},
     "output_type": "display_data"
    },
    {
     "data": {
      "application/vnd.jupyter.widget-view+json": {
       "model_id": "",
       "version_major": 2,
       "version_minor": 0
      },
      "text/plain": [
       "HBox(children=(HTML(value='Evaluation as player -1'), FloatProgress(value=0.0, max=200.0), HTML(value='')))"
      ]
     },
     "metadata": {},
     "output_type": "display_data"
    },
    {
     "name": "stdout",
     "output_type": "stream",
     "text": [
      "{'n_actions': 44.83, 'n_captures_place': 0.205, 'n_captured_place': 1.955, 'n_captures_move': 0.71, 'n_captured_move': 4.898, 'draws_%': 0.003, 'victories_capture_%': 0.033, 'victories_block_%': 0.0, 'defeats_capture_%': 0.942, 'defeats_block_%': 0.022}\n"
     ]
    },
    {
     "data": {
      "application/vnd.jupyter.widget-view+json": {
       "model_id": "",
       "version_major": 2,
       "version_minor": 0
      },
      "text/plain": [
       "HBox(children=(HTML(value='Trajectories'), FloatProgress(value=0.0, max=1000.0), HTML(value='')))"
      ]
     },
     "metadata": {},
     "output_type": "display_data"
    },
    {
     "name": "stdout",
     "output_type": "stream",
     "text": [
      "Episode 16/1000: rewards -0.97 +/- 0.25 - Loss : -44.06865310668945\n"
     ]
    },
    {
     "data": {
      "application/vnd.jupyter.widget-view+json": {
       "model_id": "",
       "version_major": 2,
       "version_minor": 0
      },
      "text/plain": [
       "HBox(children=(HTML(value='Trajectories'), FloatProgress(value=0.0, max=1000.0), HTML(value='')))"
      ]
     },
     "metadata": {},
     "output_type": "display_data"
    },
    {
     "name": "stdout",
     "output_type": "stream",
     "text": [
      "Episode 17/1000: rewards -0.94 +/- 0.33 - Loss : -42.69721603393555\n"
     ]
    },
    {
     "data": {
      "application/vnd.jupyter.widget-view+json": {
       "model_id": "",
       "version_major": 2,
       "version_minor": 0
      },
      "text/plain": [
       "HBox(children=(HTML(value='Trajectories'), FloatProgress(value=0.0, max=1000.0), HTML(value='')))"
      ]
     },
     "metadata": {},
     "output_type": "display_data"
    },
    {
     "name": "stdout",
     "output_type": "stream",
     "text": [
      "Episode 18/1000: rewards -0.96 +/- 0.27 - Loss : -43.20199203491211\n"
     ]
    },
    {
     "data": {
      "application/vnd.jupyter.widget-view+json": {
       "model_id": "",
       "version_major": 2,
       "version_minor": 0
      },
      "text/plain": [
       "HBox(children=(HTML(value='Trajectories'), FloatProgress(value=0.0, max=1000.0), HTML(value='')))"
      ]
     },
     "metadata": {},
     "output_type": "display_data"
    },
    {
     "name": "stdout",
     "output_type": "stream",
     "text": [
      "Episode 19/1000: rewards -0.95 +/- 0.31 - Loss : -42.0229377746582\n"
     ]
    },
    {
     "data": {
      "application/vnd.jupyter.widget-view+json": {
       "model_id": "",
       "version_major": 2,
       "version_minor": 0
      },
      "text/plain": [
       "HBox(children=(HTML(value='Trajectories'), FloatProgress(value=0.0, max=1000.0), HTML(value='')))"
      ]
     },
     "metadata": {},
     "output_type": "display_data"
    },
    {
     "name": "stdout",
     "output_type": "stream",
     "text": [
      "Episode 20/1000: rewards -0.97 +/- 0.26 - Loss : -43.86416244506836\n"
     ]
    },
    {
     "data": {
      "application/vnd.jupyter.widget-view+json": {
       "model_id": "",
       "version_major": 2,
       "version_minor": 0
      },
      "text/plain": [
       "HBox(children=(HTML(value='Evaluation as player 1'), FloatProgress(value=0.0, max=200.0), HTML(value='')))"
      ]
     },
     "metadata": {},
     "output_type": "display_data"
    },
    {
     "data": {
      "application/vnd.jupyter.widget-view+json": {
       "model_id": "",
       "version_major": 2,
       "version_minor": 0
      },
      "text/plain": [
       "HBox(children=(HTML(value='Evaluation as player -1'), FloatProgress(value=0.0, max=200.0), HTML(value='')))"
      ]
     },
     "metadata": {},
     "output_type": "display_data"
    },
    {
     "name": "stdout",
     "output_type": "stream",
     "text": [
      "{'n_actions': 43.453, 'n_captures_place': 0.232, 'n_captured_place': 1.985, 'n_captures_move': 0.588, 'n_captured_move': 4.897, 'draws_%': 0.0, 'victories_capture_%': 0.028, 'victories_block_%': 0.0, 'defeats_capture_%': 0.94, 'defeats_block_%': 0.033}\n"
     ]
    },
    {
     "data": {
      "application/vnd.jupyter.widget-view+json": {
       "model_id": "",
       "version_major": 2,
       "version_minor": 0
      },
      "text/plain": [
       "HBox(children=(HTML(value='Trajectories'), FloatProgress(value=0.0, max=1000.0), HTML(value='')))"
      ]
     },
     "metadata": {},
     "output_type": "display_data"
    },
    {
     "name": "stdout",
     "output_type": "stream",
     "text": [
      "Episode 21/1000: rewards -0.94 +/- 0.33 - Loss : -42.02651596069336\n"
     ]
    },
    {
     "data": {
      "application/vnd.jupyter.widget-view+json": {
       "model_id": "",
       "version_major": 2,
       "version_minor": 0
      },
      "text/plain": [
       "HBox(children=(HTML(value='Trajectories'), FloatProgress(value=0.0, max=1000.0), HTML(value='')))"
      ]
     },
     "metadata": {},
     "output_type": "display_data"
    },
    {
     "name": "stdout",
     "output_type": "stream",
     "text": [
      "Episode 22/1000: rewards -0.96 +/- 0.27 - Loss : -43.24948501586914\n"
     ]
    },
    {
     "data": {
      "application/vnd.jupyter.widget-view+json": {
       "model_id": "",
       "version_major": 2,
       "version_minor": 0
      },
      "text/plain": [
       "HBox(children=(HTML(value='Trajectories'), FloatProgress(value=0.0, max=1000.0), HTML(value='')))"
      ]
     },
     "metadata": {},
     "output_type": "display_data"
    },
    {
     "name": "stdout",
     "output_type": "stream",
     "text": [
      "Episode 23/1000: rewards -0.96 +/- 0.29 - Loss : -43.03895568847656\n"
     ]
    },
    {
     "data": {
      "application/vnd.jupyter.widget-view+json": {
       "model_id": "",
       "version_major": 2,
       "version_minor": 0
      },
      "text/plain": [
       "HBox(children=(HTML(value='Trajectories'), FloatProgress(value=0.0, max=1000.0), HTML(value='')))"
      ]
     },
     "metadata": {},
     "output_type": "display_data"
    },
    {
     "name": "stdout",
     "output_type": "stream",
     "text": [
      "Episode 24/1000: rewards -0.96 +/- 0.28 - Loss : -43.817806243896484\n"
     ]
    },
    {
     "data": {
      "application/vnd.jupyter.widget-view+json": {
       "model_id": "",
       "version_major": 2,
       "version_minor": 0
      },
      "text/plain": [
       "HBox(children=(HTML(value='Trajectories'), FloatProgress(value=0.0, max=1000.0), HTML(value='')))"
      ]
     },
     "metadata": {},
     "output_type": "display_data"
    },
    {
     "name": "stdout",
     "output_type": "stream",
     "text": [
      "Episode 25/1000: rewards -0.96 +/- 0.27 - Loss : -44.18229675292969\n"
     ]
    },
    {
     "data": {
      "application/vnd.jupyter.widget-view+json": {
       "model_id": "",
       "version_major": 2,
       "version_minor": 0
      },
      "text/plain": [
       "HBox(children=(HTML(value='Evaluation as player 1'), FloatProgress(value=0.0, max=200.0), HTML(value='')))"
      ]
     },
     "metadata": {},
     "output_type": "display_data"
    },
    {
     "data": {
      "application/vnd.jupyter.widget-view+json": {
       "model_id": "",
       "version_major": 2,
       "version_minor": 0
      },
      "text/plain": [
       "HBox(children=(HTML(value='Evaluation as player -1'), FloatProgress(value=0.0, max=200.0), HTML(value='')))"
      ]
     },
     "metadata": {},
     "output_type": "display_data"
    },
    {
     "name": "stdout",
     "output_type": "stream",
     "text": [
      "{'n_actions': 46.555, 'n_captures_place': 0.185, 'n_captured_place': 1.805, 'n_captures_move': 0.625, 'n_captured_move': 5.11, 'draws_%': 0.0, 'victories_capture_%': 0.02, 'victories_block_%': 0.0, 'defeats_capture_%': 0.962, 'defeats_block_%': 0.017}\n"
     ]
    },
    {
     "data": {
      "application/vnd.jupyter.widget-view+json": {
       "model_id": "",
       "version_major": 2,
       "version_minor": 0
      },
      "text/plain": [
       "HBox(children=(HTML(value='Trajectories'), FloatProgress(value=0.0, max=1000.0), HTML(value='')))"
      ]
     },
     "metadata": {},
     "output_type": "display_data"
    },
    {
     "name": "stdout",
     "output_type": "stream",
     "text": [
      "Episode 26/1000: rewards -0.97 +/- 0.23 - Loss : -44.397071838378906\n"
     ]
    },
    {
     "data": {
      "application/vnd.jupyter.widget-view+json": {
       "model_id": "",
       "version_major": 2,
       "version_minor": 0
      },
      "text/plain": [
       "HBox(children=(HTML(value='Trajectories'), FloatProgress(value=0.0, max=1000.0), HTML(value='')))"
      ]
     },
     "metadata": {},
     "output_type": "display_data"
    },
    {
     "name": "stdout",
     "output_type": "stream",
     "text": [
      "Episode 27/1000: rewards -0.97 +/- 0.26 - Loss : -43.74262619018555\n"
     ]
    },
    {
     "data": {
      "application/vnd.jupyter.widget-view+json": {
       "model_id": "",
       "version_major": 2,
       "version_minor": 0
      },
      "text/plain": [
       "HBox(children=(HTML(value='Trajectories'), FloatProgress(value=0.0, max=1000.0), HTML(value='')))"
      ]
     },
     "metadata": {},
     "output_type": "display_data"
    },
    {
     "name": "stdout",
     "output_type": "stream",
     "text": [
      "Episode 28/1000: rewards -0.96 +/- 0.29 - Loss : -43.23278045654297\n"
     ]
    },
    {
     "data": {
      "application/vnd.jupyter.widget-view+json": {
       "model_id": "",
       "version_major": 2,
       "version_minor": 0
      },
      "text/plain": [
       "HBox(children=(HTML(value='Trajectories'), FloatProgress(value=0.0, max=1000.0), HTML(value='')))"
      ]
     },
     "metadata": {},
     "output_type": "display_data"
    },
    {
     "name": "stdout",
     "output_type": "stream",
     "text": [
      "Episode 29/1000: rewards -0.95 +/- 0.31 - Loss : -43.17578887939453\n"
     ]
    },
    {
     "data": {
      "application/vnd.jupyter.widget-view+json": {
       "model_id": "",
       "version_major": 2,
       "version_minor": 0
      },
      "text/plain": [
       "HBox(children=(HTML(value='Trajectories'), FloatProgress(value=0.0, max=1000.0), HTML(value='')))"
      ]
     },
     "metadata": {},
     "output_type": "display_data"
    },
    {
     "name": "stdout",
     "output_type": "stream",
     "text": [
      "Episode 30/1000: rewards -0.97 +/- 0.25 - Loss : -44.387237548828125\n"
     ]
    },
    {
     "data": {
      "application/vnd.jupyter.widget-view+json": {
       "model_id": "",
       "version_major": 2,
       "version_minor": 0
      },
      "text/plain": [
       "HBox(children=(HTML(value='Evaluation as player 1'), FloatProgress(value=0.0, max=200.0), HTML(value='')))"
      ]
     },
     "metadata": {},
     "output_type": "display_data"
    },
    {
     "data": {
      "application/vnd.jupyter.widget-view+json": {
       "model_id": "",
       "version_major": 2,
       "version_minor": 0
      },
      "text/plain": [
       "HBox(children=(HTML(value='Evaluation as player -1'), FloatProgress(value=0.0, max=200.0), HTML(value='')))"
      ]
     },
     "metadata": {},
     "output_type": "display_data"
    },
    {
     "name": "stdout",
     "output_type": "stream",
     "text": [
      "{'n_actions': 46.588, 'n_captures_place': 0.188, 'n_captured_place': 1.873, 'n_captures_move': 0.595, 'n_captured_move': 5.037, 'draws_%': 0.003, 'victories_capture_%': 0.015, 'victories_block_%': 0.0, 'defeats_capture_%': 0.948, 'defeats_block_%': 0.035}\n"
     ]
    },
    {
     "data": {
      "application/vnd.jupyter.widget-view+json": {
       "model_id": "",
       "version_major": 2,
       "version_minor": 0
      },
      "text/plain": [
       "HBox(children=(HTML(value='Trajectories'), FloatProgress(value=0.0, max=1000.0), HTML(value='')))"
      ]
     },
     "metadata": {},
     "output_type": "display_data"
    },
    {
     "name": "stdout",
     "output_type": "stream",
     "text": [
      "Episode 31/1000: rewards -0.97 +/- 0.25 - Loss : -44.228675842285156\n"
     ]
    },
    {
     "data": {
      "application/vnd.jupyter.widget-view+json": {
       "model_id": "",
       "version_major": 2,
       "version_minor": 0
      },
      "text/plain": [
       "HBox(children=(HTML(value='Trajectories'), FloatProgress(value=0.0, max=1000.0), HTML(value='')))"
      ]
     },
     "metadata": {},
     "output_type": "display_data"
    },
    {
     "name": "stdout",
     "output_type": "stream",
     "text": [
      "Episode 32/1000: rewards -0.98 +/- 0.22 - Loss : -44.07502746582031\n"
     ]
    },
    {
     "data": {
      "application/vnd.jupyter.widget-view+json": {
       "model_id": "",
       "version_major": 2,
       "version_minor": 0
      },
      "text/plain": [
       "HBox(children=(HTML(value='Trajectories'), FloatProgress(value=0.0, max=1000.0), HTML(value='')))"
      ]
     },
     "metadata": {},
     "output_type": "display_data"
    },
    {
     "name": "stdout",
     "output_type": "stream",
     "text": [
      "Episode 33/1000: rewards -0.96 +/- 0.28 - Loss : -43.21228790283203\n"
     ]
    },
    {
     "data": {
      "application/vnd.jupyter.widget-view+json": {
       "model_id": "",
       "version_major": 2,
       "version_minor": 0
      },
      "text/plain": [
       "HBox(children=(HTML(value='Trajectories'), FloatProgress(value=0.0, max=1000.0), HTML(value='')))"
      ]
     },
     "metadata": {},
     "output_type": "display_data"
    },
    {
     "name": "stdout",
     "output_type": "stream",
     "text": [
      "Episode 34/1000: rewards -0.96 +/- 0.28 - Loss : -44.44102096557617\n"
     ]
    },
    {
     "data": {
      "application/vnd.jupyter.widget-view+json": {
       "model_id": "",
       "version_major": 2,
       "version_minor": 0
      },
      "text/plain": [
       "HBox(children=(HTML(value='Trajectories'), FloatProgress(value=0.0, max=1000.0), HTML(value='')))"
      ]
     },
     "metadata": {},
     "output_type": "display_data"
    },
    {
     "name": "stdout",
     "output_type": "stream",
     "text": [
      "Episode 35/1000: rewards -0.96 +/- 0.28 - Loss : -43.81520080566406\n"
     ]
    },
    {
     "data": {
      "application/vnd.jupyter.widget-view+json": {
       "model_id": "",
       "version_major": 2,
       "version_minor": 0
      },
      "text/plain": [
       "HBox(children=(HTML(value='Evaluation as player 1'), FloatProgress(value=0.0, max=200.0), HTML(value='')))"
      ]
     },
     "metadata": {},
     "output_type": "display_data"
    },
    {
     "data": {
      "application/vnd.jupyter.widget-view+json": {
       "model_id": "",
       "version_major": 2,
       "version_minor": 0
      },
      "text/plain": [
       "HBox(children=(HTML(value='Evaluation as player -1'), FloatProgress(value=0.0, max=200.0), HTML(value='')))"
      ]
     },
     "metadata": {},
     "output_type": "display_data"
    },
    {
     "name": "stdout",
     "output_type": "stream",
     "text": [
      "{'n_actions': 45.228, 'n_captures_place': 0.195, 'n_captured_place': 1.848, 'n_captures_move': 0.73, 'n_captured_move': 5.05, 'draws_%': 0.0, 'victories_capture_%': 0.033, 'victories_block_%': 0.0, 'defeats_capture_%': 0.945, 'defeats_block_%': 0.023}\n"
     ]
    },
    {
     "data": {
      "application/vnd.jupyter.widget-view+json": {
       "model_id": "",
       "version_major": 2,
       "version_minor": 0
      },
      "text/plain": [
       "HBox(children=(HTML(value='Trajectories'), FloatProgress(value=0.0, max=1000.0), HTML(value='')))"
      ]
     },
     "metadata": {},
     "output_type": "display_data"
    },
    {
     "name": "stdout",
     "output_type": "stream",
     "text": [
      "Episode 36/1000: rewards -0.96 +/- 0.28 - Loss : -43.73499298095703\n"
     ]
    },
    {
     "data": {
      "application/vnd.jupyter.widget-view+json": {
       "model_id": "",
       "version_major": 2,
       "version_minor": 0
      },
      "text/plain": [
       "HBox(children=(HTML(value='Trajectories'), FloatProgress(value=0.0, max=1000.0), HTML(value='')))"
      ]
     },
     "metadata": {},
     "output_type": "display_data"
    },
    {
     "name": "stdout",
     "output_type": "stream",
     "text": [
      "Episode 37/1000: rewards -0.97 +/- 0.24 - Loss : -44.0621337890625\n"
     ]
    },
    {
     "data": {
      "application/vnd.jupyter.widget-view+json": {
       "model_id": "",
       "version_major": 2,
       "version_minor": 0
      },
      "text/plain": [
       "HBox(children=(HTML(value='Trajectories'), FloatProgress(value=0.0, max=1000.0), HTML(value='')))"
      ]
     },
     "metadata": {},
     "output_type": "display_data"
    },
    {
     "name": "stdout",
     "output_type": "stream",
     "text": [
      "Episode 38/1000: rewards -0.98 +/- 0.22 - Loss : -44.3760871887207\n"
     ]
    },
    {
     "data": {
      "application/vnd.jupyter.widget-view+json": {
       "model_id": "",
       "version_major": 2,
       "version_minor": 0
      },
      "text/plain": [
       "HBox(children=(HTML(value='Trajectories'), FloatProgress(value=0.0, max=1000.0), HTML(value='')))"
      ]
     },
     "metadata": {},
     "output_type": "display_data"
    },
    {
     "name": "stdout",
     "output_type": "stream",
     "text": [
      "Episode 39/1000: rewards -0.97 +/- 0.25 - Loss : -45.0173225402832\n"
     ]
    },
    {
     "data": {
      "application/vnd.jupyter.widget-view+json": {
       "model_id": "",
       "version_major": 2,
       "version_minor": 0
      },
      "text/plain": [
       "HBox(children=(HTML(value='Trajectories'), FloatProgress(value=0.0, max=1000.0), HTML(value='')))"
      ]
     },
     "metadata": {},
     "output_type": "display_data"
    },
    {
     "name": "stdout",
     "output_type": "stream",
     "text": [
      "Episode 40/1000: rewards -0.96 +/- 0.28 - Loss : -43.43479919433594\n"
     ]
    },
    {
     "data": {
      "application/vnd.jupyter.widget-view+json": {
       "model_id": "",
       "version_major": 2,
       "version_minor": 0
      },
      "text/plain": [
       "HBox(children=(HTML(value='Evaluation as player 1'), FloatProgress(value=0.0, max=200.0), HTML(value='')))"
      ]
     },
     "metadata": {},
     "output_type": "display_data"
    },
    {
     "data": {
      "application/vnd.jupyter.widget-view+json": {
       "model_id": "",
       "version_major": 2,
       "version_minor": 0
      },
      "text/plain": [
       "HBox(children=(HTML(value='Evaluation as player -1'), FloatProgress(value=0.0, max=200.0), HTML(value='')))"
      ]
     },
     "metadata": {},
     "output_type": "display_data"
    },
    {
     "name": "stdout",
     "output_type": "stream",
     "text": [
      "{'n_actions': 45.56, 'n_captures_place': 0.185, 'n_captured_place': 1.903, 'n_captures_move': 0.68, 'n_captured_move': 5.008, 'draws_%': 0.003, 'victories_capture_%': 0.017, 'victories_block_%': 0.0, 'defeats_capture_%': 0.958, 'defeats_block_%': 0.022}\n"
     ]
    },
    {
     "data": {
      "application/vnd.jupyter.widget-view+json": {
       "model_id": "",
       "version_major": 2,
       "version_minor": 0
      },
      "text/plain": [
       "HBox(children=(HTML(value='Trajectories'), FloatProgress(value=0.0, max=1000.0), HTML(value='')))"
      ]
     },
     "metadata": {},
     "output_type": "display_data"
    },
    {
     "name": "stdout",
     "output_type": "stream",
     "text": [
      "Episode 41/1000: rewards -0.95 +/- 0.32 - Loss : -43.14322280883789\n"
     ]
    },
    {
     "data": {
      "application/vnd.jupyter.widget-view+json": {
       "model_id": "",
       "version_major": 2,
       "version_minor": 0
      },
      "text/plain": [
       "HBox(children=(HTML(value='Trajectories'), FloatProgress(value=0.0, max=1000.0), HTML(value='')))"
      ]
     },
     "metadata": {},
     "output_type": "display_data"
    },
    {
     "name": "stdout",
     "output_type": "stream",
     "text": [
      "Episode 42/1000: rewards -0.96 +/- 0.27 - Loss : -44.29702377319336\n"
     ]
    },
    {
     "data": {
      "application/vnd.jupyter.widget-view+json": {
       "model_id": "",
       "version_major": 2,
       "version_minor": 0
      },
      "text/plain": [
       "HBox(children=(HTML(value='Trajectories'), FloatProgress(value=0.0, max=1000.0), HTML(value='')))"
      ]
     },
     "metadata": {},
     "output_type": "display_data"
    },
    {
     "name": "stdout",
     "output_type": "stream",
     "text": [
      "Episode 43/1000: rewards -0.96 +/- 0.27 - Loss : -43.970245361328125\n"
     ]
    },
    {
     "data": {
      "application/vnd.jupyter.widget-view+json": {
       "model_id": "",
       "version_major": 2,
       "version_minor": 0
      },
      "text/plain": [
       "HBox(children=(HTML(value='Trajectories'), FloatProgress(value=0.0, max=1000.0), HTML(value='')))"
      ]
     },
     "metadata": {},
     "output_type": "display_data"
    },
    {
     "name": "stdout",
     "output_type": "stream",
     "text": [
      "Episode 44/1000: rewards -0.94 +/- 0.34 - Loss : -41.3653678894043\n"
     ]
    },
    {
     "data": {
      "application/vnd.jupyter.widget-view+json": {
       "model_id": "",
       "version_major": 2,
       "version_minor": 0
      },
      "text/plain": [
       "HBox(children=(HTML(value='Trajectories'), FloatProgress(value=0.0, max=1000.0), HTML(value='')))"
      ]
     },
     "metadata": {},
     "output_type": "display_data"
    },
    {
     "name": "stdout",
     "output_type": "stream",
     "text": [
      "Episode 45/1000: rewards -0.96 +/- 0.29 - Loss : -43.18682098388672\n"
     ]
    },
    {
     "data": {
      "application/vnd.jupyter.widget-view+json": {
       "model_id": "",
       "version_major": 2,
       "version_minor": 0
      },
      "text/plain": [
       "HBox(children=(HTML(value='Evaluation as player 1'), FloatProgress(value=0.0, max=200.0), HTML(value='')))"
      ]
     },
     "metadata": {},
     "output_type": "display_data"
    },
    {
     "data": {
      "application/vnd.jupyter.widget-view+json": {
       "model_id": "",
       "version_major": 2,
       "version_minor": 0
      },
      "text/plain": [
       "HBox(children=(HTML(value='Evaluation as player -1'), FloatProgress(value=0.0, max=200.0), HTML(value='')))"
      ]
     },
     "metadata": {},
     "output_type": "display_data"
    },
    {
     "name": "stdout",
     "output_type": "stream",
     "text": [
      "{'n_actions': 44.845, 'n_captures_place': 0.188, 'n_captured_place': 1.933, 'n_captures_move': 0.693, 'n_captured_move': 4.995, 'draws_%': 0.003, 'victories_capture_%': 0.025, 'victories_block_%': 0.0, 'defeats_capture_%': 0.96, 'defeats_block_%': 0.013}\n"
     ]
    },
    {
     "data": {
      "application/vnd.jupyter.widget-view+json": {
       "model_id": "",
       "version_major": 2,
       "version_minor": 0
      },
      "text/plain": [
       "HBox(children=(HTML(value='Trajectories'), FloatProgress(value=0.0, max=1000.0), HTML(value='')))"
      ]
     },
     "metadata": {},
     "output_type": "display_data"
    },
    {
     "name": "stdout",
     "output_type": "stream",
     "text": [
      "Episode 46/1000: rewards -0.96 +/- 0.27 - Loss : -43.07270050048828\n"
     ]
    },
    {
     "data": {
      "application/vnd.jupyter.widget-view+json": {
       "model_id": "",
       "version_major": 2,
       "version_minor": 0
      },
      "text/plain": [
       "HBox(children=(HTML(value='Trajectories'), FloatProgress(value=0.0, max=1000.0), HTML(value='')))"
      ]
     },
     "metadata": {},
     "output_type": "display_data"
    },
    {
     "name": "stdout",
     "output_type": "stream",
     "text": [
      "Episode 47/1000: rewards -0.96 +/- 0.29 - Loss : -43.009796142578125\n"
     ]
    },
    {
     "data": {
      "application/vnd.jupyter.widget-view+json": {
       "model_id": "",
       "version_major": 2,
       "version_minor": 0
      },
      "text/plain": [
       "HBox(children=(HTML(value='Trajectories'), FloatProgress(value=0.0, max=1000.0), HTML(value='')))"
      ]
     },
     "metadata": {},
     "output_type": "display_data"
    },
    {
     "name": "stdout",
     "output_type": "stream",
     "text": [
      "Episode 48/1000: rewards -0.95 +/- 0.31 - Loss : -44.07566833496094\n"
     ]
    },
    {
     "data": {
      "application/vnd.jupyter.widget-view+json": {
       "model_id": "",
       "version_major": 2,
       "version_minor": 0
      },
      "text/plain": [
       "HBox(children=(HTML(value='Trajectories'), FloatProgress(value=0.0, max=1000.0), HTML(value='')))"
      ]
     },
     "metadata": {},
     "output_type": "display_data"
    },
    {
     "name": "stdout",
     "output_type": "stream",
     "text": [
      "Episode 49/1000: rewards -0.96 +/- 0.28 - Loss : -43.77024459838867\n"
     ]
    },
    {
     "data": {
      "application/vnd.jupyter.widget-view+json": {
       "model_id": "",
       "version_major": 2,
       "version_minor": 0
      },
      "text/plain": [
       "HBox(children=(HTML(value='Trajectories'), FloatProgress(value=0.0, max=1000.0), HTML(value='')))"
      ]
     },
     "metadata": {},
     "output_type": "display_data"
    },
    {
     "name": "stdout",
     "output_type": "stream",
     "text": [
      "Episode 50/1000: rewards -0.96 +/- 0.26 - Loss : -44.141326904296875\n"
     ]
    },
    {
     "data": {
      "application/vnd.jupyter.widget-view+json": {
       "model_id": "",
       "version_major": 2,
       "version_minor": 0
      },
      "text/plain": [
       "HBox(children=(HTML(value='Evaluation as player 1'), FloatProgress(value=0.0, max=200.0), HTML(value='')))"
      ]
     },
     "metadata": {},
     "output_type": "display_data"
    },
    {
     "data": {
      "application/vnd.jupyter.widget-view+json": {
       "model_id": "",
       "version_major": 2,
       "version_minor": 0
      },
      "text/plain": [
       "HBox(children=(HTML(value='Evaluation as player -1'), FloatProgress(value=0.0, max=200.0), HTML(value='')))"
      ]
     },
     "metadata": {},
     "output_type": "display_data"
    },
    {
     "name": "stdout",
     "output_type": "stream",
     "text": [
      "{'n_actions': 44.002, 'n_captures_place': 0.195, 'n_captured_place': 1.92, 'n_captures_move': 0.698, 'n_captured_move': 4.982, 'draws_%': 0.0, 'victories_capture_%': 0.018, 'victories_block_%': 0.0, 'defeats_capture_%': 0.962, 'defeats_block_%': 0.02}\n"
     ]
    },
    {
     "data": {
      "application/vnd.jupyter.widget-view+json": {
       "model_id": "",
       "version_major": 2,
       "version_minor": 0
      },
      "text/plain": [
       "HBox(children=(HTML(value='Trajectories'), FloatProgress(value=0.0, max=1000.0), HTML(value='')))"
      ]
     },
     "metadata": {},
     "output_type": "display_data"
    },
    {
     "name": "stdout",
     "output_type": "stream",
     "text": [
      "Episode 51/1000: rewards -0.95 +/- 0.32 - Loss : -42.607784271240234\n"
     ]
    },
    {
     "data": {
      "application/vnd.jupyter.widget-view+json": {
       "model_id": "",
       "version_major": 2,
       "version_minor": 0
      },
      "text/plain": [
       "HBox(children=(HTML(value='Trajectories'), FloatProgress(value=0.0, max=1000.0), HTML(value='')))"
      ]
     },
     "metadata": {},
     "output_type": "display_data"
    },
    {
     "name": "stdout",
     "output_type": "stream",
     "text": [
      "Episode 52/1000: rewards -0.95 +/- 0.3 - Loss : -43.50729751586914\n"
     ]
    },
    {
     "data": {
      "application/vnd.jupyter.widget-view+json": {
       "model_id": "",
       "version_major": 2,
       "version_minor": 0
      },
      "text/plain": [
       "HBox(children=(HTML(value='Trajectories'), FloatProgress(value=0.0, max=1000.0), HTML(value='')))"
      ]
     },
     "metadata": {},
     "output_type": "display_data"
    },
    {
     "name": "stdout",
     "output_type": "stream",
     "text": [
      "Episode 53/1000: rewards -0.94 +/- 0.33 - Loss : -42.47542953491211\n"
     ]
    },
    {
     "data": {
      "application/vnd.jupyter.widget-view+json": {
       "model_id": "",
       "version_major": 2,
       "version_minor": 0
      },
      "text/plain": [
       "HBox(children=(HTML(value='Trajectories'), FloatProgress(value=0.0, max=1000.0), HTML(value='')))"
      ]
     },
     "metadata": {},
     "output_type": "display_data"
    },
    {
     "name": "stdout",
     "output_type": "stream",
     "text": [
      "Episode 54/1000: rewards -0.95 +/- 0.31 - Loss : -43.36277389526367\n"
     ]
    },
    {
     "data": {
      "application/vnd.jupyter.widget-view+json": {
       "model_id": "",
       "version_major": 2,
       "version_minor": 0
      },
      "text/plain": [
       "HBox(children=(HTML(value='Trajectories'), FloatProgress(value=0.0, max=1000.0), HTML(value='')))"
      ]
     },
     "metadata": {},
     "output_type": "display_data"
    },
    {
     "name": "stdout",
     "output_type": "stream",
     "text": [
      "Episode 55/1000: rewards -0.97 +/- 0.23 - Loss : -44.97782516479492\n"
     ]
    },
    {
     "data": {
      "application/vnd.jupyter.widget-view+json": {
       "model_id": "",
       "version_major": 2,
       "version_minor": 0
      },
      "text/plain": [
       "HBox(children=(HTML(value='Evaluation as player 1'), FloatProgress(value=0.0, max=200.0), HTML(value='')))"
      ]
     },
     "metadata": {},
     "output_type": "display_data"
    },
    {
     "data": {
      "application/vnd.jupyter.widget-view+json": {
       "model_id": "",
       "version_major": 2,
       "version_minor": 0
      },
      "text/plain": [
       "HBox(children=(HTML(value='Evaluation as player -1'), FloatProgress(value=0.0, max=200.0), HTML(value='')))"
      ]
     },
     "metadata": {},
     "output_type": "display_data"
    },
    {
     "name": "stdout",
     "output_type": "stream",
     "text": [
      "{'n_actions': 44.508, 'n_captures_place': 0.175, 'n_captured_place': 1.975, 'n_captures_move': 0.748, 'n_captured_move': 4.908, 'draws_%': 0.0, 'victories_capture_%': 0.03, 'victories_block_%': 0.003, 'defeats_capture_%': 0.958, 'defeats_block_%': 0.01}\n"
     ]
    },
    {
     "data": {
      "application/vnd.jupyter.widget-view+json": {
       "model_id": "",
       "version_major": 2,
       "version_minor": 0
      },
      "text/plain": [
       "HBox(children=(HTML(value='Trajectories'), FloatProgress(value=0.0, max=1000.0), HTML(value='')))"
      ]
     },
     "metadata": {},
     "output_type": "display_data"
    },
    {
     "name": "stdout",
     "output_type": "stream",
     "text": [
      "Episode 56/1000: rewards -0.95 +/- 0.31 - Loss : -43.16335678100586\n"
     ]
    },
    {
     "data": {
      "application/vnd.jupyter.widget-view+json": {
       "model_id": "",
       "version_major": 2,
       "version_minor": 0
      },
      "text/plain": [
       "HBox(children=(HTML(value='Trajectories'), FloatProgress(value=0.0, max=1000.0), HTML(value='')))"
      ]
     },
     "metadata": {},
     "output_type": "display_data"
    },
    {
     "name": "stdout",
     "output_type": "stream",
     "text": [
      "Episode 57/1000: rewards -0.95 +/- 0.31 - Loss : -43.0428581237793\n"
     ]
    },
    {
     "data": {
      "application/vnd.jupyter.widget-view+json": {
       "model_id": "",
       "version_major": 2,
       "version_minor": 0
      },
      "text/plain": [
       "HBox(children=(HTML(value='Trajectories'), FloatProgress(value=0.0, max=1000.0), HTML(value='')))"
      ]
     },
     "metadata": {},
     "output_type": "display_data"
    },
    {
     "name": "stdout",
     "output_type": "stream",
     "text": [
      "Episode 58/1000: rewards -0.94 +/- 0.33 - Loss : -42.543575286865234\n"
     ]
    },
    {
     "data": {
      "application/vnd.jupyter.widget-view+json": {
       "model_id": "",
       "version_major": 2,
       "version_minor": 0
      },
      "text/plain": [
       "HBox(children=(HTML(value='Trajectories'), FloatProgress(value=0.0, max=1000.0), HTML(value='')))"
      ]
     },
     "metadata": {},
     "output_type": "display_data"
    },
    {
     "name": "stdout",
     "output_type": "stream",
     "text": [
      "Episode 59/1000: rewards -0.95 +/- 0.32 - Loss : -42.83942794799805\n"
     ]
    },
    {
     "data": {
      "application/vnd.jupyter.widget-view+json": {
       "model_id": "",
       "version_major": 2,
       "version_minor": 0
      },
      "text/plain": [
       "HBox(children=(HTML(value='Trajectories'), FloatProgress(value=0.0, max=1000.0), HTML(value='')))"
      ]
     },
     "metadata": {},
     "output_type": "display_data"
    },
    {
     "name": "stdout",
     "output_type": "stream",
     "text": [
      "Episode 60/1000: rewards -0.96 +/- 0.29 - Loss : -44.0108642578125\n"
     ]
    },
    {
     "data": {
      "application/vnd.jupyter.widget-view+json": {
       "model_id": "",
       "version_major": 2,
       "version_minor": 0
      },
      "text/plain": [
       "HBox(children=(HTML(value='Evaluation as player 1'), FloatProgress(value=0.0, max=200.0), HTML(value='')))"
      ]
     },
     "metadata": {},
     "output_type": "display_data"
    },
    {
     "data": {
      "application/vnd.jupyter.widget-view+json": {
       "model_id": "",
       "version_major": 2,
       "version_minor": 0
      },
      "text/plain": [
       "HBox(children=(HTML(value='Evaluation as player -1'), FloatProgress(value=0.0, max=200.0), HTML(value='')))"
      ]
     },
     "metadata": {},
     "output_type": "display_data"
    },
    {
     "name": "stdout",
     "output_type": "stream",
     "text": [
      "{'n_actions': 47.942, 'n_captures_place': 0.173, 'n_captured_place': 1.875, 'n_captures_move': 0.742, 'n_captured_move': 4.992, 'draws_%': 0.003, 'victories_capture_%': 0.017, 'victories_block_%': 0.003, 'defeats_capture_%': 0.955, 'defeats_block_%': 0.022}\n"
     ]
    },
    {
     "data": {
      "application/vnd.jupyter.widget-view+json": {
       "model_id": "",
       "version_major": 2,
       "version_minor": 0
      },
      "text/plain": [
       "HBox(children=(HTML(value='Trajectories'), FloatProgress(value=0.0, max=1000.0), HTML(value='')))"
      ]
     },
     "metadata": {},
     "output_type": "display_data"
    },
    {
     "name": "stdout",
     "output_type": "stream",
     "text": [
      "Episode 61/1000: rewards -0.96 +/- 0.28 - Loss : -43.66050338745117\n"
     ]
    },
    {
     "data": {
      "application/vnd.jupyter.widget-view+json": {
       "model_id": "",
       "version_major": 2,
       "version_minor": 0
      },
      "text/plain": [
       "HBox(children=(HTML(value='Trajectories'), FloatProgress(value=0.0, max=1000.0), HTML(value='')))"
      ]
     },
     "metadata": {},
     "output_type": "display_data"
    },
    {
     "name": "stdout",
     "output_type": "stream",
     "text": [
      "Episode 62/1000: rewards -0.96 +/- 0.27 - Loss : -44.233673095703125\n"
     ]
    },
    {
     "data": {
      "application/vnd.jupyter.widget-view+json": {
       "model_id": "",
       "version_major": 2,
       "version_minor": 0
      },
      "text/plain": [
       "HBox(children=(HTML(value='Trajectories'), FloatProgress(value=0.0, max=1000.0), HTML(value='')))"
      ]
     },
     "metadata": {},
     "output_type": "display_data"
    },
    {
     "name": "stdout",
     "output_type": "stream",
     "text": [
      "Episode 63/1000: rewards -0.97 +/- 0.25 - Loss : -45.09231185913086\n"
     ]
    },
    {
     "data": {
      "application/vnd.jupyter.widget-view+json": {
       "model_id": "",
       "version_major": 2,
       "version_minor": 0
      },
      "text/plain": [
       "HBox(children=(HTML(value='Trajectories'), FloatProgress(value=0.0, max=1000.0), HTML(value='')))"
      ]
     },
     "metadata": {},
     "output_type": "display_data"
    },
    {
     "name": "stdout",
     "output_type": "stream",
     "text": [
      "Episode 64/1000: rewards -0.95 +/- 0.3 - Loss : -43.104740142822266\n"
     ]
    },
    {
     "data": {
      "application/vnd.jupyter.widget-view+json": {
       "model_id": "",
       "version_major": 2,
       "version_minor": 0
      },
      "text/plain": [
       "HBox(children=(HTML(value='Trajectories'), FloatProgress(value=0.0, max=1000.0), HTML(value='')))"
      ]
     },
     "metadata": {},
     "output_type": "display_data"
    },
    {
     "name": "stdout",
     "output_type": "stream",
     "text": [
      "Episode 65/1000: rewards -0.96 +/- 0.29 - Loss : -43.29850769042969\n"
     ]
    },
    {
     "data": {
      "application/vnd.jupyter.widget-view+json": {
       "model_id": "",
       "version_major": 2,
       "version_minor": 0
      },
      "text/plain": [
       "HBox(children=(HTML(value='Evaluation as player 1'), FloatProgress(value=0.0, max=200.0), HTML(value='')))"
      ]
     },
     "metadata": {},
     "output_type": "display_data"
    },
    {
     "data": {
      "application/vnd.jupyter.widget-view+json": {
       "model_id": "",
       "version_major": 2,
       "version_minor": 0
      },
      "text/plain": [
       "HBox(children=(HTML(value='Evaluation as player -1'), FloatProgress(value=0.0, max=200.0), HTML(value='')))"
      ]
     },
     "metadata": {},
     "output_type": "display_data"
    },
    {
     "name": "stdout",
     "output_type": "stream",
     "text": [
      "{'n_actions': 47.395, 'n_captures_place': 0.19, 'n_captured_place': 1.927, 'n_captures_move': 0.807, 'n_captured_move': 4.873, 'draws_%': 0.003, 'victories_capture_%': 0.045, 'victories_block_%': 0.0, 'defeats_capture_%': 0.943, 'defeats_block_%': 0.01}\n"
     ]
    },
    {
     "data": {
      "application/vnd.jupyter.widget-view+json": {
       "model_id": "",
       "version_major": 2,
       "version_minor": 0
      },
      "text/plain": [
       "HBox(children=(HTML(value='Trajectories'), FloatProgress(value=0.0, max=1000.0), HTML(value='')))"
      ]
     },
     "metadata": {},
     "output_type": "display_data"
    },
    {
     "name": "stdout",
     "output_type": "stream",
     "text": [
      "Episode 66/1000: rewards -0.97 +/- 0.26 - Loss : -43.87204360961914\n"
     ]
    },
    {
     "data": {
      "application/vnd.jupyter.widget-view+json": {
       "model_id": "",
       "version_major": 2,
       "version_minor": 0
      },
      "text/plain": [
       "HBox(children=(HTML(value='Trajectories'), FloatProgress(value=0.0, max=1000.0), HTML(value='')))"
      ]
     },
     "metadata": {},
     "output_type": "display_data"
    },
    {
     "name": "stdout",
     "output_type": "stream",
     "text": [
      "Episode 67/1000: rewards -0.97 +/- 0.26 - Loss : -44.71003341674805\n"
     ]
    },
    {
     "data": {
      "application/vnd.jupyter.widget-view+json": {
       "model_id": "",
       "version_major": 2,
       "version_minor": 0
      },
      "text/plain": [
       "HBox(children=(HTML(value='Trajectories'), FloatProgress(value=0.0, max=1000.0), HTML(value='')))"
      ]
     },
     "metadata": {},
     "output_type": "display_data"
    },
    {
     "name": "stdout",
     "output_type": "stream",
     "text": [
      "Episode 68/1000: rewards -0.97 +/- 0.26 - Loss : -44.32448196411133\n"
     ]
    },
    {
     "data": {
      "application/vnd.jupyter.widget-view+json": {
       "model_id": "",
       "version_major": 2,
       "version_minor": 0
      },
      "text/plain": [
       "HBox(children=(HTML(value='Trajectories'), FloatProgress(value=0.0, max=1000.0), HTML(value='')))"
      ]
     },
     "metadata": {},
     "output_type": "display_data"
    },
    {
     "name": "stdout",
     "output_type": "stream",
     "text": [
      "Episode 69/1000: rewards -0.95 +/- 0.32 - Loss : -43.19980239868164\n"
     ]
    },
    {
     "data": {
      "application/vnd.jupyter.widget-view+json": {
       "model_id": "",
       "version_major": 2,
       "version_minor": 0
      },
      "text/plain": [
       "HBox(children=(HTML(value='Trajectories'), FloatProgress(value=0.0, max=1000.0), HTML(value='')))"
      ]
     },
     "metadata": {},
     "output_type": "display_data"
    },
    {
     "name": "stdout",
     "output_type": "stream",
     "text": [
      "Episode 70/1000: rewards -0.94 +/- 0.33 - Loss : -43.62493133544922\n"
     ]
    },
    {
     "data": {
      "application/vnd.jupyter.widget-view+json": {
       "model_id": "",
       "version_major": 2,
       "version_minor": 0
      },
      "text/plain": [
       "HBox(children=(HTML(value='Evaluation as player 1'), FloatProgress(value=0.0, max=200.0), HTML(value='')))"
      ]
     },
     "metadata": {},
     "output_type": "display_data"
    },
    {
     "data": {
      "application/vnd.jupyter.widget-view+json": {
       "model_id": "",
       "version_major": 2,
       "version_minor": 0
      },
      "text/plain": [
       "HBox(children=(HTML(value='Evaluation as player -1'), FloatProgress(value=0.0, max=200.0), HTML(value='')))"
      ]
     },
     "metadata": {},
     "output_type": "display_data"
    },
    {
     "name": "stdout",
     "output_type": "stream",
     "text": [
      "{'n_actions': 47.772, 'n_captures_place': 0.182, 'n_captured_place': 1.963, 'n_captures_move': 0.633, 'n_captured_move': 4.897, 'draws_%': 0.005, 'victories_capture_%': 0.028, 'victories_block_%': 0.0, 'defeats_capture_%': 0.948, 'defeats_block_%': 0.02}\n"
     ]
    },
    {
     "data": {
      "application/vnd.jupyter.widget-view+json": {
       "model_id": "",
       "version_major": 2,
       "version_minor": 0
      },
      "text/plain": [
       "HBox(children=(HTML(value='Trajectories'), FloatProgress(value=0.0, max=1000.0), HTML(value='')))"
      ]
     },
     "metadata": {},
     "output_type": "display_data"
    },
    {
     "name": "stdout",
     "output_type": "stream",
     "text": [
      "Episode 71/1000: rewards -0.96 +/- 0.27 - Loss : -44.517337799072266\n"
     ]
    },
    {
     "data": {
      "application/vnd.jupyter.widget-view+json": {
       "model_id": "",
       "version_major": 2,
       "version_minor": 0
      },
      "text/plain": [
       "HBox(children=(HTML(value='Trajectories'), FloatProgress(value=0.0, max=1000.0), HTML(value='')))"
      ]
     },
     "metadata": {},
     "output_type": "display_data"
    },
    {
     "name": "stdout",
     "output_type": "stream",
     "text": [
      "Episode 72/1000: rewards -0.97 +/- 0.26 - Loss : -44.967247009277344\n"
     ]
    },
    {
     "data": {
      "application/vnd.jupyter.widget-view+json": {
       "model_id": "",
       "version_major": 2,
       "version_minor": 0
      },
      "text/plain": [
       "HBox(children=(HTML(value='Trajectories'), FloatProgress(value=0.0, max=1000.0), HTML(value='')))"
      ]
     },
     "metadata": {},
     "output_type": "display_data"
    },
    {
     "name": "stdout",
     "output_type": "stream",
     "text": [
      "Episode 73/1000: rewards -0.96 +/- 0.28 - Loss : -43.31546401977539\n"
     ]
    },
    {
     "data": {
      "application/vnd.jupyter.widget-view+json": {
       "model_id": "",
       "version_major": 2,
       "version_minor": 0
      },
      "text/plain": [
       "HBox(children=(HTML(value='Trajectories'), FloatProgress(value=0.0, max=1000.0), HTML(value='')))"
      ]
     },
     "metadata": {},
     "output_type": "display_data"
    },
    {
     "name": "stdout",
     "output_type": "stream",
     "text": [
      "Episode 74/1000: rewards -0.94 +/- 0.33 - Loss : -42.34498596191406\n"
     ]
    },
    {
     "data": {
      "application/vnd.jupyter.widget-view+json": {
       "model_id": "",
       "version_major": 2,
       "version_minor": 0
      },
      "text/plain": [
       "HBox(children=(HTML(value='Trajectories'), FloatProgress(value=0.0, max=1000.0), HTML(value='')))"
      ]
     },
     "metadata": {},
     "output_type": "display_data"
    },
    {
     "name": "stdout",
     "output_type": "stream",
     "text": [
      "Episode 75/1000: rewards -0.95 +/- 0.3 - Loss : -42.96610641479492\n"
     ]
    },
    {
     "data": {
      "application/vnd.jupyter.widget-view+json": {
       "model_id": "",
       "version_major": 2,
       "version_minor": 0
      },
      "text/plain": [
       "HBox(children=(HTML(value='Evaluation as player 1'), FloatProgress(value=0.0, max=200.0), HTML(value='')))"
      ]
     },
     "metadata": {},
     "output_type": "display_data"
    },
    {
     "data": {
      "application/vnd.jupyter.widget-view+json": {
       "model_id": "",
       "version_major": 2,
       "version_minor": 0
      },
      "text/plain": [
       "HBox(children=(HTML(value='Evaluation as player -1'), FloatProgress(value=0.0, max=200.0), HTML(value='')))"
      ]
     },
     "metadata": {},
     "output_type": "display_data"
    },
    {
     "name": "stdout",
     "output_type": "stream",
     "text": [
      "{'n_actions': 45.523, 'n_captures_place': 0.167, 'n_captured_place': 2.133, 'n_captures_move': 0.565, 'n_captured_move': 4.812, 'draws_%': 0.0, 'victories_capture_%': 0.013, 'victories_block_%': 0.0, 'defeats_capture_%': 0.975, 'defeats_block_%': 0.013}\n"
     ]
    },
    {
     "data": {
      "application/vnd.jupyter.widget-view+json": {
       "model_id": "",
       "version_major": 2,
       "version_minor": 0
      },
      "text/plain": [
       "HBox(children=(HTML(value='Trajectories'), FloatProgress(value=0.0, max=1000.0), HTML(value='')))"
      ]
     },
     "metadata": {},
     "output_type": "display_data"
    },
    {
     "name": "stdout",
     "output_type": "stream",
     "text": [
      "Episode 76/1000: rewards -0.97 +/- 0.26 - Loss : -44.89246368408203\n"
     ]
    },
    {
     "data": {
      "application/vnd.jupyter.widget-view+json": {
       "model_id": "",
       "version_major": 2,
       "version_minor": 0
      },
      "text/plain": [
       "HBox(children=(HTML(value='Trajectories'), FloatProgress(value=0.0, max=1000.0), HTML(value='')))"
      ]
     },
     "metadata": {},
     "output_type": "display_data"
    },
    {
     "name": "stdout",
     "output_type": "stream",
     "text": [
      "Episode 77/1000: rewards -0.96 +/- 0.26 - Loss : -43.160133361816406\n"
     ]
    },
    {
     "data": {
      "application/vnd.jupyter.widget-view+json": {
       "model_id": "",
       "version_major": 2,
       "version_minor": 0
      },
      "text/plain": [
       "HBox(children=(HTML(value='Trajectories'), FloatProgress(value=0.0, max=1000.0), HTML(value='')))"
      ]
     },
     "metadata": {},
     "output_type": "display_data"
    },
    {
     "name": "stdout",
     "output_type": "stream",
     "text": [
      "Episode 78/1000: rewards -0.96 +/- 0.29 - Loss : -44.31559371948242\n"
     ]
    },
    {
     "data": {
      "application/vnd.jupyter.widget-view+json": {
       "model_id": "",
       "version_major": 2,
       "version_minor": 0
      },
      "text/plain": [
       "HBox(children=(HTML(value='Trajectories'), FloatProgress(value=0.0, max=1000.0), HTML(value='')))"
      ]
     },
     "metadata": {},
     "output_type": "display_data"
    },
    {
     "name": "stdout",
     "output_type": "stream",
     "text": [
      "Episode 79/1000: rewards -0.96 +/- 0.27 - Loss : -44.65554428100586\n"
     ]
    },
    {
     "data": {
      "application/vnd.jupyter.widget-view+json": {
       "model_id": "",
       "version_major": 2,
       "version_minor": 0
      },
      "text/plain": [
       "HBox(children=(HTML(value='Trajectories'), FloatProgress(value=0.0, max=1000.0), HTML(value='')))"
      ]
     },
     "metadata": {},
     "output_type": "display_data"
    },
    {
     "name": "stdout",
     "output_type": "stream",
     "text": [
      "Episode 80/1000: rewards -0.95 +/- 0.31 - Loss : -42.820098876953125\n"
     ]
    },
    {
     "data": {
      "application/vnd.jupyter.widget-view+json": {
       "model_id": "",
       "version_major": 2,
       "version_minor": 0
      },
      "text/plain": [
       "HBox(children=(HTML(value='Evaluation as player 1'), FloatProgress(value=0.0, max=200.0), HTML(value='')))"
      ]
     },
     "metadata": {},
     "output_type": "display_data"
    },
    {
     "data": {
      "application/vnd.jupyter.widget-view+json": {
       "model_id": "",
       "version_major": 2,
       "version_minor": 0
      },
      "text/plain": [
       "HBox(children=(HTML(value='Evaluation as player -1'), FloatProgress(value=0.0, max=200.0), HTML(value='')))"
      ]
     },
     "metadata": {},
     "output_type": "display_data"
    },
    {
     "name": "stdout",
     "output_type": "stream",
     "text": [
      "{'n_actions': 45.25, 'n_captures_place': 0.152, 'n_captured_place': 2.163, 'n_captures_move': 0.66, 'n_captured_move': 4.758, 'draws_%': 0.0, 'victories_capture_%': 0.015, 'victories_block_%': 0.0, 'defeats_capture_%': 0.968, 'defeats_block_%': 0.017}\n"
     ]
    },
    {
     "data": {
      "application/vnd.jupyter.widget-view+json": {
       "model_id": "",
       "version_major": 2,
       "version_minor": 0
      },
      "text/plain": [
       "HBox(children=(HTML(value='Trajectories'), FloatProgress(value=0.0, max=1000.0), HTML(value='')))"
      ]
     },
     "metadata": {},
     "output_type": "display_data"
    },
    {
     "name": "stdout",
     "output_type": "stream",
     "text": [
      "Episode 81/1000: rewards -0.95 +/- 0.31 - Loss : -43.27366256713867\n"
     ]
    },
    {
     "data": {
      "application/vnd.jupyter.widget-view+json": {
       "model_id": "",
       "version_major": 2,
       "version_minor": 0
      },
      "text/plain": [
       "HBox(children=(HTML(value='Trajectories'), FloatProgress(value=0.0, max=1000.0), HTML(value='')))"
      ]
     },
     "metadata": {},
     "output_type": "display_data"
    },
    {
     "name": "stdout",
     "output_type": "stream",
     "text": [
      "Episode 82/1000: rewards -0.97 +/- 0.26 - Loss : -43.977996826171875\n"
     ]
    },
    {
     "data": {
      "application/vnd.jupyter.widget-view+json": {
       "model_id": "",
       "version_major": 2,
       "version_minor": 0
      },
      "text/plain": [
       "HBox(children=(HTML(value='Trajectories'), FloatProgress(value=0.0, max=1000.0), HTML(value='')))"
      ]
     },
     "metadata": {},
     "output_type": "display_data"
    },
    {
     "name": "stdout",
     "output_type": "stream",
     "text": [
      "Episode 83/1000: rewards -0.98 +/- 0.19 - Loss : -45.16632843017578\n"
     ]
    },
    {
     "data": {
      "application/vnd.jupyter.widget-view+json": {
       "model_id": "",
       "version_major": 2,
       "version_minor": 0
      },
      "text/plain": [
       "HBox(children=(HTML(value='Trajectories'), FloatProgress(value=0.0, max=1000.0), HTML(value='')))"
      ]
     },
     "metadata": {},
     "output_type": "display_data"
    },
    {
     "name": "stdout",
     "output_type": "stream",
     "text": [
      "Episode 84/1000: rewards -0.97 +/- 0.24 - Loss : -44.98720932006836\n"
     ]
    },
    {
     "data": {
      "application/vnd.jupyter.widget-view+json": {
       "model_id": "",
       "version_major": 2,
       "version_minor": 0
      },
      "text/plain": [
       "HBox(children=(HTML(value='Trajectories'), FloatProgress(value=0.0, max=1000.0), HTML(value='')))"
      ]
     },
     "metadata": {},
     "output_type": "display_data"
    },
    {
     "name": "stdout",
     "output_type": "stream",
     "text": [
      "Episode 85/1000: rewards -0.97 +/- 0.23 - Loss : -45.45231628417969\n"
     ]
    },
    {
     "data": {
      "application/vnd.jupyter.widget-view+json": {
       "model_id": "",
       "version_major": 2,
       "version_minor": 0
      },
      "text/plain": [
       "HBox(children=(HTML(value='Evaluation as player 1'), FloatProgress(value=0.0, max=200.0), HTML(value='')))"
      ]
     },
     "metadata": {},
     "output_type": "display_data"
    },
    {
     "data": {
      "application/vnd.jupyter.widget-view+json": {
       "model_id": "",
       "version_major": 2,
       "version_minor": 0
      },
      "text/plain": [
       "HBox(children=(HTML(value='Evaluation as player -1'), FloatProgress(value=0.0, max=200.0), HTML(value='')))"
      ]
     },
     "metadata": {},
     "output_type": "display_data"
    },
    {
     "name": "stdout",
     "output_type": "stream",
     "text": [
      "{'n_actions': 45.9, 'n_captures_place': 0.105, 'n_captured_place': 2.172, 'n_captures_move': 0.635, 'n_captured_move': 4.723, 'draws_%': 0.0, 'victories_capture_%': 0.02, 'victories_block_%': 0.0, 'defeats_capture_%': 0.96, 'defeats_block_%': 0.02}\n"
     ]
    },
    {
     "data": {
      "application/vnd.jupyter.widget-view+json": {
       "model_id": "",
       "version_major": 2,
       "version_minor": 0
      },
      "text/plain": [
       "HBox(children=(HTML(value='Trajectories'), FloatProgress(value=0.0, max=1000.0), HTML(value='')))"
      ]
     },
     "metadata": {},
     "output_type": "display_data"
    },
    {
     "name": "stdout",
     "output_type": "stream",
     "text": [
      "Episode 86/1000: rewards -0.97 +/- 0.24 - Loss : -43.95193862915039\n"
     ]
    },
    {
     "data": {
      "application/vnd.jupyter.widget-view+json": {
       "model_id": "",
       "version_major": 2,
       "version_minor": 0
      },
      "text/plain": [
       "HBox(children=(HTML(value='Trajectories'), FloatProgress(value=0.0, max=1000.0), HTML(value='')))"
      ]
     },
     "metadata": {},
     "output_type": "display_data"
    },
    {
     "name": "stdout",
     "output_type": "stream",
     "text": [
      "Episode 87/1000: rewards -0.96 +/- 0.28 - Loss : -44.50297164916992\n"
     ]
    },
    {
     "data": {
      "application/vnd.jupyter.widget-view+json": {
       "model_id": "",
       "version_major": 2,
       "version_minor": 0
      },
      "text/plain": [
       "HBox(children=(HTML(value='Trajectories'), FloatProgress(value=0.0, max=1000.0), HTML(value='')))"
      ]
     },
     "metadata": {},
     "output_type": "display_data"
    },
    {
     "name": "stdout",
     "output_type": "stream",
     "text": [
      "Episode 88/1000: rewards -0.97 +/- 0.26 - Loss : -44.38154602050781\n"
     ]
    },
    {
     "data": {
      "application/vnd.jupyter.widget-view+json": {
       "model_id": "",
       "version_major": 2,
       "version_minor": 0
      },
      "text/plain": [
       "HBox(children=(HTML(value='Trajectories'), FloatProgress(value=0.0, max=1000.0), HTML(value='')))"
      ]
     },
     "metadata": {},
     "output_type": "display_data"
    },
    {
     "name": "stdout",
     "output_type": "stream",
     "text": [
      "Episode 89/1000: rewards -0.96 +/- 0.27 - Loss : -43.83339309692383\n"
     ]
    },
    {
     "data": {
      "application/vnd.jupyter.widget-view+json": {
       "model_id": "",
       "version_major": 2,
       "version_minor": 0
      },
      "text/plain": [
       "HBox(children=(HTML(value='Trajectories'), FloatProgress(value=0.0, max=1000.0), HTML(value='')))"
      ]
     },
     "metadata": {},
     "output_type": "display_data"
    },
    {
     "name": "stdout",
     "output_type": "stream",
     "text": [
      "Episode 90/1000: rewards -0.95 +/- 0.3 - Loss : -43.61768341064453\n"
     ]
    },
    {
     "data": {
      "application/vnd.jupyter.widget-view+json": {
       "model_id": "",
       "version_major": 2,
       "version_minor": 0
      },
      "text/plain": [
       "HBox(children=(HTML(value='Evaluation as player 1'), FloatProgress(value=0.0, max=200.0), HTML(value='')))"
      ]
     },
     "metadata": {},
     "output_type": "display_data"
    },
    {
     "data": {
      "application/vnd.jupyter.widget-view+json": {
       "model_id": "",
       "version_major": 2,
       "version_minor": 0
      },
      "text/plain": [
       "HBox(children=(HTML(value='Evaluation as player -1'), FloatProgress(value=0.0, max=200.0), HTML(value='')))"
      ]
     },
     "metadata": {},
     "output_type": "display_data"
    },
    {
     "name": "stdout",
     "output_type": "stream",
     "text": [
      "{'n_actions': 46.263, 'n_captures_place': 0.1, 'n_captured_place': 2.16, 'n_captures_move': 0.748, 'n_captured_move': 4.74, 'draws_%': 0.0, 'victories_capture_%': 0.028, 'victories_block_%': 0.0, 'defeats_capture_%': 0.96, 'defeats_block_%': 0.013}\n"
     ]
    },
    {
     "data": {
      "application/vnd.jupyter.widget-view+json": {
       "model_id": "",
       "version_major": 2,
       "version_minor": 0
      },
      "text/plain": [
       "HBox(children=(HTML(value='Trajectories'), FloatProgress(value=0.0, max=1000.0), HTML(value='')))"
      ]
     },
     "metadata": {},
     "output_type": "display_data"
    },
    {
     "name": "stdout",
     "output_type": "stream",
     "text": [
      "Episode 91/1000: rewards -0.96 +/- 0.27 - Loss : -44.318092346191406\n"
     ]
    },
    {
     "data": {
      "application/vnd.jupyter.widget-view+json": {
       "model_id": "",
       "version_major": 2,
       "version_minor": 0
      },
      "text/plain": [
       "HBox(children=(HTML(value='Trajectories'), FloatProgress(value=0.0, max=1000.0), HTML(value='')))"
      ]
     },
     "metadata": {},
     "output_type": "display_data"
    },
    {
     "name": "stdout",
     "output_type": "stream",
     "text": [
      "Episode 92/1000: rewards -0.94 +/- 0.33 - Loss : -42.75929641723633\n"
     ]
    },
    {
     "data": {
      "application/vnd.jupyter.widget-view+json": {
       "model_id": "",
       "version_major": 2,
       "version_minor": 0
      },
      "text/plain": [
       "HBox(children=(HTML(value='Trajectories'), FloatProgress(value=0.0, max=1000.0), HTML(value='')))"
      ]
     },
     "metadata": {},
     "output_type": "display_data"
    },
    {
     "name": "stdout",
     "output_type": "stream",
     "text": [
      "Episode 93/1000: rewards -0.96 +/- 0.28 - Loss : -43.967132568359375\n"
     ]
    },
    {
     "data": {
      "application/vnd.jupyter.widget-view+json": {
       "model_id": "",
       "version_major": 2,
       "version_minor": 0
      },
      "text/plain": [
       "HBox(children=(HTML(value='Trajectories'), FloatProgress(value=0.0, max=1000.0), HTML(value='')))"
      ]
     },
     "metadata": {},
     "output_type": "display_data"
    },
    {
     "name": "stdout",
     "output_type": "stream",
     "text": [
      "Episode 94/1000: rewards -0.96 +/- 0.27 - Loss : -44.5008544921875\n"
     ]
    },
    {
     "data": {
      "application/vnd.jupyter.widget-view+json": {
       "model_id": "",
       "version_major": 2,
       "version_minor": 0
      },
      "text/plain": [
       "HBox(children=(HTML(value='Trajectories'), FloatProgress(value=0.0, max=1000.0), HTML(value='')))"
      ]
     },
     "metadata": {},
     "output_type": "display_data"
    },
    {
     "name": "stdout",
     "output_type": "stream",
     "text": [
      "Episode 95/1000: rewards -0.96 +/- 0.27 - Loss : -44.300113677978516\n"
     ]
    },
    {
     "data": {
      "application/vnd.jupyter.widget-view+json": {
       "model_id": "",
       "version_major": 2,
       "version_minor": 0
      },
      "text/plain": [
       "HBox(children=(HTML(value='Evaluation as player 1'), FloatProgress(value=0.0, max=200.0), HTML(value='')))"
      ]
     },
     "metadata": {},
     "output_type": "display_data"
    },
    {
     "data": {
      "application/vnd.jupyter.widget-view+json": {
       "model_id": "",
       "version_major": 2,
       "version_minor": 0
      },
      "text/plain": [
       "HBox(children=(HTML(value='Evaluation as player -1'), FloatProgress(value=0.0, max=200.0), HTML(value='')))"
      ]
     },
     "metadata": {},
     "output_type": "display_data"
    },
    {
     "name": "stdout",
     "output_type": "stream",
     "text": [
      "{'n_actions': 46.84, 'n_captures_place': 0.082, 'n_captured_place': 2.133, 'n_captures_move': 0.575, 'n_captured_move': 4.768, 'draws_%': 0.003, 'victories_capture_%': 0.015, 'victories_block_%': 0.0, 'defeats_capture_%': 0.955, 'defeats_block_%': 0.028}\n"
     ]
    },
    {
     "data": {
      "application/vnd.jupyter.widget-view+json": {
       "model_id": "",
       "version_major": 2,
       "version_minor": 0
      },
      "text/plain": [
       "HBox(children=(HTML(value='Trajectories'), FloatProgress(value=0.0, max=1000.0), HTML(value='')))"
      ]
     },
     "metadata": {},
     "output_type": "display_data"
    },
    {
     "name": "stdout",
     "output_type": "stream",
     "text": [
      "Episode 96/1000: rewards -0.95 +/- 0.32 - Loss : -42.837867736816406\n"
     ]
    },
    {
     "data": {
      "application/vnd.jupyter.widget-view+json": {
       "model_id": "",
       "version_major": 2,
       "version_minor": 0
      },
      "text/plain": [
       "HBox(children=(HTML(value='Trajectories'), FloatProgress(value=0.0, max=1000.0), HTML(value='')))"
      ]
     },
     "metadata": {},
     "output_type": "display_data"
    },
    {
     "name": "stdout",
     "output_type": "stream",
     "text": [
      "Episode 97/1000: rewards -0.96 +/- 0.29 - Loss : -43.55887985229492\n"
     ]
    },
    {
     "data": {
      "application/vnd.jupyter.widget-view+json": {
       "model_id": "",
       "version_major": 2,
       "version_minor": 0
      },
      "text/plain": [
       "HBox(children=(HTML(value='Trajectories'), FloatProgress(value=0.0, max=1000.0), HTML(value='')))"
      ]
     },
     "metadata": {},
     "output_type": "display_data"
    },
    {
     "name": "stdout",
     "output_type": "stream",
     "text": [
      "Episode 98/1000: rewards -0.95 +/- 0.31 - Loss : -42.83045196533203\n"
     ]
    },
    {
     "data": {
      "application/vnd.jupyter.widget-view+json": {
       "model_id": "",
       "version_major": 2,
       "version_minor": 0
      },
      "text/plain": [
       "HBox(children=(HTML(value='Trajectories'), FloatProgress(value=0.0, max=1000.0), HTML(value='')))"
      ]
     },
     "metadata": {},
     "output_type": "display_data"
    },
    {
     "name": "stdout",
     "output_type": "stream",
     "text": [
      "Episode 99/1000: rewards -0.95 +/- 0.3 - Loss : -43.26430130004883\n"
     ]
    },
    {
     "data": {
      "application/vnd.jupyter.widget-view+json": {
       "model_id": "",
       "version_major": 2,
       "version_minor": 0
      },
      "text/plain": [
       "HBox(children=(HTML(value='Trajectories'), FloatProgress(value=0.0, max=1000.0), HTML(value='')))"
      ]
     },
     "metadata": {},
     "output_type": "display_data"
    },
    {
     "name": "stdout",
     "output_type": "stream",
     "text": [
      "Episode 100/1000: rewards -0.96 +/- 0.29 - Loss : -42.9206428527832\n"
     ]
    },
    {
     "data": {
      "application/vnd.jupyter.widget-view+json": {
       "model_id": "",
       "version_major": 2,
       "version_minor": 0
      },
      "text/plain": [
       "HBox(children=(HTML(value='Evaluation as player 1'), FloatProgress(value=0.0, max=200.0), HTML(value='')))"
      ]
     },
     "metadata": {},
     "output_type": "display_data"
    },
    {
     "data": {
      "application/vnd.jupyter.widget-view+json": {
       "model_id": "",
       "version_major": 2,
       "version_minor": 0
      },
      "text/plain": [
       "HBox(children=(HTML(value='Evaluation as player -1'), FloatProgress(value=0.0, max=200.0), HTML(value='')))"
      ]
     },
     "metadata": {},
     "output_type": "display_data"
    },
    {
     "name": "stdout",
     "output_type": "stream",
     "text": [
      "{'n_actions': 48.195, 'n_captures_place': 0.1, 'n_captured_place': 2.008, 'n_captures_move': 0.79, 'n_captured_move': 4.772, 'draws_%': 0.003, 'victories_capture_%': 0.035, 'victories_block_%': 0.0, 'defeats_capture_%': 0.938, 'defeats_block_%': 0.025}\n"
     ]
    },
    {
     "data": {
      "application/vnd.jupyter.widget-view+json": {
       "model_id": "",
       "version_major": 2,
       "version_minor": 0
      },
      "text/plain": [
       "HBox(children=(HTML(value='Trajectories'), FloatProgress(value=0.0, max=1000.0), HTML(value='')))"
      ]
     },
     "metadata": {},
     "output_type": "display_data"
    },
    {
     "name": "stdout",
     "output_type": "stream",
     "text": [
      "Episode 101/1000: rewards -0.96 +/- 0.27 - Loss : -44.507259368896484\n"
     ]
    },
    {
     "data": {
      "application/vnd.jupyter.widget-view+json": {
       "model_id": "",
       "version_major": 2,
       "version_minor": 0
      },
      "text/plain": [
       "HBox(children=(HTML(value='Trajectories'), FloatProgress(value=0.0, max=1000.0), HTML(value='')))"
      ]
     },
     "metadata": {},
     "output_type": "display_data"
    },
    {
     "name": "stdout",
     "output_type": "stream",
     "text": [
      "Episode 102/1000: rewards -0.95 +/- 0.3 - Loss : -43.69637680053711\n"
     ]
    },
    {
     "data": {
      "application/vnd.jupyter.widget-view+json": {
       "model_id": "",
       "version_major": 2,
       "version_minor": 0
      },
      "text/plain": [
       "HBox(children=(HTML(value='Trajectories'), FloatProgress(value=0.0, max=1000.0), HTML(value='')))"
      ]
     },
     "metadata": {},
     "output_type": "display_data"
    },
    {
     "name": "stdout",
     "output_type": "stream",
     "text": [
      "Episode 103/1000: rewards -0.94 +/- 0.33 - Loss : -42.958473205566406\n"
     ]
    },
    {
     "data": {
      "application/vnd.jupyter.widget-view+json": {
       "model_id": "",
       "version_major": 2,
       "version_minor": 0
      },
      "text/plain": [
       "HBox(children=(HTML(value='Trajectories'), FloatProgress(value=0.0, max=1000.0), HTML(value='')))"
      ]
     },
     "metadata": {},
     "output_type": "display_data"
    },
    {
     "name": "stdout",
     "output_type": "stream",
     "text": [
      "Episode 104/1000: rewards -0.96 +/- 0.28 - Loss : -43.812767028808594\n"
     ]
    },
    {
     "data": {
      "application/vnd.jupyter.widget-view+json": {
       "model_id": "",
       "version_major": 2,
       "version_minor": 0
      },
      "text/plain": [
       "HBox(children=(HTML(value='Trajectories'), FloatProgress(value=0.0, max=1000.0), HTML(value='')))"
      ]
     },
     "metadata": {},
     "output_type": "display_data"
    },
    {
     "name": "stdout",
     "output_type": "stream",
     "text": [
      "Episode 105/1000: rewards -0.95 +/- 0.3 - Loss : -43.099666595458984\n"
     ]
    },
    {
     "data": {
      "application/vnd.jupyter.widget-view+json": {
       "model_id": "",
       "version_major": 2,
       "version_minor": 0
      },
      "text/plain": [
       "HBox(children=(HTML(value='Evaluation as player 1'), FloatProgress(value=0.0, max=200.0), HTML(value='')))"
      ]
     },
     "metadata": {},
     "output_type": "display_data"
    },
    {
     "data": {
      "application/vnd.jupyter.widget-view+json": {
       "model_id": "",
       "version_major": 2,
       "version_minor": 0
      },
      "text/plain": [
       "HBox(children=(HTML(value='Evaluation as player -1'), FloatProgress(value=0.0, max=200.0), HTML(value='')))"
      ]
     },
     "metadata": {},
     "output_type": "display_data"
    },
    {
     "name": "stdout",
     "output_type": "stream",
     "text": [
      "{'n_actions': 47.175, 'n_captures_place': 0.115, 'n_captured_place': 2.095, 'n_captures_move': 0.778, 'n_captured_move': 4.707, 'draws_%': 0.0, 'victories_capture_%': 0.038, 'victories_block_%': 0.003, 'defeats_capture_%': 0.925, 'defeats_block_%': 0.035}\n"
     ]
    },
    {
     "data": {
      "application/vnd.jupyter.widget-view+json": {
       "model_id": "",
       "version_major": 2,
       "version_minor": 0
      },
      "text/plain": [
       "HBox(children=(HTML(value='Trajectories'), FloatProgress(value=0.0, max=1000.0), HTML(value='')))"
      ]
     },
     "metadata": {},
     "output_type": "display_data"
    },
    {
     "name": "stdout",
     "output_type": "stream",
     "text": [
      "Episode 106/1000: rewards -0.96 +/- 0.28 - Loss : -44.880435943603516\n"
     ]
    },
    {
     "data": {
      "application/vnd.jupyter.widget-view+json": {
       "model_id": "",
       "version_major": 2,
       "version_minor": 0
      },
      "text/plain": [
       "HBox(children=(HTML(value='Trajectories'), FloatProgress(value=0.0, max=1000.0), HTML(value='')))"
      ]
     },
     "metadata": {},
     "output_type": "display_data"
    },
    {
     "name": "stdout",
     "output_type": "stream",
     "text": [
      "Episode 107/1000: rewards -0.97 +/- 0.24 - Loss : -45.29632568359375\n"
     ]
    },
    {
     "data": {
      "application/vnd.jupyter.widget-view+json": {
       "model_id": "",
       "version_major": 2,
       "version_minor": 0
      },
      "text/plain": [
       "HBox(children=(HTML(value='Trajectories'), FloatProgress(value=0.0, max=1000.0), HTML(value='')))"
      ]
     },
     "metadata": {},
     "output_type": "display_data"
    },
    {
     "name": "stdout",
     "output_type": "stream",
     "text": [
      "Episode 108/1000: rewards -0.97 +/- 0.26 - Loss : -44.53383255004883\n"
     ]
    },
    {
     "data": {
      "application/vnd.jupyter.widget-view+json": {
       "model_id": "",
       "version_major": 2,
       "version_minor": 0
      },
      "text/plain": [
       "HBox(children=(HTML(value='Trajectories'), FloatProgress(value=0.0, max=1000.0), HTML(value='')))"
      ]
     },
     "metadata": {},
     "output_type": "display_data"
    },
    {
     "name": "stdout",
     "output_type": "stream",
     "text": [
      "Episode 109/1000: rewards -0.96 +/- 0.27 - Loss : -43.94831466674805\n"
     ]
    },
    {
     "data": {
      "application/vnd.jupyter.widget-view+json": {
       "model_id": "",
       "version_major": 2,
       "version_minor": 0
      },
      "text/plain": [
       "HBox(children=(HTML(value='Trajectories'), FloatProgress(value=0.0, max=1000.0), HTML(value='')))"
      ]
     },
     "metadata": {},
     "output_type": "display_data"
    },
    {
     "name": "stdout",
     "output_type": "stream",
     "text": [
      "Episode 110/1000: rewards -0.96 +/- 0.28 - Loss : -44.057552337646484\n"
     ]
    },
    {
     "data": {
      "application/vnd.jupyter.widget-view+json": {
       "model_id": "",
       "version_major": 2,
       "version_minor": 0
      },
      "text/plain": [
       "HBox(children=(HTML(value='Evaluation as player 1'), FloatProgress(value=0.0, max=200.0), HTML(value='')))"
      ]
     },
     "metadata": {},
     "output_type": "display_data"
    },
    {
     "data": {
      "application/vnd.jupyter.widget-view+json": {
       "model_id": "",
       "version_major": 2,
       "version_minor": 0
      },
      "text/plain": [
       "HBox(children=(HTML(value='Evaluation as player -1'), FloatProgress(value=0.0, max=200.0), HTML(value='')))"
      ]
     },
     "metadata": {},
     "output_type": "display_data"
    },
    {
     "name": "stdout",
     "output_type": "stream",
     "text": [
      "{'n_actions': 47.575, 'n_captures_place': 0.145, 'n_captured_place': 2.065, 'n_captures_move': 0.848, 'n_captured_move': 4.79, 'draws_%': 0.0, 'victories_capture_%': 0.045, 'victories_block_%': 0.0, 'defeats_capture_%': 0.943, 'defeats_block_%': 0.013}\n"
     ]
    },
    {
     "data": {
      "application/vnd.jupyter.widget-view+json": {
       "model_id": "",
       "version_major": 2,
       "version_minor": 0
      },
      "text/plain": [
       "HBox(children=(HTML(value='Trajectories'), FloatProgress(value=0.0, max=1000.0), HTML(value='')))"
      ]
     },
     "metadata": {},
     "output_type": "display_data"
    },
    {
     "name": "stdout",
     "output_type": "stream",
     "text": [
      "Episode 111/1000: rewards -0.93 +/- 0.36 - Loss : -42.75864028930664\n"
     ]
    },
    {
     "data": {
      "application/vnd.jupyter.widget-view+json": {
       "model_id": "",
       "version_major": 2,
       "version_minor": 0
      },
      "text/plain": [
       "HBox(children=(HTML(value='Trajectories'), FloatProgress(value=0.0, max=1000.0), HTML(value='')))"
      ]
     },
     "metadata": {},
     "output_type": "display_data"
    },
    {
     "name": "stdout",
     "output_type": "stream",
     "text": [
      "Episode 112/1000: rewards -0.96 +/- 0.29 - Loss : -43.92372131347656\n"
     ]
    },
    {
     "data": {
      "application/vnd.jupyter.widget-view+json": {
       "model_id": "",
       "version_major": 2,
       "version_minor": 0
      },
      "text/plain": [
       "HBox(children=(HTML(value='Trajectories'), FloatProgress(value=0.0, max=1000.0), HTML(value='')))"
      ]
     },
     "metadata": {},
     "output_type": "display_data"
    },
    {
     "name": "stdout",
     "output_type": "stream",
     "text": [
      "Episode 113/1000: rewards -0.96 +/- 0.29 - Loss : -44.088321685791016\n"
     ]
    },
    {
     "data": {
      "application/vnd.jupyter.widget-view+json": {
       "model_id": "",
       "version_major": 2,
       "version_minor": 0
      },
      "text/plain": [
       "HBox(children=(HTML(value='Trajectories'), FloatProgress(value=0.0, max=1000.0), HTML(value='')))"
      ]
     },
     "metadata": {},
     "output_type": "display_data"
    },
    {
     "name": "stdout",
     "output_type": "stream",
     "text": [
      "Episode 114/1000: rewards -0.96 +/- 0.28 - Loss : -44.254302978515625\n"
     ]
    },
    {
     "data": {
      "application/vnd.jupyter.widget-view+json": {
       "model_id": "",
       "version_major": 2,
       "version_minor": 0
      },
      "text/plain": [
       "HBox(children=(HTML(value='Trajectories'), FloatProgress(value=0.0, max=1000.0), HTML(value='')))"
      ]
     },
     "metadata": {},
     "output_type": "display_data"
    },
    {
     "name": "stdout",
     "output_type": "stream",
     "text": [
      "Episode 115/1000: rewards -0.96 +/- 0.28 - Loss : -44.6153450012207\n"
     ]
    },
    {
     "data": {
      "application/vnd.jupyter.widget-view+json": {
       "model_id": "",
       "version_major": 2,
       "version_minor": 0
      },
      "text/plain": [
       "HBox(children=(HTML(value='Evaluation as player 1'), FloatProgress(value=0.0, max=200.0), HTML(value='')))"
      ]
     },
     "metadata": {},
     "output_type": "display_data"
    },
    {
     "data": {
      "application/vnd.jupyter.widget-view+json": {
       "model_id": "",
       "version_major": 2,
       "version_minor": 0
      },
      "text/plain": [
       "HBox(children=(HTML(value='Evaluation as player -1'), FloatProgress(value=0.0, max=200.0), HTML(value='')))"
      ]
     },
     "metadata": {},
     "output_type": "display_data"
    },
    {
     "name": "stdout",
     "output_type": "stream",
     "text": [
      "{'n_actions': 48.43, 'n_captures_place': 0.138, 'n_captured_place': 2.02, 'n_captures_move': 0.995, 'n_captured_move': 4.752, 'draws_%': 0.0, 'victories_capture_%': 0.055, 'victories_block_%': 0.005, 'defeats_capture_%': 0.93, 'defeats_block_%': 0.01}\n"
     ]
    },
    {
     "data": {
      "application/vnd.jupyter.widget-view+json": {
       "model_id": "",
       "version_major": 2,
       "version_minor": 0
      },
      "text/plain": [
       "HBox(children=(HTML(value='Trajectories'), FloatProgress(value=0.0, max=1000.0), HTML(value='')))"
      ]
     },
     "metadata": {},
     "output_type": "display_data"
    },
    {
     "name": "stdout",
     "output_type": "stream",
     "text": [
      "Episode 116/1000: rewards -0.95 +/- 0.31 - Loss : -43.26677322387695\n"
     ]
    },
    {
     "data": {
      "application/vnd.jupyter.widget-view+json": {
       "model_id": "",
       "version_major": 2,
       "version_minor": 0
      },
      "text/plain": [
       "HBox(children=(HTML(value='Trajectories'), FloatProgress(value=0.0, max=1000.0), HTML(value='')))"
      ]
     },
     "metadata": {},
     "output_type": "display_data"
    },
    {
     "name": "stdout",
     "output_type": "stream",
     "text": [
      "Episode 117/1000: rewards -0.94 +/- 0.34 - Loss : -42.65791702270508\n"
     ]
    },
    {
     "data": {
      "application/vnd.jupyter.widget-view+json": {
       "model_id": "",
       "version_major": 2,
       "version_minor": 0
      },
      "text/plain": [
       "HBox(children=(HTML(value='Trajectories'), FloatProgress(value=0.0, max=1000.0), HTML(value='')))"
      ]
     },
     "metadata": {},
     "output_type": "display_data"
    },
    {
     "name": "stdout",
     "output_type": "stream",
     "text": [
      "Episode 118/1000: rewards -0.95 +/- 0.31 - Loss : -42.89935302734375\n"
     ]
    },
    {
     "data": {
      "application/vnd.jupyter.widget-view+json": {
       "model_id": "",
       "version_major": 2,
       "version_minor": 0
      },
      "text/plain": [
       "HBox(children=(HTML(value='Trajectories'), FloatProgress(value=0.0, max=1000.0), HTML(value='')))"
      ]
     },
     "metadata": {},
     "output_type": "display_data"
    },
    {
     "name": "stdout",
     "output_type": "stream",
     "text": [
      "Episode 119/1000: rewards -0.94 +/- 0.33 - Loss : -43.27669143676758\n"
     ]
    },
    {
     "data": {
      "application/vnd.jupyter.widget-view+json": {
       "model_id": "",
       "version_major": 2,
       "version_minor": 0
      },
      "text/plain": [
       "HBox(children=(HTML(value='Trajectories'), FloatProgress(value=0.0, max=1000.0), HTML(value='')))"
      ]
     },
     "metadata": {},
     "output_type": "display_data"
    },
    {
     "name": "stdout",
     "output_type": "stream",
     "text": [
      "Episode 120/1000: rewards -0.95 +/- 0.31 - Loss : -43.3747444152832\n"
     ]
    },
    {
     "data": {
      "application/vnd.jupyter.widget-view+json": {
       "model_id": "",
       "version_major": 2,
       "version_minor": 0
      },
      "text/plain": [
       "HBox(children=(HTML(value='Evaluation as player 1'), FloatProgress(value=0.0, max=200.0), HTML(value='')))"
      ]
     },
     "metadata": {},
     "output_type": "display_data"
    },
    {
     "data": {
      "application/vnd.jupyter.widget-view+json": {
       "model_id": "",
       "version_major": 2,
       "version_minor": 0
      },
      "text/plain": [
       "HBox(children=(HTML(value='Evaluation as player -1'), FloatProgress(value=0.0, max=200.0), HTML(value='')))"
      ]
     },
     "metadata": {},
     "output_type": "display_data"
    },
    {
     "name": "stdout",
     "output_type": "stream",
     "text": [
      "{'n_actions': 50.96, 'n_captures_place': 0.115, 'n_captured_place': 2.018, 'n_captures_move': 0.847, 'n_captured_move': 4.832, 'draws_%': 0.003, 'victories_capture_%': 0.04, 'victories_block_%': 0.0, 'defeats_capture_%': 0.925, 'defeats_block_%': 0.033}\n"
     ]
    },
    {
     "data": {
      "application/vnd.jupyter.widget-view+json": {
       "model_id": "",
       "version_major": 2,
       "version_minor": 0
      },
      "text/plain": [
       "HBox(children=(HTML(value='Trajectories'), FloatProgress(value=0.0, max=1000.0), HTML(value='')))"
      ]
     },
     "metadata": {},
     "output_type": "display_data"
    },
    {
     "name": "stdout",
     "output_type": "stream",
     "text": [
      "Episode 121/1000: rewards -0.95 +/- 0.31 - Loss : -43.26856994628906\n"
     ]
    },
    {
     "data": {
      "application/vnd.jupyter.widget-view+json": {
       "model_id": "f996a026f62e4ff1aae574a4ecfe29d0",
       "version_major": 2,
       "version_minor": 0
      },
      "text/plain": [
       "HBox(children=(HTML(value='Trajectories'), FloatProgress(value=0.0, max=1000.0), HTML(value='')))"
      ]
     },
     "metadata": {},
     "output_type": "display_data"
    },
    {
     "name": "stdout",
     "output_type": "stream",
     "text": [
      "\n"
     ]
    },
    {
     "ename": "KeyboardInterrupt",
     "evalue": "",
     "output_type": "error",
     "traceback": [
      "\u001b[0;31m---------------------------------------------------------------------------\u001b[0m",
      "\u001b[0;31mKeyboardInterrupt\u001b[0m                         Traceback (most recent call last)",
      "\u001b[0;32m<ipython-input-6-2b3f78b8ef05>\u001b[0m in \u001b[0;36m<module>\u001b[0;34m\u001b[0m\n\u001b[1;32m     18\u001b[0m \u001b[0;34m\u001b[0m\u001b[0m\n\u001b[1;32m     19\u001b[0m \u001b[0;31m# Training Conv agent\u001b[0m\u001b[0;34m\u001b[0m\u001b[0;34m\u001b[0m\u001b[0;34m\u001b[0m\u001b[0m\n\u001b[0;32m---> 20\u001b[0;31m train_agent(\n\u001b[0m\u001b[1;32m     21\u001b[0m     \u001b[0menv\u001b[0m\u001b[0;34m=\u001b[0m\u001b[0menv\u001b[0m\u001b[0;34m,\u001b[0m\u001b[0;34m\u001b[0m\u001b[0;34m\u001b[0m\u001b[0m\n\u001b[1;32m     22\u001b[0m     \u001b[0mn_epochs\u001b[0m\u001b[0;34m=\u001b[0m\u001b[0;36m1000\u001b[0m\u001b[0;34m,\u001b[0m\u001b[0;34m\u001b[0m\u001b[0;34m\u001b[0m\u001b[0m\n",
      "\u001b[0;32m~/Desktop/MARL/marl_train.py\u001b[0m in \u001b[0;36mtrain_agent\u001b[0;34m(env, n_epochs, n_trajectories, trained_agent, opponent_agent, evaluate_agent, log_training, save_model_freq, evaluate_freq)\u001b[0m\n\u001b[1;32m     41\u001b[0m         \u001b[0;31m# TODO - add other models when added\u001b[0m\u001b[0;34m\u001b[0m\u001b[0;34m\u001b[0m\u001b[0;34m\u001b[0m\u001b[0m\n\u001b[1;32m     42\u001b[0m \u001b[0;34m\u001b[0m\u001b[0m\n\u001b[0;32m---> 43\u001b[0;31m     \u001b[0mtrained_agent\u001b[0m\u001b[0;34m.\u001b[0m\u001b[0mtrain\u001b[0m\u001b[0;34m(\u001b[0m\u001b[0mn_trajectories\u001b[0m\u001b[0;34m,\u001b[0m \u001b[0mn_epochs\u001b[0m\u001b[0;34m,\u001b[0m \u001b[0mopponent_agent\u001b[0m\u001b[0;34m,\u001b[0m \u001b[0mevaluate_agent\u001b[0m\u001b[0;34m,\u001b[0m \u001b[0mlog_training\u001b[0m\u001b[0;34m,\u001b[0m \u001b[0msave_model_freq\u001b[0m\u001b[0;34m,\u001b[0m \u001b[0mevaluate_freq\u001b[0m\u001b[0;34m)\u001b[0m\u001b[0;34m\u001b[0m\u001b[0;34m\u001b[0m\u001b[0m\n\u001b[0m\u001b[1;32m     44\u001b[0m \u001b[0;34m\u001b[0m\u001b[0m\n\u001b[1;32m     45\u001b[0m     \u001b[0;32mif\u001b[0m \u001b[0mlog_training\u001b[0m\u001b[0;34m:\u001b[0m\u001b[0;34m\u001b[0m\u001b[0;34m\u001b[0m\u001b[0m\n",
      "\u001b[0;32m~/Desktop/MARL/marl_agents.py\u001b[0m in \u001b[0;36mtrain\u001b[0;34m(self, n_trajectories, n_epoch, opponent_agent, evaluation_agent, log_wandb, save_model_freq, evaluate_freq)\u001b[0m\n\u001b[1;32m     74\u001b[0m         \u001b[0mepoch_loop\u001b[0m \u001b[0;34m=\u001b[0m \u001b[0mtqdm\u001b[0m\u001b[0;34m(\u001b[0m\u001b[0mrange\u001b[0m\u001b[0;34m(\u001b[0m\u001b[0mn_epoch\u001b[0m\u001b[0;34m)\u001b[0m\u001b[0;34m,\u001b[0m \u001b[0mdesc\u001b[0m\u001b[0;34m=\u001b[0m\u001b[0;34m\"Epochs\"\u001b[0m\u001b[0;34m)\u001b[0m\u001b[0;34m\u001b[0m\u001b[0;34m\u001b[0m\u001b[0m\n\u001b[1;32m     75\u001b[0m         \u001b[0;32mfor\u001b[0m \u001b[0mepoch\u001b[0m \u001b[0;32min\u001b[0m \u001b[0mepoch_loop\u001b[0m\u001b[0;34m:\u001b[0m\u001b[0;34m\u001b[0m\u001b[0;34m\u001b[0m\u001b[0m\n\u001b[0;32m---> 76\u001b[0;31m             \u001b[0mepoch_reward\u001b[0m\u001b[0;34m,\u001b[0m \u001b[0mepoch_loss\u001b[0m \u001b[0;34m=\u001b[0m \u001b[0mself\u001b[0m\u001b[0;34m.\u001b[0m\u001b[0moptimize_model\u001b[0m\u001b[0;34m(\u001b[0m\u001b[0mn_trajectories\u001b[0m\u001b[0;34m,\u001b[0m \u001b[0mopponent_agent\u001b[0m\u001b[0;34m)\u001b[0m\u001b[0;34m\u001b[0m\u001b[0;34m\u001b[0m\u001b[0m\n\u001b[0m\u001b[1;32m     77\u001b[0m             \u001b[0mrewards\u001b[0m\u001b[0;34m.\u001b[0m\u001b[0mappend\u001b[0m\u001b[0;34m(\u001b[0m\u001b[0mnp\u001b[0m\u001b[0;34m.\u001b[0m\u001b[0mmean\u001b[0m\u001b[0;34m(\u001b[0m\u001b[0mepoch_reward\u001b[0m\u001b[0;34m)\u001b[0m\u001b[0;34m)\u001b[0m\u001b[0;34m\u001b[0m\u001b[0;34m\u001b[0m\u001b[0m\n\u001b[1;32m     78\u001b[0m \u001b[0;34m\u001b[0m\u001b[0m\n",
      "\u001b[0;32m~/Desktop/MARL/marl_agents.py\u001b[0m in \u001b[0;36moptimize_model\u001b[0;34m(self, n_trajectories, opponent)\u001b[0m\n\u001b[1;32m    214\u001b[0m                 \u001b[0mt_legal_moves_probas\u001b[0m \u001b[0;34m=\u001b[0m \u001b[0mnn\u001b[0m\u001b[0;34m.\u001b[0m\u001b[0mSoftmax\u001b[0m\u001b[0;34m(\u001b[0m\u001b[0mdim\u001b[0m\u001b[0;34m=\u001b[0m\u001b[0;36m0\u001b[0m\u001b[0;34m)\u001b[0m\u001b[0;34m(\u001b[0m\u001b[0mt_legal_moves_scores\u001b[0m\u001b[0;34m)\u001b[0m\u001b[0;34m\u001b[0m\u001b[0;34m\u001b[0m\u001b[0m\n\u001b[1;32m    215\u001b[0m \u001b[0;34m\u001b[0m\u001b[0m\n\u001b[0;32m--> 216\u001b[0;31m                 \u001b[0mproba_id\u001b[0m \u001b[0;34m=\u001b[0m \u001b[0mint\u001b[0m\u001b[0;34m(\u001b[0m\u001b[0mtorch\u001b[0m\u001b[0;34m.\u001b[0m\u001b[0mmultinomial\u001b[0m\u001b[0;34m(\u001b[0m\u001b[0mt_legal_moves_probas\u001b[0m\u001b[0;34m,\u001b[0m \u001b[0;36m1\u001b[0m\u001b[0;34m)\u001b[0m\u001b[0;34m)\u001b[0m\u001b[0;34m\u001b[0m\u001b[0;34m\u001b[0m\u001b[0m\n\u001b[0m\u001b[1;32m    217\u001b[0m                 \u001b[0maction_id\u001b[0m \u001b[0;34m=\u001b[0m \u001b[0mlegal_moves\u001b[0m\u001b[0;34m[\u001b[0m\u001b[0mproba_id\u001b[0m\u001b[0;34m]\u001b[0m\u001b[0;34m\u001b[0m\u001b[0;34m\u001b[0m\u001b[0m\n\u001b[1;32m    218\u001b[0m \u001b[0;34m\u001b[0m\u001b[0m\n",
      "\u001b[0;31mKeyboardInterrupt\u001b[0m: "
     ]
    }
   ],
   "source": [
    "env = MarelleGymEnv(end_after_place_phase=False)\n",
    "\n",
    "# Initiate Models\n",
    "#einstein_fc_model = FCModel(env.N_STATE, env.N_TOTAL_ACTIONS)\n",
    "einstein_conv_model = ConvModel(env.N_TOTAL_ACTIONS)\n",
    "\n",
    "# Restore models from previous trainings\n",
    "# einstein_conv_model=load_model_local(\"3w3zmj5x_SingleModel_Conv_500epochs_1000trajectories_20201116_55%win.pt\",ConvModel(env.N_TOTAL_ACTIONS))\n",
    "\n",
    "# Agents\n",
    "#einstein_fc = SingleModelReinforce(env=env, model=einstein_fc_model, lr=0.005, win_reward=1, defeat_reward=-1, capture_reward=0.1, captured_reward=-0.1, epsilon=0, gamma=1)\n",
    "einstein_conv = SingleModelReinforce(env=env, model=einstein_conv_model, lr=0.0001, win_reward=1, defeat_reward=-1, capture_reward=0, captured_reward=0, epsilon=0.1, gamma=1)\n",
    "\n",
    "# Opponents\n",
    "opponent_agent=BetterRandomAgent(env)\n",
    "evaluate_agent=BetterRandomAgent(env)\n",
    "\n",
    "# Training Conv agent\n",
    "train_agent(\n",
    "    env=env,\n",
    "    n_epochs=1000,\n",
    "    n_trajectories=2000,\n",
    "    trained_agent=einstein_conv,\n",
    "    opponent_agent=opponent_agent,\n",
    "    evaluate_agent=evaluate_agent,\n",
    "    log_training=True,\n",
    "    save_model_freq=50,\n",
    "    evaluate_freq= 5\n",
    ")"
   ]
  },
  {
   "cell_type": "markdown",
   "metadata": {},
   "source": [
    "# Adversarial training"
   ]
  },
  {
   "cell_type": "code",
   "execution_count": 4,
   "metadata": {},
   "outputs": [
    {
     "data": {
      "application/vnd.jupyter.widget-view+json": {
       "model_id": "99717eb61dd54000b9686ca1eadb3aca",
       "version_major": 2,
       "version_minor": 0
      },
      "text/plain": [
       "HBox(children=(HTML(value='Epochs'), FloatProgress(value=0.0, max=10.0), HTML(value='')))"
      ]
     },
     "metadata": {},
     "output_type": "display_data"
    },
    {
     "data": {
      "application/vnd.jupyter.widget-view+json": {
       "model_id": "665de73305d74c59aca8f3986b97e73d",
       "version_major": 2,
       "version_minor": 0
      },
      "text/plain": [
       "HBox(children=(HTML(value='Trajectories'), FloatProgress(value=0.0, max=1000.0), HTML(value='')))"
      ]
     },
     "metadata": {},
     "output_type": "display_data"
    },
    {
     "name": "stdout",
     "output_type": "stream",
     "text": [
      "\n"
     ]
    },
    {
     "ename": "Exception",
     "evalue": "Illegal token move action",
     "output_type": "error",
     "traceback": [
      "\u001b[0;31m---------------------------------------------------------------------------\u001b[0m",
      "\u001b[0;31mException\u001b[0m                                 Traceback (most recent call last)",
      "\u001b[0;32m<ipython-input-4-d6e0ead44542>\u001b[0m in \u001b[0;36m<module>\u001b[0;34m\u001b[0m\n\u001b[1;32m     15\u001b[0m \u001b[0mevaluate_agent\u001b[0m\u001b[0;34m=\u001b[0m\u001b[0mBetterRandomAgent\u001b[0m\u001b[0;34m(\u001b[0m\u001b[0menv\u001b[0m\u001b[0;34m)\u001b[0m\u001b[0;34m\u001b[0m\u001b[0;34m\u001b[0m\u001b[0m\n\u001b[1;32m     16\u001b[0m \u001b[0;34m\u001b[0m\u001b[0m\n\u001b[0;32m---> 17\u001b[0;31m adversarial_training(env,\n\u001b[0m\u001b[1;32m     18\u001b[0m     \u001b[0mn_trajectories\u001b[0m \u001b[0;34m=\u001b[0m \u001b[0;36m1000\u001b[0m\u001b[0;34m,\u001b[0m\u001b[0;34m\u001b[0m\u001b[0;34m\u001b[0m\u001b[0m\n\u001b[1;32m     19\u001b[0m     \u001b[0mfirst_agent\u001b[0m\u001b[0;34m=\u001b[0m \u001b[0meinstein_conv_1\u001b[0m\u001b[0;34m,\u001b[0m\u001b[0;34m\u001b[0m\u001b[0;34m\u001b[0m\u001b[0m\n",
      "\u001b[0;32m~/Desktop/MARL/marl_train.py\u001b[0m in \u001b[0;36madversarial_training\u001b[0;34m(env, n_trajectories, first_agent, second_agent, evaluate_agent, log_training, save_model_freq, n_par_alternance, n_dizaine_epochs)\u001b[0m\n\u001b[1;32m     58\u001b[0m     \u001b[0;32mfor\u001b[0m \u001b[0mi\u001b[0m \u001b[0;32min\u001b[0m \u001b[0mrange\u001b[0m\u001b[0;34m(\u001b[0m\u001b[0mn_dizaine_epochs\u001b[0m\u001b[0;34m)\u001b[0m\u001b[0;34m:\u001b[0m\u001b[0;34m\u001b[0m\u001b[0;34m\u001b[0m\u001b[0m\n\u001b[1;32m     59\u001b[0m \u001b[0;34m\u001b[0m\u001b[0m\n\u001b[0;32m---> 60\u001b[0;31m         train_agent(\n\u001b[0m\u001b[1;32m     61\u001b[0m             \u001b[0menv\u001b[0m\u001b[0;34m=\u001b[0m\u001b[0menv\u001b[0m\u001b[0;34m,\u001b[0m\u001b[0;34m\u001b[0m\u001b[0;34m\u001b[0m\u001b[0m\n\u001b[1;32m     62\u001b[0m             \u001b[0mn_epochs\u001b[0m\u001b[0;34m=\u001b[0m\u001b[0mn_par_alternance\u001b[0m\u001b[0;34m,\u001b[0m\u001b[0;34m\u001b[0m\u001b[0;34m\u001b[0m\u001b[0m\n",
      "\u001b[0;32m~/Desktop/MARL/marl_train.py\u001b[0m in \u001b[0;36mtrain_agent\u001b[0;34m(env, n_epochs, n_trajectories, trained_agent, opponent_agent, evaluate_agent, log_training, save_model_freq, evaluate_freq)\u001b[0m\n\u001b[1;32m     41\u001b[0m         \u001b[0;31m# TODO - add other models when added\u001b[0m\u001b[0;34m\u001b[0m\u001b[0;34m\u001b[0m\u001b[0;34m\u001b[0m\u001b[0m\n\u001b[1;32m     42\u001b[0m \u001b[0;34m\u001b[0m\u001b[0m\n\u001b[0;32m---> 43\u001b[0;31m     \u001b[0mtrained_agent\u001b[0m\u001b[0;34m.\u001b[0m\u001b[0mtrain\u001b[0m\u001b[0;34m(\u001b[0m\u001b[0mn_trajectories\u001b[0m\u001b[0;34m,\u001b[0m \u001b[0mn_epochs\u001b[0m\u001b[0;34m,\u001b[0m \u001b[0mopponent_agent\u001b[0m\u001b[0;34m,\u001b[0m \u001b[0mevaluate_agent\u001b[0m\u001b[0;34m,\u001b[0m \u001b[0mlog_training\u001b[0m\u001b[0;34m,\u001b[0m \u001b[0msave_model_freq\u001b[0m\u001b[0;34m,\u001b[0m \u001b[0mevaluate_freq\u001b[0m\u001b[0;34m)\u001b[0m\u001b[0;34m\u001b[0m\u001b[0;34m\u001b[0m\u001b[0m\n\u001b[0m\u001b[1;32m     44\u001b[0m \u001b[0;34m\u001b[0m\u001b[0m\n\u001b[1;32m     45\u001b[0m     \u001b[0;32mif\u001b[0m \u001b[0mlog_training\u001b[0m\u001b[0;34m:\u001b[0m\u001b[0;34m\u001b[0m\u001b[0;34m\u001b[0m\u001b[0m\n",
      "\u001b[0;32m~/Desktop/MARL/marl_agents.py\u001b[0m in \u001b[0;36mtrain\u001b[0;34m(self, n_trajectories, n_epoch, opponent_agent, evaluation_agent, log_wandb, save_model_freq, evaluate_freq)\u001b[0m\n\u001b[1;32m     74\u001b[0m         \u001b[0mepoch_loop\u001b[0m \u001b[0;34m=\u001b[0m \u001b[0mtqdm\u001b[0m\u001b[0;34m(\u001b[0m\u001b[0mrange\u001b[0m\u001b[0;34m(\u001b[0m\u001b[0mn_epoch\u001b[0m\u001b[0;34m)\u001b[0m\u001b[0;34m,\u001b[0m \u001b[0mdesc\u001b[0m\u001b[0;34m=\u001b[0m\u001b[0;34m\"Epochs\"\u001b[0m\u001b[0;34m)\u001b[0m\u001b[0;34m\u001b[0m\u001b[0;34m\u001b[0m\u001b[0m\n\u001b[1;32m     75\u001b[0m         \u001b[0;32mfor\u001b[0m \u001b[0mepoch\u001b[0m \u001b[0;32min\u001b[0m \u001b[0mepoch_loop\u001b[0m\u001b[0;34m:\u001b[0m\u001b[0;34m\u001b[0m\u001b[0;34m\u001b[0m\u001b[0m\n\u001b[0;32m---> 76\u001b[0;31m             \u001b[0mepoch_reward\u001b[0m\u001b[0;34m,\u001b[0m \u001b[0mepoch_loss\u001b[0m \u001b[0;34m=\u001b[0m \u001b[0mself\u001b[0m\u001b[0;34m.\u001b[0m\u001b[0moptimize_model\u001b[0m\u001b[0;34m(\u001b[0m\u001b[0mn_trajectories\u001b[0m\u001b[0;34m,\u001b[0m \u001b[0mopponent_agent\u001b[0m\u001b[0;34m)\u001b[0m\u001b[0;34m\u001b[0m\u001b[0;34m\u001b[0m\u001b[0m\n\u001b[0m\u001b[1;32m     77\u001b[0m             \u001b[0mrewards\u001b[0m\u001b[0;34m.\u001b[0m\u001b[0mappend\u001b[0m\u001b[0;34m(\u001b[0m\u001b[0mnp\u001b[0m\u001b[0;34m.\u001b[0m\u001b[0mmean\u001b[0m\u001b[0;34m(\u001b[0m\u001b[0mepoch_reward\u001b[0m\u001b[0;34m)\u001b[0m\u001b[0;34m)\u001b[0m\u001b[0;34m\u001b[0m\u001b[0;34m\u001b[0m\u001b[0m\n\u001b[1;32m     78\u001b[0m \u001b[0;34m\u001b[0m\u001b[0m\n",
      "\u001b[0;32m~/Desktop/MARL/marl_agents.py\u001b[0m in \u001b[0;36moptimize_model\u001b[0;34m(self, n_trajectories, opponent)\u001b[0m\n\u001b[1;32m    230\u001b[0m                 \u001b[0;32mif\u001b[0m \u001b[0mself\u001b[0m\u001b[0;34m.\u001b[0m\u001b[0mplayer_id\u001b[0m \u001b[0;34m==\u001b[0m \u001b[0;36m1\u001b[0m \u001b[0;32mand\u001b[0m \u001b[0;32mnot\u001b[0m \u001b[0mdone\u001b[0m\u001b[0;34m:\u001b[0m\u001b[0;34m\u001b[0m\u001b[0;34m\u001b[0m\u001b[0m\n\u001b[1;32m    231\u001b[0m                     \u001b[0maction\u001b[0m \u001b[0;34m=\u001b[0m \u001b[0mopponent\u001b[0m\u001b[0;34m.\u001b[0m\u001b[0mact\u001b[0m\u001b[0;34m(\u001b[0m\u001b[0mstate\u001b[0m\u001b[0;34m)\u001b[0m\u001b[0;34m\u001b[0m\u001b[0;34m\u001b[0m\u001b[0m\n\u001b[0;32m--> 232\u001b[0;31m                     \u001b[0mstate\u001b[0m\u001b[0;34m,\u001b[0m \u001b[0mreward\u001b[0m\u001b[0;34m,\u001b[0m \u001b[0mdone\u001b[0m\u001b[0;34m,\u001b[0m \u001b[0minfo\u001b[0m \u001b[0;34m=\u001b[0m \u001b[0mself\u001b[0m\u001b[0;34m.\u001b[0m\u001b[0menv\u001b[0m\u001b[0;34m.\u001b[0m\u001b[0mstep\u001b[0m\u001b[0;34m(\u001b[0m\u001b[0maction\u001b[0m\u001b[0;34m)\u001b[0m\u001b[0;34m\u001b[0m\u001b[0;34m\u001b[0m\u001b[0m\n\u001b[0m\u001b[1;32m    233\u001b[0m                     \u001b[0magent_reward\u001b[0m \u001b[0;34m+=\u001b[0m \u001b[0mreward\u001b[0m\u001b[0;34m[\u001b[0m\u001b[0;34m\"game_end\"\u001b[0m\u001b[0;34m]\u001b[0m \u001b[0;34m*\u001b[0m \u001b[0mself\u001b[0m\u001b[0;34m.\u001b[0m\u001b[0mdefeat_reward\u001b[0m\u001b[0;34m\u001b[0m\u001b[0;34m\u001b[0m\u001b[0m\n\u001b[1;32m    234\u001b[0m                     \u001b[0magent_reward\u001b[0m \u001b[0;34m+=\u001b[0m \u001b[0mreward\u001b[0m\u001b[0;34m[\u001b[0m\u001b[0;34m\"capture_token\"\u001b[0m\u001b[0;34m]\u001b[0m \u001b[0;34m*\u001b[0m \u001b[0mself\u001b[0m\u001b[0;34m.\u001b[0m\u001b[0mcaptured_reward\u001b[0m\u001b[0;34m\u001b[0m\u001b[0;34m\u001b[0m\u001b[0m\n",
      "\u001b[0;32m~/Desktop/MARL/marl_env.py\u001b[0m in \u001b[0;36mstep\u001b[0;34m(self, action_id)\u001b[0m\n\u001b[1;32m     26\u001b[0m     \u001b[0;32mdef\u001b[0m \u001b[0mstep\u001b[0m\u001b[0;34m(\u001b[0m\u001b[0mself\u001b[0m\u001b[0;34m,\u001b[0m \u001b[0maction_id\u001b[0m\u001b[0;34m)\u001b[0m\u001b[0;34m:\u001b[0m\u001b[0;34m\u001b[0m\u001b[0;34m\u001b[0m\u001b[0m\n\u001b[1;32m     27\u001b[0m \u001b[0;34m\u001b[0m\u001b[0m\n\u001b[0;32m---> 28\u001b[0;31m         \u001b[0mself\u001b[0m\u001b[0;34m.\u001b[0m\u001b[0mboard\u001b[0m\u001b[0;34m.\u001b[0m\u001b[0mplay_action\u001b[0m\u001b[0;34m(\u001b[0m\u001b[0maction_id\u001b[0m\u001b[0;34m)\u001b[0m\u001b[0;34m\u001b[0m\u001b[0;34m\u001b[0m\u001b[0m\n\u001b[0m\u001b[1;32m     29\u001b[0m \u001b[0;34m\u001b[0m\u001b[0m\n\u001b[1;32m     30\u001b[0m         \u001b[0mreward\u001b[0m \u001b[0;34m=\u001b[0m \u001b[0;34m{\u001b[0m\u001b[0;34m}\u001b[0m\u001b[0;34m\u001b[0m\u001b[0;34m\u001b[0m\u001b[0m\n",
      "\u001b[0;32m~/Desktop/MARL/marl_env.py\u001b[0m in \u001b[0;36mplay_action\u001b[0;34m(self, action_id)\u001b[0m\n\u001b[1;32m    209\u001b[0m \u001b[0;34m\u001b[0m\u001b[0m\n\u001b[1;32m    210\u001b[0m         \u001b[0;32melse\u001b[0m\u001b[0;34m:\u001b[0m\u001b[0;34m\u001b[0m\u001b[0;34m\u001b[0m\u001b[0m\n\u001b[0;32m--> 211\u001b[0;31m             \u001b[0mself\u001b[0m\u001b[0;34m.\u001b[0m\u001b[0mmove_token_action\u001b[0m\u001b[0;34m(\u001b[0m\u001b[0mself\u001b[0m\u001b[0;34m.\u001b[0m\u001b[0mid_to_action\u001b[0m\u001b[0;34m[\u001b[0m\u001b[0maction_id\u001b[0m\u001b[0;34m]\u001b[0m\u001b[0;34m,\u001b[0m \u001b[0mself\u001b[0m\u001b[0;34m.\u001b[0m\u001b[0mcurrent_player\u001b[0m\u001b[0;34m)\u001b[0m\u001b[0;34m\u001b[0m\u001b[0;34m\u001b[0m\u001b[0m\n\u001b[0m\u001b[1;32m    212\u001b[0m \u001b[0;34m\u001b[0m\u001b[0m\n\u001b[1;32m    213\u001b[0m         \u001b[0mself\u001b[0m\u001b[0;34m.\u001b[0m\u001b[0mcurrent_action\u001b[0m \u001b[0;34m+=\u001b[0m \u001b[0;36m1\u001b[0m\u001b[0;34m\u001b[0m\u001b[0;34m\u001b[0m\u001b[0m\n",
      "\u001b[0;32m~/Desktop/MARL/marl_env.py\u001b[0m in \u001b[0;36mmove_token_action\u001b[0;34m(self, action, player)\u001b[0m\n\u001b[1;32m    321\u001b[0m         \u001b[0mlegal_moves\u001b[0m \u001b[0;34m=\u001b[0m \u001b[0mself\u001b[0m\u001b[0;34m.\u001b[0m\u001b[0mget_legal_actions\u001b[0m\u001b[0;34m(\u001b[0m\u001b[0mplayer\u001b[0m\u001b[0;34m)\u001b[0m\u001b[0;34m\u001b[0m\u001b[0;34m\u001b[0m\u001b[0m\n\u001b[1;32m    322\u001b[0m         \u001b[0;32mif\u001b[0m \u001b[0maction\u001b[0m \u001b[0;32mnot\u001b[0m \u001b[0;32min\u001b[0m \u001b[0mlegal_moves\u001b[0m\u001b[0;34m:\u001b[0m\u001b[0;34m\u001b[0m\u001b[0;34m\u001b[0m\u001b[0m\n\u001b[0;32m--> 323\u001b[0;31m             \u001b[0;32mraise\u001b[0m \u001b[0mException\u001b[0m\u001b[0;34m(\u001b[0m\u001b[0;34m'Illegal token move action'\u001b[0m\u001b[0;34m)\u001b[0m\u001b[0;34m\u001b[0m\u001b[0;34m\u001b[0m\u001b[0m\n\u001b[0m\u001b[1;32m    324\u001b[0m \u001b[0;34m\u001b[0m\u001b[0m\n\u001b[1;32m    325\u001b[0m         \u001b[0medge\u001b[0m\u001b[0;34m,\u001b[0m \u001b[0mopponent_token\u001b[0m \u001b[0;34m=\u001b[0m \u001b[0maction\u001b[0m\u001b[0;34m\u001b[0m\u001b[0;34m\u001b[0m\u001b[0m\n",
      "\u001b[0;31mException\u001b[0m: Illegal token move action"
     ]
    }
   ],
   "source": [
    "env = MarelleGymEnv(end_after_place_phase=False)\n",
    "\n",
    "# Initiate Models\n",
    "einstein_conv_model_1 = ConvModel(env.N_TOTAL_ACTIONS)\n",
    "einstein_conv_model_2 = ConvModel(env.N_TOTAL_ACTIONS)\n",
    "\n",
    "# Restore models from previous trainings\n",
    "# einstein_conv_model=load_model_local(\"3w3zmj5x_SingleModel_Conv_500epochs_1000trajectories_20201116_55%win.pt\",ConvModel(env.N_TOTAL_ACTIONS))\n",
    "\n",
    "# Agents\n",
    "einstein_conv_1 = SingleModelReinforce(env=env, model=einstein_conv_model_1, lr=0.0001, win_reward=1, defeat_reward=-1, capture_reward=0, captured_reward=0, epsilon=0.1, gamma=1)\n",
    "einstein_conv_2 = SingleModelReinforce(env=env, model=einstein_conv_model_2, lr=0.0001, win_reward=1, defeat_reward=-1, capture_reward=0, captured_reward=0, epsilon=0.1, gamma=1)\n",
    "\n",
    "# Opponents\n",
    "evaluate_agent=BetterRandomAgent(env)\n",
    "\n",
    "adversarial_training(env,\n",
    "    n_trajectories = 1000,\n",
    "    first_agent= einstein_conv_1,\n",
    "    second_agent= einstein_conv_2,      \n",
    "    evaluate_agent = evaluate_agent,\n",
    "    log_training = False,\n",
    "    save_model_freq = 999999,\n",
    "    n_par_alternance = 10,\n",
    "    n_dizaine_epochs = 500)"
   ]
  },
  {
   "cell_type": "markdown",
   "metadata": {},
   "source": [
    "# Playing games"
   ]
  },
  {
   "cell_type": "code",
   "execution_count": 11,
   "metadata": {},
   "outputs": [
    {
     "ename": "TypeError",
     "evalue": "__init__() takes 2 positional arguments but 3 were given",
     "output_type": "error",
     "traceback": [
      "\u001b[0;31m---------------------------------------------------------------------------\u001b[0m",
      "\u001b[0;31mTypeError\u001b[0m                                 Traceback (most recent call last)",
      "\u001b[0;32m<ipython-input-11-0cd9a2de9403>\u001b[0m in \u001b[0;36m<module>\u001b[0;34m\u001b[0m\n\u001b[1;32m      1\u001b[0m \u001b[0menv\u001b[0m \u001b[0;34m=\u001b[0m \u001b[0mMarelleGymEnv\u001b[0m\u001b[0;34m(\u001b[0m\u001b[0;34m)\u001b[0m\u001b[0;34m\u001b[0m\u001b[0;34m\u001b[0m\u001b[0m\n\u001b[0;32m----> 2\u001b[0;31m \u001b[0mpiccolo\u001b[0m \u001b[0;34m=\u001b[0m \u001b[0mBetterRandomAgent\u001b[0m\u001b[0;34m(\u001b[0m\u001b[0menv\u001b[0m\u001b[0;34m,\u001b[0m \u001b[0;34m-\u001b[0m\u001b[0;36m1\u001b[0m\u001b[0;34m)\u001b[0m\u001b[0;34m\u001b[0m\u001b[0;34m\u001b[0m\u001b[0m\n\u001b[0m\u001b[1;32m      3\u001b[0m \u001b[0;34m\u001b[0m\u001b[0m\n\u001b[1;32m      4\u001b[0m \u001b[0;31m# game = MarelleGame(env=env, player1=piccolo, player2=einstein)\u001b[0m\u001b[0;34m\u001b[0m\u001b[0;34m\u001b[0m\u001b[0;34m\u001b[0m\u001b[0m\n\u001b[1;32m      5\u001b[0m \u001b[0mgame\u001b[0m \u001b[0;34m=\u001b[0m \u001b[0mMarelleGame\u001b[0m\u001b[0;34m(\u001b[0m\u001b[0menv\u001b[0m\u001b[0;34m=\u001b[0m\u001b[0menv\u001b[0m\u001b[0;34m,\u001b[0m \u001b[0mplayer1\u001b[0m\u001b[0;34m=\u001b[0m\u001b[0;34m\"human\"\u001b[0m\u001b[0;34m,\u001b[0m \u001b[0mplayer2\u001b[0m\u001b[0;34m=\u001b[0m\u001b[0mpiccolo\u001b[0m\u001b[0;34m)\u001b[0m\u001b[0;34m\u001b[0m\u001b[0;34m\u001b[0m\u001b[0m\n",
      "\u001b[0;31mTypeError\u001b[0m: __init__() takes 2 positional arguments but 3 were given"
     ]
    }
   ],
   "source": [
    "env = MarelleGymEnv()\n",
    "piccolo = BetterRandomAgent(env, -1)\n",
    "\n",
    "# game = MarelleGame(env=env, player1=piccolo, player2=einstein)\n",
    "game = MarelleGame(env=env, player1=\"human\", player2=piccolo)"
   ]
  },
  {
   "cell_type": "code",
   "execution_count": 10,
   "metadata": {},
   "outputs": [
    {
     "name": "stdout",
     "output_type": "stream",
     "text": [
      "human 1's turn to play :\n",
      "\n",
      "        Phase : place\n",
      "        Placed tokens : P1 : 1 / P2 : 1 \n",
      "        Tokens on board : P1 : 1 / P2 : 1 \n",
      "        \u001b[37m0\u001b[0m--------------\u001b[37m0\u001b[0m--------------\u001b[37m0\u001b[0m\n",
      "        |              |              |\n",
      "        |    \u001b[37m0\u001b[0m---------\u001b[37m0\u001b[0m---------\u001b[37m0\u001b[0m    |\n",
      "        |    |         |         |    |\n",
      "        |    |    \u001b[37m0\u001b[0m----\u001b[37m0\u001b[0m----\u001b[37m0\u001b[0m    |    |\n",
      "        |    |    |         |    |    |\n",
      "        \u001b[37m0\u001b[0m----\u001b[37m0\u001b[0m----\u001b[37m0\u001b[0m         \u001b[31m1\u001b[0m----\u001b[37m0\u001b[0m----\u001b[37m0\u001b[0m                 \n",
      "        |    |    |         |    |    |\n",
      "        |    |    \u001b[37m0\u001b[0m----\u001b[37m0\u001b[0m----\u001b[43m\u001b[34m2\u001b[0m    |    |\n",
      "        |    |         |         |    |\n",
      "        |    \u001b[37m0\u001b[0m---------\u001b[37m0\u001b[0m---------\u001b[37m0\u001b[0m    |\n",
      "        |              |              |\n",
      "        \u001b[37m0\u001b[0m--------------\u001b[37m0\u001b[0m--------------\u001b[37m0\u001b[0m\n",
      "        \n",
      "Legal moves :\n",
      "24 : ((0, 1), None)\n",
      "48 : ((0, 2), None)\n",
      "72 : ((0, 3), None)\n",
      "96 : ((0, 4), None)\n",
      "120 : ((0, 5), None)\n",
      "144 : ((0, 6), None)\n",
      "192 : ((1, 0), None)\n",
      "216 : ((1, 1), None)\n",
      "240 : ((1, 2), None)\n",
      "264 : ((1, 3), None)\n",
      "288 : ((1, 4), None)\n",
      "312 : ((1, 5), None)\n",
      "336 : ((1, 6), None)\n",
      "360 : ((1, 7), None)\n",
      "384 : ((2, 0), None)\n",
      "408 : ((2, 1), None)\n",
      "432 : ((2, 2), None)\n",
      "456 : ((2, 3), None)\n",
      "480 : ((2, 4), None)\n",
      "504 : ((2, 5), None)\n",
      "528 : ((2, 6), None)\n",
      "552 : ((2, 7), None)\n",
      "Incorrect action input type, please enter an int\n",
      "Game interrupted, run MarelleGame.play() to continue\n"
     ]
    }
   ],
   "source": [
    "action_history = game.play()"
   ]
  },
  {
   "cell_type": "markdown",
   "metadata": {},
   "source": [
    "## Evaluating an agent by playing n_games"
   ]
  },
  {
   "cell_type": "code",
   "execution_count": 15,
   "metadata": {
    "tags": []
   },
   "outputs": [
    {
     "name": "stdout",
     "output_type": "stream",
     "text": [
      "{'n_actions': 56.1974, 'n_captures_place': 0.2322, 'n_captured_place': 0.1822, 'n_captures_move': 4.1576, 'n_captured_move': 4.4264, 'draws_%': 0.0, 'victories_capture_%': 0.4668, 'victories_block_%': 0.017, 'defeats_capture_%': 0.4934, 'defeats_block_%': 0.0228}\n",
      "{'n_actions': 56.0418, 'n_captures_place': 0.1872, 'n_captured_place': 0.2272, 'n_captures_move': 4.5082, 'n_captured_move': 4.0592, 'draws_%': 0.0, 'victories_capture_%': 0.5126, 'victories_block_%': 0.0212, 'defeats_capture_%': 0.4494, 'defeats_block_%': 0.0168}\n",
      "{'n_actions': 56.119600000000005, 'n_captures_place': 0.2097, 'n_captured_place': 0.2047, 'n_captures_move': 4.3329, 'n_captured_move': 4.2428, 'draws_%': 0.0, 'victories_capture_%': 0.48969999999999997, 'victories_block_%': 0.0191, 'defeats_capture_%': 0.47140000000000004, 'defeats_block_%': 0.019799999999999998}\n"
     ]
    }
   ],
   "source": [
    "# TO EVALUATE AGENTS, ENSURE THEY HAVE THE SAME ENV !\n",
    "env = MarelleGymEnv()\n",
    "piccolo = BetterRandomAgent(env)\n",
    "gabrielle = BetterRandomAgent(env)\n",
    "\n",
    "evaluation = evaluate(env, piccolo, gabrielle, 200)\n",
    "print(evaluation)"
   ]
  },
  {
   "cell_type": "markdown",
   "metadata": {},
   "source": [
    "# Time test"
   ]
  },
  {
   "cell_type": "code",
   "execution_count": 26,
   "metadata": {},
   "outputs": [
    {
     "name": "stdout",
     "output_type": "stream",
     "text": [
      "Episode 1/10: rewards -1.12 +/- 1.15 - Loss : -169.14926147460938\n",
      "Episode 2/10: rewards -1.26 +/- 0.93 - Loss : -120.74156188964844\n",
      "{'n_actions': 46.77, 'n_captures_place': 0.24, 'n_captured_place': 1.95, 'n_captures_move': 0.95, 'n_captured_move': 4.96, 'draws_%': 0.0, 'victories_capture_%': 0.03, 'victories_block_%': 0.0, 'defeats_capture_%': 0.97, 'defeats_block_%': 0.0}\n",
      "Episode 3/10: rewards -1.32 +/- 0.9 - Loss : -164.70095825195312\n",
      "Episode 4/10: rewards -1.59 +/- 0.18 - Loss : -256.78485107421875\n",
      "{'n_actions': 48.47, 'n_captures_place': 0.28, 'n_captured_place': 2.0, 'n_captures_move': 0.99, 'n_captured_move': 4.77, 'draws_%': 0.02, 'victories_capture_%': 0.03, 'victories_block_%': 0.0, 'defeats_capture_%': 0.95, 'defeats_block_%': 0.0}\n",
      "Episode 5/10: rewards -1.45 +/- 0.69 - Loss : -214.6808319091797\n",
      "Episode 6/10: rewards -1.24 +/- 0.93 - Loss : -201.06552124023438\n",
      "{'n_actions': 46.59, 'n_captures_place': 0.23, 'n_captured_place': 1.96, 'n_captures_move': 1.03, 'n_captured_move': 4.72, 'draws_%': 0.0, 'victories_capture_%': 0.04, 'victories_block_%': 0.01, 'defeats_capture_%': 0.94, 'defeats_block_%': 0.01}\n",
      "Episode 7/10: rewards -1.58 +/- 0.14 - Loss : -260.63397216796875\n",
      "Episode 8/10: rewards -1.39 +/- 0.65 - Loss : -230.92831420898438\n",
      "{'n_actions': 45.42, 'n_captures_place': 0.43, 'n_captured_place': 2.01, 'n_captures_move': 1.35, 'n_captured_move': 4.66, 'draws_%': 0.0, 'victories_capture_%': 0.06, 'victories_block_%': 0.0, 'defeats_capture_%': 0.94, 'defeats_block_%': 0.0}\n",
      "Episode 9/10: rewards -1.63 +/- 0.07 - Loss : -241.8361053466797\n",
      "Episode 10/10: rewards -1.26 +/- 0.93 - Loss : -197.1295166015625\n",
      "{'n_actions': 51.46, 'n_captures_place': 0.36, 'n_captured_place': 1.93, 'n_captures_move': 1.31, 'n_captured_move': 4.57, 'draws_%': 0.0, 'victories_capture_%': 0.1, 'victories_block_%': 0.0, 'defeats_capture_%': 0.9, 'defeats_block_%': 0.0}\n",
      "         111545127 function calls (111458372 primitive calls) in 77.541 seconds\n",
      "\n",
      "   Ordered by: internal time\n",
      "\n",
      "   ncalls  tottime  percall  cumtime  percall filename:lineno(function)\n",
      "   160382   17.732    0.000   47.005    0.000 marl_env.py:295(move_token_legal_actions)\n",
      " 28052983   15.002    0.000   20.094    0.000 graph.py:656(nodes)\n",
      " 31121104    5.663    0.000    5.663    0.000 reportviews.py:186(__getitem__)\n",
      " 28052983    5.092    0.000    5.092    0.000 reportviews.py:176(__init__)\n",
      "    64236    4.314    0.000    4.314    0.000 {built-in method conv2d}\n",
      "  5309106    4.100    0.000    4.132    0.000 reportviews.py:1116(__iter__)\n",
      "  1677290    3.846    0.000    4.815    0.000 marl_env.py:325(check_if_capture)\n",
      "    31274    2.395    0.000    6.668    0.000 marl_env.py:252(place_token_legal_actions)\n",
      "       10    1.959    0.196    1.959    0.196 {method 'run_backward' of 'torch._C._EngineBase' objects}\n",
      "    21412    1.845    0.000    3.200    0.000 marl_models.py:41(transform_input_to_mat)\n",
      "    58667    1.214    0.000    2.723    0.000 marl_env.py:227(get_state)\n",
      "    43024    1.108    0.000    1.108    0.000 {built-in method tensor}\n",
      "    21412    0.846    0.000    0.846    0.000 {built-in method addmm}\n",
      "   134431    0.834    0.000   39.634    0.000 marl_env.py:212(get_legal_action_ids)\n",
      "116430/30782    0.799    0.000   12.188    0.000 module.py:715(_call_impl)\n",
      "  6988308    0.752    0.000    0.752    0.000 {method 'append' of 'list' objects}\n",
      "  4770455    0.699    0.000    0.699    0.000 marl_env.py:380(get_opponent)\n",
      "    21412    0.609    0.000    0.609    0.000 {built-in method relu}\n",
      "    21412    0.561    0.000   11.638    0.001 marl_models.py:86(forward)\n",
      "      500    0.449    0.001    0.662    0.001 marl_env.py:66(__init__)\n",
      "     4685    0.427    0.000    0.427    0.000 {built-in method multinomial}\n",
      "       10    0.389    0.039   19.829    1.983 marl_agents.py:171(optimize_model)\n",
      "46354/46341    0.386    0.000    0.653    0.000 {built-in method numpy.array}\n",
      "    10443    0.307    0.000    0.307    0.000 {method 'choice' of 'numpy.random.mtrand.RandomState' objects}\n",
      "    12042    0.264    0.000   11.109    0.001 marl_agents.py:161(learned_act)\n",
      "   172033    0.258    0.000   32.531    0.000 marl_env.py:362(check_if_end)\n",
      "   256944    0.227    0.000    0.227    0.000 module.py:765(__getattr__)\n",
      "     4685    0.218    0.000    0.218    0.000 marl_agents.py:202(<listcomp>)\n",
      "    21412    0.206    0.000    0.206    0.000 {method 't' of 'torch._C._TensorBase' objects}\n",
      "    33412    0.206    0.000   21.295    0.001 marl_env.py:26(step)\n",
      "   103070    0.197    0.000    0.260    0.000 module.py:781(__setattr__)\n",
      "     9370    0.195    0.000    0.195    0.000 {method 'softmax' of 'torch._C._TensorBase' objects}\n",
      "    16685    0.188    0.000   12.197    0.001 marl_agents.py:291(learned_act)\n",
      "    21412    0.184    0.000    0.184    0.000 {method 'view' of 'torch._C._TensorBase' objects}\n",
      "    24055    0.181    0.000   36.528    0.002 marl_env.py:437(step)\n",
      "    35683    0.177    0.000    4.717    0.000 marl_env.py:271(move_token_action)\n",
      "    57283    0.172    0.000   17.946    0.000 marl_env.py:192(play_action)\n",
      "    21412    0.167    0.000    1.377    0.000 functional.py:1669(linear)\n",
      "   160882    0.166    0.000    0.201    0.000 reportviews.py:992(__init__)\n",
      "    64236    0.164    0.000    4.507    0.000 conv.py:414(_conv_forward)\n",
      "    33534    0.161    0.000    0.267    0.000 tensor.py:624(__array__)\n",
      "    64236    0.158    0.000    4.720    0.000 conv.py:422(forward)\n",
      "        5    0.144    0.029   57.584   11.517 marl_env.py:472(evaluate)\n",
      "   116510    0.138    0.000    0.138    0.000 {built-in method torch._C._get_tracing_state}\n",
      "   310097    0.122    0.000    0.184    0.000 reportviews.py:183(__iter__)\n",
      "   160882    0.110    0.000    0.311    0.000 graph.py:1242(edges)\n",
      "    33454    0.109    0.000    0.109    0.000 {method 'detach' of 'torch._C._TensorBase' objects}\n",
      "     1700    0.108    0.000    0.306    0.000 marl_env.py:106(initialize_game)\n",
      "    33534    0.106    0.000    0.106    0.000 {method 'numpy' of 'torch._C._TensorBase' objects}\n",
      "33942/33871    0.087    0.000    0.326    0.000 {built-in method numpy.core._multiarray_umath.implement_array_function}\n",
      "    54400    0.078    0.000    0.094    0.000 graph.py:820(add_edge)\n",
      "    21412    0.072    0.000    1.471    0.000 linear.py:92(forward)\n",
      "   465723    0.071    0.000    0.071    0.000 {method 'values' of 'collections.OrderedDict' objects}\n",
      "     9370    0.065    0.000    0.329    0.000 module.py:223(__init__)\n",
      "    21600    0.064    0.000    1.997    0.000 marl_env.py:234(place_token_action)\n",
      "      500    0.062    0.000   41.223    0.082 marl_env.py:399(play)\n",
      "   311375    0.062    0.000    0.062    0.000 {built-in method builtins.iter}\n",
      "       80    0.061    0.001    0.061    0.001 {method 'unbind' of 'torch._C._TensorBase' objects}\n",
      "     4685    0.057    0.000    0.057    0.000 {method 'log' of 'torch._C._TensorBase' objects}\n",
      "    21413    0.055    0.000    0.209    0.000 numeric.py:144(ones)\n",
      "    12065    0.055    0.000    0.176    0.000 fromnumeric.py:39(_wrapit)\n",
      "341738/341573    0.051    0.000    0.051    0.000 {built-in method builtins.len}\n",
      "    57283    0.050    0.000    0.050    0.000 marl_env.py:358(change_phase_if_needed)\n",
      "    40800    0.049    0.000    0.056    0.000 graph.py:467(add_node)\n",
      "    21412    0.046    0.000    0.659    0.000 functional.py:1124(relu)\n",
      "   364678    0.044    0.000    0.044    0.000 {method 'get' of 'dict' objects}\n",
      "    12042    0.041    0.000    0.041    0.000 marl_agents.py:165(<listcomp>)\n",
      "    33370    0.041    0.000    8.810    0.000 marl_env.py:201(get_legal_actions)\n",
      "    21463    0.039    0.000    0.039    0.000 {built-in method numpy.empty}\n",
      "    21417    0.037    0.000    0.115    0.000 <__array_function__ internals>:2(copyto)\n",
      "    44259    0.036    0.000    0.079    0.000 {built-in method builtins.any}\n",
      "   162031    0.036    0.000    0.036    0.000 {built-in method builtins.hasattr}\n",
      "    65964    0.035    0.000    0.042    0.000 overrides.py:1086(<genexpr>)\n",
      "    22276    0.034    0.000    0.107    0.000 overrides.py:1073(has_torch_function)\n",
      "    12042    0.034    0.000    0.034    0.000 {method 'argmax' of 'numpy.ndarray' objects}\n",
      "        1    0.034    0.034   77.537   77.537 marl_agents.py:61(train)\n",
      "    21456    0.033    0.000    0.033    0.000 {method 'reshape' of 'numpy.ndarray' objects}\n",
      "   164111    0.032    0.000    0.032    0.000 {method 'items' of 'dict' objects}\n",
      "    12067    0.031    0.000    0.210    0.000 fromnumeric.py:52(_wrapfunc)\n",
      "   214110    0.028    0.000    0.030    0.000 {built-in method builtins.isinstance}\n",
      "     9370    0.026    0.000    0.376    0.000 activation.py:1188(__init__)\n",
      "     9370    0.026    0.000    0.026    0.000 {built-in method torch._C._log_api_usage_once}\n",
      "    21412    0.024    0.000    0.024    0.000 functional.py:1686(<listcomp>)\n",
      "    12042    0.022    0.000    0.232    0.000 fromnumeric.py:1114(argmax)\n",
      "     9370    0.019    0.000    0.216    0.000 functional.py:1479(softmax)\n",
      "    12042    0.019    0.000    0.269    0.000 <__array_function__ internals>:2(argmax)\n",
      "    96985    0.018    0.000    0.018    0.000 {method 'update' of 'dict' objects}\n",
      "51134/51114    0.017    0.000    0.018    0.000 {built-in method builtins.getattr}\n",
      "     9370    0.014    0.000    0.230    0.000 activation.py:1197(forward)\n",
      "    21502    0.013    0.000    0.013    0.000 {method 'dim' of 'torch._C._TensorBase' objects}\n",
      "     4672    0.011    0.000    3.421    0.001 marl_agents.py:29(act)\n",
      "    52204    0.009    0.000    0.009    0.000 _jit_internal.py:750(is_scripting)\n",
      "       45    0.009    0.000    0.009    0.000 socket.py:357(send)\n",
      "12424/12413    0.009    0.000    0.083    0.000 _asarray.py:14(asarray)\n",
      "      503    0.008    0.000    0.011    0.000 inspect.py:2889(_bind)\n",
      "    22276    0.007    0.000    0.007    0.000 {built-in method torch._C._is_torch_function_enabled}\n",
      "     1700    0.007    0.000    0.008    0.000 graph.py:290(__init__)\n",
      "    21417    0.006    0.000    0.006    0.000 multiarray.py:1043(copyto)\n",
      "        1    0.004    0.004   77.541   77.541 marl_train.py:5(train_agent)\n",
      "    12042    0.003    0.000    0.003    0.000 fromnumeric.py:1110(_argmax_dispatcher)\n",
      "       80    0.003    0.000    0.003    0.000 {built-in method isfinite}\n",
      "     1200    0.003    0.000    0.277    0.000 marl_env.py:51(reset)\n",
      "      160    0.002    0.000    0.002    0.000 {method 'mul_' of 'torch._C._TensorBase' objects}\n",
      "      616    0.002    0.000    0.004    0.000 tensor.py:933(grad)\n",
      "      200    0.002    0.000    0.002    0.000 marl_agents.py:108(_compute_returns)\n",
      "     1000    0.002    0.000    0.232    0.000 marl_env.py:430(reset)\n",
      "       10    0.002    0.000    0.011    0.001 functional.py:53(adam)\n",
      "      160    0.002    0.000    0.002    0.000 {method 'add_' of 'torch._C._TensorBase' objects}\n",
      "      310    0.002    0.000    0.002    0.000 {method 'reduce' of 'numpy.ufunc' objects}\n",
      "      258    0.002    0.000    0.008    0.000 artist.py:972(update)\n",
      "2705/2474    0.002    0.000    0.002    0.000 artist.py:213(stale)\n",
      "     2794    0.001    0.000    0.002    0.000 __init__.py:686(__getitem__)\n",
      "        5    0.001    0.000   57.586   11.517 marl_evaluations.py:4(evaluate)\n",
      "       80    0.001    0.000    0.001    0.000 {method 'addcdiv_' of 'torch._C._TensorBase' objects}\n",
      "  503/179    0.001    0.000    0.031    0.000 deprecation.py:384(wrapper)\n",
      "       80    0.001    0.000    0.001    0.000 {method 'sqrt' of 'torch._C._TensorBase' objects}\n",
      "       54    0.001    0.000    0.009    0.000 lines.py:269(__init__)\n",
      "      162    0.001    0.000    0.002    0.000 __init__.py:1682(normalize_kwargs)\n",
      "       80    0.001    0.000    0.001    0.000 {method 'addcmul_' of 'torch._C._TensorBase' objects}\n",
      "     8463    0.001    0.000    0.001    0.000 inspect.py:2539(kind)\n",
      "    49/21    0.001    0.000    0.004    0.000 base.py:293(__new__)\n",
      "      516    0.001    0.000    0.001    0.000 __init__.py:2045(_setattr_cm)\n",
      "      122    0.001    0.000    0.001    0.000 artist.py:69(__init__)\n",
      "      986    0.001    0.000    0.001    0.000 __init__.py:2254(_check_in_list)\n",
      "     3602    0.001    0.000    0.002    0.000 {built-in method builtins.next}\n",
      "       17    0.001    0.000    0.016    0.001 axis.py:56(__init__)\n",
      "      224    0.001    0.000    0.002    0.000 fromnumeric.py:70(_wrapreduction)\n",
      "     1949    0.001    0.000    0.001    0.000 generic.py:10(_check)\n",
      "      106    0.001    0.000    0.003    0.000 font_manager.py:680(__init__)\n",
      "      248    0.001    0.000    0.001    0.000 tensor.py:596(__hash__)\n",
      "       20    0.001    0.000    0.001    0.000 {built-in method builtins.round}\n",
      "       72    0.001    0.000    0.001    0.000 {method 'zero_' of 'torch._C._TensorBase' objects}\n",
      "      121    0.001    0.000    0.003    0.000 markers.py:277(set_marker)\n",
      "     4347    0.001    0.000    0.001    0.000 inspect.py:2527(name)\n",
      "       10    0.000    0.000    0.013    0.001 adam.py:55(step)\n",
      "     2795    0.000    0.000    0.000    0.000 {function RcParams.__getitem__ at 0x000002B582DAE5E0}\n",
      "       10    0.000    0.000    0.001    0.000 _methods.py:176(_var)\n",
      "       20    0.000    0.000    0.002    0.000 lines.py:650(recache)\n",
      "    45/37    0.000    0.000    0.006    0.000 series.py:201(__init__)\n",
      "     2705    0.000    0.000    0.000    0.000 artist.py:796(get_animated)\n",
      "      162    0.000    0.000    0.000    0.000 __init__.py:1742(<dictcomp>)\n",
      "      258    0.000    0.000    0.000    0.000 contextlib.py:82(__init__)\n",
      "     2289    0.000    0.000    0.000    0.000 {method 'pop' of 'dict' objects}\n",
      "       20    0.000    0.000    0.002    0.000 _methods.py:143(_mean)\n",
      "      680    0.000    0.000    0.000    0.000 artist.py:332(pchanged)\n",
      "      161    0.000    0.000    0.000    0.000 transforms.py:185(set_children)\n",
      "       90    0.000    0.000    0.002    0.000 module.py:1055(_named_members)\n",
      "      108    0.000    0.000    0.000    0.000 common.py:1733(pandas_dtype)\n",
      "       80    0.000    0.000    0.062    0.001 tensor.py:576(__iter__)\n",
      "      348    0.000    0.000    0.001    0.000 common.py:1460(is_extension_array_dtype)\n",
      "       45    0.000    0.000    0.010    0.000 iostream.py:197(schedule)\n",
      "      108    0.000    0.000    0.000    0.000 font_manager.py:851(set_weight)\n",
      "      503    0.000    0.000    0.011    0.000 inspect.py:3020(bind)\n",
      "       20    0.000    0.000    0.002    0.000 fromnumeric.py:3269(mean)\n",
      "      354    0.000    0.000    0.001    0.000 common.py:1600(_is_dtype_type)\n",
      "       91    0.000    0.000    0.000    0.000 __init__.py:2219(_check_isinstance)\n",
      "   140/60    0.000    0.000    0.000    0.000 module.py:1222(named_modules)\n",
      "      445    0.000    0.000    0.001    0.000 base.py:256(is_dtype)\n",
      "      204    0.000    0.000    0.002    0.000 fromnumeric.py:2249(any)\n",
      "      357    0.000    0.000    0.000    0.000 base.py:413(find)\n",
      "    72/68    0.000    0.000    0.001    0.000 spines.py:391(get_spine_transform)\n",
      "      159    0.000    0.000    0.019    0.000 artist.py:1086(set)\n",
      "     1509    0.000    0.000    0.000    0.000 deprecation.py:399(<genexpr>)\n",
      "     2225    0.000    0.000    0.000    0.000 inspect.py:2531(default)\n",
      "      208    0.000    0.000    0.001    0.000 markers.py:230(_recache)\n",
      "       57    0.000    0.000    0.000    0.000 transforms.py:1982(scale)\n",
      "       41    0.000    0.000    0.005    0.000 text.py:127(__init__)\n",
      "       55    0.000    0.000    0.000    0.000 artist.py:1065(update_from)\n",
      "       10    0.000    0.000    0.003    0.000 optimizer.py:167(zero_grad)\n",
      "      275    0.000    0.000    0.000    0.000 transforms.py:1702(__init__)\n",
      "      109    0.000    0.000    0.003    0.000 text.py:168(update)\n",
      "       30    0.000    0.000    0.000    0.000 _methods.py:59(_count_reduce_items)\n",
      "       30    0.000    0.000    0.010    0.000 iostream.py:386(write)\n",
      "      408    0.000    0.000    0.000    0.000 {built-in method _abc._abc_instancecheck}\n",
      "      258    0.000    0.000    0.001    0.000 contextlib.py:117(__exit__)\n",
      "       15    0.000    0.000    0.010    0.001 {built-in method builtins.print}\n",
      "      204    0.000    0.000    0.003    0.000 <__array_function__ internals>:2(any)\n",
      "      197    0.000    0.000    0.000    0.000 {method 'copy' of 'numpy.ndarray' objects}\n",
      "      106    0.000    0.000    0.000    0.000 font_manager.py:869(set_stretch)\n",
      "       54    0.000    0.000    0.000    0.000 lines.py:1098(set_linestyle)\n",
      "      420    0.000    0.000    0.000    0.000 transforms.py:107(__init__)\n",
      "      144    0.000    0.000    0.000    0.000 font_manager.py:887(set_size)\n",
      "       40    0.000    0.000    0.001    0.000 blocks.py:2655(get_block_type)\n",
      "     1333    0.000    0.000    0.000    0.000 {built-in method builtins.issubclass}\n",
      "    40/16    0.000    0.000    0.000    0.000 units.py:192(get_converter)\n",
      "       16    0.000    0.000    0.000    0.000 {built-in method zeros_like}\n",
      "      192    0.000    0.000    0.000    0.000 artist.py:52(_stale_axes_callback)\n",
      "       73    0.000    0.000    0.000    0.000 _dtype.py:321(_name_get)\n",
      "      258    0.000    0.000    0.001    0.000 contextlib.py:238(helper)\n",
      "       25    0.000    0.000    0.000    0.000 {pandas._libs.lib.infer_dtype}\n",
      "      258    0.000    0.000    0.001    0.000 contextlib.py:108(__enter__)\n",
      "       70    0.000    0.000    0.000    0.000 generic.py:5141(__setattr__)\n",
      "       10    0.000    0.000    0.000    0.000 {method 'item' of 'torch._C._TensorBase' objects}\n",
      "       28    0.000    0.000    0.001    0.000 construction.py:390(sanitize_array)\n",
      "      408    0.000    0.000    0.000    0.000 abc.py:96(__instancecheck__)\n",
      "       14    0.000    0.000    0.007    0.000 axis.py:341(_apply_params)\n",
      "  131/115    0.000    0.000    0.000    0.000 transforms.py:158(_invalidate_internal)\n",
      "       21    0.000    0.000    0.001    0.000 frame.py:2869(__getitem__)\n",
      "        1    0.000    0.000   77.541   77.541 {built-in method builtins.exec}\n",
      "        9    0.000    0.000    0.016    0.002 axis.py:489(__init__)\n",
      "      136    0.000    0.000    0.001    0.000 dtypes.py:903(is_dtype)\n",
      "      503    0.000    0.000    0.000    0.000 {method 'values' of 'mappingproxy' objects}\n",
      "       74    0.000    0.000    0.000    0.000 transforms.py:2276(__init__)\n",
      "      503    0.000    0.000    0.000    0.000 inspect.py:2619(__init__)\n",
      "       87    0.000    0.000    0.000    0.000 markers.py:252(set_fillstyle)\n",
      "        8    0.000    0.000    0.015    0.002 axis.py:416(__init__)\n",
      "      857    0.000    0.000    0.000    0.000 {method 'lower' of 'str' objects}\n",
      "       16    0.000    0.000    0.001    0.000 ticker.py:2146(_validate_steps)\n",
      "       33    0.000    0.000    0.001    0.000 lines.py:1277(update_from)\n",
      "      742    0.000    0.000    0.000    0.000 artist.py:189(axes)\n",
      "      121    0.000    0.000    0.000    0.000 artist.py:687(set_figure)\n",
      "      118    0.000    0.000    0.000    0.000 rcsetup.py:623(validate_capstyle)\n",
      "       49    0.000    0.000    0.001    0.000 blocks.py:124(__init__)\n",
      "       73    0.000    0.000    0.001    0.000 common.py:1330(is_bool_dtype)\n",
      "       16    0.000    0.000    0.000    0.000 function_base.py:1152(diff)\n",
      "       74    0.000    0.000    0.000    0.000 transforms.py:1832(__init__)\n",
      "       41    0.000    0.000    0.000    0.000 transforms.py:766(__init__)\n",
      "      106    0.000    0.000    0.000    0.000 font_manager.py:832(set_style)\n",
      "       50    0.000    0.000    0.000    0.000 blocks.py:237(mgr_locs)\n",
      "      177    0.000    0.000    0.001    0.000 common.py:456(is_period_dtype)\n",
      "      224    0.000    0.000    0.000    0.000 fromnumeric.py:71(<dictcomp>)\n",
      "       97    0.000    0.000    0.000    0.000 dtypes.py:1116(is_dtype)\n",
      "       10    0.000    0.000    0.000    0.000 {built-in method ones_like}\n",
      "       45    0.000    0.000    0.000    0.000 threading.py:1071(is_alive)\n",
      "       65    0.000    0.000    0.002    0.000 font_manager.py:932(copy)\n",
      "       46    0.000    0.000    0.000    0.000 common.py:218(asarray_tuplesafe)\n",
      "      127    0.000    0.000    0.000    0.000 {pandas._libs.lib.is_list_like}\n",
      "      139    0.000    0.000    0.000    0.000 artist.py:935(set_visible)\n",
      "       17    0.000    0.000    0.002    0.000 artist.py:723(set_clip_path)\n",
      "       10    0.000    0.000    0.000    0.000 tensor.py:528(__format__)\n",
      "      115    0.000    0.000    0.000    0.000 transforms.py:148(invalidate)\n",
      "       13    0.000    0.000    0.002    0.000 missing.py:193(_isna_ndarraylike)\n",
      "      129    0.000    0.000    0.000    0.000 lines.py:1232(set_xdata)\n",
      "      531    0.000    0.000    0.000    0.000 {built-in method builtins.setattr}\n",
      "       52    0.000    0.000    0.000    0.000 generic.py:195(__init__)\n",
      "      774    0.000    0.000    0.000    0.000 {built-in method builtins.id}\n",
      "       32    0.000    0.000    0.000    0.000 axis.py:1607(_set_formatter)\n",
      "      106    0.000    0.000    0.000    0.000 font_manager.py:842(set_variant)\n",
      "      149    0.000    0.000    0.001    0.000 common.py:530(is_categorical_dtype)\n",
      "       10    0.000    0.000    0.001    0.000 _methods.py:232(_std)\n",
      "       35    0.000    0.000    0.002    0.000 blocks.py:2701(make_block)\n",
      "       22    0.000    0.000    0.000    0.000 shape_base.py:612(column_stack)\n",
      "        2    0.000    0.000    0.001    0.000 ticker.py:2214(_raw_ticks)\n",
      "      138    0.000    0.000    0.001    0.000 common.py:492(is_interval_dtype)\n",
      "      105    0.000    0.000    0.000    0.000 artist.py:354(set_transform)\n",
      "       10    0.000    0.000    1.960    0.196 __init__.py:68(backward)\n",
      "       10    0.000    0.000    0.000    0.000 transforms.py:2764(nonsingular)\n",
      "       79    0.000    0.000    0.000    0.000 text.py:1135(set_verticalalignment)\n",
      "       87    0.000    0.000    0.002    0.000 markers.py:215(__init__)\n",
      "      232    0.000    0.000    0.000    0.000 rcsetup.py:600(_deprecate_case_insensitive_join_cap)\n",
      "       10    0.000    0.000    1.960    0.196 tensor.py:181(backward)\n",
      "      114    0.000    0.000    0.000    0.000 rcsetup.py:617(validate_joinstyle)\n",
      "      114    0.000    0.000    0.000    0.000 common.py:422(is_timedelta64_dtype)\n",
      "       38    0.000    0.000    0.000    0.000 _ufunc_config.py:32(seterr)\n",
      "       54    0.000    0.000    0.001    0.000 lines.py:1190(set_markerfacecolor)\n",
      "        6    0.000    0.000    0.000    0.000 managers.py:238(_rebuild_blknos_and_blklocs)\n",
      "       10    0.000    0.000    0.013    0.001 grad_mode.py:23(decorate_context)\n",
      "       74    0.000    0.000    0.001    0.000 transforms.py:2433(composite_transform_factory)\n",
      "       17    0.000    0.000    0.001    0.000 patches.py:761(_update_patch_transform)\n",
      "      101    0.000    0.000    0.000    0.000 common.py:381(is_datetime64tz_dtype)\n",
      "       65    0.000    0.000    0.000    0.000 __init__.py:1268(is_math_text)\n",
      "       90    0.000    0.000    0.000    0.000 base.py:5654(maybe_extract_name)\n",
      "      125    0.000    0.000    0.000    0.000 lines.py:67(_scale_dashes)\n",
      "       71    0.000    0.000    0.000    0.000 <frozen importlib._bootstrap>:1017(_handle_fromlist)\n",
      "       16    0.000    0.000    0.001    0.000 ticker.py:2169(set_params)\n",
      "       41    0.000    0.000    0.002    0.000 text.py:1188(set_fontproperties)\n",
      "       20    0.000    0.000    0.000    0.000 stride_tricks.py:183(_broadcast_shape)\n",
      "       54    0.000    0.000    0.000    0.000 lines.py:1346(set_dash_capstyle)\n",
      "       10    0.000    0.000    0.001    0.000 algorithms.py:1616(take_nd)\n",
      "      187    0.000    0.000    0.000    0.000 inference.py:322(is_hashable)\n",
      "      132    0.000    0.000    0.000    0.000 lines.py:1244(set_ydata)\n",
      "       54    0.000    0.000    0.000    0.000 lines.py:1080(set_linewidth)\n",
      "       98    0.000    0.000    0.000    0.000 common.py:1565(_get_dtype)\n",
      "      504    0.000    0.000    0.000    0.000 inspect.py:2845(parameters)\n",
      "       13    0.000    0.000    0.000    0.000 cast.py:1308(maybe_cast_to_datetime)\n",
      "       54    0.000    0.000    0.000    0.000 lines.py:631(set_data)\n",
      "      106    0.000    0.000    0.000    0.000 font_manager.py:819(set_family)\n",
      "        1    0.000    0.000    0.037    0.037 relational.py:424(plot)\n",
      "       34    0.000    0.000    0.000    0.000 base.py:4036(__contains__)\n",
      "       38    0.000    0.000    0.000    0.000 _ufunc_config.py:132(geterr)\n",
      "       41    0.000    0.000    0.000    0.000 common.py:224(is_sparse)\n",
      "       16    0.000    0.000    0.002    0.000 scale.py:106(set_default_locators_and_formatters)\n",
      "       11    0.000    0.000    0.001    0.000 series.py:4211(_reduce)\n",
      "       20    0.000    0.000    0.000    0.000 cast.py:1185(maybe_castable)\n",
      "       10    0.000    0.000    0.000    0.000 cycler.py:349(by_key)\n",
      "       40    0.000    0.000    0.000    0.000 colors.py:161(to_rgba)\n",
      "        3    0.000    0.000    0.001    0.000 managers.py:1715(form_blocks)\n",
      "       88    0.000    0.000    0.000    0.000 series.py:442(name)\n",
      "       79    0.000    0.000    0.000    0.000 text.py:942(set_horizontalalignment)\n",
      "      621    0.000    0.000    0.000    0.000 {built-in method builtins.callable}\n",
      "       24    0.000    0.000    0.000    0.000 path.py:98(__init__)\n",
      "       90    0.000    0.000    0.002    0.000 module.py:1092(named_parameters)\n",
      "       10    0.000    0.000    0.000    0.000 __init__.py:28(_make_grads)\n",
      "       54    0.000    0.000    0.000    0.000 lines.py:1045(set_drawstyle)\n",
      "        1    0.000    0.000    0.019    0.019 _base.py:1038(cla)\n",
      "       54    0.000    0.000    0.001    0.000 lines.py:1204(set_markerfacecoloralt)\n",
      "       90    0.000    0.000    0.002    0.000 module.py:1068(parameters)\n",
      "       85    0.000    0.000    0.000    0.000 deprecation.py:456(_deprecate_method_override)\n",
      "       30    0.000    0.000    0.000    0.000 iostream.py:310(_is_master_process)\n",
      "        2    0.000    0.000    0.001    0.000 _base.py:2512(handle_single_axis)\n",
      "      130    0.000    0.000    0.000    0.000 {method 'add' of 'set' objects}\n",
      "      172    0.000    0.000    0.000    0.000 {built-in method __new__ of type object at 0x00007FFA6CF7B810}\n",
      "       34    0.000    0.000    0.000    0.000 transforms.py:1969(translate)\n",
      "       30    0.000    0.000    0.000    0.000 base.py:463(_simple_new)\n",
      "       65    0.000    0.000    0.000    0.000 common.py:194(is_object_dtype)\n",
      "       11    0.000    0.000    0.001    0.000 nanops.py:237(_get_values)\n",
      "      145    0.000    0.000    0.000    0.000 function_base.py:244(iterable)\n",
      "        4    0.000    0.000    0.000    0.000 index_tricks.py:316(__getitem__)\n",
      "      212    0.000    0.000    0.000    0.000 font_manager.py:1016(_normalize_font_family)\n",
      "       16    0.000    0.000    0.000    0.000 axis.py:1633(set_major_locator)\n",
      "      217    0.000    0.000    0.000    0.000 common.py:180(<lambda>)\n",
      "       24    0.000    0.000    0.000    0.000 __init__.py:2271(_check_shape)\n",
      "       62    0.000    0.000    0.003    0.000 base.py:5557(ensure_index)\n",
      "       20    0.000    0.000    0.002    0.000 <__array_function__ internals>:2(mean)\n",
      "       10    0.000    0.000    0.001    0.000 fromnumeric.py:3381(std)\n",
      "      122    0.000    0.000    0.000    0.000 <string>:1(__new__)\n",
      "       54    0.000    0.000    0.000    0.000 lines.py:716(set_transform)\n",
      "        6    0.000    0.000    0.001    0.000 patches.py:41(__init__)\n",
      "      122    0.000    0.000    0.001    0.000 _asarray.py:86(asanyarray)\n",
      "       35    0.000    0.000    0.000    0.000 transforms.py:2603(__init__)\n",
      "       55    0.000    0.000    0.000    0.000 generic.py:5123(__getattr__)\n",
      "       60    0.000    0.000    0.000    0.000 lines.py:33(_get_dash_pattern)\n",
      "        2    0.000    0.000    0.000    0.000 arraysetops.py:495(in1d)\n",
      "       15    0.000    0.000    0.000    0.000 cast.py:1568(construct_1d_object_array_from_listlike)\n",
      "       45    0.000    0.000    0.000    0.000 {method 'acquire' of '_thread.lock' objects}\n",
      "       45    0.000    0.000    0.000    0.000 threading.py:1017(_wait_for_tstate_lock)\n",
      "       22    0.000    0.000    0.001    0.000 text.py:252(update_from)\n",
      "       54    0.000    0.000    0.000    0.000 lines.py:1302(set_dash_joinstyle)\n",
      "        1    0.000    0.000    0.074    0.074 relational.py:663(lineplot)\n",
      "        1    0.000    0.000    0.001    0.001 figure.py:250(__init__)\n",
      "       64    0.000    0.000    0.000    0.000 __init__.py:1281(_to_unmasked_float_array)\n",
      "       16    0.000    0.000    0.000    0.000 __init__.py:168(connect)\n",
      "        7    0.000    0.000    0.003    0.000 frame.py:441(__init__)\n",
      "       20    0.000    0.000    0.000    0.000 shape_base.py:24(atleast_1d)\n",
      "       25    0.000    0.000    0.001    0.000 managers.py:1564(from_array)\n",
      "       59    0.000    0.000    0.000    0.000 lines.py:618(axes)\n",
      "       17    0.000    0.000    0.000    0.000 transforms.py:1921(rotate)\n",
      "        8    0.000    0.000    0.014    0.002 axis.py:815(set_tick_params)\n",
      "       37    0.000    0.000    0.000    0.000 managers.py:1532(__init__)\n",
      "       10    0.000    0.000    0.000    0.000 grad_mode.py:80(__init__)\n",
      "       16    0.000    0.000    0.000    0.000 ticker.py:2161(_staircase)\n",
      "       74    0.000    0.000    0.001    0.000 transforms.py:1267(__add__)\n",
      "       16    0.000    0.000    0.000    0.000 ticker.py:518(__init__)\n",
      "        3    0.000    0.000    0.001    0.000 _base.py:308(_makeline)\n",
      "       16    0.000    0.000    0.000    0.000 base.py:5724(_maybe_cast_data_without_dtype)\n",
      "       20    0.000    0.000    0.000    0.000 transforms.py:1019(__init__)\n",
      "       20    0.000    0.000    0.000    0.000 stride_tricks.py:204(broadcast_arrays)\n",
      "       99    0.000    0.000    0.000    0.000 common.py:905(is_datetime64_any_dtype)\n",
      "       91    0.000    0.000    0.000    0.000 __init__.py:2236(type_name)\n",
      "       43    0.000    0.000    0.000    0.000 series.py:398(_set_axis)\n",
      "        2    0.000    0.000    0.025    0.012 axis.py:1375(get_major_ticks)\n",
      "        9    0.000    0.000    0.000    0.000 {pandas._libs.lib.clean_index_list}\n",
      "       45    0.000    0.000    0.000    0.000 iostream.py:93(_event_pipe)\n",
      "       73    0.000    0.000    0.000    0.000 _dtype.py:307(_name_includes_bit_suffix)\n",
      "        2    0.000    0.000    0.000    0.000 {pandas._libs.lib.maybe_convert_objects}\n",
      "       52    0.000    0.000    0.000    0.000 {built-in method builtins.max}\n",
      "      153    0.000    0.000    0.000    0.000 artist.py:194(axes)\n",
      "       47    0.000    0.000    0.000    0.000 common.py:696(is_integer_dtype)\n",
      "       26    0.000    0.000    0.001    0.000 construction.py:520(_try_cast)\n",
      "       60    0.000    0.000    0.000    0.000 common.py:1296(is_float_dtype)\n",
      "       12    0.000    0.000    0.002    0.000 axis.py:770(cla)\n",
      "  283/281    0.000    0.000    0.000    0.000 {built-in method builtins.hash}\n",
      "       10    0.000    0.000    0.000    0.000 managers.py:984(iget)\n",
      "      217    0.000    0.000    0.000    0.000 common.py:178(classes)\n",
      "    83/45    0.000    0.000    0.000    0.000 _base.py:776(get_yaxis_transform)\n",
      "      137    0.000    0.000    0.000    0.000 common.py:188(<lambda>)\n",
      "       60    0.000    0.000    0.000    0.000 series.py:492(name)\n",
      "       54    0.000    0.000    0.000    0.000 lines.py:1360(set_solid_capstyle)\n",
      "       38    0.000    0.000    0.001    0.000 common.py:1180(needs_i8_conversion)\n",
      "       85    0.000    0.000    0.000    0.000 axis.py:332(_set_artist_props)\n",
      "       54    0.000    0.000    0.000    0.000 lines.py:1316(set_solid_joinstyle)\n",
      "       14    0.000    0.000    0.001    0.000 generic.py:3532(_get_item_cache)\n",
      "       59    0.000    0.000    0.000    0.000 construction.py:339(extract_array)\n",
      "        8    0.000    0.000    0.000    0.000 numerictypes.py:545(_can_coerce_all)\n",
      "       28    0.000    0.000    0.000    0.000 __init__.py:853(get_siblings)\n",
      "       19    0.000    0.000    0.001    0.000 {method 'get_loc' of 'pandas._libs.index.IndexEngine' objects}\n",
      "       52    0.000    0.000    0.000    0.000 {built-in method builtins.all}\n",
      "      130    0.000    0.000    0.000    0.000 {method 'count' of 'str' objects}\n",
      "       38    0.000    0.000    0.000    0.000 common.py:1025(is_datetime_or_timedelta_dtype)\n",
      "       30    0.000    0.000    0.002    0.000 iostream.py:323(_schedule_flush)\n",
      "       24    0.000    0.000    0.000    0.000 path.py:193(_update_values)\n",
      "       48    0.000    0.000    0.000    0.000 <__array_function__ internals>:2(concatenate)\n",
      "       19    0.000    0.000    0.000    0.000 {built-in method numpy.arange}\n",
      "       16    0.000    0.000    0.000    0.000 axis.py:1649(set_minor_locator)\n",
      "        1    0.000    0.000    0.026    0.026 _base.py:434(__init__)\n",
      "      115    0.000    0.000    0.000    0.000 base.py:567(__len__)\n",
      "       16    0.000    0.000    0.000    0.000 axis.py:795(reset_ticks)\n",
      "        7    0.000    0.000    0.000    0.000 cast.py:442(maybe_promote)\n",
      "       54    0.000    0.000    0.000    0.000 managers.py:1613(internal_values)\n",
      "       50    0.000    0.000    0.000    0.000 module.py:1113(<lambda>)\n",
      "        3    0.000    0.000    0.001    0.000 _base.py:367(_plot_args)\n",
      "       46    0.000    0.000    0.000    0.000 common.py:750(is_signed_integer_dtype)\n",
      "       54    0.000    0.000    0.000    0.000 lines.py:1218(set_markersize)\n",
      "       10    0.000    0.000    0.000    0.000 algorithms.py:1487(_get_take_nd_function)\n",
      "       35    0.000    0.000    0.000    0.000 numerictypes.py:360(issubdtype)\n",
      "    74/40    0.000    0.000    0.000    0.000 _base.py:700(get_xaxis_transform)\n",
      "       41    0.000    0.000    0.001    0.000 font_manager.py:713(_from_any)\n",
      "       31    0.000    0.000    0.000    0.000 {method 'astype' of 'numpy.ndarray' objects}\n",
      "       43    0.000    0.000    0.000    0.000 text.py:926(set_color)\n",
      "       70    0.000    0.000    0.000    0.000 numerictypes.py:286(issubclass_)\n",
      "       11    0.000    0.000    0.002    0.000 axis.py:1345(_copy_tick_props)\n",
      "       16    0.000    0.000    0.001    0.000 ticker.py:2096(__init__)\n",
      "        2    0.000    0.000    0.001    0.001 managers.py:1162(insert)\n",
      "       17    0.000    0.000    0.000    0.000 generic.py:5095(__finalize__)\n",
      "       54    0.000    0.000    0.000    0.000 lines.py:486(set_pickradius)\n",
      "       54    0.000    0.000    0.000    0.000 lines.py:1175(set_markeredgewidth)\n",
      "       19    0.000    0.000    0.001    0.000 base.py:2851(get_loc)\n",
      "       11    0.000    0.000    0.001    0.000 generic.py:11556(logical_func)\n",
      "        9    0.000    0.000    0.000    0.000 _base.py:800(get_yaxis_text1_transform)\n",
      "       40    0.000    0.000    0.000    0.000 artist.py:1028(set_zorder)\n",
      "       17    0.000    0.000    0.000    0.000 patches.py:783(_convert_units)\n",
      "        4    0.000    0.000    0.001    0.000 spines.py:31(__init__)\n",
      "        6    0.000    0.000    0.005    0.001 _core.py:50(map)\n",
      "       15    0.000    0.000    0.000    0.000 markers.py:733(_set_tickleft)\n",
      "       17    0.000    0.000    0.000    0.000 base.py:4083(__getitem__)\n",
      "      204    0.000    0.000    0.000    0.000 fromnumeric.py:2245(_any_dispatcher)\n",
      "       21    0.000    0.000    0.002    0.000 missing.py:130(_isna)\n",
      "       42    0.000    0.000    0.000    0.000 text.py:233(set_rotation_mode)\n",
      "       41    0.000    0.000    0.000    0.000 text.py:1202(set_usetex)\n",
      "       32    0.000    0.000    0.000    0.000 __init__.py:1652(safe_first_element)\n",
      "        2    0.000    0.000    0.001    0.001 axis.py:664(__init__)\n",
      "       38    0.000    0.000    0.000    0.000 text.py:1037(set_fontsize)\n",
      "      242    0.000    0.000    0.000    0.000 artist.py:1043(sticky_edges)\n",
      "        8    0.000    0.000    0.000    0.000 axis.py:451(apply_tickdir)\n",
      "       34    0.000    0.000    0.001    0.000 lines.py:1146(set_marker)\n",
      "       72    0.000    0.000    0.000    0.000 {method 'requires_grad_' of 'torch._C._TensorBase' objects}\n",
      "       20    0.000    0.000    0.000    0.000 grad_mode.py:166(__init__)\n",
      "        2    0.000    0.000    0.001    0.000 _core.py:1179(variable_type)\n",
      "        3    0.000    0.000    0.001    0.000 algorithms.py:508(factorize)\n",
      "        9    0.000    0.000    0.000    0.000 axis.py:524(apply_tickdir)\n",
      "        8    0.000    0.000    0.003    0.000 construction.py:600(create_series_with_explicit_dtype)\n",
      "        9    0.000    0.000    0.000    0.000 axis.py:538(update_position)\n",
      "        7    0.000    0.000    0.000    0.000 base.py:1646(is_unique)\n",
      "       20    0.000    0.000    0.000    0.000 core.py:672(getdata)\n",
      "        2    0.000    0.000    0.000    0.000 _base.py:3216(set_xlim)\n",
      "       16    0.000    0.000    0.000    0.000 shape_base.py:286(hstack)\n",
      "       41    0.000    0.000    0.000    0.000 construction.py:580(is_empty_data)\n",
      "       49    0.000    0.000    0.000    0.000 {method 'format' of 'str' objects}\n",
      "        5    0.000    0.000    0.000    0.000 managers.py:1843(_stack_arrays)\n",
      "       54    0.000    0.000    0.000    0.000 lines.py:1160(set_markeredgecolor)\n",
      "        8    0.000    0.000    0.000    0.000 _base.py:724(get_xaxis_text1_transform)\n",
      "       39    0.000    0.000    0.000    0.000 figure.py:42(_stale_figure_callback)\n",
      "        1    0.000    0.000    0.001    0.001 reshape.py:472(stack)\n",
      "       17    0.000    0.000    0.002    0.000 patches.py:258(get_transform)\n",
      "       16    0.000    0.000    0.000    0.000 units.py:58(_is_natively_supported)\n",
      "       16    0.000    0.000    0.000    0.000 weakref.py:44(__new__)\n",
      "      111    0.000    0.000    0.000    0.000 cycler.py:227(<genexpr>)\n",
      "        1    0.000    0.000    0.001    0.001 sorting.py:194(lexsort_indexer)\n",
      "       49    0.000    0.000    0.000    0.000 blocks.py:135(_check_ndim)\n",
      "       54    0.000    0.000    0.000    0.000 text.py:1100(set_x)\n",
      "       17    0.000    0.000    0.000    0.000 axis.py:196(_set_labelrotation)\n",
      "      130    0.000    0.000    0.000    0.000 {built-in method builtins.vars}\n",
      "        7    0.000    0.000    0.000    0.000 {pandas._libs.algos.take_1d_int64_int64}\n",
      "       54    0.000    0.000    0.000    0.000 lines.py:1022(set_antialiased)\n",
      "       30    0.000    0.000    0.000    0.000 {built-in method nt.getpid}\n",
      "       17    0.000    0.000    0.001    0.000 transforms.py:1957(rotate_deg_around)\n",
      "       19    0.000    0.000    0.000    0.000 transforms.py:815(from_extents)\n",
      "       54    0.000    0.000    0.000    0.000 series.py:540(_values)\n",
      "       13    0.000    0.000    0.000    0.000 markers.py:753(_set_tickdown)\n",
      "        2    0.000    0.000    0.000    0.000 {method 'factorize' of 'pandas._libs.hashtable.Int64HashTable' objects}\n",
      "       39    0.000    0.000    0.000    0.000 common.py:806(is_unsigned_integer_dtype)\n",
      "       20    0.000    0.000    0.002    0.000 lines.py:1005(get_path)\n",
      "        3    0.000    0.000    0.003    0.001 _axes.py:1510(plot)\n",
      "        9    0.000    0.000    0.016    0.002 axis.py:2298(_get_tick)\n",
      "       68    0.000    0.000    0.000    0.000 {method 'ravel' of 'numpy.ndarray' objects}\n",
      "       58    0.000    0.000    0.000    0.000 artist.py:165(convert_xunits)\n",
      "       15    0.000    0.000    0.000    0.000 markers.py:739(_set_tickright)\n",
      "       18    0.000    0.000    0.000    0.000 managers.py:212(shape)\n",
      "      137    0.000    0.000    0.000    0.000 common.py:183(classes_and_not_datetimelike)\n",
      "       16    0.000    0.000    0.002    0.000 axis.py:754(_set_scale)\n",
      "       10    0.000    0.000    0.000    0.000 frame.py:3180(_box_col_values)\n",
      "       40    0.000    0.000    0.000    0.000 colors.py:124(_is_nth_color)\n",
      "       10    0.000    0.000    0.000    0.000 grad_mode.py:85(__enter__)\n",
      "      182    0.000    0.000    0.000    0.000 __init__.py:2234(<genexpr>)\n",
      "        9    0.000    0.000    0.000    0.000 _base.py:826(get_yaxis_text2_transform)\n",
      "        1    0.000    0.000    0.004    0.004 relational.py:379(aggregate)\n",
      "       80    0.000    0.000    0.000    0.000 {built-in method math.sqrt}\n",
      "        1    0.000    0.000    0.000    0.000 groupby.py:2371(_get_cythonized_result)\n",
      "        6    0.000    0.000    0.000    0.000 algorithms.py:69(_ensure_data)\n",
      "        8    0.000    0.000    0.000    0.000 axis.py:854(_translate_tick_kw)\n",
      "       50    0.000    0.000    0.000    0.000 {built-in method numpy.core._multiarray_umath.normalize_axis_index}\n",
      "      162    0.000    0.000    0.000    0.000 __init__.py:1756(<listcomp>)\n",
      "       16    0.000    0.000    0.000    0.000 scale.py:639(scale_factory)\n",
      "       17    0.000    0.000    0.000    0.000 artist.py:921(set_alpha)\n",
      "        8    0.000    0.000    0.015    0.002 axis.py:2008(_get_tick)\n",
      "       73    0.000    0.000    0.000    0.000 _dtype.py:24(_kind_name)\n",
      "       20    0.000    0.000    0.000    0.000 config.py:86(_get_single_key)\n",
      "       54    0.000    0.000    0.000    0.000 lines.py:531(set_markevery)\n",
      "       19    0.000    0.000    0.000    0.000 transforms.py:2511(__init__)\n",
      "       54    0.000    0.000    0.000    0.000 lines.py:1034(set_color)\n",
      "        3    0.000    0.000    0.001    0.000 _base.py:1956(add_line)\n",
      "        1    0.000    0.000    0.000    0.000 sorting.py:23(get_group_index)\n",
      "        4    0.000    0.000    0.000    0.000 {built-in method matplotlib._path.affine_transform}\n",
      "       36    0.000    0.000    0.000    0.000 re.py:188(match)\n",
      "       56    0.000    0.000    0.000    0.000 text.py:1111(set_y)\n",
      "        8    0.000    0.000    0.000    0.000 _base.py:750(get_xaxis_text2_transform)\n",
      "       18    0.000    0.000    0.000    0.000 base.py:5670(_maybe_cast_with_dtype)\n",
      "       13    0.000    0.000    0.000    0.000 markers.py:747(_set_tickup)\n",
      "       38    0.000    0.000    0.000    0.000 {built-in method numpy.seterrobj}\n",
      "       16    0.000    0.000    0.000    0.000 inference.py:263(is_dict_like)\n",
      "       16    0.000    0.000    0.001    0.000 ticker.py:2889(__init__)\n",
      "        5    0.000    0.000    0.000    0.000 marl_env.py:382(__init__)\n",
      "       12    0.000    0.000    0.000    0.000 axis.py:1451(update_units)\n",
      "       38    0.000    0.000    0.000    0.000 re.py:289(_compile)\n",
      "       10    0.000    0.000    0.000    0.000 base.py:554(_engine)\n",
      "       19    0.000    0.000    0.000    0.000 _ufunc_config.py:433(__enter__)\n",
      "       20    0.000    0.000    0.000    0.000 <__array_function__ internals>:2(broadcast_arrays)\n",
      "       97    0.000    0.000    0.000    0.000 {pandas._libs.lib.is_scalar}\n",
      "       27    0.000    0.000    0.000    0.000 {method 'any' of 'numpy.ndarray' objects}\n",
      "        2    0.000    0.000    0.000    0.000 {method 'get_indexer' of 'pandas._libs.index.IndexEngine' objects}\n",
      "       17    0.000    0.000    0.000    0.000 patches.py:313(_set_edgecolor)\n",
      "       89    0.000    0.000    0.000    0.000 managers.py:1575(_block)\n",
      "        9    0.000    0.000    0.000    0.000 numpy_.py:162(__init__)\n",
      "        2    0.000    0.000    0.000    0.000 _base.py:3488(set_ylim)\n",
      "       58    0.000    0.000    0.000    0.000 artist.py:177(convert_yunits)\n",
      "        2    0.000    0.000    0.000    0.000 transforms.py:658(union)\n",
      "        8    0.000    0.000    0.000    0.000 axis.py:467(update_position)\n",
      "       32    0.000    0.000    0.000    0.000 axis.py:573(locator)\n",
      "       17    0.000    0.000    0.000    0.000 patches.py:339(_set_facecolor)\n",
      "       19    0.000    0.000    0.000    0.000 _ufunc_config.py:438(__exit__)\n",
      "        6    0.000    0.000    0.000    0.000 __init__.py:186(_remove_proxy)\n",
      "       72    0.000    0.000    0.000    0.000 __init__.py:2291(<genexpr>)\n",
      "        2    0.000    0.000    0.000    0.000 ticker.py:2030(scale_range)\n",
      "      106    0.000    0.000    0.000    0.000 font_manager.py:912(set_file)\n",
      "        1    0.000    0.000    0.000    0.000 gridspec.py:140(get_grid_positions)\n",
      "        1    0.000    0.000    0.007    0.007 relational.py:353(__init__)\n",
      "        6    0.000    0.000    0.001    0.000 _base.py:209(__call__)\n",
      "       14    0.000    0.000    0.000    0.000 blocks.py:256(make_block_same_class)\n",
      "        1    0.000    0.000    0.000    0.000 ops.py:591(_aggregate)\n",
      "       30    0.000    0.000    0.000    0.000 __init__.py:804(clean)\n",
      "        7    0.000    0.000    0.000    0.000 managers.py:132(__init__)\n",
      "        5    0.000    0.000    0.000    0.000 _asarray.py:221(require)\n",
      "        5    0.000    0.000    0.000    0.000 managers.py:1827(_multi_blockify)\n",
      "        1    0.000    0.000    0.001    0.001 ops.py:436(_cython_operation)\n",
      "       17    0.000    0.000    0.000    0.000 transforms.py:1937(rotate_deg)\n",
      "        8    0.000    0.000    0.000    0.000 _base.py:3199(_validate_converted_limits)\n",
      "        2    0.000    0.000    0.000    0.000 function_base.py:4421(insert)\n",
      "        4    0.000    0.000    0.011    0.003 axis.py:1403(grid)\n",
      "    72/68    0.000    0.000    0.000    0.000 spines.py:215(_ensure_position_is_set)\n",
      "       85    0.000    0.000    0.000    0.000 transforms.py:200(<lambda>)\n",
      "        2    0.000    0.000    0.001    0.000 categorical.py:303(__init__)\n",
      "       19    0.000    0.000    0.000    0.000 base.py:4976(_maybe_cast_indexer)\n",
      "       22    0.000    0.000    0.000    0.000 <__array_function__ internals>:2(column_stack)\n",
      "       10    0.000    0.000    0.000    0.000 grad_mode.py:89(__exit__)\n",
      "        1    0.000    0.000    0.000    0.000 {built-in method nt.get_terminal_size}\n",
      "        4    0.000    0.000    0.000    0.000 numeric.py:50(__new__)\n",
      "       55    0.000    0.000    0.000    0.000 text.py:1149(set_text)\n",
      "      2/1    0.000    0.000    0.000    0.000 transforms.py:1041(get_points)\n",
      "      162    0.000    0.000    0.000    0.000 __init__.py:1761(<listcomp>)\n",
      "        3    0.000    0.000    0.000    0.000 managers.py:366(apply)\n",
      "        2    0.000    0.000    0.000    0.000 _base.py:2521(<listcomp>)\n",
      "        1    0.000    0.000    0.000    0.000 _base.py:664(_set_lim_and_transforms)\n",
      "        6    0.000    0.000    0.000    0.000 __init__.py:1292(_check_1d)\n",
      "       24    0.000    0.000    0.000    0.000 common.py:348(is_datetime64_dtype)\n",
      "      6/2    0.000    0.000    0.001    0.001 _base.py:635(_unstale_viewLim)\n",
      "        1    0.000    0.000    0.000    0.000 _core.py:1060(_attach)\n",
      "        2    0.000    0.000    0.002    0.001 _core.py:80(__init__)\n",
      "        1    0.000    0.000    0.007    0.007 _core.py:602(__init__)\n",
      "       36    0.000    0.000    0.000    0.000 common.py:149(cast_scalar_indexer)\n",
      "       18    0.000    0.000    0.000    0.000 transforms.py:796(unit)\n",
      "      101    0.000    0.000    0.000    0.000 {method 'items' of 'collections.OrderedDict' objects}\n",
      "        1    0.000    0.000    0.001    0.001 _base.py:2446(autoscale_view)\n",
      "       19    0.000    0.000    0.000    0.000 <__array_function__ internals>:2(reshape)\n",
      "        1    0.000    0.000    0.002    0.002 _core.py:1003(comp_data)\n",
      "        3    0.000    0.000    0.000    0.000 algorithms.py:1991(safe_sort)\n",
      "        2    0.000    0.000    0.000    0.000 backend_bases.py:1685(__init__)\n",
      "        3    0.000    0.000    0.001    0.000 managers.py:1675(create_block_manager_from_arrays)\n",
      "       20    0.000    0.000    0.000    0.000 stride_tricks.py:256(<listcomp>)\n",
      "        8    0.000    0.000    0.003    0.000 series.py:335(_init_dict)\n",
      "       20    0.000    0.000    0.000    0.000 __init__.py:158(__init__)\n",
      "        4    0.000    0.000    0.000    0.000 dtypes.py:465(validate_categories)\n",
      "        9    0.000    0.000    0.000    0.000 generic.py:1319(__invert__)\n",
      "       22    0.000    0.000    0.000    0.000 managers.py:1602(dtype)\n",
      "       10    0.000    0.000    0.001    0.000 <__array_function__ internals>:2(std)\n",
      "        4    0.000    0.000    0.000    0.000 managers.py:321(_verify_integrity)\n",
      "       32    0.000    0.000    0.000    0.000 axis.py:586(formatter)\n",
      "       54    0.000    0.000    0.000    0.000 inference.py:289(<genexpr>)\n",
      "       41    0.000    0.000    0.000    0.000 font_manager.py:1116(get_default_size)\n",
      "       20    0.000    0.000    0.000    0.000 <__array_function__ internals>:2(atleast_1d)\n",
      "        1    0.000    0.000    0.001    0.001 grouper.py:605(get_grouper)\n",
      "       36    0.000    0.000    0.000    0.000 {method 'match' of 're.Pattern' objects}\n",
      "       10    0.000    0.000    0.002    0.000 missing.py:255(notna)\n",
      "       60    0.000    0.000    0.000    0.000 stride_tricks.py:260(<genexpr>)\n",
      "        2    0.000    0.000    0.000    0.000 base.py:2957(get_indexer)\n",
      "       76    0.000    0.000    0.000    0.000 {built-in method numpy.geterrobj}\n",
      "       13    0.000    0.000    0.000    0.000 common.py:566(is_string_dtype)\n",
      "       19    0.000    0.000    0.000    0.000 fromnumeric.py:199(reshape)\n",
      "        1    0.000    0.000    0.025    0.025 _core.py:1165(_add_axis_labels)\n",
      "        1    0.000    0.000    0.002    0.002 frame.py:5255(sort_values)\n",
      "        4    0.000    0.000    0.001    0.000 spines.py:484(linear_spine)\n",
      "       16    0.000    0.000    0.000    0.000 scale.py:98(__init__)\n",
      "       16    0.000    0.000    0.000    0.000 axis.py:1509(convert_units)\n",
      "       38    0.000    0.000    0.000    0.000 shape_base.py:208(_arrays_for_stack_dispatcher)\n",
      "       22    0.000    0.000    0.000    0.000 shape_base.py:608(_column_stack_dispatcher)\n",
      "        6    0.000    0.000    0.000    0.000 transforms.py:2210(__init__)\n",
      "       20    0.000    0.000    0.000    0.000 config.py:557(_get_root)\n",
      "        1    0.000    0.000    0.000    0.000 base.py:5257(drop)\n",
      "        6    0.000    0.000    0.000    0.000 _base.py:955(_set_artist_props)\n",
      "       34    0.000    0.000    0.000    0.000 base.py:544(_reset_identity)\n",
      "        9    0.000    0.000    0.000    0.000 generic.py:3723(get)\n",
      "       64    0.000    0.000    0.000    0.000 ticker.py:214(set_axis)\n",
      "        4    0.000    0.000    0.000    0.000 _methods.py:72(_clip_dep_is_scalar_nan)\n",
      "       14    0.000    0.000    0.000    0.000 _base.py:2164(_process_single_axis)\n",
      "        2    0.000    0.000    0.002    0.001 _core.py:488(__init__)\n",
      "        1    0.000    0.000    0.000    0.000 managers.py:1300(_slice_take_blocks_ax0)\n",
      "        2    0.000    0.000    0.000    0.000 format.py:1103(format_array)\n",
      "       40    0.000    0.000    0.000    0.000 config.py:571(_get_deprecated_option)\n",
      "        7    0.000    0.000    0.000    0.000 _base.py:2161(_process_unit_info)\n",
      "        2    0.000    0.000    0.003    0.001 _base.py:3015(tick_params)\n",
      "        2    0.000    0.000    0.000    0.000 transforms.py:941(intervalx)\n",
      "       20    0.000    0.000    0.000    0.000 config.py:104(_get_option)\n",
      "       10    0.000    0.000    0.000    0.000 {method '__format__' of 'float' objects}\n",
      "        5    0.000    0.000    0.000    0.000 cast.py:1199(maybe_infer_to_datetimelike)\n",
      "       17    0.000    0.000    0.000    0.000 generic.py:249(_validate_dtype)\n",
      "        2    0.000    0.000    0.002    0.001 _core.py:263(__init__)\n",
      "        1    0.000    0.000    0.003    0.003 _core.py:823(_assign_variables_longform)\n",
      "       17    0.000    0.000    0.000    0.000 <__array_function__ internals>:2(dot)\n",
      "        1    0.000    0.000    0.000    0.000 {pandas._libs.lib.to_object_array_tuples}\n",
      "       11    0.000    0.000    0.000    0.000 patches.py:380(set_linewidth)\n",
      "        1    0.000    0.000    0.001    0.001 pyplot.py:555(figure)\n",
      "       93    0.000    0.000    0.000    0.000 {method 'values' of 'dict' objects}\n",
      "       54    0.000    0.000    0.000    0.000 managers.py:214(<genexpr>)\n",
      "        4    0.000    0.000    0.000    0.000 transforms.py:1654(_set)\n",
      "     10/4    0.000    0.000    0.025    0.006 _base.py:62(wrapper)\n",
      "        9    0.000    0.000    0.000    0.000 axis.py:521(_get_text2_transform)\n",
      "        8    0.000    0.000    0.000    0.000 base.py:498(_shallow_copy)\n",
      "       45    0.000    0.000    0.000    0.000 threading.py:513(is_set)\n",
      "       36    0.000    0.000    0.000    0.000 range.py:687(__len__)\n",
      "        6    0.000    0.000    0.000    0.000 patches.py:400(set_linestyle)\n",
      "      6/4    0.000    0.000    0.011    0.003 axis.py:607(__get__)\n",
      "        1    0.000    0.000    0.000    0.000 {method 'factorize' of 'pandas._libs.hashtable.Float64HashTable' objects}\n",
      "        1    0.000    0.000    0.000    0.000 axis.py:2241(get_tick_space)\n",
      "        9    0.000    0.000    0.001    0.000 nanops.py:396(nanany)\n",
      "       22    0.000    0.000    0.000    0.000 series.py:427(dtype)\n",
      "       65    0.000    0.000    0.000    0.000 markers.py:350(_set_nothing)\n",
      "        4    0.000    0.000    0.000    0.000 warnings.py:458(__enter__)\n",
      "       72    0.000    0.000    0.000    0.000 blocks.py:233(mgr_locs)\n",
      "        2    0.000    0.000    0.001    0.000 ticker.py:2278(tick_values)\n",
      "        3    0.000    0.000    0.000    0.000 algorithms.py:468(_factorize_array)\n",
      "        1    0.000    0.000    0.074    0.074 _decorators.py:30(inner_f)\n",
      "        2    0.000    0.000    0.000    0.000 _methods.py:87(_clip_dep_invoke_with_casting)\n",
      "        7    0.000    0.000    0.000    0.000 cast.py:598(_ensure_dtype_type)\n",
      "        2    0.000    0.000    0.001    0.000 generic.py:329(_wrap_series_output)\n",
      "        1    0.000    0.000    0.000    0.000 printing.py:29(adjoin)\n",
      "        9    0.000    0.000    0.000    0.000 axis.py:518(_get_text1_transform)\n",
      "       70    0.000    0.000    0.000    0.000 axis.py:349(<genexpr>)\n",
      "       33    0.000    0.000    0.000    0.000 generic.py:365(_get_axis_number)\n",
      "        8    0.000    0.000    0.000    0.000 base.py:2007(is_all_dates)\n",
      "        1    0.000    0.000    0.026    0.026 _subplots.py:18(__init__)\n",
      "       16    0.000    0.000    0.000    0.000 <__array_function__ internals>:2(hstack)\n",
      "        2    0.000    0.000    0.001    0.001 construction.py:237(init_dict)\n",
      "        2    0.000    0.000    0.000    0.000 range.py:86(__new__)\n",
      "       16    0.000    0.000    0.000    0.000 <__array_function__ internals>:2(diff)\n",
      "        8    0.000    0.000    0.000    0.000 base.py:4196(equals)\n",
      "        1    0.000    0.000    0.001    0.001 groupby.py:1018(_cython_agg_general)\n",
      "        1    0.000    0.000    0.001    0.001 series.py:1297(__repr__)\n",
      "       45    0.000    0.000    0.000    0.000 {method 'append' of 'collections.deque' objects}\n",
      "        2    0.000    0.000    0.000    0.000 array_ops.py:160(arithmetic_op)\n",
      "        2    0.000    0.000    0.000    0.000 blocks.py:340(apply)\n",
      "       17    0.000    0.000    0.000    0.000 axis.py:214(get_tick_padding)\n",
      "       27    0.000    0.000    0.000    0.000 _methods.py:53(_any)\n",
      "        1    0.000    0.000    0.000    0.000 function_base.py:4236(delete)\n",
      "        1    0.000    0.000    0.000    0.000 construction.py:551(_list_to_arrays)\n",
      "        1    0.000    0.000    0.000    0.000 gridspec.py:751(get_position)\n",
      "       22    0.000    0.000    0.000    0.000 common.py:329(apply_if_callable)\n",
      "        2    0.000    0.000    0.000    0.000 multi.py:251(__new__)\n",
      "        2    0.000    0.000    0.000    0.000 construction.py:360(extract_index)\n",
      "       10    0.000    0.000    0.000    0.000 getlimits.py:366(__new__)\n",
      "      111    0.000    0.000    0.000    0.000 {method 'copy' of 'list' objects}\n",
      "        2    0.000    0.000    0.000    0.000 generic.py:1520(_get_label_or_level_values)\n",
      "        2    0.000    0.000    0.000    0.000 managers.py:2008(_fast_count_smallints)\n",
      "        2    0.000    0.000    0.000    0.000 format.py:1446(<listcomp>)\n",
      "        7    0.000    0.000    0.000    0.000 indexing.py:2128(convert_to_index_sliceable)\n",
      "       10    0.000    0.000    0.000    0.000 patches.py:456(set_capstyle)\n",
      "        6    0.000    0.000    0.000    0.000 managers.py:683(_consolidate_check)\n",
      "       20    0.000    0.000    0.000    0.000 format.py:1445(<lambda>)\n",
      "        4    0.000    0.000    0.000    0.000 spines.py:355(set_position)\n",
      "        9    0.000    0.000    0.000    0.000 blocks.py:207(array_values)\n",
      "        1    0.000    0.000    0.001    0.001 groupby.py:483(__init__)\n",
      "        3    0.000    0.000    0.001    0.000 _base.py:1982(_update_line_limits)\n",
      "        2    0.000    0.000    0.011    0.006 _base.py:2851(grid)\n",
      "        8    0.000    0.000    0.000    0.000 {built-in method pandas._libs.lib.is_datetime_array}\n",
      "       13    0.000    0.000    0.000    0.000 common.py:1541(_is_dtype)\n",
      "        8    0.000    0.000    0.000    0.000 transforms.py:1769(is_separable)\n",
      "        1    0.000    0.000    0.001    0.001 axis.py:1969(__init__)\n",
      "        1    0.000    0.000    0.000    0.000 axis.py:2526(get_tick_space)\n",
      "       48    0.000    0.000    0.000    0.000 numerictypes.py:554(<listcomp>)\n",
      "        8    0.000    0.000    0.000    0.000 common.py:97(is_bool_indexer)\n",
      "        4    0.000    0.000    0.000    0.000 warnings.py:181(_add_filter)\n",
      "       19    0.000    0.000    0.000    0.000 base.py:1755(is_floating)\n",
      "      3/2    0.000    0.000    0.000    0.000 transforms.py:1710(__eq__)\n",
      "        6    0.000    0.000    0.000    0.000 {pandas._libs.algos.ensure_int8}\n",
      "        1    0.000    0.000    0.000    0.000 relational.py:195(add_legend_data)\n",
      "        7    0.000    0.000    0.000    0.000 {method 'remove' of 'list' objects}\n",
      "       21    0.000    0.000    0.002    0.000 missing.py:47(isna)\n",
      "        1    0.000    0.000    0.003    0.003 _base.py:611(_init_axis)\n",
      "        7    0.000    0.000    0.000    0.000 {built-in method numpy.zeros}\n",
      "       11    0.000    0.000    0.000    0.000 nanops.py:322(_na_ok_dtype)\n",
      "        2    0.000    0.000    0.001    0.000 base.py:5235(insert)\n",
      "        1    0.000    0.000    0.001    0.001 series.py:1610(groupby)\n",
      "        6    0.000    0.000    0.001    0.000 axis.py:228(set_clip_path)\n",
      "      4/2    0.000    0.000    0.000    0.000 transforms.py:1794(transform_affine)\n",
      "       13    0.000    0.000    0.000    0.000 {method 'all' of 'numpy.ndarray' objects}\n",
      "        3    0.000    0.000    0.001    0.000 construction.py:60(arrays_to_mgr)\n",
      "        2    0.000    0.000    0.000    0.000 patches.py:722(__init__)\n",
      "       17    0.000    0.000    0.001    0.000 patches.py:791(get_patch_transform)\n",
      "        7    0.000    0.000    0.000    0.000 {method 'argsort' of 'numpy.ndarray' objects}\n",
      "        8    0.000    0.000    0.000    0.000 transforms.py:2252(blended_transform_factory)\n",
      "        8    0.000    0.000    0.000    0.000 axis.py:448(_get_text2_transform)\n",
      "        1    0.000    0.000    0.026    0.026 figure.py:1254(add_subplot)\n",
      "        2    0.000    0.000    0.002    0.001 _core.py:922(iter_data)\n",
      "       30    0.000    0.000    0.000    0.000 {built-in method torch._C.is_grad_enabled}\n",
      "        1    0.000    0.000    0.000    0.000 shutil.py:1298(get_terminal_size)\n",
      "       50    0.000    0.000    0.000    0.000 format.py:393(len)\n",
      "        1    0.000    0.000    0.001    0.001 _core.py:914(<dictcomp>)\n",
      "        2    0.000    0.000    0.005    0.003 axis.py:899(set_clip_path)\n",
      "        2    0.000    0.000    0.000    0.000 artist.py:115(remove)\n",
      "        1    0.000    0.000    0.004    0.004 _core.py:655(assign_variables)\n",
      "        1    0.000    0.000    0.000    0.000 {method 'get_labels_groupby' of 'pandas._libs.hashtable.Int64HashTable' objects}\n",
      "        8    0.000    0.000    0.000    0.000 axis.py:445(_get_text1_transform)\n",
      "        1    0.000    0.000    0.001    0.001 generic.py:3894(_drop_axis)\n",
      "       35    0.000    0.000    0.000    0.000 blocks.py:315(dtype)\n",
      "        5    0.000    0.000    0.000    0.000 __init__.py:213(process)\n",
      "        4    0.000    0.000    0.000    0.000 numeric.py:1308(normalize_axis_tuple)\n",
      "        1    0.000    0.000    0.001    0.001 backend_bases.py:3487(new_figure_manager)\n",
      "        1    0.000    0.000    0.001    0.001 base.py:1111(to_frame)\n",
      "        1    0.000    0.000    0.000    0.000 generic.py:4214(reindex)\n",
      "        2    0.000    0.000    0.000    0.000 managers.py:1238(reindex_indexer)\n",
      "       12    0.000    0.000    0.000    0.000 cycler.py:225(__iter__)\n",
      "        4    0.000    0.000    0.000    0.000 numerictypes.py:569(find_common_type)\n",
      "       10    0.000    0.000    0.000    0.000 generic.py:3180(_set_as_cached)\n",
      "       54    0.000    0.000    0.000    0.000 blocks.py:201(internal_values)\n",
      "       41    0.000    0.000    0.000    0.000 text.py:548(set_wrap)\n",
      "        8    0.000    0.000    0.000    0.000 fromnumeric.py:2714(amin)\n",
      "       10    0.000    0.000    0.000    0.000 __init__.py:60(_tensor_or_tensors_to_tuple)\n",
      "        2    0.000    0.000    0.000    0.000 multi.py:705(_set_levels)\n",
      "      2/1    0.000    0.000    0.000    0.000 transforms.py:375(bounds)\n",
      "        2    0.000    0.000    0.002    0.001 ticker.py:2274(__call__)\n",
      "        1    0.000    0.000    0.000    0.000 _base.py:621(set_figure)\n",
      "       10    0.000    0.000    0.000    0.000 fromnumeric.py:3075(ndim)\n",
      "        1    0.000    0.000    0.000    0.000 base.py:5795(_try_convert_to_int_array)\n",
      "        9    0.000    0.000    0.000    0.000 series.py:574(array)\n",
      "       16    0.000    0.000    0.000    0.000 axis.py:1567(set_major_formatter)\n",
      "       44    0.000    0.000    0.000    0.000 base.py:3870(_values)\n",
      "        1    0.000    0.000    0.000    0.000 sorting.py:541(_reorder_by_uniques)\n",
      "       18    0.000    0.000    0.000    0.000 artist.py:367(get_transform)\n",
      "       10    0.000    0.000    0.000    0.000 {built-in method builtins.sorted}\n",
      "        3    0.000    0.000    0.000    0.000 construction.py:329(_homogenize)\n",
      "        2    0.000    0.000    0.000    0.000 range.py:134(_simple_new)\n",
      "        2    0.000    0.000    0.000    0.000 numeric.py:1371(moveaxis)\n",
      "        4    0.000    0.000    0.000    0.000 base.py:1032(__iter__)\n",
      "        6    0.000    0.000    0.000    0.000 patches.py:434(set_fill)\n",
      "       48    0.000    0.000    0.000    0.000 multiarray.py:143(concatenate)\n",
      "        2    0.000    0.000    0.000    0.000 __init__.py:335(wrapper)\n",
      "        2    0.000    0.000    0.000    0.000 axis.py:1333(_get_tick_label_size)\n",
      "       20    0.000    0.000    0.000    0.000 config.py:232(__call__)\n",
      "        1    0.000    0.000    0.000    0.000 sorting.py:521(compress_group_index)\n",
      "        1    0.000    0.000    0.000    0.000 format.py:292(_get_footer)\n",
      "        1    0.000    0.000    0.001    0.001 axis.py:2257(__init__)\n",
      "        1    0.000    0.000    0.000    0.000 {built-in method matplotlib._path.update_path_extents}\n",
      "        3    0.000    0.000    0.000    0.000 _base.py:281(_getdefaults)\n",
      "       15    0.000    0.000    0.000    0.000 {method 'fill' of 'numpy.ndarray' objects}\n",
      "        3    0.000    0.000    0.000    0.000 algorithms.py:272(_check_object_for_strings)\n",
      "        1    0.000    0.000    0.000    0.000 sorting.py:496(get_group_index_sorter)\n",
      "       11    0.000    0.000    0.000    0.000 nanops.py:193(_maybe_get_mask)\n",
      "        5    0.000    0.000    0.000    0.000 series.py:750(__array__)\n",
      "        2    0.000    0.000    0.000    0.000 construction.py:726(convert)\n",
      "        2    0.000    0.000    0.000    0.000 legend.py:1115(_get_legend_handles)\n",
      "        2    0.000    0.000    0.000    0.000 _methods.py:106(_clip)\n",
      "        2    0.000    0.000    0.000    0.000 format.py:1723(_make_fixed_width)\n",
      "       62    0.000    0.000    0.000    0.000 axis.py:582(formatter)\n",
      "        8    0.000    0.000    0.000    0.000 fromnumeric.py:2589(amax)\n",
      "       19    0.000    0.000    0.000    0.000 _ufunc_config.py:429(__init__)\n",
      "        2    0.000    0.000    0.000    0.000 array_ops.py:119(na_arithmetic_op)\n",
      "        2    0.000    0.000    0.000    0.000 printing.py:166(pprint_thing)\n",
      "        1    0.000    0.000    0.000    0.000 series.py:1327(to_string)\n",
      "        1    0.000    0.000    0.000    0.000 grouper.py:413(__init__)\n",
      "       10    0.000    0.000    0.000    0.000 <__array_function__ internals>:2(ndim)\n",
      "        6    0.000    0.000    0.000    0.000 frozen.py:66(__getitem__)\n",
      "        1    0.000    0.000    0.000    0.000 generic.py:4502(_reindex_with_indexers)\n",
      "        1    0.000    0.000    0.000    0.000 {pandas._libs.algos.groupsort_indexer}\n",
      "        7    0.000    0.000    0.000    0.000 managers.py:138(<listcomp>)\n",
      "       28    0.000    0.000    0.000    0.000 __init__.py:857(<listcomp>)\n",
      "        6    0.000    0.000    0.000    0.000 weakref.py:51(_cb)\n",
      "        1    0.000    0.000    0.000    0.000 shape_base.py:1171(tile)\n",
      "       11    0.000    0.000    0.000    0.000 common.py:274(maybe_iterable_to_list)\n",
      "        2    0.000    0.000    0.000    0.000 base.py:5648(default_index)\n",
      "        2    0.000    0.000    0.000    0.000 multi.py:1314(_set_names)\n",
      "        6    0.000    0.000    0.001    0.000 generic.py:7127(notna)\n",
      "        1    0.000    0.000    0.000    0.000 indexers.py:210(maybe_convert_indices)\n",
      "        6    0.000    0.000    0.000    0.000 dtypes.py:312(_finalize)\n",
      "        2    0.000    0.000    0.000    0.000 blocks.py:1238(take_nd)\n",
      "        6    0.000    0.000    0.000    0.000 managers.py:684(<listcomp>)\n",
      "        5    0.000    0.000    0.000    0.000 {built-in method builtins.min}\n",
      "       11    0.000    0.000    0.000    0.000 base.py:669(size)\n",
      "       20    0.000    0.000    0.000    0.000 format.py:1745(just)\n",
      "        4    0.000    0.000    0.000    0.000 categorical.py:631(codes)\n",
      "        6    0.000    0.000    0.001    0.000 series.py:4801(notna)\n",
      "        1    0.000    0.000    0.000    0.000 generic.py:5558(copy)\n",
      "       14    0.000    0.000    0.000    0.000 managers.py:163(blknos)\n",
      "        1    0.000    0.000    0.000    0.000 transforms.py:849(update_from_path)\n",
      "        1    0.000    0.000    0.000    0.000 figure.py:1784(clf)\n",
      "        2    0.000    0.000    0.000    0.000 dtypes.py:502(update_dtype)\n",
      "        1    0.000    0.000    0.000    0.000 multi.py:1896(__getitem__)\n",
      "        2    0.000    0.000    0.000    0.000 _base.py:4038(get_children)\n",
      "       11    0.000    0.000    0.000    0.000 marl_agents.py:98(<genexpr>)\n",
      "        2    0.000    0.000    0.000    0.000 {method 'sum' of 'numpy.ndarray' objects}\n",
      "       43    0.000    0.000    0.000    0.000 {pandas._libs.lib.is_float}\n",
      "       27    0.000    0.000    0.000    0.000 transforms.py:971(get_points)\n",
      "        2    0.000    0.000    0.000    0.000 expressions.py:61(_evaluate_standard)\n",
      "        1    0.000    0.000    0.000    0.000 gridspec.py:644(_from_subplot_args)\n",
      "        3    0.000    0.000    0.000    0.000 printing.py:69(<listcomp>)\n",
      "        2    0.000    0.000    0.000    0.000 frame.py:3698(_sanitize_column)\n",
      "        1    0.000    0.000    0.000    0.000 construction.py:143(init_ndarray)\n",
      "        4    0.000    0.000    0.000    0.000 artist.py:1008(set_label)\n",
      "        1    0.000    0.000    0.000    0.000 _base.py:1195(_set_title_offset_trans)\n",
      "       16    0.000    0.000    0.000    0.000 axis.py:1593(set_minor_formatter)\n",
      "        2    0.000    0.000    0.000    0.000 arraysetops.py:612(isin)\n",
      "       35    0.000    0.000    0.000    0.000 {method 'setdefault' of 'dict' objects}\n",
      "        9    0.000    0.000    0.000    0.000 common.py:608(is_dtype_equal)\n",
      "        2    0.000    0.000    0.000    0.000 warnings.py:130(filterwarnings)\n",
      "       16    0.000    0.000    0.000    0.000 shape_base.py:219(_vhstack_dispatcher)\n",
      "        5    0.000    0.000    0.000    0.000 _asarray.py:298(<setcomp>)\n",
      "        5    0.000    0.000    0.000    0.000 common.py:1223(is_numeric_dtype)\n",
      "       13    0.000    0.000    0.000    0.000 common.py:595(condition)\n",
      "        6    0.000    0.000    0.000    0.000 multi.py:686(__len__)\n",
      "       10    0.000    0.000    0.000    0.000 blocks.py:319(iget)\n",
      "        2    0.000    0.000    0.000    0.000 transforms.py:946(intervaly)\n",
      "        6    0.000    0.000    0.000    0.000 ticker.py:1754(nonsingular)\n",
      "        1    0.000    0.000    0.000    0.000 figure.py:106(add)\n",
      "       17    0.000    0.000    0.000    0.000 {built-in method math.cos}\n",
      "        1    0.000    0.000    0.000    0.000 _base.py:2496(<listcomp>)\n",
      "        9    0.000    0.000    0.000    0.000 numpy_.py:50(__init__)\n",
      "        2    0.000    0.000    0.000    0.000 range.py:153(_data)\n",
      "        3    0.000    0.000    0.001    0.000 generic.py:7190(notnull)\n",
      "        1    0.000    0.000    0.001    0.001 frame.py:6835(stack)\n",
      "       20    0.000    0.000    0.000    0.000 fromnumeric.py:3265(_mean_dispatcher)\n",
      "       20    0.000    0.000    0.000    0.000 config.py:598(_translate_key)\n",
      "       20    0.000    0.000    0.000    0.000 config.py:610(_warn_if_deprecated)\n",
      "        9    0.000    0.000    0.000    0.000 cast.py:1593(construct_1d_ndarray_preserving_na)\n",
      "       11    0.000    0.000    0.000    0.000 patches.py:328(set_edgecolor)\n",
      "        3    0.000    0.000    0.001    0.000 _base.py:418(<listcomp>)\n",
      "        1    0.000    0.000    0.000    0.000 _core.py:617(get_semantics)\n",
      "        4    0.000    0.000    0.000    0.000 warnings.py:437(__init__)\n",
      "        3    0.000    0.000    0.000    0.000 algorithms.py:178(_reconstruct_data)\n",
      "       22    0.000    0.000    0.000    0.000 format.py:1736(<genexpr>)\n",
      "        2    0.000    0.000    0.000    0.000 axis.py:1208(<listcomp>)\n",
      "      6/2    0.000    0.000    0.000    0.000 typing.py:720(__hash__)\n",
      "        2    0.000    0.000    0.000    0.000 numeric.py:268(full)\n",
      "        1    0.000    0.000    0.000    0.000 copy.py:66(copy)\n",
      "        8    0.000    0.000    0.000    0.000 <__array_function__ internals>:2(amin)\n",
      "        4    0.000    0.000    0.000    0.000 warnings.py:477(__exit__)\n",
      "        8    0.000    0.000    0.000    0.000 <__array_function__ internals>:2(amax)\n",
      "        1    0.000    0.000    0.000    0.000 inference.py:391(is_dataclass)\n",
      "        4    0.000    0.000    0.000    0.000 multi.py:3679(_coerce_indexer_frozen)\n",
      "        2    0.000    0.000    0.000    0.000 series.py:2728(_construct_result)\n",
      "       34    0.000    0.000    0.000    0.000 markers.py:274(get_marker)\n",
      "        2    0.000    0.000    0.000    0.000 _base.py:2525(<listcomp>)\n",
      "        2    0.000    0.000    0.000    0.000 base.py:3980(_coerce_scalar_to_index)\n",
      "        1    0.000    0.000    0.000    0.000 format.py:350(to_string)\n",
      "        2    0.000    0.000    0.000    0.000 {method 'cumsum' of 'numpy.ndarray' objects}\n",
      "        1    0.000    0.000    0.000    0.000 managers.py:1427(take)\n",
      "        4    0.000    0.000    0.000    0.000 managers.py:1609(external_values)\n",
      "        1    0.000    0.000    0.000    0.000 _axes.py:256(set_ylabel)\n",
      "       13    0.000    0.000    0.000    0.000 _methods.py:56(_all)\n",
      "       11    0.000    0.000    0.000    0.000 patches.py:346(set_facecolor)\n",
      "        1    0.000    0.000    0.000    0.000 backend_bases.py:2688(__init__)\n",
      "        2    0.000    0.000    0.000    0.000 _base.py:852(_update_transScale)\n",
      "       20    0.000    0.000    0.000    0.000 config.py:539(_select_options)\n",
      "        1    0.000    0.000    0.000    0.000 api.py:161(union_indexes)\n",
      "       12    0.000    0.000    0.000    0.000 cycler.py:138(keys)\n",
      "        4    0.000    0.000    0.000    0.000 axis.py:763(limit_range_for_scale)\n",
      "        4    0.000    0.000    0.000    0.000 {method 'searchsorted' of 'numpy.ndarray' objects}\n",
      "        2    0.000    0.000    0.000    0.000 generic.py:1477(_check_label_or_level_ambiguity)\n",
      "        2    0.000    0.000    0.001    0.001 frame.py:3606(insert)\n",
      "        5    0.000    0.000    0.001    0.000 _base.py:997(<genexpr>)\n",
      "        1    0.000    0.000    0.000    0.000 groupby.py:1424(std)\n",
      "        6    0.000    0.000    0.000    0.000 transforms.py:339(intervalx)\n",
      "        2    0.000    0.000    0.025    0.012 axis.py:1205(get_majorticklabels)\n",
      "        2    0.000    0.000    0.002    0.001 axis.py:1281(get_majorticklocs)\n",
      "        2    0.000    0.000    0.000    0.000 shape_base.py:82(atleast_2d)\n",
      "        8    0.000    0.000    0.000    0.000 base.py:520(is_)\n",
      "       16    0.000    0.000    0.000    0.000 managers.py:216(ndim)\n",
      "       10    0.000    0.000    0.000    0.000 managers.py:323(<genexpr>)\n",
      "        1    0.000    0.000    0.000    0.000 construction.py:498(to_arrays)\n",
      "       18    0.000    0.000    0.000    0.000 {pandas._libs.algos.ensure_int64}\n",
      "        1    0.000    0.000    0.000    0.000 base.py:931(_format_with_header)\n",
      "        5    0.000    0.000    0.000    0.000 base.py:2000(inferred_type)\n",
      "        2    0.000    0.000    0.001    0.000 generic.py:370(_wrap_aggregated_output)\n",
      "       17    0.000    0.000    0.000    0.000 generic.py:232(attrs)\n",
      "       10    0.000    0.000    0.000    0.000 managers.py:675(is_consolidated)\n",
      "        2    0.000    0.000    0.000    0.000 format.py:1751(<listcomp>)\n",
      "        6    0.000    0.000    0.000    0.000 transforms.py:348(intervaly)\n",
      "        1    0.000    0.000    0.000    0.000 figure.py:163(__init__)\n",
      "        2    0.000    0.000    0.000    0.000 multi.py:870(_set_codes)\n",
      "       30    0.000    0.000    0.000    0.000 __init__.py:807(<listcomp>)\n",
      "       16    0.000    0.000    0.000    0.000 ticker.py:549(set_useOffset)\n",
      "        1    0.000    0.000    0.000    0.000 _axes.py:203(set_xlabel)\n",
      "        3    0.000    0.000    0.000    0.000 _base.py:221(<listcomp>)\n",
      "        1    0.000    0.000    0.001    0.001 _core.py:673(<dictcomp>)\n",
      "        1    0.000    0.000    0.001    0.001 generic.py:3858(drop)\n",
      "        1    0.000    0.000    0.000    0.000 ops.py:305(result_index)\n",
      "        6    0.000    0.000    0.000    0.000 patches.py:472(set_joinstyle)\n",
      "        1    0.000    0.000    0.000    0.000 legend.py:675(get_legend_handler)\n",
      "        6    0.000    0.000    0.000    0.000 multi.py:880(<genexpr>)\n",
      "      3/2    0.000    0.000    0.000    0.000 transforms.py:2527(get_matrix)\n",
      "        2    0.000    0.000    0.000    0.000 numeric.py:75(zeros_like)\n",
      "        9    0.000    0.000    0.000    0.000 {built-in method _abc._abc_subclasscheck}\n",
      "        1    0.000    0.000    0.000    0.000 cast.py:300(maybe_cast_result_dtype)\n",
      "       12    0.000    0.000    0.000    0.000 base.py:3896(_get_engine_target)\n",
      "        2    0.000    0.000    0.000    0.000 generic.py:1424(_is_label_reference)\n",
      "        1    0.000    0.000    0.000    0.000 format.py:231(__init__)\n",
      "        1    0.000    0.000    0.000    0.000 construction.py:651(_validate_or_indexify_columns)\n",
      "       20    0.000    0.000    0.000    0.000 cycler.py:371(<genexpr>)\n",
      "      6/2    0.000    0.000    0.001    0.001 _base.py:649(viewLim)\n",
      "        1    0.000    0.000    0.000    0.000 _base.py:3433(set_ybound)\n",
      "        8    0.000    0.000    0.000    0.000 {method 'clear' of 'dict' objects}\n",
      "       12    0.000    0.000    0.000    0.000 {method 'join' of 'str' objects}\n",
      "        1    0.000    0.000    0.001    0.001 pyplot.py:736(gcf)\n",
      "        1    0.000    0.000    0.000    0.000 _subplots.py:95(update_params)\n",
      "       36    0.000    0.000    0.000    0.000 {built-in method builtins.abs}\n",
      "       20    0.000    0.000    0.000    0.000 {built-in method torch._C._set_grad_enabled}\n",
      "        6    0.000    0.000    0.000    0.000 cast.py:856(coerce_indexer_dtype)\n",
      "        5    0.000    0.000    0.000    0.000 generic.py:377(_get_axis)\n",
      "      4/3    0.000    0.000    0.000    0.000 transforms.py:2305(_invalidate_internal)\n",
      "        1    0.000    0.000    0.000    0.000 gridspec.py:370(__init__)\n",
      "        5    0.000    0.000    0.000    0.000 {method 'nonzero' of 'numpy.ndarray' objects}\n",
      "       25    0.000    0.000    0.000    0.000 base.py:1175(name)\n",
      "        9    0.000    0.000    0.000    0.000 {method 'transpose' of 'numpy.ndarray' objects}\n",
      "        2    0.000    0.000    0.000    0.000 figure.py:65(as_list)\n",
      "        1    0.000    0.000    0.000    0.000 _base.py:2502(<listcomp>)\n",
      "        1    0.000    0.000    0.000    0.000 _base.py:2815(set_axisbelow)\n",
      "        1    0.000    0.000   77.541   77.541 <string>:1(<module>)\n",
      "        2    0.000    0.000    0.000    0.000 os.py:670(__getitem__)\n",
      "       13    0.000    0.000    0.000    0.000 {method 'startswith' of 'str' objects}\n",
      "        3    0.000    0.000    0.000    0.000 __init__.py:111(_maybe_match_name)\n",
      "        6    0.000    0.000    0.000    0.000 multi.py:720(<genexpr>)\n",
      "        3    0.000    0.000    0.001    0.000 series.py:4805(notnull)\n",
      "        1    0.000    0.000    0.000    0.000 _base.py:1432(set_box_aspect)\n",
      "        2    0.000    0.000    0.000    0.000 axis.py:942(get_inverted)\n",
      "        2    0.000    0.000    0.000    0.000 axis.py:1546(set_label_text)\n",
      "        4    0.000    0.000    0.001    0.000 spines.py:221(register_axis)\n",
      "        2    0.000    0.000    0.000    0.000 {built-in method _operator.invert}\n",
      "        5    0.000    0.000    0.000    0.000 {built-in method builtins.sum}\n",
      "        2    0.000    0.000    0.000    0.000 array_ops.py:429(maybe_upcast_for_op)\n",
      "        5    0.000    0.000    0.000    0.000 managers.py:1846(_asarray_compat)\n",
      "        1    0.000    0.000    0.000    0.000 ops.py:366(_get_cython_function)\n",
      "        1    0.000    0.000    0.000    0.000 numeric.py:2317(array_equal)\n",
      "       20    0.000    0.000    0.000    0.000 {method 'split' of 'str' objects}\n",
      "       23    0.000    0.000    0.000    0.000 {pandas._libs.lib.item_from_zerodim}\n",
      "        4    0.000    0.000    0.000    0.000 blocks.py:2728(_extend_blocks)\n",
      "        8    0.000    0.000    0.000    0.000 managers.py:977(_consolidate_inplace)\n",
      "        3    0.000    0.000    0.000    0.000 format.py:442(_get_adjustment)\n",
      "        4    0.000    0.000    0.000    0.000 ticker.py:2059(closeto)\n",
      "        6    0.000    0.000    0.000    0.000 axis.py:747(get_transform)\n",
      "        5    0.000    0.000    0.000    0.000 numpy_.py:210(__array__)\n",
      "        1    0.000    0.000    0.001    0.001 pyplot.py:312(new_figure_manager)\n",
      "      4/2    0.000    0.000    0.001    0.001 axis.py:1941(getter)\n",
      "        1    0.000    0.000    0.000    0.000 {pandas._libs.algos.take_2d_axis0_float64_float64}\n",
      "       10    0.000    0.000    0.000    0.000 inference.py:185(is_array_like)\n",
      "        2    0.000    0.000    0.000    0.000 common.py:50(new_method)\n",
      "        1    0.000    0.000    0.000    0.000 sorting.py:182(indexer_from_factorized)\n",
      "        7    0.000    0.000    0.000    0.000 backend_bases.py:2278(mpl_connect)\n",
      "        2    0.000    0.000    0.000    0.000 _base.py:2528(<listcomp>)\n",
      "        6    0.000    0.000    0.000    0.000 scale.py:118(get_transform)\n",
      "        2    0.000    0.000    0.000    0.000 typing.py:255(inner)\n",
      "        2    0.000    0.000    0.000    0.000 cast.py:1528(construct_1d_arraylike_from_scalar)\n",
      "        6    0.000    0.000    0.000    0.000 base.py:66(_reset_cache)\n",
      "        4    0.000    0.000    0.000    0.000 generic.py:165(_iterate_slices)\n",
      "        2    0.000    0.000    0.000    0.000 __init__.py:2128(discard)\n",
      "        2    0.000    0.000    0.000    0.000 transforms.py:1671(set)\n",
      "        1    0.000    0.000    0.000    0.000 backend_inline.py:59(draw_if_interactive)\n",
      "       17    0.000    0.000    0.000    0.000 {built-in method math.sin}\n",
      "        2    0.000    0.000    0.000    0.000 printing.py:197(as_escaped_string)\n",
      "        1    0.000    0.000    0.000    0.000 numeric.py:164(_union)\n",
      "        2    0.000    0.000    0.000    0.000 format.py:1209(get_result)\n",
      "        1    0.000    0.000    0.000    0.000 _base.py:3144(set_xbound)\n",
      "        6    0.000    0.000    0.000    0.000 axis.py:1359(get_major_locator)\n",
      "        3    0.000    0.000    0.000    0.000 algorithms.py:263(_get_data_algo)\n",
      "        1    0.000    0.000    0.000    0.000 base.py:2487(union)\n",
      "        2    0.000    0.000    0.000    0.000 __init__.py:580(push)\n",
      "        1    0.000    0.000    0.000    0.000 __init__.py:610(bubble)\n",
      "       33    0.000    0.000    0.000    0.000 markers.py:249(get_fillstyle)\n",
      "        2    0.000    0.000    0.000    0.000 ticker.py:2295(view_limits)\n",
      "        1    0.000    0.000    0.000    0.000 gridspec.py:480(get_subplot_params)\n",
      "        5    0.000    0.000    0.000    0.000 <__array_function__ internals>:2(can_cast)\n",
      "        2    0.000    0.000    0.000    0.000 function_base.py:4616(append)\n",
      "       10    0.000    0.000    0.000    0.000 {method 'numel' of 'torch._C._TensorBase' objects}\n",
      "       12    0.000    0.000    0.000    0.000 base.py:424(<genexpr>)\n",
      "        1    0.000    0.000    0.000    0.000 generic.py:334(_construct_axes_from_arguments)\n",
      "        1    0.000    0.000    0.000    0.000 generic.py:5350(dtypes)\n",
      "       34    0.000    0.000    0.000    0.000 artist.py:792(get_visible)\n",
      "        1    0.000    0.000    0.000    0.000 figure.py:1406(_add_axes_internal)\n",
      "        1    0.000    0.000    0.001    0.001 _base.py:982(_gen_axes_spines)\n",
      "        4    0.000    0.000    0.000    0.000 {method 'take' of 'numpy.ndarray' objects}\n",
      "        4    0.000    0.000    0.000    0.000 numeric.py:105(_shallow_copy)\n",
      "        1    0.000    0.000    0.000    0.000 format.py:263(_chk_truncate)\n",
      "        2    0.000    0.000    0.000    0.000 warnings.py:165(simplefilter)\n",
      "        6    0.000    0.000    0.000    0.000 dtypes.py:163(__init__)\n",
      "        1    0.000    0.000    0.000    0.000 managers.py:1284(<listcomp>)\n",
      "        1    0.000    0.000    0.000    0.000 figure.py:488(set_constrained_layout)\n",
      "        2    0.000    0.000    0.000    0.000 fromnumeric.py:839(sort)\n",
      "        4    0.000    0.000    0.000    0.000 common.py:150(ensure_python_int)\n",
      "        2    0.000    0.000    0.000    0.000 sorting.py:64(maybe_lift)\n",
      "       30    0.000    0.000    0.000    0.000 ticker.py:291(_set_locator)\n",
      "        8    0.000    0.000    0.000    0.000 {built-in method pandas._libs.missing.checknull}\n",
      "        1    0.000    0.000    0.000    0.000 base.py:3291(reindex)\n",
      "        2    0.000    0.000    0.000    0.000 generic.py:3250(_clear_item_cache)\n",
      "        3    0.000    0.000    0.000    0.000 generic.py:5197(_protect_consolidate)\n",
      "        1    0.000    0.000    0.000    0.000 frame.py:4013(reindex)\n",
      "       20    0.000    0.000    0.000    0.000 __init__.py:1610(<lambda>)\n",
      "        6    0.000    0.000    0.000    0.000 __init__.py:1674(sanitize_sequence)\n",
      "        2    0.000    0.000    0.000    0.000 _base.py:198(set_prop_cycle)\n",
      "        2    0.000    0.000    0.000    0.000 axis.py:1209(<listcomp>)\n",
      "        2    0.000    0.000    0.000    0.000 frame.py:3718(reindexer)\n",
      "        1    0.000    0.000    0.001    0.001 grouper.py:743(is_in_axis)\n",
      "        2    0.000    0.000    0.000    0.000 transforms.py:309(xmin)\n",
      "      4/2    0.000    0.000    0.000    0.000 transforms.py:2333(<lambda>)\n",
      "        3    0.000    0.000    0.000    0.000 text.py:529(set_clip_box)\n",
      "        2    0.000    0.000    0.000    0.000 expressions.py:217(evaluate)\n",
      "        9    0.000    0.000    0.000    0.000 abc.py:100(__subclasscheck__)\n",
      "        4    0.000    0.000    0.000    0.000 numpy_.py:414(to_numpy)\n",
      "        1    0.000    0.000    0.000    0.000 managers.py:806(as_array)\n",
      "        1    0.000    0.000    0.001    0.001 frame.py:4034(drop)\n",
      "      4/2    0.000    0.000    0.000    0.000 transforms.py:1715(transform)\n",
      "        2    0.000    0.000    0.000    0.000 ticker.py:2069(le)\n",
      "        7    0.000    0.000    0.000    0.000 patches.py:300(set_antialiased)\n",
      "        2    0.000    0.000    0.000    0.000 fromnumeric.py:2033(clip)\n",
      "        1    0.000    0.000    0.000    0.000 {pandas._libs.algos.take_1d_object_object}\n",
      "       11    0.000    0.000    0.000    0.000 function.py:48(__call__)\n",
      "        1    0.000    0.000    0.000    0.000 series.py:868(__getitem__)\n",
      "        2    0.000    0.000    0.000    0.000 transforms.py:319(xmax)\n",
      "        2    0.000    0.000    0.000    0.000 figure.py:752(set_canvas)\n",
      "       17    0.000    0.000    0.000    0.000 axis.py:145(<dictcomp>)\n",
      "        3    0.000    0.000    0.000    0.000 inference.py:360(is_sequence)\n",
      "        1    0.000    0.000    0.000    0.000 cast.py:257(maybe_cast_result)\n",
      "        1    0.000    0.000    0.000    0.000 frame.py:3904(_reindex_columns)\n",
      "        1    0.000    0.000    0.000    0.000 transforms.py:2569(__init__)\n",
      "        1    0.000    0.000    0.000    0.000 _core.py:629(has_xy_data)\n",
      "       23    0.000    0.000    0.000    0.000 {pandas._libs.lib.is_iterator}\n",
      "        1    0.000    0.000    0.000    0.000 {pandas._libs.algos.take_2d_axis0_int64_int64}\n",
      "        2    0.000    0.000    0.000    0.000 common.py:190(all_none)\n",
      "        3    0.000    0.000    0.000    0.000 __init__.py:88(get_op_result_name)\n",
      "        2    0.000    0.000    0.000    0.000 managers.py:1553(from_blocks)\n",
      "        1    0.000    0.000    0.000    0.000 grouper.py:581(_make_codes)\n",
      "        2    0.000    0.000    0.000    0.000 transforms.py:1629(__init__)\n",
      "        2    0.000    0.000    0.000    0.000 ticker.py:2048(__init__)\n",
      "        1    0.000    0.000    0.000    0.000 backend_bases.py:3496(new_figure_manager_given_figure)\n",
      "        1    0.000    0.000    0.000    0.000 _pylab_helpers.py:111(_set_new_active_manager)\n",
      "        1    0.000    0.000    0.000    0.000 legend.py:1145(_get_legend_handles_labels)\n",
      "        1    0.000    0.000    0.000    0.000 _base.py:3465(get_ylim)\n",
      "       17    0.000    0.000    0.000    0.000 multiarray.py:706(dot)\n",
      "        2    0.000    0.000    0.000    0.000 _methods.py:45(_sum)\n",
      "        6    0.000    0.000    0.000    0.000 numeric.py:81(_validate_dtype)\n",
      "        1    0.000    0.000    0.000    0.000 generic.py:562(_set_axis)\n",
      "        4    0.000    0.000    0.000    0.000 generic.py:1450(<genexpr>)\n",
      "       16    0.000    0.000    0.000    0.000 ticker.py:621(set_useMathText)\n",
      "        1    0.000    0.000    0.000    0.000 gridspec.py:207(__getitem__)\n",
      "        1    0.000    0.000    0.000    0.000 cast.py:1628(maybe_cast_to_integer_array)\n",
      "        2    0.000    0.000    0.000    0.000 blocks.py:350(_split_op_result)\n",
      "        1    0.000    0.000    0.000    0.000 managers.py:1651(create_block_manager_from_blocks)\n",
      "        4    0.000    0.000    0.000    0.000 format.py:396(justify)\n",
      "        1    0.000    0.000    0.027    0.027 pyplot.py:2366(gca)\n",
      "        1    0.000    0.000    0.000    0.000 figure.py:1086(_process_projection_requirements)\n",
      "       19    0.000    0.000    0.000    0.000 fromnumeric.py:194(_reshape_dispatcher)\n",
      "        2    0.000    0.000    0.000    0.000 <__array_function__ internals>:2(in1d)\n",
      "       17    0.000    0.000    0.000    0.000 {built-in method math.radians}\n",
      "        3    0.000    0.000    0.000    0.000 generic.py:372(_get_axis_name)\n",
      "        2    0.000    0.000    0.000    0.000 generic.py:1719(__contains__)\n",
      "        1    0.000    0.000    0.000    0.000 rcsetup.py:150(validate_bool)\n",
      "        1    0.000    0.000    0.000    0.000 figure.py:61(__init__)\n",
      "        2    0.000    0.000    0.000    0.000 <__array_function__ internals>:2(isin)\n",
      "        2    0.000    0.000    0.000    0.000 missing.py:516(na_value_for_dtype)\n",
      "        2    0.000    0.000    0.000    0.000 nanops.py:433(nanall)\n",
      "       20    0.000    0.000    0.000    0.000 numeric.py:150(is_all_dates)\n",
      "       13    0.000    0.000    0.000    0.000 managers.py:179(blklocs)\n",
      "        5    0.000    0.000    0.000    0.000 managers.py:1852(_shape_compat)\n",
      "        1    0.000    0.000    0.000    0.000 transforms.py:1327(contains_branch_seperately)\n",
      "        1    0.000    0.000    0.000    0.000 gridspec.py:32(__init__)\n",
      "        2    0.000    0.000    0.000    0.000 dtypes.py:186(_from_values_or_dtype)\n",
      "       17    0.000    0.000    0.000    0.000 series.py:381(_constructor)\n",
      "        4    0.000    0.000    0.000    0.000 series.py:498(values)\n",
      "        1    0.000    0.000    0.000    0.000 format.py:399(adjoin)\n",
      "        1    0.000    0.000    0.000    0.000 figure.py:1075(fixlist)\n",
      "        8    0.000    0.000    0.000    0.000 axis.py:750(get_scale)\n",
      "       16    0.000    0.000    0.000    0.000 scale.py:44(__init__)\n",
      "        4    0.000    0.000    0.000    0.000 _methods.py:82(_clip_dep_is_byte_swapped)\n",
      "        1    0.000    0.000    0.000    0.000 {built-in method builtins.locals}\n",
      "        2    0.000    0.000    0.000    0.000 {method 'clip' of 'numpy.ndarray' objects}\n",
      "        4    0.000    0.000    0.000    0.000 array_ops.py:404(maybe_upcast_datetimelike_array)\n",
      "        2    0.000    0.000    0.000    0.000 sorting.py:392(ensure_key_mapped)\n",
      "       21    0.000    0.000    0.000    0.000 base.py:1378(nlevels)\n",
      "        1    0.000    0.000    0.000    0.000 printing.py:73(<listcomp>)\n",
      "        4    0.000    0.000    0.000    0.000 printing.py:64(justify)\n",
      "        3    0.000    0.000    0.000    0.000 managers.py:156(from_blocks)\n",
      "        1    0.000    0.000    0.000    0.000 managers.py:777(copy)\n",
      "        2    0.000    0.000    0.000    0.000 reshape.py:482(factorize)\n",
      "       12    0.000    0.000    0.000    0.000 _base.py:638(<genexpr>)\n",
      "       12    0.000    0.000    0.000    0.000 axis.py:1526(set_units)\n",
      "       30    0.000    0.000    0.000    0.000 {method 'ljust' of 'str' objects}\n",
      "        2    0.000    0.000    0.000    0.000 __init__.py:307(_align_method_SERIES)\n",
      "        2    0.000    0.000    0.000    0.000 base.py:1182(name)\n",
      "        1    0.000    0.000    0.000    0.000 multi.py:692(levels)\n",
      "        6    0.000    0.000    0.000    0.000 range.py:320(dtype)\n",
      "        2    0.000    0.000    0.000    0.000 generic.py:3369(xs)\n",
      "        1    0.000    0.000    0.000    0.000 frame.py:3867(_reindex_axes)\n",
      "       14    0.000    0.000    0.000    0.000 transforms.py:2051(get_matrix)\n",
      "      3/2    0.000    0.000    0.000    0.000 transforms.py:2320(__eq__)\n",
      "        3    0.000    0.000    0.000    0.000 <__array_function__ internals>:2(all)\n",
      "       20    0.000    0.000    0.000    0.000 stride_tricks.py:200(_broadcast_arrays_dispatcher)\n",
      "        2    0.000    0.000    0.000    0.000 base.py:4717(_maybe_promote)\n",
      "        1    0.000    0.000    0.000    0.000 generic.py:1667(__hash__)\n",
      "        1    0.000    0.000    0.000    0.000 managers.py:263(get_dtypes)\n",
      "        1    0.000    0.000    0.000    0.000 figure.py:519(set_constrained_layout_pads)\n",
      "        2    0.000    0.000    0.000    0.000 figure.py:73(get)\n",
      "       14    0.000    0.000    0.000    0.000 axis.py:381(<dictcomp>)\n",
      "        2    0.000    0.000    0.000    0.000 axis.py:2214(get_minpos)\n",
      "        4    0.000    0.000    0.001    0.000 spines.py:234(cla)\n",
      "        6    0.000    0.000    0.000    0.000 _core.py:41(__init__)\n",
      "        1    0.000    0.000    0.000    0.000 copy.py:258(_reconstruct)\n",
      "        2    0.000    0.000    0.000    0.000 <__array_function__ internals>:2(clip)\n",
      "        2    0.000    0.000    0.000    0.000 base.py:2048(hasnans)\n",
      "        1    0.000    0.000    0.000    0.000 range.py:557(_union)\n",
      "        4    0.000    0.000    0.000    0.000 managers.py:306(__len__)\n",
      "        9    0.000    0.000    0.000    0.000 managers.py:1680(<genexpr>)\n",
      "        1    0.000    0.000    0.000    0.000 format.py:331(_get_formatted_index)\n",
      "        2    0.000    0.000    0.000    0.000 format.py:1183(__init__)\n",
      "        2    0.000    0.000    0.000    0.000 construction.py:274(<listcomp>)\n",
      "        2    0.000    0.000    0.000    0.000 __init__.py:798(__init__)\n",
      "        2    0.000    0.000    0.000    0.000 transforms.py:314(ymin)\n",
      "        2    0.000    0.000    0.000    0.000 ticker.py:2076(ge)\n",
      "        1    0.000    0.000    0.000    0.000 figure.py:462(set_tight_layout)\n",
      "        1    0.000    0.000    0.026    0.026 figure.py:2021(gca)\n",
      "        1    0.000    0.000    0.000    0.000 _base.py:3176(get_xlim)\n",
      "       14    0.000    0.000    0.000    0.000 axis.py:392(<dictcomp>)\n",
      "        4    0.000    0.000    0.000    0.000 axis.py:980(_set_artist_props)\n",
      "        9    0.000    0.000    0.000    0.000 {method 'copy' of 'dict' objects}\n",
      "        1    0.000    0.000    0.000    0.000 {method '__reduce_ex__' of 'object' objects}\n",
      "        8    0.000    0.000    0.000    0.000 {method 'view' of 'numpy.ndarray' objects}\n",
      "        1    0.000    0.000    0.000    0.000 api.py:233(_sanitize_and_check)\n",
      "        4    0.000    0.000    0.000    0.000 range.py:452(equals)\n",
      "        2    0.000    0.000    0.000    0.000 generic.py:5211(f)\n",
      "        2    0.000    0.000    0.000    0.000 blocks.py:244(make_block)\n",
      "        1    0.000    0.000    0.000    0.000 managers.py:2015(_preprocess_slice_or_indexer)\n",
      "        2    0.000    0.000    0.000    0.000 format.py:1444(_format_strings)\n",
      "        1    0.000    0.000    0.000    0.000 frame.py:5280(<listcomp>)\n",
      "        2    0.000    0.000    0.000    0.000 transforms.py:324(ymax)\n",
      "        6    0.000    0.000    0.000    0.000 patches.py:488(set_hatch)\n",
      "        2    0.000    0.000    0.000    0.000 axis.py:2499(get_minpos)\n",
      "        2    0.000    0.000    0.000    0.000 <__array_function__ internals>:2(zeros_like)\n",
      "       16    0.000    0.000    0.000    0.000 function_base.py:1148(_diff_dispatcher)\n",
      "       14    0.000    0.000    0.000    0.000 {pandas._libs.algos.ensure_platform_int}\n",
      "        2    0.000    0.000    0.000    0.000 missing.py:358(array_equivalent)\n",
      "        3    0.000    0.000    0.000    0.000 algorithms.py:255(_get_values_for_rank)\n",
      "        1    0.000    0.000    0.000    0.000 _validators.py:218(validate_axis_style_args)\n",
      "       11    0.000    0.000    0.000    0.000 nanops.py:168(_get_fill_value)\n",
      "        2    0.000    0.000    0.000    0.000 base.py:492(_get_attributes_dict)\n",
      "        1    0.000    0.000    0.000    0.000 base.py:5633(trim_front)\n",
      "        1    0.000    0.000    0.000    0.000 groupby.py:1449(<lambda>)\n",
      "        1    0.000    0.000    0.000    0.000 ops.py:286(_get_compressed_codes)\n",
      "        1    0.000    0.000    0.000    0.000 grouper.py:756(is_in_obj)\n",
      "        2    0.000    0.000    0.000    0.000 transforms.py:1638(_init)\n",
      "        4    0.000    0.000    0.000    0.000 axis.py:1506(have_units)\n",
      "        2    0.000    0.000    0.000    0.000 fromnumeric.py:1705(ravel)\n",
      "        8    0.000    0.000    0.000    0.000 {pandas._libs.algos.ensure_object}\n",
      "        1    0.000    0.000    0.000    0.000 base.py:1246(set_names)\n",
      "       12    0.000    0.000    0.000    0.000 managers.py:259(items)\n",
      "        5    0.000    0.000    0.000    0.000 managers.py:1830(<lambda>)\n",
      "        1    0.000    0.000    0.000    0.000 ops.py:88(__init__)\n",
      "        1    0.000    0.000    0.001    0.001 ops.py:581(aggregate)\n",
      "        1    0.000    0.000    0.000    0.000 transforms.py:1308(contains_branch)\n",
      "        1    0.000    0.000    0.000    0.000 figure.py:2015(_set_artist_props)\n",
      "        2    0.000    0.000    0.000    0.000 <__array_function__ internals>:2(empty_like)\n",
      "       20    0.000    0.000    0.000    0.000 shape_base.py:20(_atleast_1d_dispatcher)\n",
      "        3    0.000    0.000    0.000    0.000 fromnumeric.py:2337(all)\n",
      "        1    0.000    0.000    0.000    0.000 base.py:701(take)\n",
      "        1    0.000    0.000    0.000    0.000 base.py:5204(delete)\n",
      "        1    0.000    0.000    0.001    0.001 generic.py:228(aggregate)\n",
      "        1    0.000    0.000    0.000    0.000 numeric.py:426(is_unique)\n",
      "        1    0.000    0.000    0.000    0.000 transforms.py:806(from_bounds)\n",
      "        4    0.000    0.000    0.000    0.000 transforms.py:2055(transform)\n",
      "        3    0.000    0.000    0.000    0.000 text.py:522(_update_clip_properties)\n",
      "        2    0.000    0.000    0.000    0.000 _pylab_helpers.py:106(get_active)\n",
      "        1    0.000    0.000    0.000    0.000 _axes.py:196(get_xlabel)\n",
      "        1    0.000    0.000    0.000    0.000 _axes.py:302(get_legend_handles_labels)\n",
      "       14    0.000    0.000    0.000    0.000 axis.py:368(<dictcomp>)\n",
      "        2    0.000    0.000    0.000    0.000 <__array_function__ internals>:2(nonzero)\n",
      "       12    0.000    0.000    0.000    0.000 {method 'extend' of 'list' objects}\n",
      "        1    0.000    0.000    0.000    0.000 cast.py:116(maybe_downcast_to_dtype)\n",
      "        2    0.000    0.000    0.000    0.000 base.py:1685(is_boolean)\n",
      "       13    0.000    0.000    0.000    0.000 base.py:5638(<genexpr>)\n",
      "        2    0.000    0.000    0.000    0.000 generic.py:4447(<genexpr>)\n",
      "        2    0.000    0.000    0.000    0.000 generic.py:5208(_consolidate_inplace)\n",
      "        8    0.000    0.000    0.000    0.000 artist.py:1094(<genexpr>)\n",
      "        6    0.000    0.000    0.000    0.000 artist.py:1213(mouseover)\n",
      "        2    0.000    0.000    0.000    0.000 transforms.py:2119(__init__)\n",
      "        6    0.000    0.000    0.000    0.000 _base.py:289(<genexpr>)\n",
      "        1    0.000    0.000    0.000    0.000 typing.py:868(__new__)\n",
      "        1    0.000    0.000    0.000    0.000 {built-in method _operator.sub}\n",
      "        3    0.000    0.000    0.000    0.000 missing.py:665(clean_reindex_fill_method)\n",
      "        3    0.000    0.000    0.000    0.000 base.py:573(__array__)\n",
      "        1    0.000    0.000    0.000    0.000 base.py:909(format)\n",
      "        1    0.000    0.000    0.000    0.000 generic.py:4490(_needs_reindex_multi)\n",
      "        1    0.000    0.000    0.001    0.001 groupby.py:1343(mean)\n",
      "        1    0.000    0.000    0.000    0.000 grouper.py:829(_convert_grouper)\n",
      "        8    0.000    0.000    0.000    0.000 __init__.py:100(__hash__)\n",
      "        1    0.000    0.000    0.000    0.000 rcsetup.py:200(validate_axisbelow)\n",
      "        1    0.000    0.000    0.000    0.000 figure.py:2067(sca)\n",
      "        4    0.000    0.000    0.000    0.000 axis.py:565(__init__)\n",
      "        1    0.000    0.000    0.000    0.000 <frozen importlib._bootstrap>:389(parent)\n",
      "        4    0.000    0.000    0.000    0.000 numerictypes.py:621(<listcomp>)\n",
      "        2    0.000    0.000    0.000    0.000 generic.py:382(_get_block_manager_axis)\n",
      "        2    0.000    0.000    0.000    0.000 blocks.py:675(copy)\n",
      "        3    0.000    0.000    0.000    0.000 format.py:390(__init__)\n",
      "        1    0.000    0.000    0.000    0.000 transforms.py:2091(__eq__)\n",
      "        2    0.000    0.000    0.000    0.000 transforms.py:2327(_iter_break_from_left_to_right)\n",
      "       12    0.000    0.000    0.000    0.000 _base.py:640(<genexpr>)\n",
      "        8    0.000    0.000    0.000    0.000 axis.py:569(locator)\n",
      "        6    0.000    0.000    0.000    0.000 {method 'insert' of 'list' objects}\n",
      "        4    0.000    0.000    0.000    0.000 {built-in method builtins.divmod}\n",
      "        2    0.000    0.000    0.000    0.000 {method 'repeat' of 'numpy.ndarray' objects}\n",
      "       13    0.000    0.000    0.000    0.000 {pandas._libs.lib.is_bool}\n",
      "        6    0.000    0.000    0.000    0.000 dtypes.py:446(validate_ordered)\n",
      "        2    0.000    0.000    0.000    0.000 base.py:1213(_get_names)\n",
      "        1    0.000    0.000    0.000    0.000 base.py:2464(_is_compatible_with_other)\n",
      "        1    0.000    0.000    0.000    0.000 base.py:2546(_union)\n",
      "        1    0.000    0.000    0.000    0.000 transforms.py:357(width)\n",
      "        2    0.000    0.000    0.000    0.000 figure.py:194(update)\n",
      "        2    0.000    0.000    0.000    0.000 <__array_function__ internals>:2(cumsum)\n",
      "        2    0.000    0.000    0.000    0.000 <__array_function__ internals>:2(atleast_2d)\n",
      "        1    0.000    0.000    0.000    0.000 figure.py:1056(_make_key)\n",
      "        2    0.000    0.000    0.000    0.000 _base.py:185(__init__)\n",
      "        2    0.000    0.000    0.025    0.012 axis.py:1219(get_ticklabels)\n",
      "        1    0.000    0.000    0.000    0.000 {built-in method _operator.add}\n",
      "        3    0.000    0.000    0.000    0.000 common.py:1509(is_complex_dtype)\n",
      "        2    0.000    0.000    0.000    0.000 _validators.py:208(validate_bool_kwarg)\n",
      "        2    0.000    0.000    0.000    0.000 groupby.py:2670(_reindex_output)\n",
      "        1    0.000    0.000    0.000    0.000 _pylab_helpers.py:124(set_active)\n",
      "        1    0.000    0.000    0.000    0.000 gridspec.py:622(__init__)\n",
      "        1    0.000    0.000    0.000    0.000 figure.py:99(bubble)\n",
      "        1    0.000    0.000    0.000    0.000 __init__.py:44(get_projection_class)\n",
      "        2    0.000    0.000    0.000    0.000 fromnumeric.py:2418(cumsum)\n",
      "       12    0.000    0.000    0.000    0.000 {built-in method _warnings._filters_mutated}\n",
      "        1    0.000    0.000    0.000    0.000 base.py:2429(_get_reconciled_name_object)\n",
      "        1    0.000    0.000    0.000    0.000 managers.py:220(set_axis)\n",
      "        1    0.000    0.000    0.000    0.000 lines.py:905(get_marker)\n",
      "        2    0.000    0.000    0.000    0.000 expressions.py:195(_bool_arith_check)\n",
      "        2    0.000    0.000    0.000    0.000 <__array_function__ internals>:2(bincount)\n",
      "        4    0.000    0.000    0.000    0.000 numeric.py:1358(<listcomp>)\n",
      "       10    0.000    0.000    0.000    0.000 fromnumeric.py:3071(_ndim_dispatcher)\n",
      "        2    0.000    0.000    0.000    0.000 {method 'sort' of 'numpy.ndarray' objects}\n",
      "        4    0.000    0.000    0.000    0.000 series.py:595(__len__)\n",
      "        1    0.000    0.000    0.000    0.000 generic.py:5268(values)\n",
      "        1    0.000    0.000    0.000    0.000 groupby.py:697(__getattr__)\n",
      "        1    0.000    0.000    0.000    0.000 pyplot.py:755(get_fignums)\n",
      "        2    0.000    0.000    0.000    0.000 transforms.py:666(<listcomp>)\n",
      "        2    0.000    0.000    0.000    0.000 transforms.py:668(<listcomp>)\n",
      "        2    0.000    0.000    0.000    0.000 <__array_function__ internals>:2(sort)\n",
      "        2    0.000    0.000    0.000    0.000 core.py:588(filled)\n",
      "        2    0.000    0.000    0.000    0.000 {built-in method math.log10}\n",
      "        1    0.000    0.000    0.000    0.000 range.py:393(_shallow_copy)\n",
      "        4    0.000    0.000    0.000    0.000 blocks.py:190(external_values)\n",
      "        6    0.000    0.000    0.000    0.000 blocks.py:311(shape)\n",
      "        4    0.000    0.000    0.000    0.000 frame.py:568(axes)\n",
      "        1    0.000    0.000    0.000    0.000 frame.py:607(_is_homogeneous_type)\n",
      "        3    0.000    0.000    0.000    0.000 transforms.py:963(minposx)\n",
      "        3    0.000    0.000    0.000    0.000 transforms.py:967(minposy)\n",
      "        1    0.000    0.000    0.000    0.000 gridspec.py:496(<dictcomp>)\n",
      "        9    0.000    0.000    0.000    0.000 _base.py:378(<genexpr>)\n",
      "        1    0.000    0.000    0.000    0.000 fromnumeric.py:2881(prod)\n",
      "        2    0.000    0.000    0.000    0.000 <__array_function__ internals>:2(moveaxis)\n",
      "        2    0.000    0.000    0.000    0.000 <__array_function__ internals>:2(insert)\n",
      "        1    0.000    0.000    0.000    0.000 cast.py:184(maybe_downcast_numeric)\n",
      "        7    0.000    0.000    0.000    0.000 multi.py:866(codes)\n",
      "        3    0.000    0.000    0.000    0.000 multi.py:1311(_get_names)\n",
      "        2    0.000    0.000    0.000    0.000 construction.py:280(<listcomp>)\n",
      "        1    0.000    0.000    0.000    0.000 construction.py:289(_prep_ndarray)\n",
      "        4    0.000    0.000    0.000    0.000 __init__.py:91(__init__)\n",
      "        1    0.000    0.000    0.000    0.000 pyplot.py:303(_warn_if_gui_out_of_main_thread)\n",
      "        3    0.000    0.000    0.000    0.000 artist.py:711(set_clip_box)\n",
      "        2    0.000    0.000    0.000    0.000 ticker.py:1736(raise_if_exceeds)\n",
      "        2    0.000    0.000    0.000    0.000 os.py:740(encodekey)\n",
      "        2    0.000    0.000    0.000    0.000 types.py:171(__get__)\n",
      "        4    0.000    0.000    0.000    0.000 typing.py:329(__hash__)\n",
      "        2    0.000    0.000    0.000    0.000 <__array_function__ internals>:2(where)\n",
      "       10    0.000    0.000    0.000    0.000 fromnumeric.py:3376(_std_dispatcher)\n",
      "        1    0.000    0.000    0.000    0.000 {method 'put' of 'numpy.ndarray' objects}\n",
      "        1    0.000    0.000    0.000    0.000 {pandas._libs.internals.get_blkno_placements}\n",
      "        3    0.000    0.000    0.000    0.000 algorithms.py:213(_ensure_arraylike)\n",
      "        3    0.000    0.000    0.000    0.000 generic.py:447(_info_axis)\n",
      "        7    0.000    0.000    0.000    0.000 ops.py:107(groupings)\n",
      "        1    0.000    0.000    0.000    0.000 ops.py:238(names)\n",
      "        3    0.000    0.000    0.000    0.000 __init__.py:605(clear)\n",
      "        3    0.000    0.000    0.000    0.000 figure.py:135(current_key_axes)\n",
      "        3    0.000    0.000    0.000    0.000 _base.py:656(_request_autoscale_view)\n",
      "        1    0.000    0.000    0.000    0.000 missing.py:341(_isna_compat)\n",
      "        1    0.000    0.000    0.000    0.000 common.py:241(index_labels_to_array)\n",
      "        1    0.000    0.000    0.000    0.000 sorting.py:56(_int64_cut_off)\n",
      "        2    0.000    0.000    0.000    0.000 frame.py:3158(_ensure_valid_index)\n",
      "        1    0.000    0.000    0.000    0.000 ops.py:295(ngroups)\n",
      "        1    0.000    0.000    0.000    0.000 pyplot.py:211(_get_required_interactive_framework)\n",
      "        1    0.000    0.000    0.000    0.000 transforms.py:1645(__eq__)\n",
      "        1    0.000    0.000    0.000    0.000 decorators.py:41(wrapper)\n",
      "        2    0.000    0.000    0.000    0.000 <__array_function__ internals>:2(append)\n",
      "        1    0.000    0.000    0.000    0.000 {method 'add' of 'pandas._libs.internals.BlockPlacement' objects}\n",
      "        2    0.000    0.000    0.000    0.000 missing.py:136(dispatch_fill_zeros)\n",
      "        1    0.000    0.000    0.000    0.000 multi.py:697(<listcomp>)\n",
      "        1    0.000    0.000    0.000    0.000 series.py:972(_get_value)\n",
      "        1    0.000    0.000    0.000    0.000 blocks.py:2374(__init__)\n",
      "        2    0.000    0.000    0.000    0.000 construction.py:277(<listcomp>)\n",
      "        1    0.000    0.000    0.000    0.000 __init__.py:552(__init__)\n",
      "        1    0.000    0.000    0.000    0.000 pyplot.py:319(draw_if_interactive)\n",
      "        6    0.000    0.000    0.000    0.000 artist.py:1004(get_label)\n",
      "        1    0.000    0.000    0.000    0.000 transforms.py:237(frozen)\n",
      "        2    0.000    0.000    0.000    0.000 transforms.py:241(__array__)\n",
      "        2    0.000    0.000    0.000    0.000 transforms.py:667(<listcomp>)\n",
      "        2    0.000    0.000    0.000    0.000 text.py:1055(set_fontweight)\n",
      "        3    0.000    0.000    0.000    0.000 _base.py:299(_setdefaults)\n",
      "        1    0.000    0.000    0.000    0.000 _base.py:965(_gen_axes_patch)\n",
      "        1    0.000    0.000    0.000    0.000 <__array_function__ internals>:2(unravel_index)\n",
      "       10    0.000    0.000    0.000    0.000 dtypes.py:537(categories)\n",
      "        1    0.000    0.000    0.000    0.000 sorting.py:226(<listcomp>)\n",
      "        1    0.000    0.000    0.000    0.000 base.py:5639(<listcomp>)\n",
      "        1    0.000    0.000    0.000    0.000 format.py:342(_get_formatted_values)\n",
      "        1    0.000    0.000    0.000    0.000 ops.py:269(group_info)\n",
      "        1    0.000    0.000    0.000    0.000 _axes.py:249(get_ylabel)\n",
      "        1    0.000    0.000    0.000    0.000 _base.py:3417(get_ybound)\n",
      "        2    0.000    0.000    0.000    0.000 expressions.py:186(_has_bool_dtype)\n",
      "        2    0.000    0.000    0.000    0.000 <__array_function__ internals>:2(ravel)\n",
      "        1    0.000    0.000    0.000    0.000 <__array_function__ internals>:2(delete)\n",
      "        2    0.000    0.000    0.000    0.000 {method 'pop' of 'collections.OrderedDict' objects}\n",
      "        2    0.000    0.000    0.000    0.000 {method 'min' of 'numpy.ndarray' objects}\n",
      "        1    0.000    0.000    0.000    0.000 missing.py:507(_maybe_fill)\n",
      "        3    0.000    0.000    0.000    0.000 missing.py:75(clean_fill_method)\n",
      "        2    0.000    0.000    0.000    0.000 categorical.py:384(categories)\n",
      "        4    0.000    0.000    0.000    0.000 base.py:590(dtype)\n",
      "        1    0.000    0.000    0.000    0.000 numeric.py:271(_is_compatible_with_other)\n",
      "        2    0.000    0.000    0.000    0.000 grouper.py:574(group_index)\n",
      "        4    0.000    0.000    0.000    0.000 relational.py:212(<genexpr>)\n",
      "        2    0.000    0.000    0.000    0.000 transforms.py:669(<listcomp>)\n",
      "        1    0.000    0.000    0.000    0.000 transforms.py:801(null)\n",
      "        1    0.000    0.000    0.000    0.000 transforms.py:2236(get_matrix)\n",
      "        1    0.000    0.000    0.000    0.000 figure.py:2163(add_axobserver)\n",
      "        7    0.000    0.000    0.000    0.000 {method 'upper' of 'str' objects}\n",
      "        1    0.000    0.000    0.000    0.000 _decorators.py:307(wrapper)\n",
      "        1    0.000    0.000    0.000    0.000 base.py:1216(_set_names)\n",
      "        1    0.000    0.000    0.000    0.000 multi.py:1919(<listcomp>)\n",
      "        2    0.000    0.000    0.000    0.000 managers.py:961(consolidate)\n",
      "        1    0.000    0.000    0.000    0.000 construction.py:450(_get_axes)\n",
      "        1    0.000    0.000    0.000    0.000 construction.py:732(<listcomp>)\n",
      "        1    0.000    0.000    0.000    0.000 construction.py:709(_convert_object_array)\n",
      "        1    0.000    0.000    0.000    0.000 __init__.py:2112(__init__)\n",
      "        1    0.000    0.000    0.000    0.000 dataclasses.py:1045(is_dataclass)\n",
      "        2    0.000    0.000    0.000    0.000 re.py:250(compile)\n",
      "        2    0.000    0.000    0.000    0.000 enum.py:664(value)\n",
      "        8    0.000    0.000    0.000    0.000 fromnumeric.py:2709(_amin_dispatcher)\n",
      "       10    0.000    0.000    0.000    0.000 base.py:561(<lambda>)\n",
      "        1    0.000    0.000    0.000    0.000 base.py:1324(rename)\n",
      "        2    0.000    0.000    0.000    0.000 generic.py:353(<dictcomp>)\n",
      "        4    0.000    0.000    0.000    0.000 multi.py:849(nlevels)\n",
      "        1    0.000    0.000    0.000    0.000 ops.py:230(codes)\n",
      "        1    0.000    0.000    0.000    0.000 relational.py:210(<setcomp>)\n",
      "        1    0.000    0.000    0.000    0.000 figure.py:91(_entry_from_axes)\n",
      "        2    0.000    0.000    0.000    0.000 fromnumeric.py:1816(nonzero)\n",
      "        1    0.000    0.000    0.000    0.000 <__array_function__ internals>:2(prod)\n",
      "        1    0.000    0.000    0.000    0.000 <__array_function__ internals>:2(array_equal)\n",
      "        1    0.000    0.000    0.000    0.000 <__array_function__ internals>:2(tile)\n",
      "        6    0.000    0.000    0.000    0.000 {built-in method sys.is_finalizing}\n",
      "        2    0.000    0.000    0.000    0.000 {method 'max' of 'numpy.ndarray' objects}\n",
      "        2    0.000    0.000    0.000    0.000 dispatch.py:11(should_extension_dispatch)\n",
      "        4    0.000    0.000    0.000    0.000 generic.py:354(<genexpr>)\n",
      "        1    0.000    0.000    0.000    0.000 generic.py:5238(_is_mixed_type)\n",
      "        3    0.000    0.000    0.000    0.000 managers.py:385(<dictcomp>)\n",
      "        2    0.000    0.000    0.000    0.000 construction.py:682(<genexpr>)\n",
      "        1    0.000    0.000    0.000    0.000 groupby.py:563(ngroups)\n",
      "        6    0.000    0.000    0.000    0.000 artist.py:346(is_transform_set)\n",
      "        2    0.000    0.000    0.000    0.000 figure.py:147(__call__)\n",
      "        3    0.000    0.000    0.000    0.000 _base.py:2586(_get_axis_list)\n",
      "        4    0.000    0.000    0.000    0.000 numerictypes.py:622(<listcomp>)\n",
      "        2    0.000    0.000    0.000    0.000 _methods.py:41(_amin)\n",
      "        4    0.000    0.000    0.000    0.000 common.py:194(<genexpr>)\n",
      "        2    0.000    0.000    0.000    0.000 base.py:854(empty)\n",
      "        1    0.000    0.000    0.000    0.000 base.py:1414(_get_level_number)\n",
      "        1    0.000    0.000    0.000    0.000 printing.py:50(<listcomp>)\n",
      "        4    0.000    0.000    0.000    0.000 generic.py:1445(<genexpr>)\n",
      "        1    0.000    0.000    0.000    0.000 frame.py:585(shape)\n",
      "        1    0.000    0.000    0.000    0.000 ops.py:402(_get_cython_func_and_vals)\n",
      "        1    0.000    0.000    0.000    0.000 grouper.py:568(result_index)\n",
      "        3    0.000    0.000    0.000    0.000 transforms.py:1691(<lambda>)\n",
      "        3    0.000    0.000    0.000    0.000 transforms.py:2334(<lambda>)\n",
      "        2    0.000    0.000    0.000    0.000 text.py:850(get_text)\n",
      "        1    0.000    0.000    0.000    0.000 _pylab_helpers.py:34(get_fig_manager)\n",
      "        1    0.000    0.000    0.000    0.000 _core.py:962(<listcomp>)\n",
      "        2    0.000    0.000    0.000    0.000 os.py:734(check_str)\n",
      "        5    0.000    0.000    0.000    0.000 multiarray.py:468(can_cast)\n",
      "        1    0.000    0.000    0.000    0.000 <__array_function__ internals>:2(putmask)\n",
      "        8    0.000    0.000    0.000    0.000 fromnumeric.py:2584(_amax_dispatcher)\n",
      "       10    0.000    0.000    0.000    0.000 {method 'rjust' of 'str' objects}\n",
      "        2    0.000    0.000    0.000    0.000 base.py:496(<dictcomp>)\n",
      "        1    0.000    0.000    0.000    0.000 base.py:2041(_nan_idxs)\n",
      "        1    0.000    0.000    0.000    0.000 ops.py:232(<listcomp>)\n",
      "        2    0.000    0.000    0.000    0.000 grouper.py:709(<genexpr>)\n",
      "        6    0.000    0.000    0.000    0.000 path.py:202(vertices)\n",
      "        1    0.000    0.000    0.000    0.000 backend_bases.py:2708(notify_axes_change)\n",
      "        2    0.000    0.000    0.000    0.000 widgets.py:35(__init__)\n",
      "        2    0.000    0.000    0.000    0.000 figure.py:435(_get_dpi)\n",
      "        1    0.000    0.000    0.000    0.000 _base.py:3128(get_xbound)\n",
      "        6    0.000    0.000    0.000    0.000 scale.py:80(limit_range_for_scale)\n",
      "        2    0.000    0.000    0.000    0.000 _core.py:1172(<genexpr>)\n",
      "        2    0.000    0.000    0.000    0.000 _core.py:1175(<genexpr>)\n",
      "        1    0.000    0.000    0.000    0.000 <__array_function__ internals>:2(min_scalar_type)\n",
      "        3    0.000    0.000    0.000    0.000 frame.py:421(_constructor)\n",
      "        2    0.000    0.000    0.000    0.000 grouper.py:707(<genexpr>)\n",
      "        1    0.000    0.000    0.000    0.000 figure.py:2167(<lambda>)\n",
      "        1    0.000    0.000    0.000    0.000 __init__.py:19(get_projection_class)\n",
      "        1    0.000    0.000    0.000    0.000 _decorators.py:45(<dictcomp>)\n",
      "        6    0.000    0.000    0.000    0.000 {pandas._libs.lib.is_integer}\n",
      "        3    0.000    0.000    0.000    0.000 common.py:215(<genexpr>)\n",
      "        1    0.000    0.000    0.000    0.000 base.py:2835(_assert_can_do_setop)\n",
      "        1    0.000    0.000    0.000    0.000 base.py:4275(identical)\n",
      "        1    0.000    0.000    0.000    0.000 api.py:254(<setcomp>)\n",
      "        1    0.000    0.000    0.000    0.000 generic.py:362(<dictcomp>)\n",
      "        2    0.000    0.000    0.000    0.000 generic.py:1555(<listcomp>)\n",
      "        1    0.000    0.000    0.000    0.000 managers.py:688(is_mixed_type)\n",
      "        1    0.000    0.000    0.000    0.000 grouper.py:825(_is_label_like)\n",
      "        2    0.000    0.000    0.000    0.000 transforms.py:1282(_iter_break_from_left_to_right)\n",
      "        1    0.000    0.000    0.000    0.000 figure.py:150(__contains__)\n",
      "        1    0.000    0.000    0.000    0.000 _base.py:3103(set_axis_on)\n",
      "        2    0.000    0.000    0.000    0.000 _methods.py:37(_amax)\n",
      "        6    0.000    0.000    0.000    0.000 {function FrozenList.__getitem__ at 0x000002B582502700}\n",
      "        1    0.000    0.000    0.000    0.000 inference.py:295(is_named_tuple)\n",
      "        1    0.000    0.000    0.000    0.000 common.py:211(count_not_none)\n",
      "        1    0.000    0.000    0.000    0.000 base.py:2028(_isnan)\n",
      "        1    0.000    0.000    0.000    0.000 range.py:214(start)\n",
      "        1    0.000    0.000    0.000    0.000 generic.py:5345(_values)\n",
      "        2    0.000    0.000    0.000    0.000 managers.py:233(_is_single_block)\n",
      "        1    0.000    0.000    0.000    0.000 managers.py:698(any_extension_types)\n",
      "        1    0.000    0.000    0.000    0.000 __init__.py:1180(get_backend)\n",
      "        1    0.000    0.000    0.000    0.000 transforms.py:363(height)\n",
      "        2    0.000    0.000    0.000    0.000 lines.py:873(get_color)\n",
      "        1    0.000    0.000    0.000    0.000 figure.py:415(get_axes)\n",
      "        2    0.000    0.000    0.000    0.000 _base.py:2519(<listcomp>)\n",
      "        2    0.000    0.000    0.000    0.000 axis.py:1193(get_label)\n",
      "        4    0.000    0.000    0.000    0.000 axis.py:1433(<dictcomp>)\n",
      "        1    0.000    0.000    0.000    0.000 {method 'fileno' of '_io.TextIOWrapper' objects}\n",
      "        3    0.000    0.000    0.000    0.000 {method 'keys' of 'dict' objects}\n",
      "        6    0.000    0.000    0.000    0.000 dtypes.py:544(ordered)\n",
      "        2    0.000    0.000    0.000    0.000 numeric.py:237(inferred_type)\n",
      "        1    0.000    0.000    0.000    0.000 generic.py:5240(<lambda>)\n",
      "        1    0.000    0.000    0.000    0.000 blocks.py:213(get_values)\n",
      "        2    0.000    0.000    0.000    0.000 managers.py:701(<genexpr>)\n",
      "        1    0.000    0.000    0.000    0.000 groupby.py:632(_selected_obj)\n",
      "        6    0.000    0.000    0.000    0.000 transforms.py:1294(depth)\n",
      "        3    0.000    0.000    0.000    0.000 gridspec.py:74(get_geometry)\n",
      "        2    0.000    0.000    0.000    0.000 figure.py:69(<listcomp>)\n",
      "        1    0.000    0.000    0.000    0.000 relational.py:475(<listcomp>)\n",
      "        1    0.000    0.000    0.000    0.000 weakref.py:73(__eq__)\n",
      "        1    0.000    0.000    0.000    0.000 copyreg.py:90(__newobj__)\n",
      "        2    0.000    0.000    0.000    0.000 {method 'sort' of 'list' objects}\n",
      "        1    0.000    0.000    0.000    0.000 {method 'rpartition' of 'str' objects}\n",
      "        3    0.000    0.000    0.000    0.000 {pandas._libs.algos.ensure_float64}\n",
      "        2    0.000    0.000    0.000    0.000 blocks.py:229(fill_value)\n",
      "        1    0.000    0.000    0.000    0.000 _base.py:3754(set_navigate)\n",
      "        2    0.000    0.000    0.000    0.000 {method 'index' of 'list' objects}\n",
      "        1    0.000    0.000    0.000    0.000 {method 'intersection' of 'set' objects}\n",
      "        1    0.000    0.000    0.000    0.000 {method 'disable' of '_lsprof.Profiler' objects}\n",
      "        2    0.000    0.000    0.000    0.000 categorical.py:434(dtype)\n",
      "        1    0.000    0.000    0.000    0.000 base.py:2480(_validate_sort_keyword)\n",
      "        1    0.000    0.000    0.000    0.000 managers.py:264(<listcomp>)\n",
      "        1    0.000    0.000    0.000    0.000 gridspec.py:120(set_height_ratios)\n",
      "        1    0.000    0.000    0.000    0.000 gridspec.py:211(_normalize)\n",
      "        1    0.000    0.000    0.000    0.000 legend.py:640(get_default_handler_map)\n",
      "        1    0.000    0.000    0.000    0.000 _base.py:2249(use_sticky_edges)\n",
      "        2    0.000    0.000    0.000    0.000 fromnumeric.py:835(_sort_dispatcher)\n",
      "        2    0.000    0.000    0.000    0.000 fromnumeric.py:2029(_clip_dispatcher)\n",
      "        2    0.000    0.000    0.000    0.000 shape_base.py:1253(<genexpr>)\n",
      "        4    0.000    0.000    0.000    0.000 {built-in method _operator.index}\n",
      "        1    0.000    0.000    0.000    0.000 {method 'pop' of 'list' objects}\n",
      "        1    0.000    0.000    0.000    0.000 base.py:1391(_validate_index_level)\n",
      "        1    0.000    0.000    0.000    0.000 base.py:5621(ensure_has_len)\n",
      "        2    0.000    0.000    0.000    0.000 grouper.py:562(codes)\n",
      "        2    0.000    0.000    0.000    0.000 grouper.py:708(<genexpr>)\n",
      "        2    0.000    0.000    0.000    0.000 transforms.py:2083(inverted)\n",
      "        2    0.000    0.000    0.000    0.000 font_manager.py:800(get_size_in_points)\n",
      "        1    0.000    0.000    0.000    0.000 text.py:1122(set_rotation)\n",
      "        1    0.000    0.000    0.000    0.000 gridspec.py:703(num2)\n",
      "        2    0.000    0.000    0.000    0.000 numeric.py:1434(<listcomp>)\n",
      "        3    0.000    0.000    0.000    0.000 fromnumeric.py:2333(_all_dispatcher)\n",
      "        2    0.000    0.000    0.000    0.000 arraysetops.py:491(_in1d_dispatcher)\n",
      "        3    0.000    0.000    0.000    0.000 {method 'replace' of 'str' objects}\n",
      "        3    0.000    0.000    0.000    0.000 base.py:637(ndim)\n",
      "        1    0.000    0.000    0.000    0.000 range.py:260(step)\n",
      "        1    0.000    0.000    0.000    0.000 series.py:810(axes)\n",
      "        1    0.000    0.000    0.000    0.000 ops.py:240(<listcomp>)\n",
      "        1    0.000    0.000    0.000    0.000 __init__.py:94(__call__)\n",
      "        3    0.000    0.000    0.000    0.000 artist.py:819(get_clip_path)\n",
      "        1    0.000    0.000    0.000    0.000 transforms.py:1865(get_matrix)\n",
      "        1    0.000    0.000    0.000    0.000 lines.py:897(get_linewidth)\n",
      "        1    0.000    0.000    0.000    0.000 figure.py:1059(fixitems)\n",
      "        1    0.000    0.000    0.000    0.000 figure.py:92(<dictcomp>)\n",
      "        2    0.000    0.000    0.000    0.000 figure.py:480(get_constrained_layout)\n",
      "        2    0.000    0.000    0.000    0.000 typing.py:1149(cast)\n",
      "        2    0.000    0.000    0.000    0.000 multiarray.py:311(where)\n",
      "        1    0.000    0.000    0.000    0.000 multiarray.py:990(unravel_index)\n",
      "        2    0.000    0.000    0.000    0.000 arraysetops.py:608(_isin_dispatcher)\n",
      "        1    0.000    0.000    0.000    0.000 {method 'getvalue' of '_io.StringIO' objects}\n",
      "        1    0.000    0.000    0.000    0.000 {method 'mro' of 'type' objects}\n",
      "        1    0.000    0.000    0.000    0.000 base.py:3275(_can_reindex)\n",
      "        1    0.000    0.000    0.000    0.000 range.py:237(stop)\n",
      "        1    0.000    0.000    0.000    0.000 __init__.py:1198(is_interactive)\n",
      "        2    0.000    0.000    0.000    0.000 __init__.py:799(<dictcomp>)\n",
      "        1    0.000    0.000    0.000    0.000 lines.py:1382(get_solid_capstyle)\n",
      "        1    0.000    0.000    0.000    0.000 gridspec.py:100(set_width_ratios)\n",
      "        1    0.000    0.000    0.000    0.000 _base.py:3770(set_navigate_mode)\n",
      "        2    0.000    0.000    0.000    0.000 multiarray.py:852(bincount)\n",
      "        2    0.000    0.000    0.000    0.000 numeric.py:71(_zeros_like_dispatcher)\n",
      "        2    0.000    0.000    0.000    0.000 fromnumeric.py:1701(_ravel_dispatcher)\n",
      "        2    0.000    0.000    0.000    0.000 fromnumeric.py:1812(_nonzero_dispatcher)\n",
      "        2    0.000    0.000    0.000    0.000 fromnumeric.py:2414(_cumsum_dispatcher)\n",
      "        2    0.000    0.000    0.000    0.000 function_base.py:4417(_insert_dispatcher)\n",
      "        2    0.000    0.000    0.000    0.000 shape_base.py:1243(<genexpr>)\n",
      "        1    0.000    0.000    0.000    0.000 {built-in method builtins.repr}\n",
      "        2    0.000    0.000    0.000    0.000 {method 'item' of 'numpy.ndarray' objects}\n",
      "        2    0.000    0.000    0.000    0.000 generic.py:1496(<genexpr>)\n",
      "        1    0.000    0.000    0.000    0.000 artist.py:959(set_in_layout)\n",
      "        2    0.000    0.000    0.000    0.000 figure.py:71(<listcomp>)\n",
      "        2    0.000    0.000    0.000    0.000 multiarray.py:75(empty_like)\n",
      "        1    0.000    0.000    0.000    0.000 numeric.py:2313(_array_equal_dispatcher)\n",
      "        1    0.000    0.000    0.000    0.000 fromnumeric.py:2876(_prod_dispatcher)\n",
      "        2    0.000    0.000    0.000    0.000 function_base.py:4612(_append_dispatcher)\n",
      "        2    0.000    0.000    0.000    0.000 multi.py:1670(is_all_dates)\n",
      "        1    0.000    0.000    0.000    0.000 artist.py:785(get_alpha)\n",
      "        1    0.000    0.000    0.000    0.000 path.py:235(simplify_threshold)\n",
      "        1    0.000    0.000    0.000    0.000 path.py:247(should_simplify)\n",
      "        1    0.000    0.000    0.000    0.000 gridspec.py:699(num2)\n",
      "        1    0.000    0.000    0.000    0.000 gridspec.py:710(get_gridspec)\n",
      "        1    0.000    0.000    0.000    0.000 _subplots.py:83(get_subplotspec)\n",
      "        2    0.000    0.000    0.000    0.000 numeric.py:1367(_moveaxis_dispatcher)\n",
      "        2    0.000    0.000    0.000    0.000 shape_base.py:78(_atleast_2d_dispatcher)\n",
      "        1    0.000    0.000    0.000    0.000 function_base.py:4232(_delete_dispatcher)\n",
      "        1    0.000    0.000    0.000    0.000 shape_base.py:1167(_tile_dispatcher)\n",
      "        1    0.000    0.000    0.000    0.000 {method 'move_to_end' of 'collections.OrderedDict' objects}\n",
      "        1    0.000    0.000    0.000    0.000 groupby.py:548(_assure_grouper)\n",
      "        1    0.000    0.000    0.000    0.000 path.py:216(codes)\n",
      "        1    0.000    0.000    0.000    0.000 multiarray.py:583(min_scalar_type)\n",
      "        1    0.000    0.000    0.000    0.000 multiarray.py:1078(putmask)\n",
      "        1    0.000    0.000    0.000    0.000 {method 'write' of '_io.StringIO' objects}\n",
      "\n",
      "\n"
     ]
    },
    {
     "data": {
      "image/png": "[encoded data removed]",
      "image/svg+xml": [
       "<?xml version=\"1.0\" encoding=\"utf-8\" standalone=\"no\"?>\r\n",
       "<!DOCTYPE svg PUBLIC \"-//W3C//DTD SVG 1.1//EN\"\r\n",
       "  \"http://www.w3.org/Graphics/SVG/1.1/DTD/svg11.dtd\">\r\n",
       "<!-- Created with matplotlib (https://matplotlib.org/) -->\r\n",
       "<svg height=\"262.19625pt\" version=\"1.1\" viewBox=\"0 0 394.160937 262.19625\" width=\"394.160937pt\" xmlns=\"http://www.w3.org/2000/svg\" xmlns:xlink=\"http://www.w3.org/1999/xlink\">\r\n",
       " <metadata>\r\n",
       "  <rdf:RDF xmlns:cc=\"http://creativecommons.org/ns#\" xmlns:dc=\"http://purl.org/dc/elements/1.1/\" xmlns:rdf=\"http://www.w3.org/1999/02/22-rdf-syntax-ns#\">\r\n",
       "   <cc:Work>\r\n",
       "    <dc:type rdf:resource=\"http://purl.org/dc/dcmitype/StillImage\"/>\r\n",
       "    <dc:date>2020-11-15T09:12:13.547361</dc:date>\r\n",
       "    <dc:format>image/svg+xml</dc:format>\r\n",
       "    <dc:creator>\r\n",
       "     <cc:Agent>\r\n",
       "      <dc:title>Matplotlib v3.3.2, https://matplotlib.org/</dc:title>\r\n",
       "     </cc:Agent>\r\n",
       "    </dc:creator>\r\n",
       "   </cc:Work>\r\n",
       "  </rdf:RDF>\r\n",
       " </metadata>\r\n",
       " <defs>\r\n",
       "  <style type=\"text/css\">*{stroke-linecap:butt;stroke-linejoin:round;}</style>\r\n",
       " </defs>\r\n",
       " <g id=\"figure_1\">\r\n",
       "  <g id=\"patch_1\">\r\n",
       "   <path d=\"M 0 262.19625 \r\n",
       "L 394.160937 262.19625 \r\n",
       "L 394.160937 0 \r\n",
       "L 0 0 \r\n",
       "z\r\n",
       "\" style=\"fill:none;\"/>\r\n",
       "  </g>\r\n",
       "  <g id=\"axes_1\">\r\n",
       "   <g id=\"patch_2\">\r\n",
       "    <path d=\"M 52.160938 224.64 \r\n",
       "L 386.960938 224.64 \r\n",
       "L 386.960938 7.2 \r\n",
       "L 52.160938 7.2 \r\n",
       "z\r\n",
       "\" style=\"fill:#ffffff;\"/>\r\n",
       "   </g>\r\n",
       "   <g id=\"matplotlib.axis_1\">\r\n",
       "    <g id=\"xtick_1\">\r\n",
       "     <g id=\"line2d_1\">\r\n",
       "      <defs>\r\n",
       "       <path d=\"M 0 0 \r\n",
       "L 0 3.5 \r\n",
       "\" id=\"mfe51857f79\" style=\"stroke:#000000;stroke-width:0.8;\"/>\r\n",
       "      </defs>\r\n",
       "      <g>\r\n",
       "       <use style=\"stroke:#000000;stroke-width:0.8;\" x=\"67.379119\" xlink:href=\"#mfe51857f79\" y=\"224.64\"/>\r\n",
       "      </g>\r\n",
       "     </g>\r\n",
       "     <g id=\"text_1\">\r\n",
       "      <!-- 0 -->\r\n",
       "      <g transform=\"translate(64.197869 239.238437)scale(0.1 -0.1)\">\r\n",
       "       <defs>\r\n",
       "        <path d=\"M 31.78125 66.40625 \r\n",
       "Q 24.171875 66.40625 20.328125 58.90625 \r\n",
       "Q 16.5 51.421875 16.5 36.375 \r\n",
       "Q 16.5 21.390625 20.328125 13.890625 \r\n",
       "Q 24.171875 6.390625 31.78125 6.390625 \r\n",
       "Q 39.453125 6.390625 43.28125 13.890625 \r\n",
       "Q 47.125 21.390625 47.125 36.375 \r\n",
       "Q 47.125 51.421875 43.28125 58.90625 \r\n",
       "Q 39.453125 66.40625 31.78125 66.40625 \r\n",
       "z\r\n",
       "M 31.78125 74.21875 \r\n",
       "Q 44.046875 74.21875 50.515625 64.515625 \r\n",
       "Q 56.984375 54.828125 56.984375 36.375 \r\n",
       "Q 56.984375 17.96875 50.515625 8.265625 \r\n",
       "Q 44.046875 -1.421875 31.78125 -1.421875 \r\n",
       "Q 19.53125 -1.421875 13.0625 8.265625 \r\n",
       "Q 6.59375 17.96875 6.59375 36.375 \r\n",
       "Q 6.59375 54.828125 13.0625 64.515625 \r\n",
       "Q 19.53125 74.21875 31.78125 74.21875 \r\n",
       "z\r\n",
       "\" id=\"DejaVuSans-48\"/>\r\n",
       "       </defs>\r\n",
       "       <use xlink:href=\"#DejaVuSans-48\"/>\r\n",
       "      </g>\r\n",
       "     </g>\r\n",
       "    </g>\r\n",
       "    <g id=\"xtick_2\">\r\n",
       "     <g id=\"line2d_2\">\r\n",
       "      <g>\r\n",
       "       <use style=\"stroke:#000000;stroke-width:0.8;\" x=\"135.015483\" xlink:href=\"#mfe51857f79\" y=\"224.64\"/>\r\n",
       "      </g>\r\n",
       "     </g>\r\n",
       "     <g id=\"text_2\">\r\n",
       "      <!-- 2 -->\r\n",
       "      <g transform=\"translate(131.834233 239.238437)scale(0.1 -0.1)\">\r\n",
       "       <defs>\r\n",
       "        <path d=\"M 19.1875 8.296875 \r\n",
       "L 53.609375 8.296875 \r\n",
       "L 53.609375 0 \r\n",
       "L 7.328125 0 \r\n",
       "L 7.328125 8.296875 \r\n",
       "Q 12.9375 14.109375 22.625 23.890625 \r\n",
       "Q 32.328125 33.6875 34.8125 36.53125 \r\n",
       "Q 39.546875 41.84375 41.421875 45.53125 \r\n",
       "Q 43.3125 49.21875 43.3125 52.78125 \r\n",
       "Q 43.3125 58.59375 39.234375 62.25 \r\n",
       "Q 35.15625 65.921875 28.609375 65.921875 \r\n",
       "Q 23.96875 65.921875 18.8125 64.3125 \r\n",
       "Q 13.671875 62.703125 7.8125 59.421875 \r\n",
       "L 7.8125 69.390625 \r\n",
       "Q 13.765625 71.78125 18.9375 73 \r\n",
       "Q 24.125 74.21875 28.421875 74.21875 \r\n",
       "Q 39.75 74.21875 46.484375 68.546875 \r\n",
       "Q 53.21875 62.890625 53.21875 53.421875 \r\n",
       "Q 53.21875 48.921875 51.53125 44.890625 \r\n",
       "Q 49.859375 40.875 45.40625 35.40625 \r\n",
       "Q 44.1875 33.984375 37.640625 27.21875 \r\n",
       "Q 31.109375 20.453125 19.1875 8.296875 \r\n",
       "z\r\n",
       "\" id=\"DejaVuSans-50\"/>\r\n",
       "       </defs>\r\n",
       "       <use xlink:href=\"#DejaVuSans-50\"/>\r\n",
       "      </g>\r\n",
       "     </g>\r\n",
       "    </g>\r\n",
       "    <g id=\"xtick_3\">\r\n",
       "     <g id=\"line2d_3\">\r\n",
       "      <g>\r\n",
       "       <use style=\"stroke:#000000;stroke-width:0.8;\" x=\"202.651847\" xlink:href=\"#mfe51857f79\" y=\"224.64\"/>\r\n",
       "      </g>\r\n",
       "     </g>\r\n",
       "     <g id=\"text_3\">\r\n",
       "      <!-- 4 -->\r\n",
       "      <g transform=\"translate(199.470597 239.238437)scale(0.1 -0.1)\">\r\n",
       "       <defs>\r\n",
       "        <path d=\"M 37.796875 64.3125 \r\n",
       "L 12.890625 25.390625 \r\n",
       "L 37.796875 25.390625 \r\n",
       "z\r\n",
       "M 35.203125 72.90625 \r\n",
       "L 47.609375 72.90625 \r\n",
       "L 47.609375 25.390625 \r\n",
       "L 58.015625 25.390625 \r\n",
       "L 58.015625 17.1875 \r\n",
       "L 47.609375 17.1875 \r\n",
       "L 47.609375 0 \r\n",
       "L 37.796875 0 \r\n",
       "L 37.796875 17.1875 \r\n",
       "L 4.890625 17.1875 \r\n",
       "L 4.890625 26.703125 \r\n",
       "z\r\n",
       "\" id=\"DejaVuSans-52\"/>\r\n",
       "       </defs>\r\n",
       "       <use xlink:href=\"#DejaVuSans-52\"/>\r\n",
       "      </g>\r\n",
       "     </g>\r\n",
       "    </g>\r\n",
       "    <g id=\"xtick_4\">\r\n",
       "     <g id=\"line2d_4\">\r\n",
       "      <g>\r\n",
       "       <use style=\"stroke:#000000;stroke-width:0.8;\" x=\"270.28821\" xlink:href=\"#mfe51857f79\" y=\"224.64\"/>\r\n",
       "      </g>\r\n",
       "     </g>\r\n",
       "     <g id=\"text_4\">\r\n",
       "      <!-- 6 -->\r\n",
       "      <g transform=\"translate(267.10696 239.238437)scale(0.1 -0.1)\">\r\n",
       "       <defs>\r\n",
       "        <path d=\"M 33.015625 40.375 \r\n",
       "Q 26.375 40.375 22.484375 35.828125 \r\n",
       "Q 18.609375 31.296875 18.609375 23.390625 \r\n",
       "Q 18.609375 15.53125 22.484375 10.953125 \r\n",
       "Q 26.375 6.390625 33.015625 6.390625 \r\n",
       "Q 39.65625 6.390625 43.53125 10.953125 \r\n",
       "Q 47.40625 15.53125 47.40625 23.390625 \r\n",
       "Q 47.40625 31.296875 43.53125 35.828125 \r\n",
       "Q 39.65625 40.375 33.015625 40.375 \r\n",
       "z\r\n",
       "M 52.59375 71.296875 \r\n",
       "L 52.59375 62.3125 \r\n",
       "Q 48.875 64.0625 45.09375 64.984375 \r\n",
       "Q 41.3125 65.921875 37.59375 65.921875 \r\n",
       "Q 27.828125 65.921875 22.671875 59.328125 \r\n",
       "Q 17.53125 52.734375 16.796875 39.40625 \r\n",
       "Q 19.671875 43.65625 24.015625 45.921875 \r\n",
       "Q 28.375 48.1875 33.59375 48.1875 \r\n",
       "Q 44.578125 48.1875 50.953125 41.515625 \r\n",
       "Q 57.328125 34.859375 57.328125 23.390625 \r\n",
       "Q 57.328125 12.15625 50.6875 5.359375 \r\n",
       "Q 44.046875 -1.421875 33.015625 -1.421875 \r\n",
       "Q 20.359375 -1.421875 13.671875 8.265625 \r\n",
       "Q 6.984375 17.96875 6.984375 36.375 \r\n",
       "Q 6.984375 53.65625 15.1875 63.9375 \r\n",
       "Q 23.390625 74.21875 37.203125 74.21875 \r\n",
       "Q 40.921875 74.21875 44.703125 73.484375 \r\n",
       "Q 48.484375 72.75 52.59375 71.296875 \r\n",
       "z\r\n",
       "\" id=\"DejaVuSans-54\"/>\r\n",
       "       </defs>\r\n",
       "       <use xlink:href=\"#DejaVuSans-54\"/>\r\n",
       "      </g>\r\n",
       "     </g>\r\n",
       "    </g>\r\n",
       "    <g id=\"xtick_5\">\r\n",
       "     <g id=\"line2d_5\">\r\n",
       "      <g>\r\n",
       "       <use style=\"stroke:#000000;stroke-width:0.8;\" x=\"337.924574\" xlink:href=\"#mfe51857f79\" y=\"224.64\"/>\r\n",
       "      </g>\r\n",
       "     </g>\r\n",
       "     <g id=\"text_5\">\r\n",
       "      <!-- 8 -->\r\n",
       "      <g transform=\"translate(334.743324 239.238437)scale(0.1 -0.1)\">\r\n",
       "       <defs>\r\n",
       "        <path d=\"M 31.78125 34.625 \r\n",
       "Q 24.75 34.625 20.71875 30.859375 \r\n",
       "Q 16.703125 27.09375 16.703125 20.515625 \r\n",
       "Q 16.703125 13.921875 20.71875 10.15625 \r\n",
       "Q 24.75 6.390625 31.78125 6.390625 \r\n",
       "Q 38.8125 6.390625 42.859375 10.171875 \r\n",
       "Q 46.921875 13.96875 46.921875 20.515625 \r\n",
       "Q 46.921875 27.09375 42.890625 30.859375 \r\n",
       "Q 38.875 34.625 31.78125 34.625 \r\n",
       "z\r\n",
       "M 21.921875 38.8125 \r\n",
       "Q 15.578125 40.375 12.03125 44.71875 \r\n",
       "Q 8.5 49.078125 8.5 55.328125 \r\n",
       "Q 8.5 64.0625 14.71875 69.140625 \r\n",
       "Q 20.953125 74.21875 31.78125 74.21875 \r\n",
       "Q 42.671875 74.21875 48.875 69.140625 \r\n",
       "Q 55.078125 64.0625 55.078125 55.328125 \r\n",
       "Q 55.078125 49.078125 51.53125 44.71875 \r\n",
       "Q 48 40.375 41.703125 38.8125 \r\n",
       "Q 48.828125 37.15625 52.796875 32.3125 \r\n",
       "Q 56.78125 27.484375 56.78125 20.515625 \r\n",
       "Q 56.78125 9.90625 50.3125 4.234375 \r\n",
       "Q 43.84375 -1.421875 31.78125 -1.421875 \r\n",
       "Q 19.734375 -1.421875 13.25 4.234375 \r\n",
       "Q 6.78125 9.90625 6.78125 20.515625 \r\n",
       "Q 6.78125 27.484375 10.78125 32.3125 \r\n",
       "Q 14.796875 37.15625 21.921875 38.8125 \r\n",
       "z\r\n",
       "M 18.3125 54.390625 \r\n",
       "Q 18.3125 48.734375 21.84375 45.5625 \r\n",
       "Q 25.390625 42.390625 31.78125 42.390625 \r\n",
       "Q 38.140625 42.390625 41.71875 45.5625 \r\n",
       "Q 45.3125 48.734375 45.3125 54.390625 \r\n",
       "Q 45.3125 60.0625 41.71875 63.234375 \r\n",
       "Q 38.140625 66.40625 31.78125 66.40625 \r\n",
       "Q 25.390625 66.40625 21.84375 63.234375 \r\n",
       "Q 18.3125 60.0625 18.3125 54.390625 \r\n",
       "z\r\n",
       "\" id=\"DejaVuSans-56\"/>\r\n",
       "       </defs>\r\n",
       "       <use xlink:href=\"#DejaVuSans-56\"/>\r\n",
       "      </g>\r\n",
       "     </g>\r\n",
       "    </g>\r\n",
       "    <g id=\"text_6\">\r\n",
       "     <!-- Epoch -->\r\n",
       "     <g transform=\"translate(204.25 252.916562)scale(0.1 -0.1)\">\r\n",
       "      <defs>\r\n",
       "       <path d=\"M 9.8125 72.90625 \r\n",
       "L 55.90625 72.90625 \r\n",
       "L 55.90625 64.59375 \r\n",
       "L 19.671875 64.59375 \r\n",
       "L 19.671875 43.015625 \r\n",
       "L 54.390625 43.015625 \r\n",
       "L 54.390625 34.71875 \r\n",
       "L 19.671875 34.71875 \r\n",
       "L 19.671875 8.296875 \r\n",
       "L 56.78125 8.296875 \r\n",
       "L 56.78125 0 \r\n",
       "L 9.8125 0 \r\n",
       "z\r\n",
       "\" id=\"DejaVuSans-69\"/>\r\n",
       "       <path d=\"M 18.109375 8.203125 \r\n",
       "L 18.109375 -20.796875 \r\n",
       "L 9.078125 -20.796875 \r\n",
       "L 9.078125 54.6875 \r\n",
       "L 18.109375 54.6875 \r\n",
       "L 18.109375 46.390625 \r\n",
       "Q 20.953125 51.265625 25.265625 53.625 \r\n",
       "Q 29.59375 56 35.59375 56 \r\n",
       "Q 45.5625 56 51.78125 48.09375 \r\n",
       "Q 58.015625 40.1875 58.015625 27.296875 \r\n",
       "Q 58.015625 14.40625 51.78125 6.484375 \r\n",
       "Q 45.5625 -1.421875 35.59375 -1.421875 \r\n",
       "Q 29.59375 -1.421875 25.265625 0.953125 \r\n",
       "Q 20.953125 3.328125 18.109375 8.203125 \r\n",
       "z\r\n",
       "M 48.6875 27.296875 \r\n",
       "Q 48.6875 37.203125 44.609375 42.84375 \r\n",
       "Q 40.53125 48.484375 33.40625 48.484375 \r\n",
       "Q 26.265625 48.484375 22.1875 42.84375 \r\n",
       "Q 18.109375 37.203125 18.109375 27.296875 \r\n",
       "Q 18.109375 17.390625 22.1875 11.75 \r\n",
       "Q 26.265625 6.109375 33.40625 6.109375 \r\n",
       "Q 40.53125 6.109375 44.609375 11.75 \r\n",
       "Q 48.6875 17.390625 48.6875 27.296875 \r\n",
       "z\r\n",
       "\" id=\"DejaVuSans-112\"/>\r\n",
       "       <path d=\"M 30.609375 48.390625 \r\n",
       "Q 23.390625 48.390625 19.1875 42.75 \r\n",
       "Q 14.984375 37.109375 14.984375 27.296875 \r\n",
       "Q 14.984375 17.484375 19.15625 11.84375 \r\n",
       "Q 23.34375 6.203125 30.609375 6.203125 \r\n",
       "Q 37.796875 6.203125 41.984375 11.859375 \r\n",
       "Q 46.1875 17.53125 46.1875 27.296875 \r\n",
       "Q 46.1875 37.015625 41.984375 42.703125 \r\n",
       "Q 37.796875 48.390625 30.609375 48.390625 \r\n",
       "z\r\n",
       "M 30.609375 56 \r\n",
       "Q 42.328125 56 49.015625 48.375 \r\n",
       "Q 55.71875 40.765625 55.71875 27.296875 \r\n",
       "Q 55.71875 13.875 49.015625 6.21875 \r\n",
       "Q 42.328125 -1.421875 30.609375 -1.421875 \r\n",
       "Q 18.84375 -1.421875 12.171875 6.21875 \r\n",
       "Q 5.515625 13.875 5.515625 27.296875 \r\n",
       "Q 5.515625 40.765625 12.171875 48.375 \r\n",
       "Q 18.84375 56 30.609375 56 \r\n",
       "z\r\n",
       "\" id=\"DejaVuSans-111\"/>\r\n",
       "       <path d=\"M 48.78125 52.59375 \r\n",
       "L 48.78125 44.1875 \r\n",
       "Q 44.96875 46.296875 41.140625 47.34375 \r\n",
       "Q 37.3125 48.390625 33.40625 48.390625 \r\n",
       "Q 24.65625 48.390625 19.8125 42.84375 \r\n",
       "Q 14.984375 37.3125 14.984375 27.296875 \r\n",
       "Q 14.984375 17.28125 19.8125 11.734375 \r\n",
       "Q 24.65625 6.203125 33.40625 6.203125 \r\n",
       "Q 37.3125 6.203125 41.140625 7.25 \r\n",
       "Q 44.96875 8.296875 48.78125 10.40625 \r\n",
       "L 48.78125 2.09375 \r\n",
       "Q 45.015625 0.34375 40.984375 -0.53125 \r\n",
       "Q 36.96875 -1.421875 32.421875 -1.421875 \r\n",
       "Q 20.0625 -1.421875 12.78125 6.34375 \r\n",
       "Q 5.515625 14.109375 5.515625 27.296875 \r\n",
       "Q 5.515625 40.671875 12.859375 48.328125 \r\n",
       "Q 20.21875 56 33.015625 56 \r\n",
       "Q 37.15625 56 41.109375 55.140625 \r\n",
       "Q 45.0625 54.296875 48.78125 52.59375 \r\n",
       "z\r\n",
       "\" id=\"DejaVuSans-99\"/>\r\n",
       "       <path d=\"M 54.890625 33.015625 \r\n",
       "L 54.890625 0 \r\n",
       "L 45.90625 0 \r\n",
       "L 45.90625 32.71875 \r\n",
       "Q 45.90625 40.484375 42.875 44.328125 \r\n",
       "Q 39.84375 48.1875 33.796875 48.1875 \r\n",
       "Q 26.515625 48.1875 22.3125 43.546875 \r\n",
       "Q 18.109375 38.921875 18.109375 30.90625 \r\n",
       "L 18.109375 0 \r\n",
       "L 9.078125 0 \r\n",
       "L 9.078125 75.984375 \r\n",
       "L 18.109375 75.984375 \r\n",
       "L 18.109375 46.1875 \r\n",
       "Q 21.34375 51.125 25.703125 53.5625 \r\n",
       "Q 30.078125 56 35.796875 56 \r\n",
       "Q 45.21875 56 50.046875 50.171875 \r\n",
       "Q 54.890625 44.34375 54.890625 33.015625 \r\n",
       "z\r\n",
       "\" id=\"DejaVuSans-104\"/>\r\n",
       "      </defs>\r\n",
       "      <use xlink:href=\"#DejaVuSans-69\"/>\r\n",
       "      <use x=\"63.183594\" xlink:href=\"#DejaVuSans-112\"/>\r\n",
       "      <use x=\"126.660156\" xlink:href=\"#DejaVuSans-111\"/>\r\n",
       "      <use x=\"187.841797\" xlink:href=\"#DejaVuSans-99\"/>\r\n",
       "      <use x=\"242.822266\" xlink:href=\"#DejaVuSans-104\"/>\r\n",
       "     </g>\r\n",
       "    </g>\r\n",
       "   </g>\r\n",
       "   <g id=\"matplotlib.axis_2\">\r\n",
       "    <g id=\"ytick_1\">\r\n",
       "     <g id=\"line2d_6\">\r\n",
       "      <defs>\r\n",
       "       <path d=\"M 0 0 \r\n",
       "L -3.5 0 \r\n",
       "\" id=\"m747b5941ab\" style=\"stroke:#000000;stroke-width:0.8;\"/>\r\n",
       "      </defs>\r\n",
       "      <g>\r\n",
       "       <use style=\"stroke:#000000;stroke-width:0.8;\" x=\"52.160938\" xlink:href=\"#m747b5941ab\" y=\"203.241447\"/>\r\n",
       "      </g>\r\n",
       "     </g>\r\n",
       "     <g id=\"text_7\">\r\n",
       "      <!-- −1.6 -->\r\n",
       "      <g transform=\"translate(20.878125 207.040666)scale(0.1 -0.1)\">\r\n",
       "       <defs>\r\n",
       "        <path d=\"M 10.59375 35.5 \r\n",
       "L 73.1875 35.5 \r\n",
       "L 73.1875 27.203125 \r\n",
       "L 10.59375 27.203125 \r\n",
       "z\r\n",
       "\" id=\"DejaVuSans-8722\"/>\r\n",
       "        <path d=\"M 12.40625 8.296875 \r\n",
       "L 28.515625 8.296875 \r\n",
       "L 28.515625 63.921875 \r\n",
       "L 10.984375 60.40625 \r\n",
       "L 10.984375 69.390625 \r\n",
       "L 28.421875 72.90625 \r\n",
       "L 38.28125 72.90625 \r\n",
       "L 38.28125 8.296875 \r\n",
       "L 54.390625 8.296875 \r\n",
       "L 54.390625 0 \r\n",
       "L 12.40625 0 \r\n",
       "z\r\n",
       "\" id=\"DejaVuSans-49\"/>\r\n",
       "        <path d=\"M 10.6875 12.40625 \r\n",
       "L 21 12.40625 \r\n",
       "L 21 0 \r\n",
       "L 10.6875 0 \r\n",
       "z\r\n",
       "\" id=\"DejaVuSans-46\"/>\r\n",
       "       </defs>\r\n",
       "       <use xlink:href=\"#DejaVuSans-8722\"/>\r\n",
       "       <use x=\"83.789062\" xlink:href=\"#DejaVuSans-49\"/>\r\n",
       "       <use x=\"147.412109\" xlink:href=\"#DejaVuSans-46\"/>\r\n",
       "       <use x=\"179.199219\" xlink:href=\"#DejaVuSans-54\"/>\r\n",
       "      </g>\r\n",
       "     </g>\r\n",
       "    </g>\r\n",
       "    <g id=\"ytick_2\">\r\n",
       "     <g id=\"line2d_7\">\r\n",
       "      <g>\r\n",
       "       <use style=\"stroke:#000000;stroke-width:0.8;\" x=\"52.160938\" xlink:href=\"#m747b5941ab\" y=\"164.858394\"/>\r\n",
       "      </g>\r\n",
       "     </g>\r\n",
       "     <g id=\"text_8\">\r\n",
       "      <!-- −1.5 -->\r\n",
       "      <g transform=\"translate(20.878125 168.657612)scale(0.1 -0.1)\">\r\n",
       "       <defs>\r\n",
       "        <path d=\"M 10.796875 72.90625 \r\n",
       "L 49.515625 72.90625 \r\n",
       "L 49.515625 64.59375 \r\n",
       "L 19.828125 64.59375 \r\n",
       "L 19.828125 46.734375 \r\n",
       "Q 21.96875 47.46875 24.109375 47.828125 \r\n",
       "Q 26.265625 48.1875 28.421875 48.1875 \r\n",
       "Q 40.625 48.1875 47.75 41.5 \r\n",
       "Q 54.890625 34.8125 54.890625 23.390625 \r\n",
       "Q 54.890625 11.625 47.5625 5.09375 \r\n",
       "Q 40.234375 -1.421875 26.90625 -1.421875 \r\n",
       "Q 22.3125 -1.421875 17.546875 -0.640625 \r\n",
       "Q 12.796875 0.140625 7.71875 1.703125 \r\n",
       "L 7.71875 11.625 \r\n",
       "Q 12.109375 9.234375 16.796875 8.0625 \r\n",
       "Q 21.484375 6.890625 26.703125 6.890625 \r\n",
       "Q 35.15625 6.890625 40.078125 11.328125 \r\n",
       "Q 45.015625 15.765625 45.015625 23.390625 \r\n",
       "Q 45.015625 31 40.078125 35.4375 \r\n",
       "Q 35.15625 39.890625 26.703125 39.890625 \r\n",
       "Q 22.75 39.890625 18.8125 39.015625 \r\n",
       "Q 14.890625 38.140625 10.796875 36.28125 \r\n",
       "z\r\n",
       "\" id=\"DejaVuSans-53\"/>\r\n",
       "       </defs>\r\n",
       "       <use xlink:href=\"#DejaVuSans-8722\"/>\r\n",
       "       <use x=\"83.789062\" xlink:href=\"#DejaVuSans-49\"/>\r\n",
       "       <use x=\"147.412109\" xlink:href=\"#DejaVuSans-46\"/>\r\n",
       "       <use x=\"179.199219\" xlink:href=\"#DejaVuSans-53\"/>\r\n",
       "      </g>\r\n",
       "     </g>\r\n",
       "    </g>\r\n",
       "    <g id=\"ytick_3\">\r\n",
       "     <g id=\"line2d_8\">\r\n",
       "      <g>\r\n",
       "       <use style=\"stroke:#000000;stroke-width:0.8;\" x=\"52.160938\" xlink:href=\"#m747b5941ab\" y=\"126.47534\"/>\r\n",
       "      </g>\r\n",
       "     </g>\r\n",
       "     <g id=\"text_9\">\r\n",
       "      <!-- −1.4 -->\r\n",
       "      <g transform=\"translate(20.878125 130.274559)scale(0.1 -0.1)\">\r\n",
       "       <use xlink:href=\"#DejaVuSans-8722\"/>\r\n",
       "       <use x=\"83.789062\" xlink:href=\"#DejaVuSans-49\"/>\r\n",
       "       <use x=\"147.412109\" xlink:href=\"#DejaVuSans-46\"/>\r\n",
       "       <use x=\"179.199219\" xlink:href=\"#DejaVuSans-52\"/>\r\n",
       "      </g>\r\n",
       "     </g>\r\n",
       "    </g>\r\n",
       "    <g id=\"ytick_4\">\r\n",
       "     <g id=\"line2d_9\">\r\n",
       "      <g>\r\n",
       "       <use style=\"stroke:#000000;stroke-width:0.8;\" x=\"52.160938\" xlink:href=\"#m747b5941ab\" y=\"88.092286\"/>\r\n",
       "      </g>\r\n",
       "     </g>\r\n",
       "     <g id=\"text_10\">\r\n",
       "      <!-- −1.3 -->\r\n",
       "      <g transform=\"translate(20.878125 91.891505)scale(0.1 -0.1)\">\r\n",
       "       <defs>\r\n",
       "        <path d=\"M 40.578125 39.3125 \r\n",
       "Q 47.65625 37.796875 51.625 33 \r\n",
       "Q 55.609375 28.21875 55.609375 21.1875 \r\n",
       "Q 55.609375 10.40625 48.1875 4.484375 \r\n",
       "Q 40.765625 -1.421875 27.09375 -1.421875 \r\n",
       "Q 22.515625 -1.421875 17.65625 -0.515625 \r\n",
       "Q 12.796875 0.390625 7.625 2.203125 \r\n",
       "L 7.625 11.71875 \r\n",
       "Q 11.71875 9.328125 16.59375 8.109375 \r\n",
       "Q 21.484375 6.890625 26.8125 6.890625 \r\n",
       "Q 36.078125 6.890625 40.9375 10.546875 \r\n",
       "Q 45.796875 14.203125 45.796875 21.1875 \r\n",
       "Q 45.796875 27.640625 41.28125 31.265625 \r\n",
       "Q 36.765625 34.90625 28.71875 34.90625 \r\n",
       "L 20.21875 34.90625 \r\n",
       "L 20.21875 43.015625 \r\n",
       "L 29.109375 43.015625 \r\n",
       "Q 36.375 43.015625 40.234375 45.921875 \r\n",
       "Q 44.09375 48.828125 44.09375 54.296875 \r\n",
       "Q 44.09375 59.90625 40.109375 62.90625 \r\n",
       "Q 36.140625 65.921875 28.71875 65.921875 \r\n",
       "Q 24.65625 65.921875 20.015625 65.03125 \r\n",
       "Q 15.375 64.15625 9.8125 62.3125 \r\n",
       "L 9.8125 71.09375 \r\n",
       "Q 15.4375 72.65625 20.34375 73.4375 \r\n",
       "Q 25.25 74.21875 29.59375 74.21875 \r\n",
       "Q 40.828125 74.21875 47.359375 69.109375 \r\n",
       "Q 53.90625 64.015625 53.90625 55.328125 \r\n",
       "Q 53.90625 49.265625 50.4375 45.09375 \r\n",
       "Q 46.96875 40.921875 40.578125 39.3125 \r\n",
       "z\r\n",
       "\" id=\"DejaVuSans-51\"/>\r\n",
       "       </defs>\r\n",
       "       <use xlink:href=\"#DejaVuSans-8722\"/>\r\n",
       "       <use x=\"83.789062\" xlink:href=\"#DejaVuSans-49\"/>\r\n",
       "       <use x=\"147.412109\" xlink:href=\"#DejaVuSans-46\"/>\r\n",
       "       <use x=\"179.199219\" xlink:href=\"#DejaVuSans-51\"/>\r\n",
       "      </g>\r\n",
       "     </g>\r\n",
       "    </g>\r\n",
       "    <g id=\"ytick_5\">\r\n",
       "     <g id=\"line2d_10\">\r\n",
       "      <g>\r\n",
       "       <use style=\"stroke:#000000;stroke-width:0.8;\" x=\"52.160938\" xlink:href=\"#m747b5941ab\" y=\"49.709232\"/>\r\n",
       "      </g>\r\n",
       "     </g>\r\n",
       "     <g id=\"text_11\">\r\n",
       "      <!-- −1.2 -->\r\n",
       "      <g transform=\"translate(20.878125 53.508451)scale(0.1 -0.1)\">\r\n",
       "       <use xlink:href=\"#DejaVuSans-8722\"/>\r\n",
       "       <use x=\"83.789062\" xlink:href=\"#DejaVuSans-49\"/>\r\n",
       "       <use x=\"147.412109\" xlink:href=\"#DejaVuSans-46\"/>\r\n",
       "       <use x=\"179.199219\" xlink:href=\"#DejaVuSans-50\"/>\r\n",
       "      </g>\r\n",
       "     </g>\r\n",
       "    </g>\r\n",
       "    <g id=\"ytick_6\">\r\n",
       "     <g id=\"line2d_11\">\r\n",
       "      <g>\r\n",
       "       <use style=\"stroke:#000000;stroke-width:0.8;\" x=\"52.160938\" xlink:href=\"#m747b5941ab\" y=\"11.326178\"/>\r\n",
       "      </g>\r\n",
       "     </g>\r\n",
       "     <g id=\"text_12\">\r\n",
       "      <!-- −1.1 -->\r\n",
       "      <g transform=\"translate(20.878125 15.125397)scale(0.1 -0.1)\">\r\n",
       "       <use xlink:href=\"#DejaVuSans-8722\"/>\r\n",
       "       <use x=\"83.789062\" xlink:href=\"#DejaVuSans-49\"/>\r\n",
       "       <use x=\"147.412109\" xlink:href=\"#DejaVuSans-46\"/>\r\n",
       "       <use x=\"179.199219\" xlink:href=\"#DejaVuSans-49\"/>\r\n",
       "      </g>\r\n",
       "     </g>\r\n",
       "    </g>\r\n",
       "    <g id=\"text_13\">\r\n",
       "     <!-- Reward -->\r\n",
       "     <g transform=\"translate(14.798437 134.541094)rotate(-90)scale(0.1 -0.1)\">\r\n",
       "      <defs>\r\n",
       "       <path d=\"M 44.390625 34.1875 \r\n",
       "Q 47.5625 33.109375 50.5625 29.59375 \r\n",
       "Q 53.5625 26.078125 56.59375 19.921875 \r\n",
       "L 66.609375 0 \r\n",
       "L 56 0 \r\n",
       "L 46.6875 18.703125 \r\n",
       "Q 43.0625 26.03125 39.671875 28.421875 \r\n",
       "Q 36.28125 30.8125 30.421875 30.8125 \r\n",
       "L 19.671875 30.8125 \r\n",
       "L 19.671875 0 \r\n",
       "L 9.8125 0 \r\n",
       "L 9.8125 72.90625 \r\n",
       "L 32.078125 72.90625 \r\n",
       "Q 44.578125 72.90625 50.734375 67.671875 \r\n",
       "Q 56.890625 62.453125 56.890625 51.90625 \r\n",
       "Q 56.890625 45.015625 53.6875 40.46875 \r\n",
       "Q 50.484375 35.9375 44.390625 34.1875 \r\n",
       "z\r\n",
       "M 19.671875 64.796875 \r\n",
       "L 19.671875 38.921875 \r\n",
       "L 32.078125 38.921875 \r\n",
       "Q 39.203125 38.921875 42.84375 42.21875 \r\n",
       "Q 46.484375 45.515625 46.484375 51.90625 \r\n",
       "Q 46.484375 58.296875 42.84375 61.546875 \r\n",
       "Q 39.203125 64.796875 32.078125 64.796875 \r\n",
       "z\r\n",
       "\" id=\"DejaVuSans-82\"/>\r\n",
       "       <path d=\"M 56.203125 29.59375 \r\n",
       "L 56.203125 25.203125 \r\n",
       "L 14.890625 25.203125 \r\n",
       "Q 15.484375 15.921875 20.484375 11.0625 \r\n",
       "Q 25.484375 6.203125 34.421875 6.203125 \r\n",
       "Q 39.59375 6.203125 44.453125 7.46875 \r\n",
       "Q 49.3125 8.734375 54.109375 11.28125 \r\n",
       "L 54.109375 2.78125 \r\n",
       "Q 49.265625 0.734375 44.1875 -0.34375 \r\n",
       "Q 39.109375 -1.421875 33.890625 -1.421875 \r\n",
       "Q 20.796875 -1.421875 13.15625 6.1875 \r\n",
       "Q 5.515625 13.8125 5.515625 26.8125 \r\n",
       "Q 5.515625 40.234375 12.765625 48.109375 \r\n",
       "Q 20.015625 56 32.328125 56 \r\n",
       "Q 43.359375 56 49.78125 48.890625 \r\n",
       "Q 56.203125 41.796875 56.203125 29.59375 \r\n",
       "z\r\n",
       "M 47.21875 32.234375 \r\n",
       "Q 47.125 39.59375 43.09375 43.984375 \r\n",
       "Q 39.0625 48.390625 32.421875 48.390625 \r\n",
       "Q 24.90625 48.390625 20.390625 44.140625 \r\n",
       "Q 15.875 39.890625 15.1875 32.171875 \r\n",
       "z\r\n",
       "\" id=\"DejaVuSans-101\"/>\r\n",
       "       <path d=\"M 4.203125 54.6875 \r\n",
       "L 13.1875 54.6875 \r\n",
       "L 24.421875 12.015625 \r\n",
       "L 35.59375 54.6875 \r\n",
       "L 46.1875 54.6875 \r\n",
       "L 57.421875 12.015625 \r\n",
       "L 68.609375 54.6875 \r\n",
       "L 77.59375 54.6875 \r\n",
       "L 63.28125 0 \r\n",
       "L 52.6875 0 \r\n",
       "L 40.921875 44.828125 \r\n",
       "L 29.109375 0 \r\n",
       "L 18.5 0 \r\n",
       "z\r\n",
       "\" id=\"DejaVuSans-119\"/>\r\n",
       "       <path d=\"M 34.28125 27.484375 \r\n",
       "Q 23.390625 27.484375 19.1875 25 \r\n",
       "Q 14.984375 22.515625 14.984375 16.5 \r\n",
       "Q 14.984375 11.71875 18.140625 8.90625 \r\n",
       "Q 21.296875 6.109375 26.703125 6.109375 \r\n",
       "Q 34.1875 6.109375 38.703125 11.40625 \r\n",
       "Q 43.21875 16.703125 43.21875 25.484375 \r\n",
       "L 43.21875 27.484375 \r\n",
       "z\r\n",
       "M 52.203125 31.203125 \r\n",
       "L 52.203125 0 \r\n",
       "L 43.21875 0 \r\n",
       "L 43.21875 8.296875 \r\n",
       "Q 40.140625 3.328125 35.546875 0.953125 \r\n",
       "Q 30.953125 -1.421875 24.3125 -1.421875 \r\n",
       "Q 15.921875 -1.421875 10.953125 3.296875 \r\n",
       "Q 6 8.015625 6 15.921875 \r\n",
       "Q 6 25.140625 12.171875 29.828125 \r\n",
       "Q 18.359375 34.515625 30.609375 34.515625 \r\n",
       "L 43.21875 34.515625 \r\n",
       "L 43.21875 35.40625 \r\n",
       "Q 43.21875 41.609375 39.140625 45 \r\n",
       "Q 35.0625 48.390625 27.6875 48.390625 \r\n",
       "Q 23 48.390625 18.546875 47.265625 \r\n",
       "Q 14.109375 46.140625 10.015625 43.890625 \r\n",
       "L 10.015625 52.203125 \r\n",
       "Q 14.9375 54.109375 19.578125 55.046875 \r\n",
       "Q 24.21875 56 28.609375 56 \r\n",
       "Q 40.484375 56 46.34375 49.84375 \r\n",
       "Q 52.203125 43.703125 52.203125 31.203125 \r\n",
       "z\r\n",
       "\" id=\"DejaVuSans-97\"/>\r\n",
       "       <path d=\"M 41.109375 46.296875 \r\n",
       "Q 39.59375 47.171875 37.8125 47.578125 \r\n",
       "Q 36.03125 48 33.890625 48 \r\n",
       "Q 26.265625 48 22.1875 43.046875 \r\n",
       "Q 18.109375 38.09375 18.109375 28.8125 \r\n",
       "L 18.109375 0 \r\n",
       "L 9.078125 0 \r\n",
       "L 9.078125 54.6875 \r\n",
       "L 18.109375 54.6875 \r\n",
       "L 18.109375 46.1875 \r\n",
       "Q 20.953125 51.171875 25.484375 53.578125 \r\n",
       "Q 30.03125 56 36.53125 56 \r\n",
       "Q 37.453125 56 38.578125 55.875 \r\n",
       "Q 39.703125 55.765625 41.0625 55.515625 \r\n",
       "z\r\n",
       "\" id=\"DejaVuSans-114\"/>\r\n",
       "       <path d=\"M 45.40625 46.390625 \r\n",
       "L 45.40625 75.984375 \r\n",
       "L 54.390625 75.984375 \r\n",
       "L 54.390625 0 \r\n",
       "L 45.40625 0 \r\n",
       "L 45.40625 8.203125 \r\n",
       "Q 42.578125 3.328125 38.25 0.953125 \r\n",
       "Q 33.9375 -1.421875 27.875 -1.421875 \r\n",
       "Q 17.96875 -1.421875 11.734375 6.484375 \r\n",
       "Q 5.515625 14.40625 5.515625 27.296875 \r\n",
       "Q 5.515625 40.1875 11.734375 48.09375 \r\n",
       "Q 17.96875 56 27.875 56 \r\n",
       "Q 33.9375 56 38.25 53.625 \r\n",
       "Q 42.578125 51.265625 45.40625 46.390625 \r\n",
       "z\r\n",
       "M 14.796875 27.296875 \r\n",
       "Q 14.796875 17.390625 18.875 11.75 \r\n",
       "Q 22.953125 6.109375 30.078125 6.109375 \r\n",
       "Q 37.203125 6.109375 41.296875 11.75 \r\n",
       "Q 45.40625 17.390625 45.40625 27.296875 \r\n",
       "Q 45.40625 37.203125 41.296875 42.84375 \r\n",
       "Q 37.203125 48.484375 30.078125 48.484375 \r\n",
       "Q 22.953125 48.484375 18.875 42.84375 \r\n",
       "Q 14.796875 37.203125 14.796875 27.296875 \r\n",
       "z\r\n",
       "\" id=\"DejaVuSans-100\"/>\r\n",
       "      </defs>\r\n",
       "      <use xlink:href=\"#DejaVuSans-82\"/>\r\n",
       "      <use x=\"64.982422\" xlink:href=\"#DejaVuSans-101\"/>\r\n",
       "      <use x=\"126.505859\" xlink:href=\"#DejaVuSans-119\"/>\r\n",
       "      <use x=\"208.292969\" xlink:href=\"#DejaVuSans-97\"/>\r\n",
       "      <use x=\"269.572266\" xlink:href=\"#DejaVuSans-114\"/>\r\n",
       "      <use x=\"308.935547\" xlink:href=\"#DejaVuSans-100\"/>\r\n",
       "     </g>\r\n",
       "    </g>\r\n",
       "   </g>\r\n",
       "   <g id=\"line2d_12\">\r\n",
       "    <path clip-path=\"url(#pa7882c24fc)\" d=\"M 67.379119 17.083636 \r\n",
       "L 101.197301 72.739064 \r\n",
       "L 135.015483 93.849744 \r\n",
       "L 168.833665 197.483989 \r\n",
       "L 202.651847 143.747714 \r\n",
       "L 236.470028 63.143301 \r\n",
       "L 270.28821 195.564837 \r\n",
       "L 304.106392 120.717882 \r\n",
       "L 337.924574 214.756364 \r\n",
       "L 371.742756 72.739064 \r\n",
       "\" style=\"fill:none;stroke:#1f77b4;stroke-linecap:square;stroke-width:1.5;\"/>\r\n",
       "   </g>\r\n",
       "   <g id=\"patch_3\">\r\n",
       "    <path d=\"M 52.160938 224.64 \r\n",
       "L 52.160938 7.2 \r\n",
       "\" style=\"fill:none;stroke:#000000;stroke-linecap:square;stroke-linejoin:miter;stroke-width:0.8;\"/>\r\n",
       "   </g>\r\n",
       "   <g id=\"patch_4\">\r\n",
       "    <path d=\"M 386.960938 224.64 \r\n",
       "L 386.960938 7.2 \r\n",
       "\" style=\"fill:none;stroke:#000000;stroke-linecap:square;stroke-linejoin:miter;stroke-width:0.8;\"/>\r\n",
       "   </g>\r\n",
       "   <g id=\"patch_5\">\r\n",
       "    <path d=\"M 52.160938 224.64 \r\n",
       "L 386.960938 224.64 \r\n",
       "\" style=\"fill:none;stroke:#000000;stroke-linecap:square;stroke-linejoin:miter;stroke-width:0.8;\"/>\r\n",
       "   </g>\r\n",
       "   <g id=\"patch_6\">\r\n",
       "    <path d=\"M 52.160938 7.2 \r\n",
       "L 386.960938 7.2 \r\n",
       "\" style=\"fill:none;stroke:#000000;stroke-linecap:square;stroke-linejoin:miter;stroke-width:0.8;\"/>\r\n",
       "   </g>\r\n",
       "  </g>\r\n",
       " </g>\r\n",
       " <defs>\r\n",
       "  <clipPath id=\"pa7882c24fc\">\r\n",
       "   <rect height=\"217.44\" width=\"334.8\" x=\"52.160938\" y=\"7.2\"/>\r\n",
       "  </clipPath>\r\n",
       " </defs>\r\n",
       "</svg>\r\n"
      ],
      "text/plain": [
       "<Figure size 432x288 with 1 Axes>"
      ]
     },
     "metadata": {
      "needs_background": "light"
     },
     "output_type": "display_data"
    }
   ],
   "source": [
    "env = MarelleGymEnv(end_after_place_phase=False)\n",
    "\n",
    "# Models\n",
    "einstein_fc_model = FCModel(env.N_STATE, env.N_TOTAL_ACTIONS)\n",
    "einstein_conv_model = ConvModel(env.N_TOTAL_ACTIONS)\n",
    "\n",
    "# Agents\n",
    "einstein_fc = SingleModelReinforce(env=env, player_id=1, model=einstein_fc_model, lr=0.005, win_reward=1, defeat_reward=-1, capture_reward=0.1, captured_reward=-0.1, epsilon=0, gamma=1)\n",
    "\n",
    "einstein_conv = SingleModelReinforce(env=env, player_id=1, model=einstein_conv_model, lr=0.00005, win_reward=1, defeat_reward=-1, capture_reward=0.1, captured_reward=-0.1, epsilon=0, gamma=1)\n",
    "\n",
    "# Opponents\n",
    "opponent_agent=BetterRandomAgent(env, -1)\n",
    "evaluate_agent=BetterRandomAgent(env,-1)\n",
    "\n",
    "cProfile.run(\"\"\"train_agent(\n",
    "    env=env,\n",
    "    n_epochs=10,\n",
    "    n_trajectories=20,\n",
    "    trained_agent=einstein_conv,\n",
    "    opponent_agent=opponent_agent,\n",
    "    evaluate_agent=evaluate_agent,\n",
    "    log_training=False,\n",
    "    save_model_freq=5,\n",
    "    evaluate_freq=2\n",
    ")\"\"\", sort='tottime')"
   ]
  },
  {
   "cell_type": "code",
   "execution_count": 35,
   "metadata": {},
   "outputs": [
    {
     "name": "stdout",
     "output_type": "stream",
     "text": [
      "         12232816 function calls (12224140 primitive calls) in 7.245 seconds\n",
      "\n",
      "   Ordered by: internal time\n",
      "\n",
      "   ncalls  tottime  percall  cumtime  percall filename:lineno(function)\n",
      "    17261    1.734    0.000    4.569    0.000 marl_env.py:295(move_token_legal_actions)\n",
      "  3075028    1.500    0.000    1.996    0.000 graph.py:656(nodes)\n",
      "  3386710    0.559    0.000    0.559    0.000 reportviews.py:186(__getitem__)\n",
      "  3075028    0.497    0.000    0.497    0.000 reportviews.py:176(__init__)\n",
      "     6507    0.389    0.000    0.389    0.000 {built-in method conv2d}\n",
      "   572913    0.384    0.000    0.387    0.000 reportviews.py:1116(__iter__)\n",
      "   176551    0.363    0.000    0.455    0.000 marl_env.py:325(check_if_capture)\n",
      "     3152    0.216    0.000    0.600    0.000 marl_env.py:252(place_token_legal_actions)\n",
      "     2169    0.166    0.000    0.283    0.000 marl_models.py:41(transform_input_to_mat)\n",
      "     8858    0.165    0.000    0.369    0.000 marl_env.py:227(get_state)\n",
      "     4338    0.093    0.000    0.093    0.000 {built-in method tensor}\n",
      "    16097    0.085    0.000    4.263    0.000 marl_env.py:212(get_legal_action_ids)\n",
      "   881888    0.083    0.000    0.083    0.000 {method 'append' of 'list' objects}\n",
      "     2169    0.076    0.000    0.076    0.000 {built-in method addmm}\n",
      "10845/2169    0.069    0.000    1.070    0.000 module.py:715(_call_impl)\n",
      "      100    0.068    0.001    0.105    0.001 marl_env.py:66(__init__)\n",
      "   511390    0.067    0.000    0.067    0.000 marl_env.py:380(get_opponent)\n",
      "     2169    0.058    0.000    0.058    0.000 {built-in method relu}\n",
      "     2169    0.050    0.000    1.047    0.000 marl_models.py:86(forward)\n",
      "     6507    0.044    0.000    0.073    0.000 {built-in method numpy.array}\n",
      "     2169    0.044    0.000    1.752    0.001 marl_agents.py:161(learned_act)\n",
      "     1277    0.030    0.000    0.030    0.000 {method 'choice' of 'numpy.random.mtrand.RandomState' objects}\n",
      "     4329    0.026    0.000    5.680    0.001 marl_env.py:442(step)\n",
      "    21745    0.026    0.000    3.459    0.000 marl_env.py:362(check_if_end)\n",
      "     2160    0.020    0.000    1.378    0.001 marl_agents.py:291(learned_act)\n",
      "    26028    0.020    0.000    0.020    0.000 module.py:765(__getattr__)\n",
      "     4329    0.019    0.000    2.343    0.001 marl_env.py:26(step)\n",
      "     5058    0.019    0.000    0.044    0.000 marl_env.py:271(move_token_action)\n",
      "     2169    0.019    0.000    0.019    0.000 {method 't' of 'torch._C._TensorBase' objects}\n",
      "     8658    0.018    0.000    1.482    0.000 marl_env.py:192(play_action)\n",
      "     4338    0.017    0.000    0.028    0.000 tensor.py:624(__array__)\n",
      "     2169    0.016    0.000    0.016    0.000 {method 'view' of 'torch._C._TensorBase' objects}\n",
      "      300    0.016    0.000    0.046    0.000 marl_env.py:106(initialize_game)\n",
      "        1    0.016    0.016    7.245    7.245 marl_env.py:477(evaluate)\n",
      "    17361    0.016    0.000    0.020    0.000 reportviews.py:992(__init__)\n",
      "     6507    0.015    0.000    0.407    0.000 conv.py:414(_conv_forward)\n",
      "     2169    0.014    0.000    0.124    0.000 functional.py:1669(linear)\n",
      "     6507    0.013    0.000    0.425    0.000 conv.py:422(forward)\n",
      "    38123    0.013    0.000    0.019    0.000 reportviews.py:183(__iter__)\n",
      "     9600    0.012    0.000    0.015    0.000 graph.py:820(add_edge)\n",
      "    10845    0.012    0.000    0.012    0.000 {built-in method torch._C._get_tracing_state}\n",
      "     4338    0.012    0.000    0.012    0.000 {method 'detach' of 'torch._C._TensorBase' objects}\n",
      "     4338    0.011    0.000    0.011    0.000 {method 'numpy' of 'torch._C._TensorBase' objects}\n",
      "    17361    0.010    0.000    0.030    0.000 graph.py:1242(edges)\n",
      "     4338    0.008    0.000    0.044    0.000 {built-in method numpy.core._multiarray_umath.implement_array_function}\n",
      "     2169    0.008    0.000    0.027    0.000 fromnumeric.py:39(_wrapit)\n",
      "     3600    0.007    0.000    0.014    0.000 marl_env.py:234(place_token_action)\n",
      "     7200    0.007    0.000    0.008    0.000 graph.py:467(add_node)\n",
      "     2169    0.007    0.000    0.133    0.000 linear.py:92(forward)\n",
      "     2169    0.006    0.000    0.006    0.000 marl_agents.py:165(<listcomp>)\n",
      "    38123    0.006    0.000    0.006    0.000 {built-in method builtins.iter}\n",
      "    43380    0.006    0.000    0.006    0.000 {method 'values' of 'collections.OrderedDict' objects}\n",
      "      100    0.006    0.000    5.705    0.057 marl_env.py:404(play)\n",
      "     8658    0.006    0.000    0.006    0.000 marl_env.py:358(change_phase_if_needed)\n",
      "     2169    0.005    0.000    0.019    0.000 numeric.py:144(ones)\n",
      "     2169    0.005    0.000    0.005    0.000 {method 'argmax' of 'numpy.ndarray' objects}\n",
      "     2169    0.005    0.000    0.032    0.000 fromnumeric.py:52(_wrapfunc)\n",
      "     4320    0.004    0.000    1.009    0.000 marl_env.py:201(get_legal_actions)\n",
      "     2169    0.004    0.000    0.062    0.000 functional.py:1124(relu)\n",
      "    34341    0.004    0.000    0.004    0.000 {built-in method builtins.len}\n",
      "    17361    0.004    0.000    0.004    0.000 {built-in method builtins.hasattr}\n",
      "     2169    0.004    0.000    0.004    0.000 {built-in method numpy.empty}\n",
      "     2169    0.003    0.000    0.036    0.000 fromnumeric.py:1114(argmax)\n",
      "     2169    0.003    0.000    0.010    0.000 <__array_function__ internals>:2(copyto)\n",
      "     2169    0.003    0.000    0.010    0.000 overrides.py:1073(has_torch_function)\n",
      "     4338    0.003    0.000    0.007    0.000 {built-in method builtins.any}\n",
      "     2169    0.003    0.000    0.041    0.000 <__array_function__ internals>:2(argmax)\n",
      "     6507    0.003    0.000    0.004    0.000 overrides.py:1086(<genexpr>)\n",
      "    17361    0.003    0.000    0.003    0.000 {method 'items' of 'dict' objects}\n",
      "     2169    0.003    0.000    0.003    0.000 {method 'reshape' of 'numpy.ndarray' objects}\n",
      "    17100    0.003    0.000    0.003    0.000 {method 'update' of 'dict' objects}\n",
      "     2169    0.002    0.000    0.002    0.000 functional.py:1686(<listcomp>)\n",
      "     6507    0.002    0.000    0.002    0.000 {built-in method builtins.getattr}\n",
      "     2169    0.001    0.000    0.013    0.000 _asarray.py:14(asarray)\n",
      "     2169    0.001    0.000    0.001    0.000 {method 'dim' of 'torch._C._TensorBase' objects}\n",
      "     9600    0.001    0.000    0.001    0.000 {method 'get' of 'dict' objects}\n",
      "      300    0.001    0.000    0.001    0.000 graph.py:290(__init__)\n",
      "     4338    0.001    0.000    0.001    0.000 _jit_internal.py:750(is_scripting)\n",
      "     2169    0.001    0.000    0.001    0.000 {built-in method torch._C._is_torch_function_enabled}\n",
      "     2169    0.001    0.000    0.001    0.000 multiarray.py:1043(copyto)\n",
      "     2169    0.000    0.000    0.000    0.000 fromnumeric.py:1110(_argmax_dispatcher)\n",
      "      200    0.000    0.000    0.040    0.000 marl_env.py:51(reset)\n",
      "      200    0.000    0.000    0.040    0.000 marl_env.py:435(reset)\n",
      "        1    0.000    0.000    7.245    7.245 marl_evaluations.py:4(evaluate)\n",
      "        1    0.000    0.000    7.245    7.245 {built-in method builtins.exec}\n",
      "        1    0.000    0.000    7.245    7.245 <string>:1(<module>)\n",
      "        1    0.000    0.000    0.000    0.000 marl_env.py:387(__init__)\n",
      "        1    0.000    0.000    0.000    0.000 {method 'disable' of '_lsprof.Profiler' objects}\n",
      "\n",
      "\n"
     ]
    }
   ],
   "source": [
    "evaluation_agent = einstein_conv\n",
    "env.reset()\n",
    "gabrielle = BetterRandomAgent(env, -1)\n",
    "piccolo = BetterRandomAgent(env, 1)\n",
    "\n",
    "cProfile.run(\"evaluate(env, einstein_conv, gabrielle, 100, 1)\", sort=\"tottime\")"
   ]
  },
  {
   "cell_type": "code",
   "execution_count": null,
   "metadata": {},
   "outputs": [],
   "source": []
  }
 ],
 "metadata": {
  "colab": {
   "collapsed_sections": [],
   "name": "maRL_environment",
   "provenance": []
  },
  "kernelspec": {
   "display_name": "Python 3",
   "language": "python",
   "name": "python3"
  },
  "language_info": {
   "codemirror_mode": {
    "name": "ipython",
    "version": 3
   },
   "file_extension": ".py",
   "mimetype": "text/x-python",
   "name": "python",
   "nbconvert_exporter": "python",
   "pygments_lexer": "ipython3",
   "version": "3.8.5"
  },
  "varInspector": {
   "cols": {
    "lenName": 16,
    "lenType": 16,
    "lenVar": 40
   },
   "kernels_config": {
    "python": {
     "delete_cmd_postfix": "",
     "delete_cmd_prefix": "del ",
     "library": "var_list.py",
     "varRefreshCmd": "print(var_dic_list())"
    },
    "r": {
     "delete_cmd_postfix": ") ",
     "delete_cmd_prefix": "rm(",
     "library": "var_list.r",
     "varRefreshCmd": "cat(var_dic_list()) "
    }
   },
   "types_to_exclude": [
    "module",
    "function",
    "builtin_function_or_method",
    "instance",
    "_Feature"
   ],
   "window_display": true
  }
 },
 "nbformat": 4,
 "nbformat_minor": 1
}
