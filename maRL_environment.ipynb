{
  "nbformat": 4,
  "nbformat_minor": 0,
  "metadata": {
    "colab": {
      "name": "maRL_environment",
      "provenance": [],
      "collapsed_sections": []
    },
    "kernelspec": {
      "name": "python3",
      "display_name": "Python 3"
    }
  },
  "cells": [
    {
      "source": [
        "# Marelle Board import\n",
        "* Getting players info dict => `MarelleBoard.players`\n",
        "* 3 phases : place, move and end => `MarelleBoard.phase`\n",
        "* Reset the board => `MarelleBoard.initialize_game()`\n",
        "* Printing the board => `MarelleBoard.print_board()`\n",
        "* Id:Action dict => `MarelleBoard.action_list_by_id`\n",
        "* Action:Id dict => `MarelleBoard.action_id_by_action`\n",
        "* Play an action => `MarelleBoard.play_action(action_id, player)`\n",
        "* Get legal action ids => `MarelleBoard.get_legal_action_ids(player)`\n",
        "* Check if game ended (returns 0 if not ended or winning player id) : `MarelleBoard.check_if_end()`"
      ],
      "cell_type": "markdown",
      "metadata": {}
    },
    {
      "cell_type": "code",
      "metadata": {
        "id": "Ge3pFEexRsNn"
      },
      "source": [
        "from maRL_board import MarelleBoard"
      ],
      "execution_count": 1,
      "outputs": []
    },
    {
      "cell_type": "code",
      "metadata": {
        "id": "BPaStlS9wBMd",
        "outputId": "09debeb0-5095-4449-c519-8e1891d95851",
        "colab": {
          "base_uri": "https://localhost:8080/"
        }
      },
      "source": [
        "# Initialize board\n",
        "board = MarelleBoard()\n",
        "\n",
        "# Players place tokens\n",
        "board.place_token(position=(0, 0), player=1)\n",
        "board.place_token(position=(1, 0), player=2)\n",
        "board.place_token(position=(2, 5), player=1)\n",
        "\n",
        "# Players can move tokens\n",
        "board.move_token(position=(0, 0), new_position=(0, 7), player=1)\n",
        "\n",
        "# Print the board\n",
        "board.print_board()"
      ],
      "execution_count": null,
      "outputs": [
        {
          "output_type": "stream",
          "text": [
            "\n",
            "\n",
            "    0--------------0--------------0\n",
            "\n",
            "    |              |              |\n",
            "\n",
            "    |    0---------0---------0    |\n",
            "\n",
            "    |    |         |         |    |\n",
            "\n",
            "    |    |    0----0----0    |    |\n",
            "\n",
            "    |    |    |         |    |    |\n",
            "\n",
            "    0----0----0         0----2----0\n",
            "                 \n",
            "    |    |    |         |    |    |\n",
            "\n",
            "    |    |    0----0----1    |    |\n",
            "\n",
            "    |    |         |         |    |\n",
            "\n",
            "    |    0---------0---------0    |\n",
            "\n",
            "    |              |              |\n",
            "\n",
            "    1--------------0--------------0\n",
            "    \n"
          ],
          "name": "stdout"
        }
      ]
    },
    {
      "cell_type": "code",
      "metadata": {
        "id": "80mMWDyGk1CD",
        "outputId": "9107ce21-6a2a-4c76-c4d7-9ad203f20b55",
        "colab": {
          "base_uri": "https://localhost:8080/"
        }
      },
      "source": [
        "# All token placement actions\n",
        "print(board.place_token_action_list)\n",
        "print(f\"{len(board.place_token_action_list)} possible placement actions\")\n",
        "\n",
        "# All token movement actions\n",
        "print(board.move_token_action_list)\n",
        "print(f\"{len(board.move_token_action_list)} possible movement actions\")\n",
        "\n",
        "# All player 1 legal token place actions\n",
        "print(board.place_token_legal_actions(player=1))\n",
        "print(f\"{len(board.place_token_legal_actions(player=1))} legal placement actions\")\n",
        "\n",
        "\n",
        "# All player 1 legal token move actions\n",
        "print(board.move_token_legal_actions(player=1))\n",
        "print(f\"{len(board.move_token_legal_actions(player=1))} legal movement actions\")\n"
      ],
      "execution_count": null,
      "outputs": [
        {
          "output_type": "stream",
          "text": [
            "[(0, 0), (0, 1), (0, 2), (0, 3), (0, 4), (0, 5), (0, 6), (0, 7), (1, 0), (1, 1), (1, 2), (1, 3), (1, 4), (1, 5), (1, 6), (1, 7), (2, 0), (2, 1), (2, 2), (2, 3), (2, 4), (2, 5), (2, 6), (2, 7)]\n",
            "24 possible placement actions\n",
            "[((0, 0), (0, 1)), ((0, 1), (0, 0)), ((0, 0), (1, 0)), ((1, 0), (0, 0)), ((0, 0), (0, 7)), ((0, 7), (0, 0)), ((0, 1), (0, 2)), ((0, 2), (0, 1)), ((0, 2), (0, 3)), ((0, 3), (0, 2)), ((0, 2), (1, 2)), ((1, 2), (0, 2)), ((0, 3), (0, 4)), ((0, 4), (0, 3)), ((0, 4), (0, 5)), ((0, 5), (0, 4)), ((0, 4), (1, 4)), ((1, 4), (0, 4)), ((0, 5), (0, 6)), ((0, 6), (0, 5)), ((0, 6), (0, 7)), ((0, 7), (0, 6)), ((0, 6), (1, 6)), ((1, 6), (0, 6)), ((1, 0), (1, 1)), ((1, 1), (1, 0)), ((1, 0), (2, 0)), ((2, 0), (1, 0)), ((1, 0), (1, 7)), ((1, 7), (1, 0)), ((1, 1), (1, 2)), ((1, 2), (1, 1)), ((1, 2), (1, 3)), ((1, 3), (1, 2)), ((1, 2), (2, 2)), ((2, 2), (1, 2)), ((1, 3), (1, 4)), ((1, 4), (1, 3)), ((1, 4), (1, 5)), ((1, 5), (1, 4)), ((1, 4), (2, 4)), ((2, 4), (1, 4)), ((1, 5), (1, 6)), ((1, 6), (1, 5)), ((1, 6), (1, 7)), ((1, 7), (1, 6)), ((1, 6), (2, 6)), ((2, 6), (1, 6)), ((2, 0), (2, 1)), ((2, 1), (2, 0)), ((2, 0), (2, 7)), ((2, 7), (2, 0)), ((2, 1), (2, 2)), ((2, 2), (2, 1)), ((2, 2), (2, 3)), ((2, 3), (2, 2)), ((2, 3), (2, 4)), ((2, 4), (2, 3)), ((2, 4), (2, 5)), ((2, 5), (2, 4)), ((2, 5), (2, 6)), ((2, 6), (2, 5)), ((2, 6), (2, 7)), ((2, 7), (2, 6))]\n",
            "64 possible movement actions\n",
            "[(0, 0), (0, 1), (0, 2), (0, 3), (0, 4), (0, 5), (0, 6), (1, 1), (1, 2), (1, 3), (1, 4), (1, 5), (1, 6), (1, 7), (2, 0), (2, 1), (2, 2), (2, 3), (2, 4), (2, 6), (2, 7)]\n",
            "21 legal placement actions\n",
            "[((0, 7), (0, 6)), ((0, 7), (0, 0)), ((2, 5), (2, 4)), ((2, 5), (2, 6))]\n",
            "4 legal movement actions\n"
          ],
          "name": "stdout"
        }
      ]
    },
    {
      "cell_type": "code",
      "metadata": {
        "id": "w_dR83RzsOrc",
        "outputId": "cae599b2-ddc4-4ef9-ee33-7ac688b92f6c",
        "colab": {
          "base_uri": "https://localhost:8080/"
        }
      },
      "source": [
        "import gym\n",
        "from gym import spaces\n",
        "\n",
        "\n",
        "class MarelleGymEnv(gym.Env):\n",
        "  \"\"\"Custom Environment that follows gym interface\"\"\"\n",
        "  metadata = {'render.modes': ['human']}\n",
        "\n",
        "  def __init__(self):\n",
        "    super(CustomEnv, self).__init__()    \n",
        "    \n",
        "    self.board = MarelleBoard()\n",
        "    self.player = 1\n",
        "    \n",
        "    # Define action and observation space\n",
        "    # They must be gym.spaces objects\n",
        "    n_actions = len(self.board.place_token_action_list) + len(self.board.move_token_action_list)\n",
        "    self.action_space = spaces.Discrete(n_actions)    # Example for using image as input:\n",
        "    \n",
        "    # the observation_space is the board \n",
        "    self.observation_space = spaces.Box(low=-1, high=1, shape=(3, 8), dtype=np.uint8)\n",
        "\n",
        "  \n",
        "  def step(self, action):\n",
        "    # Execute one time step within the environment\n",
        "  \n",
        "  def reset(self):\n",
        "    self.board = MarelleBoard()\n",
        "  \n",
        "  def render(self, mode='human', close=False):\n",
        "    self.board.print_board()\n"
      ],
      "execution_count": null,
      "outputs": [
        {
          "output_type": "stream",
          "text": [
            "Requirement already satisfied: gym in /usr/local/lib/python3.6/dist-packages (0.17.3)\n",
            "Requirement already satisfied: pyglet<=1.5.0,>=1.4.0 in /usr/local/lib/python3.6/dist-packages (from gym) (1.5.0)\n",
            "Requirement already satisfied: numpy>=1.10.4 in /usr/local/lib/python3.6/dist-packages (from gym) (1.18.5)\n",
            "Requirement already satisfied: scipy in /usr/local/lib/python3.6/dist-packages (from gym) (1.4.1)\n",
            "Requirement already satisfied: cloudpickle<1.7.0,>=1.2.0 in /usr/local/lib/python3.6/dist-packages (from gym) (1.3.0)\n",
            "Requirement already satisfied: future in /usr/local/lib/python3.6/dist-packages (from pyglet<=1.5.0,>=1.4.0->gym) (0.16.0)\n"
          ],
          "name": "stdout"
        }
      ]
    },
    {
      "cell_type": "code",
      "metadata": {
        "id": "jGeB0vFNsuS0"
      },
      "source": [
        ""
      ],
      "execution_count": null,
      "outputs": []
    }
  ]
}