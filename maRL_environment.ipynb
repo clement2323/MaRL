{
 "cells": [
  {
   "cell_type": "markdown",
   "metadata": {},
   "source": [
    "# Marelle Board import\n",
    "* Getting players info dict => `MarelleBoard.players`\n",
    "* 3 phases : place, move and end => `MarelleBoard.phase`\n",
    "* Reset the board => `MarelleBoard.initialize_game()`\n",
    "* Printing the board => `MarelleBoard.print_board()`\n",
    "* Id:Action dict => `MarelleBoard.action_list_by_id`\n",
    "* Action:Id dict => `MarelleBoard.action_id_by_action`\n",
    "* Get the board state => `MarelleBoard.get_state()`\n",
    "* Play an action => `MarelleBoard.play_action(action_id, player)`\n",
    "* Get legal action ids => `MarelleBoard.get_legal_action_ids(player)`\n",
    "* Check if game ended (returns 0 if not ended or winning player id) : `MarelleBoard.check_if_end()`"
   ]
  },
  {
   "cell_type": "code",
   "execution_count": 1,
   "metadata": {
    "id": "Ge3pFEexRsNn"
   },
   "outputs": [],
   "source": [
    "from maRL_board import MarelleBoard"
   ]
  },
  {
   "cell_type": "code",
   "execution_count": 2,
   "metadata": {},
   "outputs": [
    {
     "data": {
      "text/plain": [
       "'place'"
      ]
     },
     "execution_count": 2,
     "metadata": {},
     "output_type": "execute_result"
    }
   ],
   "source": [
    "board = MarelleBoard()\n",
    "board.initialize_game()\n",
    "board.phase"
   ]
  },
  {
   "cell_type": "code",
   "execution_count": 6,
   "metadata": {},
   "outputs": [
    {
     "name": "stdout",
     "output_type": "stream",
     "text": [
      "\n",
      "        Phase : place\n",
      "        Placed tokens : P1 : 0 / P2 : 0 \n",
      "        Tokens on board : P1 : 0 / P2 : 0 \n",
      "        0--------------0--------------0\n",
      "        |              |              |\n",
      "        |    0---------0---------0    |\n",
      "        |    |         |         |    |\n",
      "        |    |    0----0----0    |    |\n",
      "        |    |    |         |    |    |\n",
      "        0----0----0         0----0----0                 \n",
      "        |    |    |         |    |    |\n",
      "        |    |    0----0----0    |    |\n",
      "        |    |         |         |    |\n",
      "        |    0---------0---------0    |\n",
      "        |              |              |\n",
      "        0--------------0--------------0\n",
      "        \n"
     ]
    }
   ],
   "source": [
    "board.print_board()"
   ]
  },
  {
   "cell_type": "code",
   "execution_count": 11,
   "metadata": {},
   "outputs": [
    {
     "data": {
      "text/plain": [
       "96"
      ]
     },
     "execution_count": 11,
     "metadata": {},
     "output_type": "execute_result"
    }
   ],
   "source": []
  },
  {
   "cell_type": "code",
   "execution_count": 13,
   "metadata": {},
   "outputs": [
    {
     "name": "stdout",
     "output_type": "stream",
     "text": [
      "\n",
      "        Phase : place\n",
      "        Placed tokens : P1 : 0 / P2 : 0 \n",
      "        Tokens on board : P1 : 0 / P2 : 0 \n",
      "        0--------------0--------------0\n",
      "        |              |              |\n",
      "        |    0---------0---------0    |\n",
      "        |    |         |         |    |\n",
      "        |    |    0----0----0    |    |\n",
      "        |    |    |         |    |    |\n",
      "        0----0----0         0----0----0                 \n",
      "        |    |    |         |    |    |\n",
      "        |    |    0----0----0    |    |\n",
      "        |    |         |         |    |\n",
      "        |    0---------0---------0    |\n",
      "        |              |              |\n",
      "        0--------------0--------------0\n",
      "        \n",
      "\n",
      "        Phase : place\n",
      "        Placed tokens : P1 : 1 / P2 : 0 \n",
      "        Tokens on board : P1 : 1 / P2 : 0 \n",
      "        0--------------0--------------0\n",
      "        |              |              |\n",
      "        |    0---------0---------0    |\n",
      "        |    |         |         |    |\n",
      "        |    |    0----0----0    |    |\n",
      "        |    |    |         |    |    |\n",
      "        0----0----0         1----0----0                 \n",
      "        |    |    |         |    |    |\n",
      "        |    |    0----0----0    |    |\n",
      "        |    |         |         |    |\n",
      "        |    0---------0---------0    |\n",
      "        |              |              |\n",
      "        0--------------0--------------0\n",
      "        \n",
      "((0, 3), None)\n",
      "\n",
      "        Phase : place\n",
      "        Placed tokens : P1 : 1 / P2 : 1 \n",
      "        Tokens on board : P1 : 1 / P2 : 1 \n",
      "        0--------------0--------------0\n",
      "        |              |              |\n",
      "        |    0---------0---------0    |\n",
      "        |    |         |         |    |\n",
      "        |    |    2----0----0    |    |\n",
      "        |    |    |         |    |    |\n",
      "        0----0----0         1----0----0                 \n",
      "        |    |    |         |    |    |\n",
      "        |    |    0----0----0    |    |\n",
      "        |    |         |         |    |\n",
      "        |    0---------0---------0    |\n",
      "        |              |              |\n",
      "        0--------------0--------------0\n",
      "        \n"
     ]
    }
   ],
   "source": [
    "board=MarelleBoard()\n",
    "board.print_board()\n",
    "a=board.get_legal_action_ids(1)[0]\n",
    "board.play_action(a,1)\n",
    "board.print_board()\n",
    "b=board.get_legal_action_ids(-1)[2]\n",
    "print(board.action_list_by_id[b])\n",
    "board.play_action(b,-1)\n",
    "board.print_board()"
   ]
  },
  {
   "cell_type": "code",
   "execution_count": null,
   "metadata": {
    "colab": {
     "base_uri": "https://localhost:8080/"
    },
    "id": "w_dR83RzsOrc",
    "outputId": "cae599b2-ddc4-4ef9-ee33-7ac688b92f6c"
   },
   "outputs": [],
   "source": [
    "import gym\n",
    "from gym import spaces\n",
    "\n",
    "\n",
    "class MarelleGymEnv(gym.Env):\n",
    "    \"\"\"Custom Environment that follows gym interface\"\"\"\n",
    "    metadata = {'render.modes': ['human']}\n",
    "    def __init__(self):\n",
    "        super(CustomEnv, self).__init__()    \n",
    "    \n",
    "    # Define action and observation space\n",
    "    # They must be gym.spaces objects\n",
    "        self.action_space = spaces.Discrete(N_ACTIONS)    # Example for using image as input:\n",
    "        self.observation_space = spaces.Box(low=-1, high=1, shape=(3, 8), dtype=np.uint8)\n",
    "\n",
    "  \n",
    "  def step(self, action):\n",
    "    return\n",
    "    # Execute one time step within the environment\n",
    "  \n",
    "  def reset(self):\n",
    "    return\n",
    "    # Reset\n",
    "  \n",
    "  def render(self, mode='human', close=False):\n",
    "    return\n",
    "    # print the board\n"
   ]
  },
  {
   "cell_type": "code",
   "execution_count": null,
   "metadata": {
    "id": "jGeB0vFNsuS0"
   },
   "outputs": [],
   "source": []
  }
 ],
 "metadata": {
  "colab": {
   "collapsed_sections": [],
   "name": "maRL_environment",
   "provenance": []
  },
  "kernelspec": {
   "display_name": "Python 3",
   "language": "python",
   "name": "python3"
  },
  "language_info": {
   "codemirror_mode": {
    "name": "ipython",
    "version": 3
   },
   "file_extension": ".py",
   "mimetype": "text/x-python",
   "name": "python",
   "nbconvert_exporter": "python",
   "pygments_lexer": "ipython3",
   "version": "3.7.4"
  },
  "varInspector": {
   "cols": {
    "lenName": 16,
    "lenType": 16,
    "lenVar": 40
   },
   "kernels_config": {
    "python": {
     "delete_cmd_postfix": "",
     "delete_cmd_prefix": "del ",
     "library": "var_list.py",
     "varRefreshCmd": "print(var_dic_list())"
    },
    "r": {
     "delete_cmd_postfix": ") ",
     "delete_cmd_prefix": "rm(",
     "library": "var_list.r",
     "varRefreshCmd": "cat(var_dic_list()) "
    }
   },
   "types_to_exclude": [
    "module",
    "function",
    "builtin_function_or_method",
    "instance",
    "_Feature"
   ],
   "window_display": true
  }
 },
 "nbformat": 4,
 "nbformat_minor": 1
}
