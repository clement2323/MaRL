{
  "nbformat": 4,
  "nbformat_minor": 0,
  "metadata": {
    "colab": {
      "name": "maRL_environment",
      "provenance": [],
      "collapsed_sections": []
    },
    "kernelspec": {
      "name": "python3",
      "display_name": "Python 3"
    }
  },
  "cells": [
    {
      "cell_type": "code",
      "metadata": {
        "id": "Ge3pFEexRsNn"
      },
      "source": [
        "import networkx as nx\n",
        "\n",
        "class MarelleBoard():\n",
        "  def __init__(self):\n",
        "    board = nx.Graph()\n",
        "    for i in range(3):\n",
        "      for j in range(8):\n",
        "        board.add_node((i, j))\n",
        "        board.nodes[(i, j)][\"state\"] = 0\n",
        "\n",
        "    for i in range(3):\n",
        "      for j in range(8):\n",
        "        nj = j + 1\n",
        "        if nj >= 8:\n",
        "          nj = 0\n",
        "        board.add_edge((i, j), (i, nj))\n",
        "        if i != 2 and (j % 2) == 0:\n",
        "          board.add_edge((i, j), (i+1, j))\n",
        "    \n",
        "    self.board = board\n",
        "    # List of all placement actions\n",
        "    self.place_token_action_list = self.board.nodes\n",
        "\n",
        "    # List of all token movement actions\n",
        "    move_token_action_list = []\n",
        "    for edge in self.board.edges:\n",
        "      cur_pos, new_pos = edge\n",
        "      move_token_action_list.append(edge)\n",
        "      move_token_action_list.append((new_pos, cur_pos))\n",
        "    \n",
        "    self.move_token_action_list = move_token_action_list\n",
        "\n",
        "  def print_board(self):\n",
        "    v = {}\n",
        "    for node in self.board.nodes:\n",
        "      v[node] = self.board.nodes[node][\"state\"]\n",
        "\n",
        "    board_grid = f\"\"\"\\n\n",
        "    {v[(2,3)]}--------------{v[(2,2)]}--------------{v[(2,1)]}\\n\n",
        "    |              |              |\\n\n",
        "    |    {v[(1,3)]}---------{v[(1,2)]}---------{v[(1,1)]}    |\\n\n",
        "    |    |         |         |    |\\n\n",
        "    |    |    {v[(0,3)]}----{v[(0,2)]}----{v[(0,1)]}    |    |\\n\n",
        "    |    |    |         |    |    |\\n\n",
        "    {v[(2,4)]}----{v[(1,4)]}----{v[(0,4)]}         {v[(0,0)]}----{v[(1,0)]}----{v[(2,0)]}\\n                 \n",
        "    |    |    |         |    |    |\\n\n",
        "    |    |    {v[(0,5)]}----{v[(0,6)]}----{v[(0,7)]}    |    |\\n\n",
        "    |    |         |         |    |\\n\n",
        "    |    {v[(1,5)]}---------{v[(1,6)]}---------{v[(1,7)]}    |\\n\n",
        "    |              |              |\\n\n",
        "    {v[(2,5)]}--------------{v[(2,6)]}--------------{v[(2,7)]}\n",
        "    \"\"\"\n",
        "    print(board_grid)\n",
        "  \n",
        "  def place_token(self, position, player):\n",
        "    if self.board.nodes[position][\"state\"] == 0:\n",
        "      self.board.nodes[position][\"state\"] = player\n",
        "    else:\n",
        "      raise Exception('Adding a token should be on empty position')\n",
        "  \n",
        "  def place_token_legal_actions(self, player):\n",
        "    legal_actions = []\n",
        "    for node in self.board.nodes:\n",
        "      if self.board.nodes[node][\"state\"] == 0:\n",
        "        legal_actions.append(node)\n",
        "    \n",
        "    return legal_actions\n",
        "  \n",
        "  def move_token(self, position, new_position, player):\n",
        "    if self.board.nodes[position][\"state\"] != player:\n",
        "      raise Exception('Cannot move a token from a different player')\n",
        "\n",
        "    if self.board.nodes[new_position][\"state\"] != 0:\n",
        "      raise Exception('Cannot move a token to a filled place')\n",
        "    \n",
        "    if new_position not in self.board.adj[position]:\n",
        "      raise Exception('New position should be connected')\n",
        "    \n",
        "    self.board.nodes[position][\"state\"] = 0\n",
        "    self.board.nodes[new_position][\"state\"] = player\n",
        "  \n",
        "  def move_token_legal_actions(self, player):\n",
        "    legal_actions = []\n",
        "    for node in self.board.nodes:\n",
        "      if self.board.nodes[node][\"state\"] == player:\n",
        "        for neighbor in self.board.adj[node]:\n",
        "          if self.board.nodes[neighbor][\"state\"] == 0:\n",
        "            legal_actions.append((node, neighbor))\n",
        "    \n",
        "    return legal_actions\n",
        "  \n",
        "  def check_if_capture(self, position, player):\n",
        "    neighbors = []\n",
        "    for node in self.board.adj[position]:\n",
        "      if self.board.nodes[\"state\"] == player:\n",
        "        neighbors.append(node)\n",
        "\n",
        "    if len(neighbors) == 0:\n",
        "      return False\n",
        "    \n",
        "    #TODO\n",
        "\n",
        "\n",
        "\n",
        "\n",
        "\n",
        "    \n",
        "\n"
      ],
      "execution_count": null,
      "outputs": []
    },
    {
      "cell_type": "code",
      "metadata": {
        "id": "BPaStlS9wBMd",
        "outputId": "09debeb0-5095-4449-c519-8e1891d95851",
        "colab": {
          "base_uri": "https://localhost:8080/"
        }
      },
      "source": [
        "# Initialize board\n",
        "board = MarelleBoard()\n",
        "\n",
        "# Players place tokens\n",
        "board.place_token(position=(0, 0), player=1)\n",
        "board.place_token(position=(1, 0), player=2)\n",
        "board.place_token(position=(2, 5), player=1)\n",
        "\n",
        "# Players can move tokens\n",
        "board.move_token(position=(0, 0), new_position=(0, 7), player=1)\n",
        "\n",
        "# Print the board\n",
        "board.print_board()"
      ],
      "execution_count": null,
      "outputs": [
        {
          "output_type": "stream",
          "text": [
            "\n",
            "\n",
            "    0--------------0--------------0\n",
            "\n",
            "    |              |              |\n",
            "\n",
            "    |    0---------0---------0    |\n",
            "\n",
            "    |    |         |         |    |\n",
            "\n",
            "    |    |    0----0----0    |    |\n",
            "\n",
            "    |    |    |         |    |    |\n",
            "\n",
            "    0----0----0         0----2----0\n",
            "                 \n",
            "    |    |    |         |    |    |\n",
            "\n",
            "    |    |    0----0----1    |    |\n",
            "\n",
            "    |    |         |         |    |\n",
            "\n",
            "    |    0---------0---------0    |\n",
            "\n",
            "    |              |              |\n",
            "\n",
            "    1--------------0--------------0\n",
            "    \n"
          ],
          "name": "stdout"
        }
      ]
    },
    {
      "cell_type": "code",
      "metadata": {
        "id": "80mMWDyGk1CD",
        "outputId": "9107ce21-6a2a-4c76-c4d7-9ad203f20b55",
        "colab": {
          "base_uri": "https://localhost:8080/"
        }
      },
      "source": [
        "# All token placement actions\n",
        "print(board.place_token_action_list)\n",
        "print(f\"{len(board.place_token_action_list)} possible placement actions\")\n",
        "\n",
        "# All token movement actions\n",
        "print(board.move_token_action_list)\n",
        "print(f\"{len(board.move_token_action_list)} possible movement actions\")\n",
        "\n",
        "# All player 1 legal token place actions\n",
        "print(board.place_token_legal_actions(player=1))\n",
        "print(f\"{len(board.place_token_legal_actions(player=1))} legal placement actions\")\n",
        "\n",
        "\n",
        "# All player 1 legal token move actions\n",
        "print(board.move_token_legal_actions(player=1))\n",
        "print(f\"{len(board.move_token_legal_actions(player=1))} legal movement actions\")\n"
      ],
      "execution_count": null,
      "outputs": [
        {
          "output_type": "stream",
          "text": [
            "[(0, 0), (0, 1), (0, 2), (0, 3), (0, 4), (0, 5), (0, 6), (0, 7), (1, 0), (1, 1), (1, 2), (1, 3), (1, 4), (1, 5), (1, 6), (1, 7), (2, 0), (2, 1), (2, 2), (2, 3), (2, 4), (2, 5), (2, 6), (2, 7)]\n",
            "24 possible placement actions\n",
            "[((0, 0), (0, 1)), ((0, 1), (0, 0)), ((0, 0), (1, 0)), ((1, 0), (0, 0)), ((0, 0), (0, 7)), ((0, 7), (0, 0)), ((0, 1), (0, 2)), ((0, 2), (0, 1)), ((0, 2), (0, 3)), ((0, 3), (0, 2)), ((0, 2), (1, 2)), ((1, 2), (0, 2)), ((0, 3), (0, 4)), ((0, 4), (0, 3)), ((0, 4), (0, 5)), ((0, 5), (0, 4)), ((0, 4), (1, 4)), ((1, 4), (0, 4)), ((0, 5), (0, 6)), ((0, 6), (0, 5)), ((0, 6), (0, 7)), ((0, 7), (0, 6)), ((0, 6), (1, 6)), ((1, 6), (0, 6)), ((1, 0), (1, 1)), ((1, 1), (1, 0)), ((1, 0), (2, 0)), ((2, 0), (1, 0)), ((1, 0), (1, 7)), ((1, 7), (1, 0)), ((1, 1), (1, 2)), ((1, 2), (1, 1)), ((1, 2), (1, 3)), ((1, 3), (1, 2)), ((1, 2), (2, 2)), ((2, 2), (1, 2)), ((1, 3), (1, 4)), ((1, 4), (1, 3)), ((1, 4), (1, 5)), ((1, 5), (1, 4)), ((1, 4), (2, 4)), ((2, 4), (1, 4)), ((1, 5), (1, 6)), ((1, 6), (1, 5)), ((1, 6), (1, 7)), ((1, 7), (1, 6)), ((1, 6), (2, 6)), ((2, 6), (1, 6)), ((2, 0), (2, 1)), ((2, 1), (2, 0)), ((2, 0), (2, 7)), ((2, 7), (2, 0)), ((2, 1), (2, 2)), ((2, 2), (2, 1)), ((2, 2), (2, 3)), ((2, 3), (2, 2)), ((2, 3), (2, 4)), ((2, 4), (2, 3)), ((2, 4), (2, 5)), ((2, 5), (2, 4)), ((2, 5), (2, 6)), ((2, 6), (2, 5)), ((2, 6), (2, 7)), ((2, 7), (2, 6))]\n",
            "64 possible movement actions\n",
            "[(0, 0), (0, 1), (0, 2), (0, 3), (0, 4), (0, 5), (0, 6), (1, 1), (1, 2), (1, 3), (1, 4), (1, 5), (1, 6), (1, 7), (2, 0), (2, 1), (2, 2), (2, 3), (2, 4), (2, 6), (2, 7)]\n",
            "21 legal placement actions\n",
            "[((0, 7), (0, 6)), ((0, 7), (0, 0)), ((2, 5), (2, 4)), ((2, 5), (2, 6))]\n",
            "4 legal movement actions\n"
          ],
          "name": "stdout"
        }
      ]
    },
    {
      "cell_type": "code",
      "metadata": {
        "id": "w_dR83RzsOrc",
        "outputId": "cae599b2-ddc4-4ef9-ee33-7ac688b92f6c",
        "colab": {
          "base_uri": "https://localhost:8080/"
        }
      },
      "source": [
        "import gym\n",
        "from gym import spaces\n",
        "\n",
        "\n",
        "class MarelleGymEnv(gym.Env):\n",
        "  \"\"\"Custom Environment that follows gym interface\"\"\"\n",
        "  metadata = {'render.modes': ['human']}\n",
        "\n",
        "  def __init__(self):\n",
        "    super(CustomEnv, self).__init__()    \n",
        "    \n",
        "    self.board = MarelleBoard()\n",
        "    self.player = 1\n",
        "    \n",
        "    # Define action and observation space\n",
        "    # They must be gym.spaces objects\n",
        "    n_actions = len(self.board.place_token_action_list) + len(self.board.move_token_action_list)\n",
        "    self.action_space = spaces.Discrete(n_actions)    # Example for using image as input:\n",
        "    \n",
        "    # the observation_space is the board \n",
        "    self.observation_space = spaces.Box(low=-1, high=1, shape=(3, 8), dtype=np.uint8)\n",
        "\n",
        "  \n",
        "  def step(self, action):\n",
        "    # Execute one time step within the environment\n",
        "  \n",
        "  def reset(self):\n",
        "    self.board = MarelleBoard()\n",
        "  \n",
        "  def render(self, mode='human', close=False):\n",
        "    self.board.print_board()\n"
      ],
      "execution_count": null,
      "outputs": [
        {
          "output_type": "stream",
          "text": [
            "Requirement already satisfied: gym in /usr/local/lib/python3.6/dist-packages (0.17.3)\n",
            "Requirement already satisfied: pyglet<=1.5.0,>=1.4.0 in /usr/local/lib/python3.6/dist-packages (from gym) (1.5.0)\n",
            "Requirement already satisfied: numpy>=1.10.4 in /usr/local/lib/python3.6/dist-packages (from gym) (1.18.5)\n",
            "Requirement already satisfied: scipy in /usr/local/lib/python3.6/dist-packages (from gym) (1.4.1)\n",
            "Requirement already satisfied: cloudpickle<1.7.0,>=1.2.0 in /usr/local/lib/python3.6/dist-packages (from gym) (1.3.0)\n",
            "Requirement already satisfied: future in /usr/local/lib/python3.6/dist-packages (from pyglet<=1.5.0,>=1.4.0->gym) (0.16.0)\n"
          ],
          "name": "stdout"
        }
      ]
    },
    {
      "cell_type": "code",
      "metadata": {
        "id": "jGeB0vFNsuS0"
      },
      "source": [
        ""
      ],
      "execution_count": null,
      "outputs": []
    }
  ]
}